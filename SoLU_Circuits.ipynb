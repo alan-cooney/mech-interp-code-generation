{
 "cells": [
  {
   "cell_type": "markdown",
   "id": "031e47c8-3024-4865-8fb3-6429af0f8bbf",
   "metadata": {},
   "source": [
    "# SoLU Circuits"
   ]
  },
  {
   "cell_type": "markdown",
   "id": "1cb718ae-d144-4c98-b3dc-0a230f8a46cc",
   "metadata": {
    "tags": []
   },
   "source": [
    "## Imports"
   ]
  },
  {
   "cell_type": "code",
   "execution_count": 1,
   "id": "08a22465-7f12-4158-bd35-721465c374e9",
   "metadata": {},
   "outputs": [],
   "source": [
    "import collections\n",
    "import copy\n",
    "import gc\n",
    "import itertools\n",
    "import json\n",
    "import math\n",
    "import os\n",
    "import pickle\n",
    "import random\n",
    "import sys\n",
    "import time\n",
    "from functools import partial\n",
    "from os import path\n",
    "from pathlib import Path\n",
    "from pprint import pprint\n",
    "\n",
    "import datasets\n",
    "import einops\n",
    "import gdown\n",
    "import matplotlib.pyplot as plt\n",
    "import numpy as np\n",
    "import pandas as pd\n",
    "import plotly.express as px\n",
    "import plotly.graph_objects as go\n",
    "import plotly.io as pio\n",
    "import pysvelte\n",
    "import torch\n",
    "import torch.nn as nn\n",
    "import torch.nn.functional as F\n",
    "import torch.optim as optim\n",
    "import tqdm.auto as tqdm\n",
    "import tqdm.notebook as tqdm\n",
    "import transformers\n",
    "import wandb\n",
    "from datasets import load_dataset\n",
    "from easy_transformer import EasyTransformer, EasyTransformerConfig\n",
    "from easy_transformer.EasyTransformer import Embed, Unembed, PosEmbed, LayerNorm, Attention, MLP, TransformerBlock\n",
    "from easy_transformer.hook_points import HookedRootModule, HookPoint\n",
    "from IPython.display import clear_output\n",
    "from rich import print\n",
    "from torch.utils.data import DataLoader\n",
    "from transformers import AutoConfig, AutoModelForCausalLM, AutoTokenizer\n",
    "\n",
    "# Fix for pysvelte import bug\n",
    "sys.path.append('/home/user/.local/lib/python3.9/site-packages/pysvelte')"
   ]
  },
  {
   "cell_type": "markdown",
   "id": "96fb5832-1076-4dea-aad6-cd12a30a2ea0",
   "metadata": {},
   "source": [
    "## Model"
   ]
  },
  {
   "cell_type": "markdown",
   "id": "9a8bc566-a58d-4395-b198-a3c42221ac2c",
   "metadata": {},
   "source": [
    "### Config"
   ]
  },
  {
   "cell_type": "code",
   "execution_count": 2,
   "id": "89b92a3b-4988-42f0-a03f-31af959d7856",
   "metadata": {},
   "outputs": [],
   "source": [
    "# EasyTransformerConfig settings\n",
    "cfg = {\n",
    "    'd_model': 1024,\n",
    "    'd_head': 64,\n",
    "    'n_layers': 1,\n",
    "    'n_ctx': 1024,\n",
    "    'd_vocab': 50278,\n",
    "    'use_attn_result': False,\n",
    "    'act_fn': 'solu_ln',\n",
    "    'eps': 1e-5,\n",
    "    # The trained model used LN everywhere, except for RMS just before \n",
    "    # the final unembedding. We switch to LNPre (folding in the weights/biases\n",
    "    # to the next weights), and then manually override the final RMS normalization\n",
    "    # to be RMSPre in the code below. See the 'Fold in weights and biases' section\n",
    "    # for more details.\n",
    "    'normalization_type': 'LN'\n",
    "}\n",
    "\n",
    "# Calculated settings\n",
    "cfg['n_heads'] = cfg['d_model']//cfg['d_head']\n",
    "cfg['d_mlp'] = 4 * cfg['d_model']\n",
    "\n",
    "# Custom settings not supported by EasyTransformer directly\n",
    "custom_cfg = {\n",
    "    'model_checkpoint_name': 'SoLU_1L_1024W_final_checkpoint.pth',\n",
    "    'device': 'cuda',\n",
    "}"
   ]
  },
  {
   "cell_type": "markdown",
   "id": "4b452093-651d-4ffd-900e-8bfc06382072",
   "metadata": {},
   "source": [
    "### Model Setup\n",
    "\n",
    "This uses the `EasyTransformer` components, where possible (as they can be configured identically to the code that was used for training)."
   ]
  },
  {
   "cell_type": "code",
   "execution_count": 3,
   "id": "f013bc5f-848b-4949-8fc5-32694887e777",
   "metadata": {},
   "outputs": [
    {
     "data": {
      "text/plain": [
       "Transformer(\n",
       "  (embed): Embed()\n",
       "  (hook_embed): HookPoint()\n",
       "  (pos_embed): PosEmbed()\n",
       "  (hook_pos_embed): HookPoint()\n",
       "  (norm): RMSNormPre(\n",
       "    (hook_scale): HookPoint()\n",
       "  )\n",
       "  (blocks): ModuleList(\n",
       "    (0): TransformerBlock(\n",
       "      (ln1): LayerNorm(\n",
       "        (hook_scale): HookPoint()\n",
       "        (hook_normalized): HookPoint()\n",
       "      )\n",
       "      (ln2): LayerNorm(\n",
       "        (hook_scale): HookPoint()\n",
       "        (hook_normalized): HookPoint()\n",
       "      )\n",
       "      (attn): Attention(\n",
       "        (hook_k): HookPoint()\n",
       "        (hook_q): HookPoint()\n",
       "        (hook_v): HookPoint()\n",
       "        (hook_z): HookPoint()\n",
       "        (hook_attn_scores): HookPoint()\n",
       "        (hook_attn): HookPoint()\n",
       "        (hook_result): HookPoint()\n",
       "      )\n",
       "      (mlp): MLP(\n",
       "        (hook_pre): HookPoint()\n",
       "        (hook_post): HookPoint()\n",
       "        (hook_post_ln): HookPoint()\n",
       "        (ln): LayerNorm(\n",
       "          (hook_scale): HookPoint()\n",
       "          (hook_normalized): HookPoint()\n",
       "        )\n",
       "      )\n",
       "      (hook_attn_out): HookPoint()\n",
       "      (hook_mlp_out): HookPoint()\n",
       "      (hook_resid_pre): HookPoint()\n",
       "      (hook_resid_mid): HookPoint()\n",
       "      (hook_resid_post): HookPoint()\n",
       "    )\n",
       "  )\n",
       "  (unembed): Unembed()\n",
       ")"
      ]
     },
     "execution_count": 3,
     "metadata": {},
     "output_type": "execute_result"
    }
   ],
   "source": [
    "class RMSNormPre(nn.Module):\n",
    "    \"\"\"RMS Pre Normalization\n",
    "    \n",
    "    This is RMS Normalization without the multiplation by a weights term, \n",
    "    as that has been folded into the next weights instead.\"\"\"\n",
    "\n",
    "    def __init__(self, cfg, length):\n",
    "        super().__init__()\n",
    "        self.cfg = cfg\n",
    "        self.eps = self.cfg['eps']\n",
    "        self.length = length\n",
    "        # self.w = nn.Parameter(torch.ones(length)) # Folded\n",
    "\n",
    "        # Adds a hook point for the normalization scale factor\n",
    "        self.hook_scale = HookPoint()  # [batch, pos]\n",
    "\n",
    "    def forward(self, x):\n",
    "        scale = self.hook_scale((x.pow(2).mean(-1, keepdim=True) +\n",
    "                                 self.eps).sqrt())  # [batch, pos, 1]\n",
    "        out = (x / scale) # * self.w # (don't multiply by weights as folded)\n",
    "        return out\n",
    "\n",
    "\n",
    "def loss_fn(logits, batch):\n",
    "    log_probs = F.log_softmax(logits[:, :-1], dim=-1)\n",
    "    pred_log_probs = torch.gather(log_probs, -1, batch[:, 1:, None])[..., 0]\n",
    "    return -pred_log_probs.mean()\n",
    "\n",
    "\n",
    "class Transformer(HookedRootModule):\n",
    "    def __init__(self, cfg, tokenizer):\n",
    "        super().__init__()\n",
    "\n",
    "        self.cfg = cfg\n",
    "        self.tokenizer = tokenizer\n",
    "\n",
    "        self.embed = Embed(self.cfg)\n",
    "        self.hook_embed = HookPoint()  # [batch, pos, d_model]\n",
    "\n",
    "        self.pos_embed = PosEmbed(self.cfg)\n",
    "        self.hook_pos_embed = HookPoint()  # [batch, pos, d_model]\n",
    "\n",
    "        # Switched to RMSNormPre as we've folded in the weights (was RMS in training)\n",
    "        self.norm = RMSNormPre(self.cfg, self.cfg['d_model'])\n",
    "\n",
    "        self.blocks = nn.ModuleList([TransformerBlock(\n",
    "            self.cfg, block_index) for block_index in range(self.cfg['n_layers'])])\n",
    "\n",
    "        self.unembed = Unembed(self.cfg)\n",
    "\n",
    "        # Gives each module a parameter with its name (relative to this root module)\n",
    "        # Needed for HookPoints to work\n",
    "        self.setup()\n",
    "\n",
    "    def forward(self, tokens, return_type='both', calc_logits=True):\n",
    "        # Input x is either a batch of tokens ([batch, pos]) or a text string\n",
    "        if type(tokens) == str:\n",
    "            # If text, convert to tokens (batch_size=1)\n",
    "            tokens = self.to_tokens(tokens)\n",
    "        embed = self.hook_embed(self.embed(tokens))  # [batch, pos, d_model]\n",
    "        pos_embed = self.hook_pos_embed(\n",
    "            self.pos_embed(tokens))  # [batch, pos, d_model]\n",
    "        \n",
    "        # We have to use this now as it can't be disabled with the standard Attention\n",
    "        # if custom_cfg['use_pos_resid']:\n",
    "        residual = embed + pos_embed  # [batch, pos, d_model]\n",
    "        # else:\n",
    "        #     residual = embed  # [batch, pos, d_model]\n",
    "        \n",
    "        for block in self.blocks:\n",
    "            # Note that each block includes skip connections, so we don't need\n",
    "            # residual + block(residual)\n",
    "            residual = block(residual)  # [batch, pos, d_model]\n",
    "        if not calc_logits:\n",
    "            # A flag to avoid calculating the logits - this significantly speeds up runtime on small models and reduces memory consumption, and can be used when we only want to get the activations, eg for finding max activating dataset examples.\n",
    "            return None\n",
    "        \n",
    "        # Norm the residual\n",
    "        residual = self.norm(residual)\n",
    "        \n",
    "        logits = self.unembed(residual)  # [batch, pos, d_vocab]\n",
    "        if return_type == 'both':\n",
    "            return (logits, loss_fn(logits, tokens))\n",
    "        elif return_type == 'logits':\n",
    "            return logits\n",
    "        elif return_type == 'loss':\n",
    "            return loss_fn(logits, tokens)\n",
    "\n",
    "    def to_tokens(self, text):\n",
    "        return self.tokenizer(self.tokenizer.bos_token+text, return_tensors='pt')['input_ids'].to(custom_cfg['device'])\n",
    "\n",
    "# Custom Tokenizer\n",
    "tokenizer = AutoTokenizer.from_pretrained('EleutherAI/gpt-neox-20b')\n",
    "pad_token = '<PAD>'\n",
    "tokenizer.add_special_tokens({'pad_token': pad_token})\n",
    "\n",
    "# Create the model\n",
    "model = Transformer(cfg, tokenizer)\n",
    "model.to(custom_cfg['device'])"
   ]
  },
  {
   "cell_type": "markdown",
   "id": "3708f5ca-51d5-4366-80c7-db4aa91fb880",
   "metadata": {},
   "source": [
    "### Load from the checkpoint"
   ]
  },
  {
   "cell_type": "markdown",
   "id": "c0797c77-e691-410b-ab95-45eba3faff3c",
   "metadata": {},
   "source": [
    "### Download Checkpoint"
   ]
  },
  {
   "cell_type": "code",
   "execution_count": 4,
   "id": "99cb296e-919e-4273-b375-89184849d5fd",
   "metadata": {},
   "outputs": [],
   "source": [
    "# Checkpoint provided by Neel Nanda\n",
    "checkpoint_url = \"https://drive.google.com/file/d/16bqEZg9Oq0WT2xOcNS1HJkmR7qB2G14o/view\"\n",
    "\n",
    "# Create the directory if it doesn't exist\n",
    "checkpoint_dir = \"/tmp/checkpoints\"\n",
    "os.makedirs(checkpoint_dir, exist_ok=True)\n",
    "\n",
    "# Download the checkpoint if it doesn't exist\n",
    "checkpoint_file = path.join(checkpoint_dir, custom_cfg['model_checkpoint_name'])\n",
    "if not path.exists(checkpoint_file):\n",
    "    gdown.download(checkpoint_url, checkpoint_file, quiet=False, fuzzy=True)"
   ]
  },
  {
   "cell_type": "markdown",
   "id": "3a163807-3abb-4483-90eb-927908430ff4",
   "metadata": {},
   "source": [
    "### Fold in weights and biases\n",
    "\n",
    "We fold the `LayerNorm` weights and biases in to the weights after them, for simplicty, as per [A Mathematical Framework for Transformer Circuits](https://transformer-circuits.pub/2021/framework/index.html#model-simplifications)."
   ]
  },
  {
   "cell_type": "code",
   "execution_count": 69,
   "id": "7d8dd564-de63-400b-a51b-a9cc0ee99a1f",
   "metadata": {},
   "outputs": [
    {
     "data": {
      "text/html": [
       "<pre style=\"white-space:pre;overflow-x:auto;line-height:normal;font-family:Menlo,'DejaVu Sans Mono',consolas,'Courier New',monospace\"><span style=\"color: #800080; text-decoration-color: #800080; font-weight: bold\">odict_keys</span><span style=\"font-weight: bold\">([</span><span style=\"color: #008000; text-decoration-color: #008000\">'embed.W_E'</span>, <span style=\"color: #008000; text-decoration-color: #008000\">'pos_embed.W_pos'</span>, <span style=\"color: #008000; text-decoration-color: #008000\">'norm.w'</span>, <span style=\"color: #008000; text-decoration-color: #008000\">'blocks.0.norm1.w'</span>, <span style=\"color: #008000; text-decoration-color: #008000\">'blocks.0.norm1.b'</span>, <span style=\"color: #008000; text-decoration-color: #008000\">'blocks.0.norm2.w'</span>, \n",
       "<span style=\"color: #008000; text-decoration-color: #008000\">'blocks.0.norm2.b'</span>, <span style=\"color: #008000; text-decoration-color: #008000\">'blocks.0.attn.W_Q'</span>, <span style=\"color: #008000; text-decoration-color: #008000\">'blocks.0.attn.b_Q'</span>, <span style=\"color: #008000; text-decoration-color: #008000\">'blocks.0.attn.W_K'</span>, <span style=\"color: #008000; text-decoration-color: #008000\">'blocks.0.attn.b_K'</span>, \n",
       "<span style=\"color: #008000; text-decoration-color: #008000\">'blocks.0.attn.W_V'</span>, <span style=\"color: #008000; text-decoration-color: #008000\">'blocks.0.attn.b_V'</span>, <span style=\"color: #008000; text-decoration-color: #008000\">'blocks.0.attn.W_O'</span>, <span style=\"color: #008000; text-decoration-color: #008000\">'blocks.0.attn.b_O'</span>, <span style=\"color: #008000; text-decoration-color: #008000\">'blocks.0.attn.mask'</span>, \n",
       "<span style=\"color: #008000; text-decoration-color: #008000\">'blocks.0.attn.IGNORE'</span>, <span style=\"color: #008000; text-decoration-color: #008000\">'blocks.0.mlp.W_in'</span>, <span style=\"color: #008000; text-decoration-color: #008000\">'blocks.0.mlp.b_in'</span>, <span style=\"color: #008000; text-decoration-color: #008000\">'blocks.0.mlp.W_out'</span>, <span style=\"color: #008000; text-decoration-color: #008000\">'blocks.0.mlp.b_out'</span>, \n",
       "<span style=\"color: #008000; text-decoration-color: #008000\">'blocks.0.mlp.ln.w'</span>, <span style=\"color: #008000; text-decoration-color: #008000\">'blocks.0.mlp.ln.b'</span>, <span style=\"color: #008000; text-decoration-color: #008000\">'unembed.W_U'</span><span style=\"font-weight: bold\">])</span>\n",
       "</pre>\n"
      ],
      "text/plain": [
       "\u001b[1;35modict_keys\u001b[0m\u001b[1m(\u001b[0m\u001b[1m[\u001b[0m\u001b[32m'embed.W_E'\u001b[0m, \u001b[32m'pos_embed.W_pos'\u001b[0m, \u001b[32m'norm.w'\u001b[0m, \u001b[32m'blocks.0.norm1.w'\u001b[0m, \u001b[32m'blocks.0.norm1.b'\u001b[0m, \u001b[32m'blocks.0.norm2.w'\u001b[0m, \n",
       "\u001b[32m'blocks.0.norm2.b'\u001b[0m, \u001b[32m'blocks.0.attn.W_Q'\u001b[0m, \u001b[32m'blocks.0.attn.b_Q'\u001b[0m, \u001b[32m'blocks.0.attn.W_K'\u001b[0m, \u001b[32m'blocks.0.attn.b_K'\u001b[0m, \n",
       "\u001b[32m'blocks.0.attn.W_V'\u001b[0m, \u001b[32m'blocks.0.attn.b_V'\u001b[0m, \u001b[32m'blocks.0.attn.W_O'\u001b[0m, \u001b[32m'blocks.0.attn.b_O'\u001b[0m, \u001b[32m'blocks.0.attn.mask'\u001b[0m, \n",
       "\u001b[32m'blocks.0.attn.IGNORE'\u001b[0m, \u001b[32m'blocks.0.mlp.W_in'\u001b[0m, \u001b[32m'blocks.0.mlp.b_in'\u001b[0m, \u001b[32m'blocks.0.mlp.W_out'\u001b[0m, \u001b[32m'blocks.0.mlp.b_out'\u001b[0m, \n",
       "\u001b[32m'blocks.0.mlp.ln.w'\u001b[0m, \u001b[32m'blocks.0.mlp.ln.b'\u001b[0m, \u001b[32m'unembed.W_U'\u001b[0m\u001b[1m]\u001b[0m\u001b[1m)\u001b[0m\n"
      ]
     },
     "metadata": {},
     "output_type": "display_data"
    },
    {
     "data": {
      "text/html": [
       "<pre style=\"white-space:pre;overflow-x:auto;line-height:normal;font-family:Menlo,'DejaVu Sans Mono',consolas,'Courier New',monospace\"><span style=\"color: #800080; text-decoration-color: #800080; font-weight: bold\">torch.Size</span><span style=\"font-weight: bold\">([</span><span style=\"color: #008080; text-decoration-color: #008080; font-weight: bold\">4096</span>, <span style=\"color: #008080; text-decoration-color: #008080; font-weight: bold\">1024</span><span style=\"font-weight: bold\">])</span>\n",
       "</pre>\n"
      ],
      "text/plain": [
       "\u001b[1;35mtorch.Size\u001b[0m\u001b[1m(\u001b[0m\u001b[1m[\u001b[0m\u001b[1;36m4096\u001b[0m, \u001b[1;36m1024\u001b[0m\u001b[1m]\u001b[0m\u001b[1m)\u001b[0m\n"
      ]
     },
     "metadata": {},
     "output_type": "display_data"
    },
    {
     "data": {
      "text/html": [
       "<pre style=\"white-space:pre;overflow-x:auto;line-height:normal;font-family:Menlo,'DejaVu Sans Mono',consolas,'Courier New',monospace\"><span style=\"color: #800080; text-decoration-color: #800080; font-weight: bold\">torch.Size</span><span style=\"font-weight: bold\">([</span><span style=\"color: #008080; text-decoration-color: #008080; font-weight: bold\">1024</span><span style=\"font-weight: bold\">])</span>\n",
       "</pre>\n"
      ],
      "text/plain": [
       "\u001b[1;35mtorch.Size\u001b[0m\u001b[1m(\u001b[0m\u001b[1m[\u001b[0m\u001b[1;36m1024\u001b[0m\u001b[1m]\u001b[0m\u001b[1m)\u001b[0m\n"
      ]
     },
     "metadata": {},
     "output_type": "display_data"
    },
    {
     "data": {
      "text/plain": [
       "<All keys matched successfully>"
      ]
     },
     "execution_count": 69,
     "metadata": {},
     "output_type": "execute_result"
    }
   ],
   "source": [
    "# Get the state dictionary from the checkpoint\n",
    "sd = torch.load(checkpoint_file)\n",
    "print(sd.keys())\n",
    "\n",
    "# Fold in layer normalization weights & biases, for each layer (just one in the toy example)\n",
    "for layer in range(cfg['n_layers']):\n",
    "    # Pre-attention layer norm weights -> Query/Key/Value weights\n",
    "    # pre_ln_w = sd[f\"blocks.{layer}.norm1.w\"]\n",
    "    # sd[f\"blocks.{layer}.attn.W_Q\"] *= pre_ln_w\n",
    "    # sd[f\"blocks.{layer}.attn.W_K\"] *= pre_ln_w\n",
    "    # sd[f\"blocks.{layer}.attn.W_V\"] *= pre_ln_w\n",
    "    \n",
    "    # Pre-attention layer norm biases -> Query/Key/Value biases\n",
    "    pre_ln_b = sd[f\"blocks.{layer}.norm1.b\"]\n",
    "    sd[f\"blocks.{layer}.attn.b_Q\"] = sd[f\"blocks.{layer}.attn.W_Q\"] @ pre_ln_b \\\n",
    "                                        + sd[f\"blocks.{layer}.attn.b_Q\"]\n",
    "    sd[f\"blocks.{layer}.attn.b_K\"] = sd[f\"blocks.{layer}.attn.W_K\"] @ pre_ln_b \\\n",
    "                                        + sd[f\"blocks.{layer}.attn.b_K\"]\n",
    "    sd[f\"blocks.{layer}.attn.b_V\"] = sd[f\"blocks.{layer}.attn.W_V\"] @ pre_ln_b \\\n",
    "                                        + sd[f\"blocks.{layer}.attn.b_V\"]\n",
    "    \n",
    "    # Post-attention layer weights/biases -> MLP weights/biases\n",
    "    sd[f\"blocks.{layer}.mlp.W_in\"] *=  sd[f\"blocks.{layer}.norm2.w\"][None, :]\n",
    "    print(sd[f\"blocks.{layer}.mlp.W_in\"].size())\n",
    "    print(sd[f\"blocks.{layer}.norm2.w\"].size())\n",
    "    \n",
    "    sd[f\"blocks.{layer}.mlp.b_in\"] = sd[f\"blocks.{layer}.mlp.W_in\"] @ sd[f\"blocks.{layer}.norm2.b\"] \\\n",
    "                                        + sd[f\"blocks.{layer}.mlp.b_in\"]\n",
    "    \n",
    "#     # Delete the weights/biases that are no longer used (as they're folded in)\n",
    "#     del sd[f\"blocks.{layer}.norm1.w\"]\n",
    "#     del sd[f\"blocks.{layer}.norm1.b\"]\n",
    "#     del sd[f\"blocks.{layer}.norm2.w\"]\n",
    "#     del sd[f\"blocks.{layer}.norm2.b\"]\n",
    "\n",
    "    # TODO delete\n",
    "    sd['blocks.0.ln1.w'] = sd['blocks.0.norm1.w']\n",
    "    sd['blocks.0.ln1.b'] = sd['blocks.0.norm1.b']\n",
    "    sd['blocks.0.ln2.w'] = sd['blocks.0.norm2.w']\n",
    "    sd['blocks.0.ln2.b'] = sd['blocks.0.norm2.b']\n",
    "    del sd['blocks.0.norm1.w']\n",
    "    del sd['blocks.0.norm1.b']\n",
    "    del sd['blocks.0.norm2.w']\n",
    "    del sd['blocks.0.norm2.b']\n",
    "    \n",
    "    # TODO delete\n",
    "    # sd['blocks.0.ln1.w'] = torch.ones_like(sd['blocks.0.ln1.w'])\n",
    "    sd['blocks.0.ln1.b'] = torch.zeros_like(sd['blocks.0.ln1.b'])\n",
    "    sd['blocks.0.ln2.b'] = torch.zeros_like(sd['blocks.0.ln1.b'])\n",
    "    sd['blocks.0.ln2.w'] = torch.ones_like(sd['blocks.0.ln2.w'])\n",
    "\n",
    "# Fold the post-blocks (pre-unembed) RMS norm weights -> unembed weights\n",
    "sd[\"unembed.W_U\"] *= sd[\"norm.w\"]\n",
    "del sd[\"norm.w\"] # Delete as no longer used (folded in)\n",
    "    \n",
    "# EasyTransformer has an additional bias term for the unembedding, so we simply set it to zero.\n",
    "sd[\"unembed.b_U\"] = torch.zeros(cfg['d_vocab'])\n",
    "\n",
    "# Load the state dict into the model\n",
    "model.load_state_dict(sd)"
   ]
  },
  {
   "cell_type": "markdown",
   "id": "0c046113-3580-4e37-9dcf-2a836a6f67dc",
   "metadata": {},
   "source": [
    "### Load the checkpoint"
   ]
  },
  {
   "cell_type": "markdown",
   "id": "a0ba7396-663b-4401-aaec-ef7762b5ea73",
   "metadata": {},
   "source": [
    "## Find interesting activations\n",
    "\n",
    "A 1-layer model without an MLP can't do much more than skip trigrams. Whilst the MLP layer added may improve this a little, the prompts will still need to have quite simple answers.\n",
    "\n",
    "In this case we'll look for the ability of the model to close HTML tags. As an simple overview of how HTML tags work, whenever a tag is used (e.g. `<b>` for bold) it must be closed when you no longer want it to apply (e.g. `<b>bold text</b> normal text`).\n",
    "\n",
    "Note that `</` is a single token - so we can't use `<` as the last token and expect to see `\\`."
   ]
  },
  {
   "cell_type": "code",
   "execution_count": 70,
   "id": "3402d3fe-e412-4fcd-9bf8-a58c69467d06",
   "metadata": {},
   "outputs": [],
   "source": [
    "def get_next_token(prompt: str) -> str:\n",
    "    \"\"\"Run a forward pass to get the next token\"\"\"\n",
    "    logits = model(prompt)[0]\n",
    "    log_probabilities = F.log_softmax(logits, dim=-1)\n",
    "    predictions = torch.argmax(log_probabilities, 2)\n",
    "    print(log_probabilities)\n",
    "    next_token = [model.tokenizer.decode(t) for t in predictions.squeeze()][-1]\n",
    "    return next_token"
   ]
  },
  {
   "cell_type": "code",
   "execution_count": 71,
   "id": "8c8b608e-250b-499a-802b-887775d0bda2",
   "metadata": {},
   "outputs": [
    {
     "data": {
      "text/html": [
       "<pre style=\"white-space:pre;overflow-x:auto;line-height:normal;font-family:Menlo,'DejaVu Sans Mono',consolas,'Courier New',monospace\"><span style=\"color: #800080; text-decoration-color: #800080; font-weight: bold\">tensor</span><span style=\"font-weight: bold\">([[[</span> <span style=\"color: #008080; text-decoration-color: #008080; font-weight: bold\">-8.7843</span>, <span style=\"color: #008080; text-decoration-color: #008080; font-weight: bold\">-23.4744</span>,  <span style=\"color: #008080; text-decoration-color: #008080; font-weight: bold\">-7.8728</span>,  <span style=\"color: #808000; text-decoration-color: #808000\">...</span>,  <span style=\"color: #008080; text-decoration-color: #008080; font-weight: bold\">-9.8996</span>,  <span style=\"color: #008080; text-decoration-color: #008080; font-weight: bold\">-8.9301</span>, <span style=\"color: #008080; text-decoration-color: #008080; font-weight: bold\">-23.7590</span><span style=\"font-weight: bold\">]</span>,\n",
       "         <span style=\"font-weight: bold\">[</span> <span style=\"color: #008080; text-decoration-color: #008080; font-weight: bold\">-8.4046</span>, <span style=\"color: #008080; text-decoration-color: #008080; font-weight: bold\">-20.3378</span>,  <span style=\"color: #008080; text-decoration-color: #008080; font-weight: bold\">-6.9796</span>,  <span style=\"color: #808000; text-decoration-color: #808000\">...</span>, <span style=\"color: #008080; text-decoration-color: #008080; font-weight: bold\">-12.0643</span>, <span style=\"color: #008080; text-decoration-color: #008080; font-weight: bold\">-10.9086</span>, <span style=\"color: #008080; text-decoration-color: #008080; font-weight: bold\">-20.6680</span><span style=\"font-weight: bold\">]</span>,\n",
       "         <span style=\"font-weight: bold\">[</span> <span style=\"color: #008080; text-decoration-color: #008080; font-weight: bold\">-8.5744</span>, <span style=\"color: #008080; text-decoration-color: #008080; font-weight: bold\">-20.4501</span>,  <span style=\"color: #008080; text-decoration-color: #008080; font-weight: bold\">-6.7731</span>,  <span style=\"color: #808000; text-decoration-color: #808000\">...</span>, <span style=\"color: #008080; text-decoration-color: #008080; font-weight: bold\">-11.7909</span>, <span style=\"color: #008080; text-decoration-color: #008080; font-weight: bold\">-10.5796</span>, <span style=\"color: #008080; text-decoration-color: #008080; font-weight: bold\">-20.7164</span><span style=\"font-weight: bold\">]</span>,\n",
       "         <span style=\"font-weight: bold\">[</span> <span style=\"color: #008080; text-decoration-color: #008080; font-weight: bold\">-8.4293</span>, <span style=\"color: #008080; text-decoration-color: #008080; font-weight: bold\">-20.4171</span>,  <span style=\"color: #008080; text-decoration-color: #008080; font-weight: bold\">-6.9193</span>,  <span style=\"color: #808000; text-decoration-color: #808000\">...</span>, <span style=\"color: #008080; text-decoration-color: #008080; font-weight: bold\">-11.6451</span>, <span style=\"color: #008080; text-decoration-color: #008080; font-weight: bold\">-10.5591</span>, <span style=\"color: #008080; text-decoration-color: #008080; font-weight: bold\">-20.6811</span><span style=\"font-weight: bold\">]</span>,\n",
       "         <span style=\"font-weight: bold\">[</span> <span style=\"color: #008080; text-decoration-color: #008080; font-weight: bold\">-8.5447</span>, <span style=\"color: #008080; text-decoration-color: #008080; font-weight: bold\">-20.3077</span>,  <span style=\"color: #008080; text-decoration-color: #008080; font-weight: bold\">-7.0263</span>,  <span style=\"color: #808000; text-decoration-color: #808000\">...</span>, <span style=\"color: #008080; text-decoration-color: #008080; font-weight: bold\">-11.8463</span>, <span style=\"color: #008080; text-decoration-color: #008080; font-weight: bold\">-10.6808</span>, <span style=\"color: #008080; text-decoration-color: #008080; font-weight: bold\">-20.6272</span><span style=\"font-weight: bold\">]</span>,\n",
       "         <span style=\"font-weight: bold\">[</span> <span style=\"color: #008080; text-decoration-color: #008080; font-weight: bold\">-8.7546</span>, <span style=\"color: #008080; text-decoration-color: #008080; font-weight: bold\">-20.7824</span>,  <span style=\"color: #008080; text-decoration-color: #008080; font-weight: bold\">-6.7403</span>,  <span style=\"color: #808000; text-decoration-color: #808000\">...</span>, <span style=\"color: #008080; text-decoration-color: #008080; font-weight: bold\">-11.5956</span>, <span style=\"color: #008080; text-decoration-color: #008080; font-weight: bold\">-10.5761</span>, <span style=\"color: #008080; text-decoration-color: #008080; font-weight: bold\">-21.0584</span><span style=\"font-weight: bold\">]]]</span>,\n",
       "       <span style=\"color: #808000; text-decoration-color: #808000\">device</span>=<span style=\"color: #008000; text-decoration-color: #008000\">'cuda:0'</span>, <span style=\"color: #808000; text-decoration-color: #808000\">grad_fn</span>=<span style=\"font-weight: bold\">&lt;</span><span style=\"color: #ff00ff; text-decoration-color: #ff00ff; font-weight: bold\">LogSoftmaxBackward0</span><span style=\"font-weight: bold\">&gt;)</span>\n",
       "</pre>\n"
      ],
      "text/plain": [
       "\u001b[1;35mtensor\u001b[0m\u001b[1m(\u001b[0m\u001b[1m[\u001b[0m\u001b[1m[\u001b[0m\u001b[1m[\u001b[0m \u001b[1;36m-8.7843\u001b[0m, \u001b[1;36m-23.4744\u001b[0m,  \u001b[1;36m-7.8728\u001b[0m,  \u001b[33m...\u001b[0m,  \u001b[1;36m-9.8996\u001b[0m,  \u001b[1;36m-8.9301\u001b[0m, \u001b[1;36m-23.7590\u001b[0m\u001b[1m]\u001b[0m,\n",
       "         \u001b[1m[\u001b[0m \u001b[1;36m-8.4046\u001b[0m, \u001b[1;36m-20.3378\u001b[0m,  \u001b[1;36m-6.9796\u001b[0m,  \u001b[33m...\u001b[0m, \u001b[1;36m-12.0643\u001b[0m, \u001b[1;36m-10.9086\u001b[0m, \u001b[1;36m-20.6680\u001b[0m\u001b[1m]\u001b[0m,\n",
       "         \u001b[1m[\u001b[0m \u001b[1;36m-8.5744\u001b[0m, \u001b[1;36m-20.4501\u001b[0m,  \u001b[1;36m-6.7731\u001b[0m,  \u001b[33m...\u001b[0m, \u001b[1;36m-11.7909\u001b[0m, \u001b[1;36m-10.5796\u001b[0m, \u001b[1;36m-20.7164\u001b[0m\u001b[1m]\u001b[0m,\n",
       "         \u001b[1m[\u001b[0m \u001b[1;36m-8.4293\u001b[0m, \u001b[1;36m-20.4171\u001b[0m,  \u001b[1;36m-6.9193\u001b[0m,  \u001b[33m...\u001b[0m, \u001b[1;36m-11.6451\u001b[0m, \u001b[1;36m-10.5591\u001b[0m, \u001b[1;36m-20.6811\u001b[0m\u001b[1m]\u001b[0m,\n",
       "         \u001b[1m[\u001b[0m \u001b[1;36m-8.5447\u001b[0m, \u001b[1;36m-20.3077\u001b[0m,  \u001b[1;36m-7.0263\u001b[0m,  \u001b[33m...\u001b[0m, \u001b[1;36m-11.8463\u001b[0m, \u001b[1;36m-10.6808\u001b[0m, \u001b[1;36m-20.6272\u001b[0m\u001b[1m]\u001b[0m,\n",
       "         \u001b[1m[\u001b[0m \u001b[1;36m-8.7546\u001b[0m, \u001b[1;36m-20.7824\u001b[0m,  \u001b[1;36m-6.7403\u001b[0m,  \u001b[33m...\u001b[0m, \u001b[1;36m-11.5956\u001b[0m, \u001b[1;36m-10.5761\u001b[0m, \u001b[1;36m-21.0584\u001b[0m\u001b[1m]\u001b[0m\u001b[1m]\u001b[0m\u001b[1m]\u001b[0m,\n",
       "       \u001b[33mdevice\u001b[0m=\u001b[32m'cuda:0'\u001b[0m, \u001b[33mgrad_fn\u001b[0m=\u001b[1m<\u001b[0m\u001b[1;95mLogSoftmaxBackward0\u001b[0m\u001b[1m>\u001b[0m\u001b[1m)\u001b[0m\n"
      ]
     },
     "metadata": {},
     "output_type": "display_data"
    },
    {
     "data": {
      "text/html": [
       "<pre style=\"white-space:pre;overflow-x:auto;line-height:normal;font-family:Menlo,'DejaVu Sans Mono',consolas,'Courier New',monospace\"><span style=\"color: #800080; text-decoration-color: #800080; font-weight: bold\">tensor</span><span style=\"font-weight: bold\">([[[</span> <span style=\"color: #008080; text-decoration-color: #008080; font-weight: bold\">-8.7843</span>, <span style=\"color: #008080; text-decoration-color: #008080; font-weight: bold\">-23.4744</span>,  <span style=\"color: #008080; text-decoration-color: #008080; font-weight: bold\">-7.8728</span>,  <span style=\"color: #808000; text-decoration-color: #808000\">...</span>,  <span style=\"color: #008080; text-decoration-color: #008080; font-weight: bold\">-9.8996</span>,  <span style=\"color: #008080; text-decoration-color: #008080; font-weight: bold\">-8.9301</span>, <span style=\"color: #008080; text-decoration-color: #008080; font-weight: bold\">-23.7590</span><span style=\"font-weight: bold\">]</span>,\n",
       "         <span style=\"font-weight: bold\">[</span> <span style=\"color: #008080; text-decoration-color: #008080; font-weight: bold\">-8.4046</span>, <span style=\"color: #008080; text-decoration-color: #008080; font-weight: bold\">-20.3378</span>,  <span style=\"color: #008080; text-decoration-color: #008080; font-weight: bold\">-6.9796</span>,  <span style=\"color: #808000; text-decoration-color: #808000\">...</span>, <span style=\"color: #008080; text-decoration-color: #008080; font-weight: bold\">-12.0643</span>, <span style=\"color: #008080; text-decoration-color: #008080; font-weight: bold\">-10.9086</span>, <span style=\"color: #008080; text-decoration-color: #008080; font-weight: bold\">-20.6680</span><span style=\"font-weight: bold\">]</span>,\n",
       "         <span style=\"font-weight: bold\">[</span> <span style=\"color: #008080; text-decoration-color: #008080; font-weight: bold\">-8.5744</span>, <span style=\"color: #008080; text-decoration-color: #008080; font-weight: bold\">-20.4501</span>,  <span style=\"color: #008080; text-decoration-color: #008080; font-weight: bold\">-6.7731</span>,  <span style=\"color: #808000; text-decoration-color: #808000\">...</span>, <span style=\"color: #008080; text-decoration-color: #008080; font-weight: bold\">-11.7909</span>, <span style=\"color: #008080; text-decoration-color: #008080; font-weight: bold\">-10.5796</span>, <span style=\"color: #008080; text-decoration-color: #008080; font-weight: bold\">-20.7164</span><span style=\"font-weight: bold\">]</span>,\n",
       "         <span style=\"color: #808000; text-decoration-color: #808000\">...</span>,\n",
       "         <span style=\"font-weight: bold\">[</span> <span style=\"color: #008080; text-decoration-color: #008080; font-weight: bold\">-8.5447</span>, <span style=\"color: #008080; text-decoration-color: #008080; font-weight: bold\">-20.3077</span>,  <span style=\"color: #008080; text-decoration-color: #008080; font-weight: bold\">-7.0263</span>,  <span style=\"color: #808000; text-decoration-color: #808000\">...</span>, <span style=\"color: #008080; text-decoration-color: #008080; font-weight: bold\">-11.8463</span>, <span style=\"color: #008080; text-decoration-color: #008080; font-weight: bold\">-10.6808</span>, <span style=\"color: #008080; text-decoration-color: #008080; font-weight: bold\">-20.6272</span><span style=\"font-weight: bold\">]</span>,\n",
       "         <span style=\"font-weight: bold\">[</span> <span style=\"color: #008080; text-decoration-color: #008080; font-weight: bold\">-8.7546</span>, <span style=\"color: #008080; text-decoration-color: #008080; font-weight: bold\">-20.7824</span>,  <span style=\"color: #008080; text-decoration-color: #008080; font-weight: bold\">-6.7403</span>,  <span style=\"color: #808000; text-decoration-color: #808000\">...</span>, <span style=\"color: #008080; text-decoration-color: #008080; font-weight: bold\">-11.5956</span>, <span style=\"color: #008080; text-decoration-color: #008080; font-weight: bold\">-10.5761</span>, <span style=\"color: #008080; text-decoration-color: #008080; font-weight: bold\">-21.0584</span><span style=\"font-weight: bold\">]</span>,\n",
       "         <span style=\"font-weight: bold\">[</span> <span style=\"color: #008080; text-decoration-color: #008080; font-weight: bold\">-8.2679</span>, <span style=\"color: #008080; text-decoration-color: #008080; font-weight: bold\">-20.5221</span>,  <span style=\"color: #008080; text-decoration-color: #008080; font-weight: bold\">-6.8142</span>,  <span style=\"color: #808000; text-decoration-color: #808000\">...</span>, <span style=\"color: #008080; text-decoration-color: #008080; font-weight: bold\">-11.8904</span>, <span style=\"color: #008080; text-decoration-color: #008080; font-weight: bold\">-10.5513</span>, <span style=\"color: #008080; text-decoration-color: #008080; font-weight: bold\">-20.8160</span><span style=\"font-weight: bold\">]]]</span>,\n",
       "       <span style=\"color: #808000; text-decoration-color: #808000\">device</span>=<span style=\"color: #008000; text-decoration-color: #008000\">'cuda:0'</span>, <span style=\"color: #808000; text-decoration-color: #808000\">grad_fn</span>=<span style=\"font-weight: bold\">&lt;</span><span style=\"color: #ff00ff; text-decoration-color: #ff00ff; font-weight: bold\">LogSoftmaxBackward0</span><span style=\"font-weight: bold\">&gt;)</span>\n",
       "</pre>\n"
      ],
      "text/plain": [
       "\u001b[1;35mtensor\u001b[0m\u001b[1m(\u001b[0m\u001b[1m[\u001b[0m\u001b[1m[\u001b[0m\u001b[1m[\u001b[0m \u001b[1;36m-8.7843\u001b[0m, \u001b[1;36m-23.4744\u001b[0m,  \u001b[1;36m-7.8728\u001b[0m,  \u001b[33m...\u001b[0m,  \u001b[1;36m-9.8996\u001b[0m,  \u001b[1;36m-8.9301\u001b[0m, \u001b[1;36m-23.7590\u001b[0m\u001b[1m]\u001b[0m,\n",
       "         \u001b[1m[\u001b[0m \u001b[1;36m-8.4046\u001b[0m, \u001b[1;36m-20.3378\u001b[0m,  \u001b[1;36m-6.9796\u001b[0m,  \u001b[33m...\u001b[0m, \u001b[1;36m-12.0643\u001b[0m, \u001b[1;36m-10.9086\u001b[0m, \u001b[1;36m-20.6680\u001b[0m\u001b[1m]\u001b[0m,\n",
       "         \u001b[1m[\u001b[0m \u001b[1;36m-8.5744\u001b[0m, \u001b[1;36m-20.4501\u001b[0m,  \u001b[1;36m-6.7731\u001b[0m,  \u001b[33m...\u001b[0m, \u001b[1;36m-11.7909\u001b[0m, \u001b[1;36m-10.5796\u001b[0m, \u001b[1;36m-20.7164\u001b[0m\u001b[1m]\u001b[0m,\n",
       "         \u001b[33m...\u001b[0m,\n",
       "         \u001b[1m[\u001b[0m \u001b[1;36m-8.5447\u001b[0m, \u001b[1;36m-20.3077\u001b[0m,  \u001b[1;36m-7.0263\u001b[0m,  \u001b[33m...\u001b[0m, \u001b[1;36m-11.8463\u001b[0m, \u001b[1;36m-10.6808\u001b[0m, \u001b[1;36m-20.6272\u001b[0m\u001b[1m]\u001b[0m,\n",
       "         \u001b[1m[\u001b[0m \u001b[1;36m-8.7546\u001b[0m, \u001b[1;36m-20.7824\u001b[0m,  \u001b[1;36m-6.7403\u001b[0m,  \u001b[33m...\u001b[0m, \u001b[1;36m-11.5956\u001b[0m, \u001b[1;36m-10.5761\u001b[0m, \u001b[1;36m-21.0584\u001b[0m\u001b[1m]\u001b[0m,\n",
       "         \u001b[1m[\u001b[0m \u001b[1;36m-8.2679\u001b[0m, \u001b[1;36m-20.5221\u001b[0m,  \u001b[1;36m-6.8142\u001b[0m,  \u001b[33m...\u001b[0m, \u001b[1;36m-11.8904\u001b[0m, \u001b[1;36m-10.5513\u001b[0m, \u001b[1;36m-20.8160\u001b[0m\u001b[1m]\u001b[0m\u001b[1m]\u001b[0m\u001b[1m]\u001b[0m,\n",
       "       \u001b[33mdevice\u001b[0m=\u001b[32m'cuda:0'\u001b[0m, \u001b[33mgrad_fn\u001b[0m=\u001b[1m<\u001b[0m\u001b[1;95mLogSoftmaxBackward0\u001b[0m\u001b[1m>\u001b[0m\u001b[1m)\u001b[0m\n"
      ]
     },
     "metadata": {},
     "output_type": "display_data"
    },
    {
     "data": {
      "text/html": [
       "<pre style=\"white-space:pre;overflow-x:auto;line-height:normal;font-family:Menlo,'DejaVu Sans Mono',consolas,'Courier New',monospace\"><span style=\"font-weight: bold\">&lt;</span><span style=\"color: #ff00ff; text-decoration-color: #ff00ff; font-weight: bold\">h1</span><span style=\"font-weight: bold\">&gt;</span>Title..\n",
       "</pre>\n"
      ],
      "text/plain": [
       "\u001b[1m<\u001b[0m\u001b[1;95mh1\u001b[0m\u001b[1m>\u001b[0mTitle..\n"
      ]
     },
     "metadata": {},
     "output_type": "display_data"
    },
    {
     "data": {
      "text/html": [
       "<pre style=\"white-space:pre;overflow-x:auto;line-height:normal;font-family:Menlo,'DejaVu Sans Mono',consolas,'Courier New',monospace\"><span style=\"color: #800080; text-decoration-color: #800080; font-weight: bold\">tensor</span><span style=\"font-weight: bold\">([[[</span> <span style=\"color: #008080; text-decoration-color: #008080; font-weight: bold\">-8.7843</span>, <span style=\"color: #008080; text-decoration-color: #008080; font-weight: bold\">-23.4744</span>,  <span style=\"color: #008080; text-decoration-color: #008080; font-weight: bold\">-7.8728</span>,  <span style=\"color: #808000; text-decoration-color: #808000\">...</span>,  <span style=\"color: #008080; text-decoration-color: #008080; font-weight: bold\">-9.8996</span>,  <span style=\"color: #008080; text-decoration-color: #008080; font-weight: bold\">-8.9301</span>, <span style=\"color: #008080; text-decoration-color: #008080; font-weight: bold\">-23.7590</span><span style=\"font-weight: bold\">]</span>,\n",
       "         <span style=\"font-weight: bold\">[</span> <span style=\"color: #008080; text-decoration-color: #008080; font-weight: bold\">-8.4046</span>, <span style=\"color: #008080; text-decoration-color: #008080; font-weight: bold\">-20.3378</span>,  <span style=\"color: #008080; text-decoration-color: #008080; font-weight: bold\">-6.9796</span>,  <span style=\"color: #808000; text-decoration-color: #808000\">...</span>, <span style=\"color: #008080; text-decoration-color: #008080; font-weight: bold\">-12.0643</span>, <span style=\"color: #008080; text-decoration-color: #008080; font-weight: bold\">-10.9086</span>, <span style=\"color: #008080; text-decoration-color: #008080; font-weight: bold\">-20.6680</span><span style=\"font-weight: bold\">]</span>,\n",
       "         <span style=\"font-weight: bold\">[</span> <span style=\"color: #008080; text-decoration-color: #008080; font-weight: bold\">-8.6335</span>, <span style=\"color: #008080; text-decoration-color: #008080; font-weight: bold\">-20.4664</span>,  <span style=\"color: #008080; text-decoration-color: #008080; font-weight: bold\">-6.9997</span>,  <span style=\"color: #808000; text-decoration-color: #808000\">...</span>, <span style=\"color: #008080; text-decoration-color: #008080; font-weight: bold\">-11.6558</span>, <span style=\"color: #008080; text-decoration-color: #008080; font-weight: bold\">-10.5587</span>, <span style=\"color: #008080; text-decoration-color: #008080; font-weight: bold\">-20.7375</span><span style=\"font-weight: bold\">]</span>,\n",
       "         <span style=\"color: #808000; text-decoration-color: #808000\">...</span>,\n",
       "         <span style=\"font-weight: bold\">[</span> <span style=\"color: #008080; text-decoration-color: #008080; font-weight: bold\">-8.7598</span>, <span style=\"color: #008080; text-decoration-color: #008080; font-weight: bold\">-20.7125</span>,  <span style=\"color: #008080; text-decoration-color: #008080; font-weight: bold\">-6.8622</span>,  <span style=\"color: #808000; text-decoration-color: #808000\">...</span>, <span style=\"color: #008080; text-decoration-color: #008080; font-weight: bold\">-11.8397</span>, <span style=\"color: #008080; text-decoration-color: #008080; font-weight: bold\">-10.6068</span>, <span style=\"color: #008080; text-decoration-color: #008080; font-weight: bold\">-20.9978</span><span style=\"font-weight: bold\">]</span>,\n",
       "         <span style=\"font-weight: bold\">[</span> <span style=\"color: #008080; text-decoration-color: #008080; font-weight: bold\">-8.8173</span>, <span style=\"color: #008080; text-decoration-color: #008080; font-weight: bold\">-20.8811</span>,  <span style=\"color: #008080; text-decoration-color: #008080; font-weight: bold\">-6.7862</span>,  <span style=\"color: #808000; text-decoration-color: #808000\">...</span>, <span style=\"color: #008080; text-decoration-color: #008080; font-weight: bold\">-11.6718</span>, <span style=\"color: #008080; text-decoration-color: #008080; font-weight: bold\">-10.4096</span>, <span style=\"color: #008080; text-decoration-color: #008080; font-weight: bold\">-21.1090</span><span style=\"font-weight: bold\">]</span>,\n",
       "         <span style=\"font-weight: bold\">[</span> <span style=\"color: #008080; text-decoration-color: #008080; font-weight: bold\">-8.3327</span>, <span style=\"color: #008080; text-decoration-color: #008080; font-weight: bold\">-20.4127</span>,  <span style=\"color: #008080; text-decoration-color: #008080; font-weight: bold\">-7.0471</span>,  <span style=\"color: #808000; text-decoration-color: #808000\">...</span>, <span style=\"color: #008080; text-decoration-color: #008080; font-weight: bold\">-11.7044</span>, <span style=\"color: #008080; text-decoration-color: #008080; font-weight: bold\">-10.8105</span>, <span style=\"color: #008080; text-decoration-color: #008080; font-weight: bold\">-20.7054</span><span style=\"font-weight: bold\">]]]</span>,\n",
       "       <span style=\"color: #808000; text-decoration-color: #808000\">device</span>=<span style=\"color: #008000; text-decoration-color: #008000\">'cuda:0'</span>, <span style=\"color: #808000; text-decoration-color: #808000\">grad_fn</span>=<span style=\"font-weight: bold\">&lt;</span><span style=\"color: #ff00ff; text-decoration-color: #ff00ff; font-weight: bold\">LogSoftmaxBackward0</span><span style=\"font-weight: bold\">&gt;)</span>\n",
       "</pre>\n"
      ],
      "text/plain": [
       "\u001b[1;35mtensor\u001b[0m\u001b[1m(\u001b[0m\u001b[1m[\u001b[0m\u001b[1m[\u001b[0m\u001b[1m[\u001b[0m \u001b[1;36m-8.7843\u001b[0m, \u001b[1;36m-23.4744\u001b[0m,  \u001b[1;36m-7.8728\u001b[0m,  \u001b[33m...\u001b[0m,  \u001b[1;36m-9.8996\u001b[0m,  \u001b[1;36m-8.9301\u001b[0m, \u001b[1;36m-23.7590\u001b[0m\u001b[1m]\u001b[0m,\n",
       "         \u001b[1m[\u001b[0m \u001b[1;36m-8.4046\u001b[0m, \u001b[1;36m-20.3378\u001b[0m,  \u001b[1;36m-6.9796\u001b[0m,  \u001b[33m...\u001b[0m, \u001b[1;36m-12.0643\u001b[0m, \u001b[1;36m-10.9086\u001b[0m, \u001b[1;36m-20.6680\u001b[0m\u001b[1m]\u001b[0m,\n",
       "         \u001b[1m[\u001b[0m \u001b[1;36m-8.6335\u001b[0m, \u001b[1;36m-20.4664\u001b[0m,  \u001b[1;36m-6.9997\u001b[0m,  \u001b[33m...\u001b[0m, \u001b[1;36m-11.6558\u001b[0m, \u001b[1;36m-10.5587\u001b[0m, \u001b[1;36m-20.7375\u001b[0m\u001b[1m]\u001b[0m,\n",
       "         \u001b[33m...\u001b[0m,\n",
       "         \u001b[1m[\u001b[0m \u001b[1;36m-8.7598\u001b[0m, \u001b[1;36m-20.7125\u001b[0m,  \u001b[1;36m-6.8622\u001b[0m,  \u001b[33m...\u001b[0m, \u001b[1;36m-11.8397\u001b[0m, \u001b[1;36m-10.6068\u001b[0m, \u001b[1;36m-20.9978\u001b[0m\u001b[1m]\u001b[0m,\n",
       "         \u001b[1m[\u001b[0m \u001b[1;36m-8.8173\u001b[0m, \u001b[1;36m-20.8811\u001b[0m,  \u001b[1;36m-6.7862\u001b[0m,  \u001b[33m...\u001b[0m, \u001b[1;36m-11.6718\u001b[0m, \u001b[1;36m-10.4096\u001b[0m, \u001b[1;36m-21.1090\u001b[0m\u001b[1m]\u001b[0m,\n",
       "         \u001b[1m[\u001b[0m \u001b[1;36m-8.3327\u001b[0m, \u001b[1;36m-20.4127\u001b[0m,  \u001b[1;36m-7.0471\u001b[0m,  \u001b[33m...\u001b[0m, \u001b[1;36m-11.7044\u001b[0m, \u001b[1;36m-10.8105\u001b[0m, \u001b[1;36m-20.7054\u001b[0m\u001b[1m]\u001b[0m\u001b[1m]\u001b[0m\u001b[1m]\u001b[0m,\n",
       "       \u001b[33mdevice\u001b[0m=\u001b[32m'cuda:0'\u001b[0m, \u001b[33mgrad_fn\u001b[0m=\u001b[1m<\u001b[0m\u001b[1;95mLogSoftmaxBackward0\u001b[0m\u001b[1m>\u001b[0m\u001b[1m)\u001b[0m\n"
      ]
     },
     "metadata": {},
     "output_type": "display_data"
    },
    {
     "data": {
      "text/html": [
       "<pre style=\"white-space:pre;overflow-x:auto;line-height:normal;font-family:Menlo,'DejaVu Sans Mono',consolas,'Courier New',monospace\"><span style=\"color: #800080; text-decoration-color: #800080; font-weight: bold\">tensor</span><span style=\"font-weight: bold\">([[[</span> <span style=\"color: #008080; text-decoration-color: #008080; font-weight: bold\">-8.7843</span>, <span style=\"color: #008080; text-decoration-color: #008080; font-weight: bold\">-23.4744</span>,  <span style=\"color: #008080; text-decoration-color: #008080; font-weight: bold\">-7.8728</span>,  <span style=\"color: #808000; text-decoration-color: #808000\">...</span>,  <span style=\"color: #008080; text-decoration-color: #008080; font-weight: bold\">-9.8996</span>,  <span style=\"color: #008080; text-decoration-color: #008080; font-weight: bold\">-8.9301</span>, <span style=\"color: #008080; text-decoration-color: #008080; font-weight: bold\">-23.7590</span><span style=\"font-weight: bold\">]</span>,\n",
       "         <span style=\"font-weight: bold\">[</span> <span style=\"color: #008080; text-decoration-color: #008080; font-weight: bold\">-8.4046</span>, <span style=\"color: #008080; text-decoration-color: #008080; font-weight: bold\">-20.3378</span>,  <span style=\"color: #008080; text-decoration-color: #008080; font-weight: bold\">-6.9796</span>,  <span style=\"color: #808000; text-decoration-color: #808000\">...</span>, <span style=\"color: #008080; text-decoration-color: #008080; font-weight: bold\">-12.0643</span>, <span style=\"color: #008080; text-decoration-color: #008080; font-weight: bold\">-10.9086</span>, <span style=\"color: #008080; text-decoration-color: #008080; font-weight: bold\">-20.6680</span><span style=\"font-weight: bold\">]</span>,\n",
       "         <span style=\"font-weight: bold\">[</span> <span style=\"color: #008080; text-decoration-color: #008080; font-weight: bold\">-8.6335</span>, <span style=\"color: #008080; text-decoration-color: #008080; font-weight: bold\">-20.4664</span>,  <span style=\"color: #008080; text-decoration-color: #008080; font-weight: bold\">-6.9997</span>,  <span style=\"color: #808000; text-decoration-color: #808000\">...</span>, <span style=\"color: #008080; text-decoration-color: #008080; font-weight: bold\">-11.6558</span>, <span style=\"color: #008080; text-decoration-color: #008080; font-weight: bold\">-10.5587</span>, <span style=\"color: #008080; text-decoration-color: #008080; font-weight: bold\">-20.7375</span><span style=\"font-weight: bold\">]</span>,\n",
       "         <span style=\"color: #808000; text-decoration-color: #808000\">...</span>,\n",
       "         <span style=\"font-weight: bold\">[</span> <span style=\"color: #008080; text-decoration-color: #008080; font-weight: bold\">-8.8173</span>, <span style=\"color: #008080; text-decoration-color: #008080; font-weight: bold\">-20.8811</span>,  <span style=\"color: #008080; text-decoration-color: #008080; font-weight: bold\">-6.7862</span>,  <span style=\"color: #808000; text-decoration-color: #808000\">...</span>, <span style=\"color: #008080; text-decoration-color: #008080; font-weight: bold\">-11.6718</span>, <span style=\"color: #008080; text-decoration-color: #008080; font-weight: bold\">-10.4096</span>, <span style=\"color: #008080; text-decoration-color: #008080; font-weight: bold\">-21.1090</span><span style=\"font-weight: bold\">]</span>,\n",
       "         <span style=\"font-weight: bold\">[</span> <span style=\"color: #008080; text-decoration-color: #008080; font-weight: bold\">-8.3327</span>, <span style=\"color: #008080; text-decoration-color: #008080; font-weight: bold\">-20.4127</span>,  <span style=\"color: #008080; text-decoration-color: #008080; font-weight: bold\">-7.0471</span>,  <span style=\"color: #808000; text-decoration-color: #808000\">...</span>, <span style=\"color: #008080; text-decoration-color: #008080; font-weight: bold\">-11.7044</span>, <span style=\"color: #008080; text-decoration-color: #008080; font-weight: bold\">-10.8105</span>, <span style=\"color: #008080; text-decoration-color: #008080; font-weight: bold\">-20.7053</span><span style=\"font-weight: bold\">]</span>,\n",
       "         <span style=\"font-weight: bold\">[</span> <span style=\"color: #008080; text-decoration-color: #008080; font-weight: bold\">-8.2219</span>, <span style=\"color: #008080; text-decoration-color: #008080; font-weight: bold\">-20.5905</span>,  <span style=\"color: #008080; text-decoration-color: #008080; font-weight: bold\">-7.0137</span>,  <span style=\"color: #808000; text-decoration-color: #808000\">...</span>, <span style=\"color: #008080; text-decoration-color: #008080; font-weight: bold\">-11.6472</span>, <span style=\"color: #008080; text-decoration-color: #008080; font-weight: bold\">-10.4922</span>, <span style=\"color: #008080; text-decoration-color: #008080; font-weight: bold\">-20.8567</span><span style=\"font-weight: bold\">]]]</span>,\n",
       "       <span style=\"color: #808000; text-decoration-color: #808000\">device</span>=<span style=\"color: #008000; text-decoration-color: #008000\">'cuda:0'</span>, <span style=\"color: #808000; text-decoration-color: #808000\">grad_fn</span>=<span style=\"font-weight: bold\">&lt;</span><span style=\"color: #ff00ff; text-decoration-color: #ff00ff; font-weight: bold\">LogSoftmaxBackward0</span><span style=\"font-weight: bold\">&gt;)</span>\n",
       "</pre>\n"
      ],
      "text/plain": [
       "\u001b[1;35mtensor\u001b[0m\u001b[1m(\u001b[0m\u001b[1m[\u001b[0m\u001b[1m[\u001b[0m\u001b[1m[\u001b[0m \u001b[1;36m-8.7843\u001b[0m, \u001b[1;36m-23.4744\u001b[0m,  \u001b[1;36m-7.8728\u001b[0m,  \u001b[33m...\u001b[0m,  \u001b[1;36m-9.8996\u001b[0m,  \u001b[1;36m-8.9301\u001b[0m, \u001b[1;36m-23.7590\u001b[0m\u001b[1m]\u001b[0m,\n",
       "         \u001b[1m[\u001b[0m \u001b[1;36m-8.4046\u001b[0m, \u001b[1;36m-20.3378\u001b[0m,  \u001b[1;36m-6.9796\u001b[0m,  \u001b[33m...\u001b[0m, \u001b[1;36m-12.0643\u001b[0m, \u001b[1;36m-10.9086\u001b[0m, \u001b[1;36m-20.6680\u001b[0m\u001b[1m]\u001b[0m,\n",
       "         \u001b[1m[\u001b[0m \u001b[1;36m-8.6335\u001b[0m, \u001b[1;36m-20.4664\u001b[0m,  \u001b[1;36m-6.9997\u001b[0m,  \u001b[33m...\u001b[0m, \u001b[1;36m-11.6558\u001b[0m, \u001b[1;36m-10.5587\u001b[0m, \u001b[1;36m-20.7375\u001b[0m\u001b[1m]\u001b[0m,\n",
       "         \u001b[33m...\u001b[0m,\n",
       "         \u001b[1m[\u001b[0m \u001b[1;36m-8.8173\u001b[0m, \u001b[1;36m-20.8811\u001b[0m,  \u001b[1;36m-6.7862\u001b[0m,  \u001b[33m...\u001b[0m, \u001b[1;36m-11.6718\u001b[0m, \u001b[1;36m-10.4096\u001b[0m, \u001b[1;36m-21.1090\u001b[0m\u001b[1m]\u001b[0m,\n",
       "         \u001b[1m[\u001b[0m \u001b[1;36m-8.3327\u001b[0m, \u001b[1;36m-20.4127\u001b[0m,  \u001b[1;36m-7.0471\u001b[0m,  \u001b[33m...\u001b[0m, \u001b[1;36m-11.7044\u001b[0m, \u001b[1;36m-10.8105\u001b[0m, \u001b[1;36m-20.7053\u001b[0m\u001b[1m]\u001b[0m,\n",
       "         \u001b[1m[\u001b[0m \u001b[1;36m-8.2219\u001b[0m, \u001b[1;36m-20.5905\u001b[0m,  \u001b[1;36m-7.0137\u001b[0m,  \u001b[33m...\u001b[0m, \u001b[1;36m-11.6472\u001b[0m, \u001b[1;36m-10.4922\u001b[0m, \u001b[1;36m-20.8567\u001b[0m\u001b[1m]\u001b[0m\u001b[1m]\u001b[0m\u001b[1m]\u001b[0m,\n",
       "       \u001b[33mdevice\u001b[0m=\u001b[32m'cuda:0'\u001b[0m, \u001b[33mgrad_fn\u001b[0m=\u001b[1m<\u001b[0m\u001b[1;95mLogSoftmaxBackward0\u001b[0m\u001b[1m>\u001b[0m\u001b[1m)\u001b[0m\n"
      ]
     },
     "metadata": {},
     "output_type": "display_data"
    },
    {
     "data": {
      "text/html": [
       "<pre style=\"white-space:pre;overflow-x:auto;line-height:normal;font-family:Menlo,'DejaVu Sans Mono',consolas,'Courier New',monospace\"><span style=\"font-weight: bold\">&lt;</span><span style=\"color: #ff00ff; text-decoration-color: #ff00ff; font-weight: bold\">b</span><span style=\"font-weight: bold\">&gt;</span>Some bold text&lt;<span style=\"color: #800080; text-decoration-color: #800080\">/</span><span style=\"color: #ff00ff; text-decoration-color: #ff00ff\">..</span>\n",
       "</pre>\n"
      ],
      "text/plain": [
       "\u001b[1m<\u001b[0m\u001b[1;95mb\u001b[0m\u001b[1m>\u001b[0mSome bold text<\u001b[35m/\u001b[0m\u001b[95m..\u001b[0m\n"
      ]
     },
     "metadata": {},
     "output_type": "display_data"
    },
    {
     "data": {
      "text/html": [
       "<pre style=\"white-space:pre;overflow-x:auto;line-height:normal;font-family:Menlo,'DejaVu Sans Mono',consolas,'Courier New',monospace\"><span style=\"color: #800080; text-decoration-color: #800080; font-weight: bold\">tensor</span><span style=\"font-weight: bold\">([[[</span> <span style=\"color: #008080; text-decoration-color: #008080; font-weight: bold\">-8.7843</span>, <span style=\"color: #008080; text-decoration-color: #008080; font-weight: bold\">-23.4744</span>,  <span style=\"color: #008080; text-decoration-color: #008080; font-weight: bold\">-7.8728</span>,  <span style=\"color: #808000; text-decoration-color: #808000\">...</span>,  <span style=\"color: #008080; text-decoration-color: #008080; font-weight: bold\">-9.8996</span>,  <span style=\"color: #008080; text-decoration-color: #008080; font-weight: bold\">-8.9301</span>, <span style=\"color: #008080; text-decoration-color: #008080; font-weight: bold\">-23.7590</span><span style=\"font-weight: bold\">]</span>,\n",
       "         <span style=\"font-weight: bold\">[</span> <span style=\"color: #008080; text-decoration-color: #008080; font-weight: bold\">-8.4046</span>, <span style=\"color: #008080; text-decoration-color: #008080; font-weight: bold\">-20.3378</span>,  <span style=\"color: #008080; text-decoration-color: #008080; font-weight: bold\">-6.9796</span>,  <span style=\"color: #808000; text-decoration-color: #808000\">...</span>, <span style=\"color: #008080; text-decoration-color: #008080; font-weight: bold\">-12.0643</span>, <span style=\"color: #008080; text-decoration-color: #008080; font-weight: bold\">-10.9086</span>, <span style=\"color: #008080; text-decoration-color: #008080; font-weight: bold\">-20.6680</span><span style=\"font-weight: bold\">]</span>,\n",
       "         <span style=\"font-weight: bold\">[</span> <span style=\"color: #008080; text-decoration-color: #008080; font-weight: bold\">-8.7818</span>, <span style=\"color: #008080; text-decoration-color: #008080; font-weight: bold\">-20.4882</span>,  <span style=\"color: #008080; text-decoration-color: #008080; font-weight: bold\">-6.9402</span>,  <span style=\"color: #808000; text-decoration-color: #808000\">...</span>, <span style=\"color: #008080; text-decoration-color: #008080; font-weight: bold\">-11.8595</span>, <span style=\"color: #008080; text-decoration-color: #008080; font-weight: bold\">-10.6349</span>, <span style=\"color: #008080; text-decoration-color: #008080; font-weight: bold\">-20.7679</span><span style=\"font-weight: bold\">]</span>,\n",
       "         <span style=\"color: #808000; text-decoration-color: #808000\">...</span>,\n",
       "         <span style=\"font-weight: bold\">[</span> <span style=\"color: #008080; text-decoration-color: #008080; font-weight: bold\">-8.8496</span>, <span style=\"color: #008080; text-decoration-color: #008080; font-weight: bold\">-20.5733</span>,  <span style=\"color: #008080; text-decoration-color: #008080; font-weight: bold\">-6.9318</span>,  <span style=\"color: #808000; text-decoration-color: #808000\">...</span>, <span style=\"color: #008080; text-decoration-color: #008080; font-weight: bold\">-11.7799</span>, <span style=\"color: #008080; text-decoration-color: #008080; font-weight: bold\">-10.6018</span>, <span style=\"color: #008080; text-decoration-color: #008080; font-weight: bold\">-20.8412</span><span style=\"font-weight: bold\">]</span>,\n",
       "         <span style=\"font-weight: bold\">[</span> <span style=\"color: #008080; text-decoration-color: #008080; font-weight: bold\">-8.7610</span>, <span style=\"color: #008080; text-decoration-color: #008080; font-weight: bold\">-20.6631</span>,  <span style=\"color: #008080; text-decoration-color: #008080; font-weight: bold\">-6.8582</span>,  <span style=\"color: #808000; text-decoration-color: #808000\">...</span>, <span style=\"color: #008080; text-decoration-color: #008080; font-weight: bold\">-11.7038</span>, <span style=\"color: #008080; text-decoration-color: #008080; font-weight: bold\">-10.5588</span>, <span style=\"color: #008080; text-decoration-color: #008080; font-weight: bold\">-20.8951</span><span style=\"font-weight: bold\">]</span>,\n",
       "         <span style=\"font-weight: bold\">[</span> <span style=\"color: #008080; text-decoration-color: #008080; font-weight: bold\">-8.3189</span>, <span style=\"color: #008080; text-decoration-color: #008080; font-weight: bold\">-20.3482</span>,  <span style=\"color: #008080; text-decoration-color: #008080; font-weight: bold\">-7.1135</span>,  <span style=\"color: #808000; text-decoration-color: #808000\">...</span>, <span style=\"color: #008080; text-decoration-color: #008080; font-weight: bold\">-11.7622</span>, <span style=\"color: #008080; text-decoration-color: #008080; font-weight: bold\">-10.8580</span>, <span style=\"color: #008080; text-decoration-color: #008080; font-weight: bold\">-20.6634</span><span style=\"font-weight: bold\">]]]</span>,\n",
       "       <span style=\"color: #808000; text-decoration-color: #808000\">device</span>=<span style=\"color: #008000; text-decoration-color: #008000\">'cuda:0'</span>, <span style=\"color: #808000; text-decoration-color: #808000\">grad_fn</span>=<span style=\"font-weight: bold\">&lt;</span><span style=\"color: #ff00ff; text-decoration-color: #ff00ff; font-weight: bold\">LogSoftmaxBackward0</span><span style=\"font-weight: bold\">&gt;)</span>\n",
       "</pre>\n"
      ],
      "text/plain": [
       "\u001b[1;35mtensor\u001b[0m\u001b[1m(\u001b[0m\u001b[1m[\u001b[0m\u001b[1m[\u001b[0m\u001b[1m[\u001b[0m \u001b[1;36m-8.7843\u001b[0m, \u001b[1;36m-23.4744\u001b[0m,  \u001b[1;36m-7.8728\u001b[0m,  \u001b[33m...\u001b[0m,  \u001b[1;36m-9.8996\u001b[0m,  \u001b[1;36m-8.9301\u001b[0m, \u001b[1;36m-23.7590\u001b[0m\u001b[1m]\u001b[0m,\n",
       "         \u001b[1m[\u001b[0m \u001b[1;36m-8.4046\u001b[0m, \u001b[1;36m-20.3378\u001b[0m,  \u001b[1;36m-6.9796\u001b[0m,  \u001b[33m...\u001b[0m, \u001b[1;36m-12.0643\u001b[0m, \u001b[1;36m-10.9086\u001b[0m, \u001b[1;36m-20.6680\u001b[0m\u001b[1m]\u001b[0m,\n",
       "         \u001b[1m[\u001b[0m \u001b[1;36m-8.7818\u001b[0m, \u001b[1;36m-20.4882\u001b[0m,  \u001b[1;36m-6.9402\u001b[0m,  \u001b[33m...\u001b[0m, \u001b[1;36m-11.8595\u001b[0m, \u001b[1;36m-10.6349\u001b[0m, \u001b[1;36m-20.7679\u001b[0m\u001b[1m]\u001b[0m,\n",
       "         \u001b[33m...\u001b[0m,\n",
       "         \u001b[1m[\u001b[0m \u001b[1;36m-8.8496\u001b[0m, \u001b[1;36m-20.5733\u001b[0m,  \u001b[1;36m-6.9318\u001b[0m,  \u001b[33m...\u001b[0m, \u001b[1;36m-11.7799\u001b[0m, \u001b[1;36m-10.6018\u001b[0m, \u001b[1;36m-20.8412\u001b[0m\u001b[1m]\u001b[0m,\n",
       "         \u001b[1m[\u001b[0m \u001b[1;36m-8.7610\u001b[0m, \u001b[1;36m-20.6631\u001b[0m,  \u001b[1;36m-6.8582\u001b[0m,  \u001b[33m...\u001b[0m, \u001b[1;36m-11.7038\u001b[0m, \u001b[1;36m-10.5588\u001b[0m, \u001b[1;36m-20.8951\u001b[0m\u001b[1m]\u001b[0m,\n",
       "         \u001b[1m[\u001b[0m \u001b[1;36m-8.3189\u001b[0m, \u001b[1;36m-20.3482\u001b[0m,  \u001b[1;36m-7.1135\u001b[0m,  \u001b[33m...\u001b[0m, \u001b[1;36m-11.7622\u001b[0m, \u001b[1;36m-10.8580\u001b[0m, \u001b[1;36m-20.6634\u001b[0m\u001b[1m]\u001b[0m\u001b[1m]\u001b[0m\u001b[1m]\u001b[0m,\n",
       "       \u001b[33mdevice\u001b[0m=\u001b[32m'cuda:0'\u001b[0m, \u001b[33mgrad_fn\u001b[0m=\u001b[1m<\u001b[0m\u001b[1;95mLogSoftmaxBackward0\u001b[0m\u001b[1m>\u001b[0m\u001b[1m)\u001b[0m\n"
      ]
     },
     "metadata": {},
     "output_type": "display_data"
    },
    {
     "data": {
      "text/html": [
       "<pre style=\"white-space:pre;overflow-x:auto;line-height:normal;font-family:Menlo,'DejaVu Sans Mono',consolas,'Courier New',monospace\"><span style=\"color: #800080; text-decoration-color: #800080; font-weight: bold\">tensor</span><span style=\"font-weight: bold\">([[[</span> <span style=\"color: #008080; text-decoration-color: #008080; font-weight: bold\">-8.7843</span>, <span style=\"color: #008080; text-decoration-color: #008080; font-weight: bold\">-23.4744</span>,  <span style=\"color: #008080; text-decoration-color: #008080; font-weight: bold\">-7.8728</span>,  <span style=\"color: #808000; text-decoration-color: #808000\">...</span>,  <span style=\"color: #008080; text-decoration-color: #008080; font-weight: bold\">-9.8996</span>,  <span style=\"color: #008080; text-decoration-color: #008080; font-weight: bold\">-8.9301</span>, <span style=\"color: #008080; text-decoration-color: #008080; font-weight: bold\">-23.7590</span><span style=\"font-weight: bold\">]</span>,\n",
       "         <span style=\"font-weight: bold\">[</span> <span style=\"color: #008080; text-decoration-color: #008080; font-weight: bold\">-8.4046</span>, <span style=\"color: #008080; text-decoration-color: #008080; font-weight: bold\">-20.3378</span>,  <span style=\"color: #008080; text-decoration-color: #008080; font-weight: bold\">-6.9796</span>,  <span style=\"color: #808000; text-decoration-color: #808000\">...</span>, <span style=\"color: #008080; text-decoration-color: #008080; font-weight: bold\">-12.0643</span>, <span style=\"color: #008080; text-decoration-color: #008080; font-weight: bold\">-10.9086</span>, <span style=\"color: #008080; text-decoration-color: #008080; font-weight: bold\">-20.6680</span><span style=\"font-weight: bold\">]</span>,\n",
       "         <span style=\"font-weight: bold\">[</span> <span style=\"color: #008080; text-decoration-color: #008080; font-weight: bold\">-8.7818</span>, <span style=\"color: #008080; text-decoration-color: #008080; font-weight: bold\">-20.4882</span>,  <span style=\"color: #008080; text-decoration-color: #008080; font-weight: bold\">-6.9402</span>,  <span style=\"color: #808000; text-decoration-color: #808000\">...</span>, <span style=\"color: #008080; text-decoration-color: #008080; font-weight: bold\">-11.8595</span>, <span style=\"color: #008080; text-decoration-color: #008080; font-weight: bold\">-10.6349</span>, <span style=\"color: #008080; text-decoration-color: #008080; font-weight: bold\">-20.7679</span><span style=\"font-weight: bold\">]</span>,\n",
       "         <span style=\"color: #808000; text-decoration-color: #808000\">...</span>,\n",
       "         <span style=\"font-weight: bold\">[</span> <span style=\"color: #008080; text-decoration-color: #008080; font-weight: bold\">-8.7610</span>, <span style=\"color: #008080; text-decoration-color: #008080; font-weight: bold\">-20.6631</span>,  <span style=\"color: #008080; text-decoration-color: #008080; font-weight: bold\">-6.8582</span>,  <span style=\"color: #808000; text-decoration-color: #808000\">...</span>, <span style=\"color: #008080; text-decoration-color: #008080; font-weight: bold\">-11.7038</span>, <span style=\"color: #008080; text-decoration-color: #008080; font-weight: bold\">-10.5588</span>, <span style=\"color: #008080; text-decoration-color: #008080; font-weight: bold\">-20.8951</span><span style=\"font-weight: bold\">]</span>,\n",
       "         <span style=\"font-weight: bold\">[</span> <span style=\"color: #008080; text-decoration-color: #008080; font-weight: bold\">-8.3189</span>, <span style=\"color: #008080; text-decoration-color: #008080; font-weight: bold\">-20.3482</span>,  <span style=\"color: #008080; text-decoration-color: #008080; font-weight: bold\">-7.1135</span>,  <span style=\"color: #808000; text-decoration-color: #808000\">...</span>, <span style=\"color: #008080; text-decoration-color: #008080; font-weight: bold\">-11.7622</span>, <span style=\"color: #008080; text-decoration-color: #008080; font-weight: bold\">-10.8580</span>, <span style=\"color: #008080; text-decoration-color: #008080; font-weight: bold\">-20.6633</span><span style=\"font-weight: bold\">]</span>,\n",
       "         <span style=\"font-weight: bold\">[</span> <span style=\"color: #008080; text-decoration-color: #008080; font-weight: bold\">-8.0830</span>, <span style=\"color: #008080; text-decoration-color: #008080; font-weight: bold\">-20.4177</span>,  <span style=\"color: #008080; text-decoration-color: #008080; font-weight: bold\">-7.0105</span>,  <span style=\"color: #808000; text-decoration-color: #808000\">...</span>, <span style=\"color: #008080; text-decoration-color: #008080; font-weight: bold\">-11.8571</span>, <span style=\"color: #008080; text-decoration-color: #008080; font-weight: bold\">-10.6578</span>, <span style=\"color: #008080; text-decoration-color: #008080; font-weight: bold\">-20.7182</span><span style=\"font-weight: bold\">]]]</span>,\n",
       "       <span style=\"color: #808000; text-decoration-color: #808000\">device</span>=<span style=\"color: #008000; text-decoration-color: #008000\">'cuda:0'</span>, <span style=\"color: #808000; text-decoration-color: #808000\">grad_fn</span>=<span style=\"font-weight: bold\">&lt;</span><span style=\"color: #ff00ff; text-decoration-color: #ff00ff; font-weight: bold\">LogSoftmaxBackward0</span><span style=\"font-weight: bold\">&gt;)</span>\n",
       "</pre>\n"
      ],
      "text/plain": [
       "\u001b[1;35mtensor\u001b[0m\u001b[1m(\u001b[0m\u001b[1m[\u001b[0m\u001b[1m[\u001b[0m\u001b[1m[\u001b[0m \u001b[1;36m-8.7843\u001b[0m, \u001b[1;36m-23.4744\u001b[0m,  \u001b[1;36m-7.8728\u001b[0m,  \u001b[33m...\u001b[0m,  \u001b[1;36m-9.8996\u001b[0m,  \u001b[1;36m-8.9301\u001b[0m, \u001b[1;36m-23.7590\u001b[0m\u001b[1m]\u001b[0m,\n",
       "         \u001b[1m[\u001b[0m \u001b[1;36m-8.4046\u001b[0m, \u001b[1;36m-20.3378\u001b[0m,  \u001b[1;36m-6.9796\u001b[0m,  \u001b[33m...\u001b[0m, \u001b[1;36m-12.0643\u001b[0m, \u001b[1;36m-10.9086\u001b[0m, \u001b[1;36m-20.6680\u001b[0m\u001b[1m]\u001b[0m,\n",
       "         \u001b[1m[\u001b[0m \u001b[1;36m-8.7818\u001b[0m, \u001b[1;36m-20.4882\u001b[0m,  \u001b[1;36m-6.9402\u001b[0m,  \u001b[33m...\u001b[0m, \u001b[1;36m-11.8595\u001b[0m, \u001b[1;36m-10.6349\u001b[0m, \u001b[1;36m-20.7679\u001b[0m\u001b[1m]\u001b[0m,\n",
       "         \u001b[33m...\u001b[0m,\n",
       "         \u001b[1m[\u001b[0m \u001b[1;36m-8.7610\u001b[0m, \u001b[1;36m-20.6631\u001b[0m,  \u001b[1;36m-6.8582\u001b[0m,  \u001b[33m...\u001b[0m, \u001b[1;36m-11.7038\u001b[0m, \u001b[1;36m-10.5588\u001b[0m, \u001b[1;36m-20.8951\u001b[0m\u001b[1m]\u001b[0m,\n",
       "         \u001b[1m[\u001b[0m \u001b[1;36m-8.3189\u001b[0m, \u001b[1;36m-20.3482\u001b[0m,  \u001b[1;36m-7.1135\u001b[0m,  \u001b[33m...\u001b[0m, \u001b[1;36m-11.7622\u001b[0m, \u001b[1;36m-10.8580\u001b[0m, \u001b[1;36m-20.6633\u001b[0m\u001b[1m]\u001b[0m,\n",
       "         \u001b[1m[\u001b[0m \u001b[1;36m-8.0830\u001b[0m, \u001b[1;36m-20.4177\u001b[0m,  \u001b[1;36m-7.0105\u001b[0m,  \u001b[33m...\u001b[0m, \u001b[1;36m-11.8571\u001b[0m, \u001b[1;36m-10.6578\u001b[0m, \u001b[1;36m-20.7182\u001b[0m\u001b[1m]\u001b[0m\u001b[1m]\u001b[0m\u001b[1m]\u001b[0m,\n",
       "       \u001b[33mdevice\u001b[0m=\u001b[32m'cuda:0'\u001b[0m, \u001b[33mgrad_fn\u001b[0m=\u001b[1m<\u001b[0m\u001b[1;95mLogSoftmaxBackward0\u001b[0m\u001b[1m>\u001b[0m\u001b[1m)\u001b[0m\n"
      ]
     },
     "metadata": {},
     "output_type": "display_data"
    },
    {
     "data": {
      "text/html": [
       "<pre style=\"white-space:pre;overflow-x:auto;line-height:normal;font-family:Menlo,'DejaVu Sans Mono',consolas,'Courier New',monospace\"><span style=\"font-weight: bold\">&lt;</span><span style=\"color: #ff00ff; text-decoration-color: #ff00ff; font-weight: bold\">p</span><span style=\"font-weight: bold\">&gt;</span>An interesting paragraph&lt;<span style=\"color: #800080; text-decoration-color: #800080\">/</span><span style=\"color: #ff00ff; text-decoration-color: #ff00ff\">..</span>\n",
       "</pre>\n"
      ],
      "text/plain": [
       "\u001b[1m<\u001b[0m\u001b[1;95mp\u001b[0m\u001b[1m>\u001b[0mAn interesting paragraph<\u001b[35m/\u001b[0m\u001b[95m..\u001b[0m\n"
      ]
     },
     "metadata": {},
     "output_type": "display_data"
    },
    {
     "data": {
      "text/html": [
       "<pre style=\"white-space:pre;overflow-x:auto;line-height:normal;font-family:Menlo,'DejaVu Sans Mono',consolas,'Courier New',monospace\"><span style=\"color: #800080; text-decoration-color: #800080; font-weight: bold\">tensor</span><span style=\"font-weight: bold\">([[[</span> <span style=\"color: #008080; text-decoration-color: #008080; font-weight: bold\">-8.7843</span>, <span style=\"color: #008080; text-decoration-color: #008080; font-weight: bold\">-23.4744</span>,  <span style=\"color: #008080; text-decoration-color: #008080; font-weight: bold\">-7.8728</span>,  <span style=\"color: #808000; text-decoration-color: #808000\">...</span>,  <span style=\"color: #008080; text-decoration-color: #008080; font-weight: bold\">-9.8996</span>,  <span style=\"color: #008080; text-decoration-color: #008080; font-weight: bold\">-8.9301</span>, <span style=\"color: #008080; text-decoration-color: #008080; font-weight: bold\">-23.7590</span><span style=\"font-weight: bold\">]</span>,\n",
       "         <span style=\"font-weight: bold\">[</span> <span style=\"color: #008080; text-decoration-color: #008080; font-weight: bold\">-8.4046</span>, <span style=\"color: #008080; text-decoration-color: #008080; font-weight: bold\">-20.3378</span>,  <span style=\"color: #008080; text-decoration-color: #008080; font-weight: bold\">-6.9796</span>,  <span style=\"color: #808000; text-decoration-color: #808000\">...</span>, <span style=\"color: #008080; text-decoration-color: #008080; font-weight: bold\">-12.0643</span>, <span style=\"color: #008080; text-decoration-color: #008080; font-weight: bold\">-10.9086</span>, <span style=\"color: #008080; text-decoration-color: #008080; font-weight: bold\">-20.6680</span><span style=\"font-weight: bold\">]</span>,\n",
       "         <span style=\"font-weight: bold\">[</span> <span style=\"color: #008080; text-decoration-color: #008080; font-weight: bold\">-8.6591</span>, <span style=\"color: #008080; text-decoration-color: #008080; font-weight: bold\">-20.4304</span>,  <span style=\"color: #008080; text-decoration-color: #008080; font-weight: bold\">-7.0706</span>,  <span style=\"color: #808000; text-decoration-color: #808000\">...</span>, <span style=\"color: #008080; text-decoration-color: #008080; font-weight: bold\">-12.1221</span>, <span style=\"color: #008080; text-decoration-color: #008080; font-weight: bold\">-10.9129</span>, <span style=\"color: #008080; text-decoration-color: #008080; font-weight: bold\">-20.7090</span><span style=\"font-weight: bold\">]</span>,\n",
       "         <span style=\"color: #808000; text-decoration-color: #808000\">...</span>,\n",
       "         <span style=\"font-weight: bold\">[</span> <span style=\"color: #008080; text-decoration-color: #008080; font-weight: bold\">-8.6720</span>, <span style=\"color: #008080; text-decoration-color: #008080; font-weight: bold\">-20.3214</span>,  <span style=\"color: #008080; text-decoration-color: #008080; font-weight: bold\">-6.7866</span>,  <span style=\"color: #808000; text-decoration-color: #808000\">...</span>, <span style=\"color: #008080; text-decoration-color: #008080; font-weight: bold\">-11.4615</span>, <span style=\"color: #008080; text-decoration-color: #008080; font-weight: bold\">-10.5153</span>, <span style=\"color: #008080; text-decoration-color: #008080; font-weight: bold\">-20.6328</span><span style=\"font-weight: bold\">]</span>,\n",
       "         <span style=\"font-weight: bold\">[</span> <span style=\"color: #008080; text-decoration-color: #008080; font-weight: bold\">-8.9206</span>, <span style=\"color: #008080; text-decoration-color: #008080; font-weight: bold\">-20.8747</span>,  <span style=\"color: #008080; text-decoration-color: #008080; font-weight: bold\">-6.8948</span>,  <span style=\"color: #808000; text-decoration-color: #808000\">...</span>, <span style=\"color: #008080; text-decoration-color: #008080; font-weight: bold\">-11.6489</span>, <span style=\"color: #008080; text-decoration-color: #008080; font-weight: bold\">-10.4332</span>, <span style=\"color: #008080; text-decoration-color: #008080; font-weight: bold\">-21.2126</span><span style=\"font-weight: bold\">]</span>,\n",
       "         <span style=\"font-weight: bold\">[</span> <span style=\"color: #008080; text-decoration-color: #008080; font-weight: bold\">-8.8501</span>, <span style=\"color: #008080; text-decoration-color: #008080; font-weight: bold\">-20.4918</span>,  <span style=\"color: #008080; text-decoration-color: #008080; font-weight: bold\">-6.9361</span>,  <span style=\"color: #808000; text-decoration-color: #808000\">...</span>, <span style=\"color: #008080; text-decoration-color: #008080; font-weight: bold\">-11.7300</span>, <span style=\"color: #008080; text-decoration-color: #008080; font-weight: bold\">-10.5732</span>, <span style=\"color: #008080; text-decoration-color: #008080; font-weight: bold\">-20.7747</span><span style=\"font-weight: bold\">]]]</span>,\n",
       "       <span style=\"color: #808000; text-decoration-color: #808000\">device</span>=<span style=\"color: #008000; text-decoration-color: #008000\">'cuda:0'</span>, <span style=\"color: #808000; text-decoration-color: #808000\">grad_fn</span>=<span style=\"font-weight: bold\">&lt;</span><span style=\"color: #ff00ff; text-decoration-color: #ff00ff; font-weight: bold\">LogSoftmaxBackward0</span><span style=\"font-weight: bold\">&gt;)</span>\n",
       "</pre>\n"
      ],
      "text/plain": [
       "\u001b[1;35mtensor\u001b[0m\u001b[1m(\u001b[0m\u001b[1m[\u001b[0m\u001b[1m[\u001b[0m\u001b[1m[\u001b[0m \u001b[1;36m-8.7843\u001b[0m, \u001b[1;36m-23.4744\u001b[0m,  \u001b[1;36m-7.8728\u001b[0m,  \u001b[33m...\u001b[0m,  \u001b[1;36m-9.8996\u001b[0m,  \u001b[1;36m-8.9301\u001b[0m, \u001b[1;36m-23.7590\u001b[0m\u001b[1m]\u001b[0m,\n",
       "         \u001b[1m[\u001b[0m \u001b[1;36m-8.4046\u001b[0m, \u001b[1;36m-20.3378\u001b[0m,  \u001b[1;36m-6.9796\u001b[0m,  \u001b[33m...\u001b[0m, \u001b[1;36m-12.0643\u001b[0m, \u001b[1;36m-10.9086\u001b[0m, \u001b[1;36m-20.6680\u001b[0m\u001b[1m]\u001b[0m,\n",
       "         \u001b[1m[\u001b[0m \u001b[1;36m-8.6591\u001b[0m, \u001b[1;36m-20.4304\u001b[0m,  \u001b[1;36m-7.0706\u001b[0m,  \u001b[33m...\u001b[0m, \u001b[1;36m-12.1221\u001b[0m, \u001b[1;36m-10.9129\u001b[0m, \u001b[1;36m-20.7090\u001b[0m\u001b[1m]\u001b[0m,\n",
       "         \u001b[33m...\u001b[0m,\n",
       "         \u001b[1m[\u001b[0m \u001b[1;36m-8.6720\u001b[0m, \u001b[1;36m-20.3214\u001b[0m,  \u001b[1;36m-6.7866\u001b[0m,  \u001b[33m...\u001b[0m, \u001b[1;36m-11.4615\u001b[0m, \u001b[1;36m-10.5153\u001b[0m, \u001b[1;36m-20.6328\u001b[0m\u001b[1m]\u001b[0m,\n",
       "         \u001b[1m[\u001b[0m \u001b[1;36m-8.9206\u001b[0m, \u001b[1;36m-20.8747\u001b[0m,  \u001b[1;36m-6.8948\u001b[0m,  \u001b[33m...\u001b[0m, \u001b[1;36m-11.6489\u001b[0m, \u001b[1;36m-10.4332\u001b[0m, \u001b[1;36m-21.2126\u001b[0m\u001b[1m]\u001b[0m,\n",
       "         \u001b[1m[\u001b[0m \u001b[1;36m-8.8501\u001b[0m, \u001b[1;36m-20.4918\u001b[0m,  \u001b[1;36m-6.9361\u001b[0m,  \u001b[33m...\u001b[0m, \u001b[1;36m-11.7300\u001b[0m, \u001b[1;36m-10.5732\u001b[0m, \u001b[1;36m-20.7747\u001b[0m\u001b[1m]\u001b[0m\u001b[1m]\u001b[0m\u001b[1m]\u001b[0m,\n",
       "       \u001b[33mdevice\u001b[0m=\u001b[32m'cuda:0'\u001b[0m, \u001b[33mgrad_fn\u001b[0m=\u001b[1m<\u001b[0m\u001b[1;95mLogSoftmaxBackward0\u001b[0m\u001b[1m>\u001b[0m\u001b[1m)\u001b[0m\n"
      ]
     },
     "metadata": {},
     "output_type": "display_data"
    },
    {
     "data": {
      "text/html": [
       "<pre style=\"white-space:pre;overflow-x:auto;line-height:normal;font-family:Menlo,'DejaVu Sans Mono',consolas,'Courier New',monospace\"><span style=\"color: #800080; text-decoration-color: #800080; font-weight: bold\">tensor</span><span style=\"font-weight: bold\">([[[</span> <span style=\"color: #008080; text-decoration-color: #008080; font-weight: bold\">-8.7843</span>, <span style=\"color: #008080; text-decoration-color: #008080; font-weight: bold\">-23.4744</span>,  <span style=\"color: #008080; text-decoration-color: #008080; font-weight: bold\">-7.8728</span>,  <span style=\"color: #808000; text-decoration-color: #808000\">...</span>,  <span style=\"color: #008080; text-decoration-color: #008080; font-weight: bold\">-9.8996</span>,  <span style=\"color: #008080; text-decoration-color: #008080; font-weight: bold\">-8.9301</span>, <span style=\"color: #008080; text-decoration-color: #008080; font-weight: bold\">-23.7590</span><span style=\"font-weight: bold\">]</span>,\n",
       "         <span style=\"font-weight: bold\">[</span> <span style=\"color: #008080; text-decoration-color: #008080; font-weight: bold\">-8.4046</span>, <span style=\"color: #008080; text-decoration-color: #008080; font-weight: bold\">-20.3378</span>,  <span style=\"color: #008080; text-decoration-color: #008080; font-weight: bold\">-6.9796</span>,  <span style=\"color: #808000; text-decoration-color: #808000\">...</span>, <span style=\"color: #008080; text-decoration-color: #008080; font-weight: bold\">-12.0643</span>, <span style=\"color: #008080; text-decoration-color: #008080; font-weight: bold\">-10.9086</span>, <span style=\"color: #008080; text-decoration-color: #008080; font-weight: bold\">-20.6680</span><span style=\"font-weight: bold\">]</span>,\n",
       "         <span style=\"font-weight: bold\">[</span> <span style=\"color: #008080; text-decoration-color: #008080; font-weight: bold\">-8.6591</span>, <span style=\"color: #008080; text-decoration-color: #008080; font-weight: bold\">-20.4304</span>,  <span style=\"color: #008080; text-decoration-color: #008080; font-weight: bold\">-7.0706</span>,  <span style=\"color: #808000; text-decoration-color: #808000\">...</span>, <span style=\"color: #008080; text-decoration-color: #008080; font-weight: bold\">-12.1221</span>, <span style=\"color: #008080; text-decoration-color: #008080; font-weight: bold\">-10.9129</span>, <span style=\"color: #008080; text-decoration-color: #008080; font-weight: bold\">-20.7090</span><span style=\"font-weight: bold\">]</span>,\n",
       "         <span style=\"color: #808000; text-decoration-color: #808000\">...</span>,\n",
       "         <span style=\"font-weight: bold\">[</span> <span style=\"color: #008080; text-decoration-color: #008080; font-weight: bold\">-8.9206</span>, <span style=\"color: #008080; text-decoration-color: #008080; font-weight: bold\">-20.8747</span>,  <span style=\"color: #008080; text-decoration-color: #008080; font-weight: bold\">-6.8948</span>,  <span style=\"color: #808000; text-decoration-color: #808000\">...</span>, <span style=\"color: #008080; text-decoration-color: #008080; font-weight: bold\">-11.6489</span>, <span style=\"color: #008080; text-decoration-color: #008080; font-weight: bold\">-10.4332</span>, <span style=\"color: #008080; text-decoration-color: #008080; font-weight: bold\">-21.2126</span><span style=\"font-weight: bold\">]</span>,\n",
       "         <span style=\"font-weight: bold\">[</span> <span style=\"color: #008080; text-decoration-color: #008080; font-weight: bold\">-8.8501</span>, <span style=\"color: #008080; text-decoration-color: #008080; font-weight: bold\">-20.4918</span>,  <span style=\"color: #008080; text-decoration-color: #008080; font-weight: bold\">-6.9361</span>,  <span style=\"color: #808000; text-decoration-color: #808000\">...</span>, <span style=\"color: #008080; text-decoration-color: #008080; font-weight: bold\">-11.7300</span>, <span style=\"color: #008080; text-decoration-color: #008080; font-weight: bold\">-10.5732</span>, <span style=\"color: #008080; text-decoration-color: #008080; font-weight: bold\">-20.7747</span><span style=\"font-weight: bold\">]</span>,\n",
       "         <span style=\"font-weight: bold\">[</span> <span style=\"color: #008080; text-decoration-color: #008080; font-weight: bold\">-8.4829</span>, <span style=\"color: #008080; text-decoration-color: #008080; font-weight: bold\">-20.4679</span>,  <span style=\"color: #008080; text-decoration-color: #008080; font-weight: bold\">-6.9589</span>,  <span style=\"color: #808000; text-decoration-color: #808000\">...</span>, <span style=\"color: #008080; text-decoration-color: #008080; font-weight: bold\">-11.6720</span>, <span style=\"color: #008080; text-decoration-color: #008080; font-weight: bold\">-10.4814</span>, <span style=\"color: #008080; text-decoration-color: #008080; font-weight: bold\">-20.7486</span><span style=\"font-weight: bold\">]]]</span>,\n",
       "       <span style=\"color: #808000; text-decoration-color: #808000\">device</span>=<span style=\"color: #008000; text-decoration-color: #008000\">'cuda:0'</span>, <span style=\"color: #808000; text-decoration-color: #808000\">grad_fn</span>=<span style=\"font-weight: bold\">&lt;</span><span style=\"color: #ff00ff; text-decoration-color: #ff00ff; font-weight: bold\">LogSoftmaxBackward0</span><span style=\"font-weight: bold\">&gt;)</span>\n",
       "</pre>\n"
      ],
      "text/plain": [
       "\u001b[1;35mtensor\u001b[0m\u001b[1m(\u001b[0m\u001b[1m[\u001b[0m\u001b[1m[\u001b[0m\u001b[1m[\u001b[0m \u001b[1;36m-8.7843\u001b[0m, \u001b[1;36m-23.4744\u001b[0m,  \u001b[1;36m-7.8728\u001b[0m,  \u001b[33m...\u001b[0m,  \u001b[1;36m-9.8996\u001b[0m,  \u001b[1;36m-8.9301\u001b[0m, \u001b[1;36m-23.7590\u001b[0m\u001b[1m]\u001b[0m,\n",
       "         \u001b[1m[\u001b[0m \u001b[1;36m-8.4046\u001b[0m, \u001b[1;36m-20.3378\u001b[0m,  \u001b[1;36m-6.9796\u001b[0m,  \u001b[33m...\u001b[0m, \u001b[1;36m-12.0643\u001b[0m, \u001b[1;36m-10.9086\u001b[0m, \u001b[1;36m-20.6680\u001b[0m\u001b[1m]\u001b[0m,\n",
       "         \u001b[1m[\u001b[0m \u001b[1;36m-8.6591\u001b[0m, \u001b[1;36m-20.4304\u001b[0m,  \u001b[1;36m-7.0706\u001b[0m,  \u001b[33m...\u001b[0m, \u001b[1;36m-12.1221\u001b[0m, \u001b[1;36m-10.9129\u001b[0m, \u001b[1;36m-20.7090\u001b[0m\u001b[1m]\u001b[0m,\n",
       "         \u001b[33m...\u001b[0m,\n",
       "         \u001b[1m[\u001b[0m \u001b[1;36m-8.9206\u001b[0m, \u001b[1;36m-20.8747\u001b[0m,  \u001b[1;36m-6.8948\u001b[0m,  \u001b[33m...\u001b[0m, \u001b[1;36m-11.6489\u001b[0m, \u001b[1;36m-10.4332\u001b[0m, \u001b[1;36m-21.2126\u001b[0m\u001b[1m]\u001b[0m,\n",
       "         \u001b[1m[\u001b[0m \u001b[1;36m-8.8501\u001b[0m, \u001b[1;36m-20.4918\u001b[0m,  \u001b[1;36m-6.9361\u001b[0m,  \u001b[33m...\u001b[0m, \u001b[1;36m-11.7300\u001b[0m, \u001b[1;36m-10.5732\u001b[0m, \u001b[1;36m-20.7747\u001b[0m\u001b[1m]\u001b[0m,\n",
       "         \u001b[1m[\u001b[0m \u001b[1;36m-8.4829\u001b[0m, \u001b[1;36m-20.4679\u001b[0m,  \u001b[1;36m-6.9589\u001b[0m,  \u001b[33m...\u001b[0m, \u001b[1;36m-11.6720\u001b[0m, \u001b[1;36m-10.4814\u001b[0m, \u001b[1;36m-20.7486\u001b[0m\u001b[1m]\u001b[0m\u001b[1m]\u001b[0m\u001b[1m]\u001b[0m,\n",
       "       \u001b[33mdevice\u001b[0m=\u001b[32m'cuda:0'\u001b[0m, \u001b[33mgrad_fn\u001b[0m=\u001b[1m<\u001b[0m\u001b[1;95mLogSoftmaxBackward0\u001b[0m\u001b[1m>\u001b[0m\u001b[1m)\u001b[0m\n"
      ]
     },
     "metadata": {},
     "output_type": "display_data"
    },
    {
     "data": {
      "text/html": [
       "<pre style=\"white-space:pre;overflow-x:auto;line-height:normal;font-family:Menlo,'DejaVu Sans Mono',consolas,'Courier New',monospace\"><span style=\"font-weight: bold\">&lt;</span><span style=\"color: #ff00ff; text-decoration-color: #ff00ff; font-weight: bold\">table</span><span style=\"font-weight: bold\">&gt;&lt;</span><span style=\"color: #ff00ff; text-decoration-color: #ff00ff; font-weight: bold\">tr</span><span style=\"font-weight: bold\">&gt;&lt;</span><span style=\"color: #ff00ff; text-decoration-color: #ff00ff; font-weight: bold\">th</span><span style=\"font-weight: bold\">&gt;</span>Model name..\n",
       "</pre>\n"
      ],
      "text/plain": [
       "\u001b[1m<\u001b[0m\u001b[1;95mtable\u001b[0m\u001b[1m>\u001b[0m\u001b[1m<\u001b[0m\u001b[1;95mtr\u001b[0m\u001b[1m>\u001b[0m\u001b[1m<\u001b[0m\u001b[1;95mth\u001b[0m\u001b[1m>\u001b[0mModel name..\n"
      ]
     },
     "metadata": {},
     "output_type": "display_data"
    }
   ],
   "source": [
    "# Example prompts to run through the model\n",
    "prompts = [\n",
    "    \"<h1>Title\",\n",
    "    \"<b>Some bold text</\",\n",
    "    \"<p>An interesting paragraph</\",\n",
    "    \"<table><tr><th>Model name\"\n",
    "]\n",
    "\n",
    "# Run each prompt (with a few tokens appended by the model)\n",
    "for prompt in prompts:\n",
    "    result = prompt\n",
    "    \n",
    "    additional_tokens = 2\n",
    "    for i in range(additional_tokens):\n",
    "        next_token = get_next_token(result)\n",
    "        result = result + next_token\n",
    "        \n",
    "    print(result)"
   ]
  }
 ],
 "metadata": {
  "kernelspec": {
   "display_name": "Python 3 (ipykernel)",
   "language": "python",
   "name": "python3"
  },
  "language_info": {
   "codemirror_mode": {
    "name": "ipython",
    "version": 3
   },
   "file_extension": ".py",
   "mimetype": "text/x-python",
   "name": "python",
   "nbconvert_exporter": "python",
   "pygments_lexer": "ipython3",
   "version": "3.9.5"
  },
  "vscode": {
   "interpreter": {
    "hash": "f9f85f796d01129d0dd105a088854619f454435301f6ffec2fea96ecbd9be4ac"
   }
  }
 },
 "nbformat": 4,
 "nbformat_minor": 5
}
