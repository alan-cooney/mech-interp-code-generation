{
 "cells": [
  {
   "cell_type": "markdown",
   "id": "031e47c8-3024-4865-8fb3-6429af0f8bbf",
   "metadata": {},
   "source": [
    "# SoLU Circuits"
   ]
  },
  {
   "cell_type": "markdown",
   "id": "1cb718ae-d144-4c98-b3dc-0a230f8a46cc",
   "metadata": {
    "tags": []
   },
   "source": [
    "## Imports"
   ]
  },
  {
   "cell_type": "code",
   "execution_count": 1,
   "id": "08a22465-7f12-4158-bd35-721465c374e9",
   "metadata": {},
   "outputs": [],
   "source": [
    "import collections\n",
    "import copy\n",
    "import gc\n",
    "import itertools\n",
    "import json\n",
    "import math\n",
    "import os\n",
    "import pickle\n",
    "import random\n",
    "import sys\n",
    "import time\n",
    "from functools import partial\n",
    "from os import path\n",
    "from pathlib import Path\n",
    "from pprint import pprint\n",
    "\n",
    "import datasets\n",
    "import einops\n",
    "import gdown\n",
    "import matplotlib.pyplot as plt\n",
    "import numpy as np\n",
    "import pandas as pd\n",
    "import plotly.express as px\n",
    "import plotly.graph_objects as go\n",
    "import plotly.io as pio\n",
    "import pysvelte\n",
    "import torch\n",
    "import torch.nn as nn\n",
    "import torch.nn.functional as F\n",
    "import torch.optim as optim\n",
    "import tqdm.auto as tqdm\n",
    "import tqdm.notebook as tqdm\n",
    "import transformers\n",
    "import wandb\n",
    "from datasets import load_dataset\n",
    "from easy_transformer import EasyTransformer, EasyTransformerConfig\n",
    "from easy_transformer.EasyTransformer import Embed, Unembed, PosEmbed, LayerNorm, Attention, MLP, TransformerBlock\n",
    "from easy_transformer.hook_points import HookedRootModule, HookPoint\n",
    "from IPython.display import clear_output\n",
    "from rich import print\n",
    "from torch.utils.data import DataLoader\n",
    "from transformers import AutoConfig, AutoModelForCausalLM, AutoTokenizer\n",
    "\n",
    "# Fix for pysvelte import bug\n",
    "sys.path.append('/home/user/.local/lib/python3.9/site-packages/pysvelte')"
   ]
  },
  {
   "cell_type": "markdown",
   "id": "96fb5832-1076-4dea-aad6-cd12a30a2ea0",
   "metadata": {},
   "source": [
    "## Model"
   ]
  },
  {
   "cell_type": "markdown",
   "id": "9a8bc566-a58d-4395-b198-a3c42221ac2c",
   "metadata": {},
   "source": [
    "### Config"
   ]
  },
  {
   "cell_type": "code",
   "execution_count": 2,
   "id": "89b92a3b-4988-42f0-a03f-31af959d7856",
   "metadata": {},
   "outputs": [],
   "source": [
    "# EasyTransformerConfig settings\n",
    "cfg = {\n",
    "    'd_model': 1024,\n",
    "    'd_head': 64,\n",
    "    'n_layers': 1,\n",
    "    'n_ctx': 1024,\n",
    "    'd_vocab': 50278,\n",
    "    'use_attn_result': False,\n",
    "    'act_fn': 'solu_ln',\n",
    "    'eps': 1e-5,\n",
    "    # The trained model used LN everywhere, except for RMS just before \n",
    "    # the final unembedding. We switch to LNPre (folding in the weights/biases\n",
    "    # to the next weights), and then manually override the final RMS normalization\n",
    "    # to be RMSPre in the code below. See the 'Fold in weights and biases' section\n",
    "    # for more details.\n",
    "    'normalization_type': 'LN'\n",
    "}\n",
    "\n",
    "# Calculated settings\n",
    "cfg['n_heads'] = cfg['d_model']//cfg['d_head']\n",
    "cfg['d_mlp'] = 4 * cfg['d_model']\n",
    "\n",
    "# Custom settings not supported by EasyTransformer directly\n",
    "custom_cfg = {\n",
    "    'model_checkpoint_name': 'SoLU_1L_1024W_final_checkpoint.pth',\n",
    "    'device': 'cuda',\n",
    "}"
   ]
  },
  {
   "cell_type": "markdown",
   "id": "4b452093-651d-4ffd-900e-8bfc06382072",
   "metadata": {},
   "source": [
    "### Model Setup\n",
    "\n",
    "This uses the `EasyTransformer` components, where possible (as they can be configured identically to the code that was used for training)."
   ]
  },
  {
   "cell_type": "code",
   "execution_count": 3,
   "id": "f013bc5f-848b-4949-8fc5-32694887e777",
   "metadata": {},
   "outputs": [
    {
     "data": {
      "text/plain": [
       "Transformer(\n",
       "  (embed): Embed()\n",
       "  (hook_embed): HookPoint()\n",
       "  (pos_embed): PosEmbed()\n",
       "  (hook_pos_embed): HookPoint()\n",
       "  (norm): RMSNormPre(\n",
       "    (hook_scale): HookPoint()\n",
       "  )\n",
       "  (blocks): ModuleList(\n",
       "    (0): TransformerBlock(\n",
       "      (ln1): LayerNorm(\n",
       "        (hook_scale): HookPoint()\n",
       "        (hook_normalized): HookPoint()\n",
       "      )\n",
       "      (ln2): LayerNorm(\n",
       "        (hook_scale): HookPoint()\n",
       "        (hook_normalized): HookPoint()\n",
       "      )\n",
       "      (attn): Attention(\n",
       "        (hook_k): HookPoint()\n",
       "        (hook_q): HookPoint()\n",
       "        (hook_v): HookPoint()\n",
       "        (hook_z): HookPoint()\n",
       "        (hook_attn_scores): HookPoint()\n",
       "        (hook_attn): HookPoint()\n",
       "        (hook_result): HookPoint()\n",
       "      )\n",
       "      (mlp): MLP(\n",
       "        (hook_pre): HookPoint()\n",
       "        (hook_post): HookPoint()\n",
       "        (hook_post_ln): HookPoint()\n",
       "        (ln): LayerNorm(\n",
       "          (hook_scale): HookPoint()\n",
       "          (hook_normalized): HookPoint()\n",
       "        )\n",
       "      )\n",
       "      (hook_attn_out): HookPoint()\n",
       "      (hook_mlp_out): HookPoint()\n",
       "      (hook_resid_pre): HookPoint()\n",
       "      (hook_resid_mid): HookPoint()\n",
       "      (hook_resid_post): HookPoint()\n",
       "    )\n",
       "  )\n",
       "  (unembed): Unembed()\n",
       ")"
      ]
     },
     "execution_count": 3,
     "metadata": {},
     "output_type": "execute_result"
    }
   ],
   "source": [
    "class RMSNormPre(nn.Module):\n",
    "    \"\"\"RMS Pre Normalization\n",
    "    \n",
    "    This is RMS Normalization without the multiplation by a weights term, \n",
    "    as that has been folded into the next weights instead.\"\"\"\n",
    "\n",
    "    def __init__(self, cfg, length):\n",
    "        super().__init__()\n",
    "        self.cfg = cfg\n",
    "        self.eps = self.cfg['eps']\n",
    "        self.length = length\n",
    "        # self.w = nn.Parameter(torch.ones(length)) # Folded\n",
    "\n",
    "        # Adds a hook point for the normalization scale factor\n",
    "        self.hook_scale = HookPoint()  # [batch, pos]\n",
    "\n",
    "    def forward(self, x):\n",
    "        scale = self.hook_scale((x.pow(2).mean(-1, keepdim=True) +\n",
    "                                 self.eps).sqrt())  # [batch, pos, 1]\n",
    "        out = (x / scale) # * self.w # (don't multiply by weights as folded)\n",
    "        return out\n",
    "\n",
    "\n",
    "def loss_fn(logits, batch):\n",
    "    log_probs = F.log_softmax(logits[:, :-1], dim=-1)\n",
    "    pred_log_probs = torch.gather(log_probs, -1, batch[:, 1:, None])[..., 0]\n",
    "    return -pred_log_probs.mean()\n",
    "\n",
    "\n",
    "class Transformer(HookedRootModule):\n",
    "    def __init__(self, cfg, tokenizer):\n",
    "        super().__init__()\n",
    "\n",
    "        self.cfg = cfg\n",
    "        self.tokenizer = tokenizer\n",
    "\n",
    "        self.embed = Embed(self.cfg)\n",
    "        self.hook_embed = HookPoint()  # [batch, pos, d_model]\n",
    "\n",
    "        self.pos_embed = PosEmbed(self.cfg)\n",
    "        self.hook_pos_embed = HookPoint()  # [batch, pos, d_model]\n",
    "\n",
    "        # Switched to RMSNormPre as we've folded in the weights (was RMS in training)\n",
    "        self.norm = RMSNormPre(self.cfg, self.cfg['d_model'])\n",
    "\n",
    "        self.blocks = nn.ModuleList([TransformerBlock(\n",
    "            self.cfg, block_index) for block_index in range(self.cfg['n_layers'])])\n",
    "\n",
    "        self.unembed = Unembed(self.cfg)\n",
    "\n",
    "        # Gives each module a parameter with its name (relative to this root module)\n",
    "        # Needed for HookPoints to work\n",
    "        self.setup()\n",
    "\n",
    "    def forward(self, tokens, return_type='both', calc_logits=True):\n",
    "        # Input x is either a batch of tokens ([batch, pos]) or a text string\n",
    "        if type(tokens) == str:\n",
    "            # If text, convert to tokens (batch_size=1)\n",
    "            tokens = self.to_tokens(tokens)\n",
    "        embed = self.hook_embed(self.embed(tokens))  # [batch, pos, d_model]\n",
    "        pos_embed = self.hook_pos_embed(\n",
    "            self.pos_embed(tokens))  # [batch, pos, d_model]\n",
    "        \n",
    "        # We have to use this now as it can't be disabled with the standard Attention\n",
    "        # if custom_cfg['use_pos_resid']:\n",
    "        residual = embed + pos_embed  # [batch, pos, d_model]\n",
    "        # else:\n",
    "        #     residual = embed  # [batch, pos, d_model]\n",
    "        \n",
    "        for block in self.blocks:\n",
    "            # Note that each block includes skip connections, so we don't need\n",
    "            # residual + block(residual)\n",
    "            residual = block(residual)  # [batch, pos, d_model]\n",
    "        if not calc_logits:\n",
    "            # A flag to avoid calculating the logits - this significantly speeds up runtime on small models and reduces memory consumption, and can be used when we only want to get the activations, eg for finding max activating dataset examples.\n",
    "            return None\n",
    "        \n",
    "        # Norm the residual\n",
    "        residual = self.norm(residual)\n",
    "        \n",
    "        logits = self.unembed(residual)  # [batch, pos, d_vocab]\n",
    "        if return_type == 'both':\n",
    "            return (logits, loss_fn(logits, tokens))\n",
    "        elif return_type == 'logits':\n",
    "            return logits\n",
    "        elif return_type == 'loss':\n",
    "            return loss_fn(logits, tokens)\n",
    "\n",
    "    def to_tokens(self, text):\n",
    "        return self.tokenizer(self.tokenizer.bos_token+text, return_tensors='pt')['input_ids'].to(custom_cfg['device'])\n",
    "\n",
    "# Custom Tokenizer\n",
    "tokenizer = AutoTokenizer.from_pretrained('EleutherAI/gpt-neox-20b')\n",
    "pad_token = '<PAD>'\n",
    "tokenizer.add_special_tokens({'pad_token': pad_token})\n",
    "\n",
    "# Create the model\n",
    "model = Transformer(cfg, tokenizer)\n",
    "model.to(custom_cfg['device'])"
   ]
  },
  {
   "cell_type": "markdown",
   "id": "3708f5ca-51d5-4366-80c7-db4aa91fb880",
   "metadata": {},
   "source": [
    "### Load from the checkpoint"
   ]
  },
  {
   "cell_type": "markdown",
   "id": "c0797c77-e691-410b-ab95-45eba3faff3c",
   "metadata": {},
   "source": [
    "### Download Checkpoint"
   ]
  },
  {
   "cell_type": "code",
   "execution_count": 4,
   "id": "99cb296e-919e-4273-b375-89184849d5fd",
   "metadata": {},
   "outputs": [],
   "source": [
    "# Checkpoint provided by Neel Nanda\n",
    "checkpoint_url = \"https://drive.google.com/file/d/16bqEZg9Oq0WT2xOcNS1HJkmR7qB2G14o/view\"\n",
    "\n",
    "# Create the directory if it doesn't exist\n",
    "checkpoint_dir = \"/tmp/checkpoints\"\n",
    "os.makedirs(checkpoint_dir, exist_ok=True)\n",
    "\n",
    "# Download the checkpoint if it doesn't exist\n",
    "checkpoint_file = path.join(checkpoint_dir, custom_cfg['model_checkpoint_name'])\n",
    "if not path.exists(checkpoint_file):\n",
    "    gdown.download(checkpoint_url, checkpoint_file, quiet=False, fuzzy=True)"
   ]
  },
  {
   "cell_type": "markdown",
   "id": "3a163807-3abb-4483-90eb-927908430ff4",
   "metadata": {},
   "source": [
    "### Fold in weights and biases\n",
    "\n",
    "We fold the `LayerNorm` weights and biases in to the weights after them, for simplicty, as per [A Mathematical Framework for Transformer Circuits](https://transformer-circuits.pub/2021/framework/index.html#model-simplifications)."
   ]
  },
  {
   "cell_type": "code",
   "execution_count": 80,
   "id": "91633446-75f7-40dc-91f6-38d3f11cc861",
   "metadata": {},
   "outputs": [
    {
     "data": {
      "text/plain": [
       "torch.Size([2, 2])"
      ]
     },
     "execution_count": 80,
     "metadata": {},
     "output_type": "execute_result"
    }
   ],
   "source": [
    "a = torch.tensor([[1,1], [1,1]])\n",
    "a.size()           "
   ]
  },
  {
   "cell_type": "code",
   "execution_count": 81,
   "id": "7de15548-48ab-4ea7-a5c2-08b01635532c",
   "metadata": {},
   "outputs": [
    {
     "data": {
      "text/plain": [
       "torch.Size([2])"
      ]
     },
     "execution_count": 81,
     "metadata": {},
     "output_type": "execute_result"
    }
   ],
   "source": [
    "b = torch.tensor([2,2])\n",
    "b.size()"
   ]
  },
  {
   "cell_type": "code",
   "execution_count": 82,
   "id": "5be3b09b-6490-4f26-8dca-77c75b5e5310",
   "metadata": {},
   "outputs": [
    {
     "data": {
      "text/plain": [
       "tensor([[2, 2],\n",
       "        [2, 2]])"
      ]
     },
     "execution_count": 82,
     "metadata": {},
     "output_type": "execute_result"
    }
   ],
   "source": [
    "a * b"
   ]
  },
  {
   "cell_type": "code",
   "execution_count": 107,
   "id": "7d8dd564-de63-400b-a51b-a9cc0ee99a1f",
   "metadata": {},
   "outputs": [
    {
     "data": {
      "text/html": [
       "<pre style=\"white-space:pre;overflow-x:auto;line-height:normal;font-family:Menlo,'DejaVu Sans Mono',consolas,'Courier New',monospace\"><span style=\"color: #800080; text-decoration-color: #800080; font-weight: bold\">odict_keys</span><span style=\"font-weight: bold\">([</span><span style=\"color: #008000; text-decoration-color: #008000\">'embed.W_E'</span>, <span style=\"color: #008000; text-decoration-color: #008000\">'pos_embed.W_pos'</span>, <span style=\"color: #008000; text-decoration-color: #008000\">'norm.w'</span>, <span style=\"color: #008000; text-decoration-color: #008000\">'blocks.0.norm1.w'</span>, <span style=\"color: #008000; text-decoration-color: #008000\">'blocks.0.norm1.b'</span>, <span style=\"color: #008000; text-decoration-color: #008000\">'blocks.0.norm2.w'</span>, \n",
       "<span style=\"color: #008000; text-decoration-color: #008000\">'blocks.0.norm2.b'</span>, <span style=\"color: #008000; text-decoration-color: #008000\">'blocks.0.attn.W_Q'</span>, <span style=\"color: #008000; text-decoration-color: #008000\">'blocks.0.attn.b_Q'</span>, <span style=\"color: #008000; text-decoration-color: #008000\">'blocks.0.attn.W_K'</span>, <span style=\"color: #008000; text-decoration-color: #008000\">'blocks.0.attn.b_K'</span>, \n",
       "<span style=\"color: #008000; text-decoration-color: #008000\">'blocks.0.attn.W_V'</span>, <span style=\"color: #008000; text-decoration-color: #008000\">'blocks.0.attn.b_V'</span>, <span style=\"color: #008000; text-decoration-color: #008000\">'blocks.0.attn.W_O'</span>, <span style=\"color: #008000; text-decoration-color: #008000\">'blocks.0.attn.b_O'</span>, <span style=\"color: #008000; text-decoration-color: #008000\">'blocks.0.attn.mask'</span>, \n",
       "<span style=\"color: #008000; text-decoration-color: #008000\">'blocks.0.attn.IGNORE'</span>, <span style=\"color: #008000; text-decoration-color: #008000\">'blocks.0.mlp.W_in'</span>, <span style=\"color: #008000; text-decoration-color: #008000\">'blocks.0.mlp.b_in'</span>, <span style=\"color: #008000; text-decoration-color: #008000\">'blocks.0.mlp.W_out'</span>, <span style=\"color: #008000; text-decoration-color: #008000\">'blocks.0.mlp.b_out'</span>, \n",
       "<span style=\"color: #008000; text-decoration-color: #008000\">'blocks.0.mlp.ln.w'</span>, <span style=\"color: #008000; text-decoration-color: #008000\">'blocks.0.mlp.ln.b'</span>, <span style=\"color: #008000; text-decoration-color: #008000\">'unembed.W_U'</span><span style=\"font-weight: bold\">])</span>\n",
       "</pre>\n"
      ],
      "text/plain": [
       "\u001b[1;35modict_keys\u001b[0m\u001b[1m(\u001b[0m\u001b[1m[\u001b[0m\u001b[32m'embed.W_E'\u001b[0m, \u001b[32m'pos_embed.W_pos'\u001b[0m, \u001b[32m'norm.w'\u001b[0m, \u001b[32m'blocks.0.norm1.w'\u001b[0m, \u001b[32m'blocks.0.norm1.b'\u001b[0m, \u001b[32m'blocks.0.norm2.w'\u001b[0m, \n",
       "\u001b[32m'blocks.0.norm2.b'\u001b[0m, \u001b[32m'blocks.0.attn.W_Q'\u001b[0m, \u001b[32m'blocks.0.attn.b_Q'\u001b[0m, \u001b[32m'blocks.0.attn.W_K'\u001b[0m, \u001b[32m'blocks.0.attn.b_K'\u001b[0m, \n",
       "\u001b[32m'blocks.0.attn.W_V'\u001b[0m, \u001b[32m'blocks.0.attn.b_V'\u001b[0m, \u001b[32m'blocks.0.attn.W_O'\u001b[0m, \u001b[32m'blocks.0.attn.b_O'\u001b[0m, \u001b[32m'blocks.0.attn.mask'\u001b[0m, \n",
       "\u001b[32m'blocks.0.attn.IGNORE'\u001b[0m, \u001b[32m'blocks.0.mlp.W_in'\u001b[0m, \u001b[32m'blocks.0.mlp.b_in'\u001b[0m, \u001b[32m'blocks.0.mlp.W_out'\u001b[0m, \u001b[32m'blocks.0.mlp.b_out'\u001b[0m, \n",
       "\u001b[32m'blocks.0.mlp.ln.w'\u001b[0m, \u001b[32m'blocks.0.mlp.ln.b'\u001b[0m, \u001b[32m'unembed.W_U'\u001b[0m\u001b[1m]\u001b[0m\u001b[1m)\u001b[0m\n"
      ]
     },
     "metadata": {},
     "output_type": "display_data"
    },
    {
     "data": {
      "text/plain": [
       "<All keys matched successfully>"
      ]
     },
     "execution_count": 107,
     "metadata": {},
     "output_type": "execute_result"
    }
   ],
   "source": [
    "# Get the state dictionary from the checkpoint\n",
    "sd = torch.load(checkpoint_file)\n",
    "print(sd.keys())\n",
    "\n",
    "# Fold in layer normalization weights & biases, for each layer (just one in the toy example)\n",
    "for layer in range(cfg['n_layers']):\n",
    "    # Pre-attention layer norm weights -> Query/Key/Value weights\n",
    "    pre_ln_w = sd[f\"blocks.{layer}.norm1.w\"]\n",
    "    W_Q_old = sd[f\"blocks.{layer}.attn.W_Q\"]\n",
    "    W_K_old = sd[f\"blocks.{layer}.attn.W_K\"]\n",
    "    W_V_old = sd[f\"blocks.{layer}.attn.W_V\"]\n",
    "    sd[f\"blocks.{layer}.attn.W_Q\"] = W_Q_old * pre_ln_w\n",
    "    sd[f\"blocks.{layer}.attn.W_K\"] = W_K_old * pre_ln_w\n",
    "    sd[f\"blocks.{layer}.attn.W_V\"] = W_V_old * pre_ln_w\n",
    "    \n",
    "    # Pre-attention layer norm biases -> Query/Key/Value biases\n",
    "    pre_ln_b = sd[f\"blocks.{layer}.norm1.b\"]\n",
    "    sd[f\"blocks.{layer}.attn.b_Q\"] = W_Q_old @ pre_ln_b + sd[f\"blocks.{layer}.attn.b_Q\"]\n",
    "    sd[f\"blocks.{layer}.attn.b_K\"] = W_K_old @ pre_ln_b + sd[f\"blocks.{layer}.attn.b_K\"]\n",
    "    sd[f\"blocks.{layer}.attn.b_V\"] = W_V_old @ pre_ln_b + sd[f\"blocks.{layer}.attn.b_V\"]\n",
    "    \n",
    "    # Post-attention layer weights/biases -> MLP weights/biases\n",
    "    W_in_old = sd[f\"blocks.{layer}.mlp.W_in\"]\n",
    "    sd[f\"blocks.{layer}.mlp.W_in\"] = W_in_old * sd[f\"blocks.{layer}.norm2.w\"]\n",
    "    sd[f\"blocks.{layer}.mlp.b_in\"] = W_in_old @ sd[f\"blocks.{layer}.norm2.b\"] \\\n",
    "                                        + sd[f\"blocks.{layer}.mlp.b_in\"]\n",
    "    \n",
    "#     # Delete the weights/biases that are no longer used (as they're folded in)\n",
    "#     del sd[f\"blocks.{layer}.norm1.w\"]\n",
    "#     del sd[f\"blocks.{layer}.norm1.b\"]\n",
    "#     del sd[f\"blocks.{layer}.norm2.w\"]\n",
    "#     del sd[f\"blocks.{layer}.norm2.b\"]\n",
    "\n",
    "    # TODO delete\n",
    "    sd['blocks.0.ln1.w'] = sd['blocks.0.norm1.w']\n",
    "    sd['blocks.0.ln1.b'] = sd['blocks.0.norm1.b']\n",
    "    sd['blocks.0.ln2.w'] = sd['blocks.0.norm2.w']\n",
    "    sd['blocks.0.ln2.b'] = sd['blocks.0.norm2.b']\n",
    "    del sd['blocks.0.norm1.w']\n",
    "    del sd['blocks.0.norm1.b']\n",
    "    del sd['blocks.0.norm2.w']\n",
    "    del sd['blocks.0.norm2.b']\n",
    "    \n",
    "    # TODO delete\n",
    "    sd['blocks.0.ln1.w'] = torch.ones_like(sd['blocks.0.ln1.w'])\n",
    "    sd['blocks.0.ln1.b'] = torch.zeros_like(sd['blocks.0.ln1.b'])\n",
    "    sd['blocks.0.ln2.b'] = torch.zeros_like(sd['blocks.0.ln1.b'])\n",
    "    sd['blocks.0.ln2.w'] = torch.ones_like(sd['blocks.0.ln2.w'])\n",
    "\n",
    "# Fold the post-blocks (pre-unembed) RMS norm weights -> unembed weights\n",
    "sd[\"unembed.W_U\"] *= sd[\"norm.w\"]\n",
    "del sd[\"norm.w\"] # Delete as no longer used (folded in)\n",
    "    \n",
    "# EasyTransformer has an additional bias term for the unembedding, so we simply set it to zero.\n",
    "sd[\"unembed.b_U\"] = torch.zeros(cfg['d_vocab'])\n",
    "\n",
    "# Load the state dict into the model\n",
    "model.load_state_dict(sd)"
   ]
  },
  {
   "cell_type": "markdown",
   "id": "0c046113-3580-4e37-9dcf-2a836a6f67dc",
   "metadata": {},
   "source": [
    "### Load the checkpoint"
   ]
  },
  {
   "cell_type": "markdown",
   "id": "a0ba7396-663b-4401-aaec-ef7762b5ea73",
   "metadata": {},
   "source": [
    "## Find interesting activations\n",
    "\n",
    "A 1-layer model without an MLP can't do much more than skip trigrams. Whilst the MLP layer added may improve this a little, the prompts will still need to have quite simple answers.\n",
    "\n",
    "In this case we'll look for the ability of the model to close HTML tags. As an simple overview of how HTML tags work, whenever a tag is used (e.g. `<b>` for bold) it must be closed when you no longer want it to apply (e.g. `<b>bold text</b> normal text`).\n",
    "\n",
    "Note that `</` is a single token - so we can't use `<` as the last token and expect to see `\\`."
   ]
  },
  {
   "cell_type": "code",
   "execution_count": 108,
   "id": "3402d3fe-e412-4fcd-9bf8-a58c69467d06",
   "metadata": {},
   "outputs": [],
   "source": [
    "def get_next_token(prompt: str) -> str:\n",
    "    \"\"\"Run a forward pass to get the next token\"\"\"\n",
    "    logits = model(prompt)[0]\n",
    "    log_probabilities = F.log_softmax(logits, dim=-1)\n",
    "    predictions = torch.argmax(log_probabilities, 2)\n",
    "    print(log_probabilities)\n",
    "    next_token = [model.tokenizer.decode(t) for t in predictions.squeeze()][-1]\n",
    "    return next_token"
   ]
  },
  {
   "cell_type": "code",
   "execution_count": 109,
   "id": "8c8b608e-250b-499a-802b-887775d0bda2",
   "metadata": {},
   "outputs": [
    {
     "data": {
      "text/html": [
       "<pre style=\"white-space:pre;overflow-x:auto;line-height:normal;font-family:Menlo,'DejaVu Sans Mono',consolas,'Courier New',monospace\"><span style=\"color: #800080; text-decoration-color: #800080; font-weight: bold\">tensor</span><span style=\"font-weight: bold\">([[[</span> <span style=\"color: #008080; text-decoration-color: #008080; font-weight: bold\">-7.2643</span>, <span style=\"color: #008080; text-decoration-color: #008080; font-weight: bold\">-19.5709</span>,  <span style=\"color: #008080; text-decoration-color: #008080; font-weight: bold\">-7.6404</span>,  <span style=\"color: #808000; text-decoration-color: #808000\">...</span>,  <span style=\"color: #008080; text-decoration-color: #008080; font-weight: bold\">-6.9616</span>,  <span style=\"color: #008080; text-decoration-color: #008080; font-weight: bold\">-5.8950</span>, <span style=\"color: #008080; text-decoration-color: #008080; font-weight: bold\">-19.6222</span><span style=\"font-weight: bold\">]</span>,\n",
       "         <span style=\"font-weight: bold\">[</span><span style=\"color: #008080; text-decoration-color: #008080; font-weight: bold\">-11.4722</span>, <span style=\"color: #008080; text-decoration-color: #008080; font-weight: bold\">-20.6810</span>,  <span style=\"color: #008080; text-decoration-color: #008080; font-weight: bold\">-8.7006</span>,  <span style=\"color: #808000; text-decoration-color: #808000\">...</span>,  <span style=\"color: #008080; text-decoration-color: #008080; font-weight: bold\">-9.4812</span>, <span style=\"color: #008080; text-decoration-color: #008080; font-weight: bold\">-10.1366</span>, <span style=\"color: #008080; text-decoration-color: #008080; font-weight: bold\">-21.0686</span><span style=\"font-weight: bold\">]</span>,\n",
       "         <span style=\"font-weight: bold\">[</span><span style=\"color: #008080; text-decoration-color: #008080; font-weight: bold\">-16.6308</span>, <span style=\"color: #008080; text-decoration-color: #008080; font-weight: bold\">-23.1295</span>, <span style=\"color: #008080; text-decoration-color: #008080; font-weight: bold\">-12.1904</span>,  <span style=\"color: #808000; text-decoration-color: #808000\">...</span>, <span style=\"color: #008080; text-decoration-color: #008080; font-weight: bold\">-16.3662</span>, <span style=\"color: #008080; text-decoration-color: #008080; font-weight: bold\">-12.5509</span>, <span style=\"color: #008080; text-decoration-color: #008080; font-weight: bold\">-23.5765</span><span style=\"font-weight: bold\">]</span>,\n",
       "         <span style=\"font-weight: bold\">[</span><span style=\"color: #008080; text-decoration-color: #008080; font-weight: bold\">-12.0080</span>, <span style=\"color: #008080; text-decoration-color: #008080; font-weight: bold\">-22.5394</span>, <span style=\"color: #008080; text-decoration-color: #008080; font-weight: bold\">-11.4399</span>,  <span style=\"color: #808000; text-decoration-color: #808000\">...</span>, <span style=\"color: #008080; text-decoration-color: #008080; font-weight: bold\">-12.3228</span>,  <span style=\"color: #008080; text-decoration-color: #008080; font-weight: bold\">-7.4109</span>, <span style=\"color: #008080; text-decoration-color: #008080; font-weight: bold\">-22.3277</span><span style=\"font-weight: bold\">]</span>,\n",
       "         <span style=\"font-weight: bold\">[</span> <span style=\"color: #008080; text-decoration-color: #008080; font-weight: bold\">-9.5443</span>, <span style=\"color: #008080; text-decoration-color: #008080; font-weight: bold\">-19.5178</span>,  <span style=\"color: #008080; text-decoration-color: #008080; font-weight: bold\">-7.8597</span>,  <span style=\"color: #808000; text-decoration-color: #808000\">...</span>,  <span style=\"color: #008080; text-decoration-color: #008080; font-weight: bold\">-7.0011</span>,  <span style=\"color: #008080; text-decoration-color: #008080; font-weight: bold\">-6.0493</span>, <span style=\"color: #008080; text-decoration-color: #008080; font-weight: bold\">-20.0432</span><span style=\"font-weight: bold\">]</span>,\n",
       "         <span style=\"font-weight: bold\">[</span><span style=\"color: #008080; text-decoration-color: #008080; font-weight: bold\">-12.4970</span>, <span style=\"color: #008080; text-decoration-color: #008080; font-weight: bold\">-23.8565</span>,  <span style=\"color: #008080; text-decoration-color: #008080; font-weight: bold\">-7.3582</span>,  <span style=\"color: #808000; text-decoration-color: #808000\">...</span>,  <span style=\"color: #008080; text-decoration-color: #008080; font-weight: bold\">-9.7278</span>,  <span style=\"color: #008080; text-decoration-color: #008080; font-weight: bold\">-9.1797</span>, <span style=\"color: #008080; text-decoration-color: #008080; font-weight: bold\">-23.9273</span><span style=\"font-weight: bold\">]]]</span>,\n",
       "       <span style=\"color: #808000; text-decoration-color: #808000\">device</span>=<span style=\"color: #008000; text-decoration-color: #008000\">'cuda:0'</span>, <span style=\"color: #808000; text-decoration-color: #808000\">grad_fn</span>=<span style=\"font-weight: bold\">&lt;</span><span style=\"color: #ff00ff; text-decoration-color: #ff00ff; font-weight: bold\">LogSoftmaxBackward0</span><span style=\"font-weight: bold\">&gt;)</span>\n",
       "</pre>\n"
      ],
      "text/plain": [
       "\u001b[1;35mtensor\u001b[0m\u001b[1m(\u001b[0m\u001b[1m[\u001b[0m\u001b[1m[\u001b[0m\u001b[1m[\u001b[0m \u001b[1;36m-7.2643\u001b[0m, \u001b[1;36m-19.5709\u001b[0m,  \u001b[1;36m-7.6404\u001b[0m,  \u001b[33m...\u001b[0m,  \u001b[1;36m-6.9616\u001b[0m,  \u001b[1;36m-5.8950\u001b[0m, \u001b[1;36m-19.6222\u001b[0m\u001b[1m]\u001b[0m,\n",
       "         \u001b[1m[\u001b[0m\u001b[1;36m-11.4722\u001b[0m, \u001b[1;36m-20.6810\u001b[0m,  \u001b[1;36m-8.7006\u001b[0m,  \u001b[33m...\u001b[0m,  \u001b[1;36m-9.4812\u001b[0m, \u001b[1;36m-10.1366\u001b[0m, \u001b[1;36m-21.0686\u001b[0m\u001b[1m]\u001b[0m,\n",
       "         \u001b[1m[\u001b[0m\u001b[1;36m-16.6308\u001b[0m, \u001b[1;36m-23.1295\u001b[0m, \u001b[1;36m-12.1904\u001b[0m,  \u001b[33m...\u001b[0m, \u001b[1;36m-16.3662\u001b[0m, \u001b[1;36m-12.5509\u001b[0m, \u001b[1;36m-23.5765\u001b[0m\u001b[1m]\u001b[0m,\n",
       "         \u001b[1m[\u001b[0m\u001b[1;36m-12.0080\u001b[0m, \u001b[1;36m-22.5394\u001b[0m, \u001b[1;36m-11.4399\u001b[0m,  \u001b[33m...\u001b[0m, \u001b[1;36m-12.3228\u001b[0m,  \u001b[1;36m-7.4109\u001b[0m, \u001b[1;36m-22.3277\u001b[0m\u001b[1m]\u001b[0m,\n",
       "         \u001b[1m[\u001b[0m \u001b[1;36m-9.5443\u001b[0m, \u001b[1;36m-19.5178\u001b[0m,  \u001b[1;36m-7.8597\u001b[0m,  \u001b[33m...\u001b[0m,  \u001b[1;36m-7.0011\u001b[0m,  \u001b[1;36m-6.0493\u001b[0m, \u001b[1;36m-20.0432\u001b[0m\u001b[1m]\u001b[0m,\n",
       "         \u001b[1m[\u001b[0m\u001b[1;36m-12.4970\u001b[0m, \u001b[1;36m-23.8565\u001b[0m,  \u001b[1;36m-7.3582\u001b[0m,  \u001b[33m...\u001b[0m,  \u001b[1;36m-9.7278\u001b[0m,  \u001b[1;36m-9.1797\u001b[0m, \u001b[1;36m-23.9273\u001b[0m\u001b[1m]\u001b[0m\u001b[1m]\u001b[0m\u001b[1m]\u001b[0m,\n",
       "       \u001b[33mdevice\u001b[0m=\u001b[32m'cuda:0'\u001b[0m, \u001b[33mgrad_fn\u001b[0m=\u001b[1m<\u001b[0m\u001b[1;95mLogSoftmaxBackward0\u001b[0m\u001b[1m>\u001b[0m\u001b[1m)\u001b[0m\n"
      ]
     },
     "metadata": {},
     "output_type": "display_data"
    },
    {
     "data": {
      "text/html": [
       "<pre style=\"white-space:pre;overflow-x:auto;line-height:normal;font-family:Menlo,'DejaVu Sans Mono',consolas,'Courier New',monospace\"><span style=\"color: #800080; text-decoration-color: #800080; font-weight: bold\">tensor</span><span style=\"font-weight: bold\">([[[</span> <span style=\"color: #008080; text-decoration-color: #008080; font-weight: bold\">-7.2643</span>, <span style=\"color: #008080; text-decoration-color: #008080; font-weight: bold\">-19.5709</span>,  <span style=\"color: #008080; text-decoration-color: #008080; font-weight: bold\">-7.6404</span>,  <span style=\"color: #808000; text-decoration-color: #808000\">...</span>,  <span style=\"color: #008080; text-decoration-color: #008080; font-weight: bold\">-6.9616</span>,  <span style=\"color: #008080; text-decoration-color: #008080; font-weight: bold\">-5.8950</span>, <span style=\"color: #008080; text-decoration-color: #008080; font-weight: bold\">-19.6222</span><span style=\"font-weight: bold\">]</span>,\n",
       "         <span style=\"font-weight: bold\">[</span><span style=\"color: #008080; text-decoration-color: #008080; font-weight: bold\">-11.4722</span>, <span style=\"color: #008080; text-decoration-color: #008080; font-weight: bold\">-20.6810</span>,  <span style=\"color: #008080; text-decoration-color: #008080; font-weight: bold\">-8.7006</span>,  <span style=\"color: #808000; text-decoration-color: #808000\">...</span>,  <span style=\"color: #008080; text-decoration-color: #008080; font-weight: bold\">-9.4812</span>, <span style=\"color: #008080; text-decoration-color: #008080; font-weight: bold\">-10.1366</span>, <span style=\"color: #008080; text-decoration-color: #008080; font-weight: bold\">-21.0686</span><span style=\"font-weight: bold\">]</span>,\n",
       "         <span style=\"font-weight: bold\">[</span><span style=\"color: #008080; text-decoration-color: #008080; font-weight: bold\">-16.6308</span>, <span style=\"color: #008080; text-decoration-color: #008080; font-weight: bold\">-23.1295</span>, <span style=\"color: #008080; text-decoration-color: #008080; font-weight: bold\">-12.1904</span>,  <span style=\"color: #808000; text-decoration-color: #808000\">...</span>, <span style=\"color: #008080; text-decoration-color: #008080; font-weight: bold\">-16.3662</span>, <span style=\"color: #008080; text-decoration-color: #008080; font-weight: bold\">-12.5509</span>, <span style=\"color: #008080; text-decoration-color: #008080; font-weight: bold\">-23.5765</span><span style=\"font-weight: bold\">]</span>,\n",
       "         <span style=\"color: #808000; text-decoration-color: #808000\">...</span>,\n",
       "         <span style=\"font-weight: bold\">[</span> <span style=\"color: #008080; text-decoration-color: #008080; font-weight: bold\">-9.5443</span>, <span style=\"color: #008080; text-decoration-color: #008080; font-weight: bold\">-19.5178</span>,  <span style=\"color: #008080; text-decoration-color: #008080; font-weight: bold\">-7.8597</span>,  <span style=\"color: #808000; text-decoration-color: #808000\">...</span>,  <span style=\"color: #008080; text-decoration-color: #008080; font-weight: bold\">-7.0011</span>,  <span style=\"color: #008080; text-decoration-color: #008080; font-weight: bold\">-6.0493</span>, <span style=\"color: #008080; text-decoration-color: #008080; font-weight: bold\">-20.0432</span><span style=\"font-weight: bold\">]</span>,\n",
       "         <span style=\"font-weight: bold\">[</span><span style=\"color: #008080; text-decoration-color: #008080; font-weight: bold\">-12.4970</span>, <span style=\"color: #008080; text-decoration-color: #008080; font-weight: bold\">-23.8565</span>,  <span style=\"color: #008080; text-decoration-color: #008080; font-weight: bold\">-7.3582</span>,  <span style=\"color: #808000; text-decoration-color: #808000\">...</span>,  <span style=\"color: #008080; text-decoration-color: #008080; font-weight: bold\">-9.7278</span>,  <span style=\"color: #008080; text-decoration-color: #008080; font-weight: bold\">-9.1797</span>, <span style=\"color: #008080; text-decoration-color: #008080; font-weight: bold\">-23.9273</span><span style=\"font-weight: bold\">]</span>,\n",
       "         <span style=\"font-weight: bold\">[</span><span style=\"color: #008080; text-decoration-color: #008080; font-weight: bold\">-18.8360</span>, <span style=\"color: #008080; text-decoration-color: #008080; font-weight: bold\">-27.2806</span>, <span style=\"color: #008080; text-decoration-color: #008080; font-weight: bold\">-16.6053</span>,  <span style=\"color: #808000; text-decoration-color: #808000\">...</span>, <span style=\"color: #008080; text-decoration-color: #008080; font-weight: bold\">-17.5457</span>, <span style=\"color: #008080; text-decoration-color: #008080; font-weight: bold\">-17.6242</span>, <span style=\"color: #008080; text-decoration-color: #008080; font-weight: bold\">-27.1999</span><span style=\"font-weight: bold\">]]]</span>,\n",
       "       <span style=\"color: #808000; text-decoration-color: #808000\">device</span>=<span style=\"color: #008000; text-decoration-color: #008000\">'cuda:0'</span>, <span style=\"color: #808000; text-decoration-color: #808000\">grad_fn</span>=<span style=\"font-weight: bold\">&lt;</span><span style=\"color: #ff00ff; text-decoration-color: #ff00ff; font-weight: bold\">LogSoftmaxBackward0</span><span style=\"font-weight: bold\">&gt;)</span>\n",
       "</pre>\n"
      ],
      "text/plain": [
       "\u001b[1;35mtensor\u001b[0m\u001b[1m(\u001b[0m\u001b[1m[\u001b[0m\u001b[1m[\u001b[0m\u001b[1m[\u001b[0m \u001b[1;36m-7.2643\u001b[0m, \u001b[1;36m-19.5709\u001b[0m,  \u001b[1;36m-7.6404\u001b[0m,  \u001b[33m...\u001b[0m,  \u001b[1;36m-6.9616\u001b[0m,  \u001b[1;36m-5.8950\u001b[0m, \u001b[1;36m-19.6222\u001b[0m\u001b[1m]\u001b[0m,\n",
       "         \u001b[1m[\u001b[0m\u001b[1;36m-11.4722\u001b[0m, \u001b[1;36m-20.6810\u001b[0m,  \u001b[1;36m-8.7006\u001b[0m,  \u001b[33m...\u001b[0m,  \u001b[1;36m-9.4812\u001b[0m, \u001b[1;36m-10.1366\u001b[0m, \u001b[1;36m-21.0686\u001b[0m\u001b[1m]\u001b[0m,\n",
       "         \u001b[1m[\u001b[0m\u001b[1;36m-16.6308\u001b[0m, \u001b[1;36m-23.1295\u001b[0m, \u001b[1;36m-12.1904\u001b[0m,  \u001b[33m...\u001b[0m, \u001b[1;36m-16.3662\u001b[0m, \u001b[1;36m-12.5509\u001b[0m, \u001b[1;36m-23.5765\u001b[0m\u001b[1m]\u001b[0m,\n",
       "         \u001b[33m...\u001b[0m,\n",
       "         \u001b[1m[\u001b[0m \u001b[1;36m-9.5443\u001b[0m, \u001b[1;36m-19.5178\u001b[0m,  \u001b[1;36m-7.8597\u001b[0m,  \u001b[33m...\u001b[0m,  \u001b[1;36m-7.0011\u001b[0m,  \u001b[1;36m-6.0493\u001b[0m, \u001b[1;36m-20.0432\u001b[0m\u001b[1m]\u001b[0m,\n",
       "         \u001b[1m[\u001b[0m\u001b[1;36m-12.4970\u001b[0m, \u001b[1;36m-23.8565\u001b[0m,  \u001b[1;36m-7.3582\u001b[0m,  \u001b[33m...\u001b[0m,  \u001b[1;36m-9.7278\u001b[0m,  \u001b[1;36m-9.1797\u001b[0m, \u001b[1;36m-23.9273\u001b[0m\u001b[1m]\u001b[0m,\n",
       "         \u001b[1m[\u001b[0m\u001b[1;36m-18.8360\u001b[0m, \u001b[1;36m-27.2806\u001b[0m, \u001b[1;36m-16.6053\u001b[0m,  \u001b[33m...\u001b[0m, \u001b[1;36m-17.5457\u001b[0m, \u001b[1;36m-17.6242\u001b[0m, \u001b[1;36m-27.1999\u001b[0m\u001b[1m]\u001b[0m\u001b[1m]\u001b[0m\u001b[1m]\u001b[0m,\n",
       "       \u001b[33mdevice\u001b[0m=\u001b[32m'cuda:0'\u001b[0m, \u001b[33mgrad_fn\u001b[0m=\u001b[1m<\u001b[0m\u001b[1;95mLogSoftmaxBackward0\u001b[0m\u001b[1m>\u001b[0m\u001b[1m)\u001b[0m\n"
      ]
     },
     "metadata": {},
     "output_type": "display_data"
    },
    {
     "data": {
      "text/html": [
       "<pre style=\"white-space:pre;overflow-x:auto;line-height:normal;font-family:Menlo,'DejaVu Sans Mono',consolas,'Courier New',monospace\"><span style=\"font-weight: bold\">&lt;</span><span style=\"color: #ff00ff; text-decoration-color: #ff00ff; font-weight: bold\">h1</span><span style=\"font-weight: bold\">&gt;</span>Title&lt;<span style=\"color: #800080; text-decoration-color: #800080\">/</span><span style=\"color: #ff00ff; text-decoration-color: #ff00ff\">h</span>\n",
       "</pre>\n"
      ],
      "text/plain": [
       "\u001b[1m<\u001b[0m\u001b[1;95mh1\u001b[0m\u001b[1m>\u001b[0mTitle<\u001b[35m/\u001b[0m\u001b[95mh\u001b[0m\n"
      ]
     },
     "metadata": {},
     "output_type": "display_data"
    },
    {
     "data": {
      "text/html": [
       "<pre style=\"white-space:pre;overflow-x:auto;line-height:normal;font-family:Menlo,'DejaVu Sans Mono',consolas,'Courier New',monospace\"><span style=\"color: #800080; text-decoration-color: #800080; font-weight: bold\">tensor</span><span style=\"font-weight: bold\">([[[</span> <span style=\"color: #008080; text-decoration-color: #008080; font-weight: bold\">-7.2643</span>, <span style=\"color: #008080; text-decoration-color: #008080; font-weight: bold\">-19.5709</span>,  <span style=\"color: #008080; text-decoration-color: #008080; font-weight: bold\">-7.6404</span>,  <span style=\"color: #808000; text-decoration-color: #808000\">...</span>,  <span style=\"color: #008080; text-decoration-color: #008080; font-weight: bold\">-6.9616</span>,  <span style=\"color: #008080; text-decoration-color: #008080; font-weight: bold\">-5.8950</span>, <span style=\"color: #008080; text-decoration-color: #008080; font-weight: bold\">-19.6222</span><span style=\"font-weight: bold\">]</span>,\n",
       "         <span style=\"font-weight: bold\">[</span><span style=\"color: #008080; text-decoration-color: #008080; font-weight: bold\">-11.4722</span>, <span style=\"color: #008080; text-decoration-color: #008080; font-weight: bold\">-20.6810</span>,  <span style=\"color: #008080; text-decoration-color: #008080; font-weight: bold\">-8.7007</span>,  <span style=\"color: #808000; text-decoration-color: #808000\">...</span>,  <span style=\"color: #008080; text-decoration-color: #008080; font-weight: bold\">-9.4812</span>, <span style=\"color: #008080; text-decoration-color: #008080; font-weight: bold\">-10.1366</span>, <span style=\"color: #008080; text-decoration-color: #008080; font-weight: bold\">-21.0686</span><span style=\"font-weight: bold\">]</span>,\n",
       "         <span style=\"font-weight: bold\">[</span><span style=\"color: #008080; text-decoration-color: #008080; font-weight: bold\">-13.9352</span>, <span style=\"color: #008080; text-decoration-color: #008080; font-weight: bold\">-21.4820</span>, <span style=\"color: #008080; text-decoration-color: #008080; font-weight: bold\">-13.0296</span>,  <span style=\"color: #808000; text-decoration-color: #808000\">...</span>, <span style=\"color: #008080; text-decoration-color: #008080; font-weight: bold\">-11.2350</span>,  <span style=\"color: #008080; text-decoration-color: #008080; font-weight: bold\">-8.4075</span>, <span style=\"color: #008080; text-decoration-color: #008080; font-weight: bold\">-21.7656</span><span style=\"font-weight: bold\">]</span>,\n",
       "         <span style=\"color: #808000; text-decoration-color: #808000\">...</span>,\n",
       "         <span style=\"font-weight: bold\">[</span><span style=\"color: #008080; text-decoration-color: #008080; font-weight: bold\">-11.6053</span>, <span style=\"color: #008080; text-decoration-color: #008080; font-weight: bold\">-22.9646</span>,  <span style=\"color: #008080; text-decoration-color: #008080; font-weight: bold\">-6.1376</span>,  <span style=\"color: #808000; text-decoration-color: #808000\">...</span>,  <span style=\"color: #008080; text-decoration-color: #008080; font-weight: bold\">-9.6594</span>,  <span style=\"color: #008080; text-decoration-color: #008080; font-weight: bold\">-7.1477</span>, <span style=\"color: #008080; text-decoration-color: #008080; font-weight: bold\">-22.9173</span><span style=\"font-weight: bold\">]</span>,\n",
       "         <span style=\"font-weight: bold\">[</span><span style=\"color: #008080; text-decoration-color: #008080; font-weight: bold\">-11.2449</span>, <span style=\"color: #008080; text-decoration-color: #008080; font-weight: bold\">-24.9809</span>,  <span style=\"color: #008080; text-decoration-color: #008080; font-weight: bold\">-5.5284</span>,  <span style=\"color: #808000; text-decoration-color: #808000\">...</span>,  <span style=\"color: #008080; text-decoration-color: #008080; font-weight: bold\">-8.9506</span>,  <span style=\"color: #008080; text-decoration-color: #008080; font-weight: bold\">-7.0940</span>, <span style=\"color: #008080; text-decoration-color: #008080; font-weight: bold\">-24.3485</span><span style=\"font-weight: bold\">]</span>,\n",
       "         <span style=\"font-weight: bold\">[</span><span style=\"color: #008080; text-decoration-color: #008080; font-weight: bold\">-16.4943</span>, <span style=\"color: #008080; text-decoration-color: #008080; font-weight: bold\">-27.3859</span>, <span style=\"color: #008080; text-decoration-color: #008080; font-weight: bold\">-14.3955</span>,  <span style=\"color: #808000; text-decoration-color: #808000\">...</span>, <span style=\"color: #008080; text-decoration-color: #008080; font-weight: bold\">-12.7699</span>, <span style=\"color: #008080; text-decoration-color: #008080; font-weight: bold\">-14.0391</span>, <span style=\"color: #008080; text-decoration-color: #008080; font-weight: bold\">-27.4339</span><span style=\"font-weight: bold\">]]]</span>,\n",
       "       <span style=\"color: #808000; text-decoration-color: #808000\">device</span>=<span style=\"color: #008000; text-decoration-color: #008000\">'cuda:0'</span>, <span style=\"color: #808000; text-decoration-color: #808000\">grad_fn</span>=<span style=\"font-weight: bold\">&lt;</span><span style=\"color: #ff00ff; text-decoration-color: #ff00ff; font-weight: bold\">LogSoftmaxBackward0</span><span style=\"font-weight: bold\">&gt;)</span>\n",
       "</pre>\n"
      ],
      "text/plain": [
       "\u001b[1;35mtensor\u001b[0m\u001b[1m(\u001b[0m\u001b[1m[\u001b[0m\u001b[1m[\u001b[0m\u001b[1m[\u001b[0m \u001b[1;36m-7.2643\u001b[0m, \u001b[1;36m-19.5709\u001b[0m,  \u001b[1;36m-7.6404\u001b[0m,  \u001b[33m...\u001b[0m,  \u001b[1;36m-6.9616\u001b[0m,  \u001b[1;36m-5.8950\u001b[0m, \u001b[1;36m-19.6222\u001b[0m\u001b[1m]\u001b[0m,\n",
       "         \u001b[1m[\u001b[0m\u001b[1;36m-11.4722\u001b[0m, \u001b[1;36m-20.6810\u001b[0m,  \u001b[1;36m-8.7007\u001b[0m,  \u001b[33m...\u001b[0m,  \u001b[1;36m-9.4812\u001b[0m, \u001b[1;36m-10.1366\u001b[0m, \u001b[1;36m-21.0686\u001b[0m\u001b[1m]\u001b[0m,\n",
       "         \u001b[1m[\u001b[0m\u001b[1;36m-13.9352\u001b[0m, \u001b[1;36m-21.4820\u001b[0m, \u001b[1;36m-13.0296\u001b[0m,  \u001b[33m...\u001b[0m, \u001b[1;36m-11.2350\u001b[0m,  \u001b[1;36m-8.4075\u001b[0m, \u001b[1;36m-21.7656\u001b[0m\u001b[1m]\u001b[0m,\n",
       "         \u001b[33m...\u001b[0m,\n",
       "         \u001b[1m[\u001b[0m\u001b[1;36m-11.6053\u001b[0m, \u001b[1;36m-22.9646\u001b[0m,  \u001b[1;36m-6.1376\u001b[0m,  \u001b[33m...\u001b[0m,  \u001b[1;36m-9.6594\u001b[0m,  \u001b[1;36m-7.1477\u001b[0m, \u001b[1;36m-22.9173\u001b[0m\u001b[1m]\u001b[0m,\n",
       "         \u001b[1m[\u001b[0m\u001b[1;36m-11.2449\u001b[0m, \u001b[1;36m-24.9809\u001b[0m,  \u001b[1;36m-5.5284\u001b[0m,  \u001b[33m...\u001b[0m,  \u001b[1;36m-8.9506\u001b[0m,  \u001b[1;36m-7.0940\u001b[0m, \u001b[1;36m-24.3485\u001b[0m\u001b[1m]\u001b[0m,\n",
       "         \u001b[1m[\u001b[0m\u001b[1;36m-16.4943\u001b[0m, \u001b[1;36m-27.3859\u001b[0m, \u001b[1;36m-14.3955\u001b[0m,  \u001b[33m...\u001b[0m, \u001b[1;36m-12.7699\u001b[0m, \u001b[1;36m-14.0391\u001b[0m, \u001b[1;36m-27.4339\u001b[0m\u001b[1m]\u001b[0m\u001b[1m]\u001b[0m\u001b[1m]\u001b[0m,\n",
       "       \u001b[33mdevice\u001b[0m=\u001b[32m'cuda:0'\u001b[0m, \u001b[33mgrad_fn\u001b[0m=\u001b[1m<\u001b[0m\u001b[1;95mLogSoftmaxBackward0\u001b[0m\u001b[1m>\u001b[0m\u001b[1m)\u001b[0m\n"
      ]
     },
     "metadata": {},
     "output_type": "display_data"
    },
    {
     "data": {
      "text/html": [
       "<pre style=\"white-space:pre;overflow-x:auto;line-height:normal;font-family:Menlo,'DejaVu Sans Mono',consolas,'Courier New',monospace\"><span style=\"color: #800080; text-decoration-color: #800080; font-weight: bold\">tensor</span><span style=\"font-weight: bold\">([[[</span> <span style=\"color: #008080; text-decoration-color: #008080; font-weight: bold\">-7.2643</span>, <span style=\"color: #008080; text-decoration-color: #008080; font-weight: bold\">-19.5709</span>,  <span style=\"color: #008080; text-decoration-color: #008080; font-weight: bold\">-7.6404</span>,  <span style=\"color: #808000; text-decoration-color: #808000\">...</span>,  <span style=\"color: #008080; text-decoration-color: #008080; font-weight: bold\">-6.9616</span>,  <span style=\"color: #008080; text-decoration-color: #008080; font-weight: bold\">-5.8950</span>, <span style=\"color: #008080; text-decoration-color: #008080; font-weight: bold\">-19.6222</span><span style=\"font-weight: bold\">]</span>,\n",
       "         <span style=\"font-weight: bold\">[</span><span style=\"color: #008080; text-decoration-color: #008080; font-weight: bold\">-11.4722</span>, <span style=\"color: #008080; text-decoration-color: #008080; font-weight: bold\">-20.6810</span>,  <span style=\"color: #008080; text-decoration-color: #008080; font-weight: bold\">-8.7007</span>,  <span style=\"color: #808000; text-decoration-color: #808000\">...</span>,  <span style=\"color: #008080; text-decoration-color: #008080; font-weight: bold\">-9.4812</span>, <span style=\"color: #008080; text-decoration-color: #008080; font-weight: bold\">-10.1366</span>, <span style=\"color: #008080; text-decoration-color: #008080; font-weight: bold\">-21.0686</span><span style=\"font-weight: bold\">]</span>,\n",
       "         <span style=\"font-weight: bold\">[</span><span style=\"color: #008080; text-decoration-color: #008080; font-weight: bold\">-13.9352</span>, <span style=\"color: #008080; text-decoration-color: #008080; font-weight: bold\">-21.4820</span>, <span style=\"color: #008080; text-decoration-color: #008080; font-weight: bold\">-13.0296</span>,  <span style=\"color: #808000; text-decoration-color: #808000\">...</span>, <span style=\"color: #008080; text-decoration-color: #008080; font-weight: bold\">-11.2350</span>,  <span style=\"color: #008080; text-decoration-color: #008080; font-weight: bold\">-8.4075</span>, <span style=\"color: #008080; text-decoration-color: #008080; font-weight: bold\">-21.7656</span><span style=\"font-weight: bold\">]</span>,\n",
       "         <span style=\"color: #808000; text-decoration-color: #808000\">...</span>,\n",
       "         <span style=\"font-weight: bold\">[</span><span style=\"color: #008080; text-decoration-color: #008080; font-weight: bold\">-11.2449</span>, <span style=\"color: #008080; text-decoration-color: #008080; font-weight: bold\">-24.9809</span>,  <span style=\"color: #008080; text-decoration-color: #008080; font-weight: bold\">-5.5284</span>,  <span style=\"color: #808000; text-decoration-color: #808000\">...</span>,  <span style=\"color: #008080; text-decoration-color: #008080; font-weight: bold\">-8.9506</span>,  <span style=\"color: #008080; text-decoration-color: #008080; font-weight: bold\">-7.0941</span>, <span style=\"color: #008080; text-decoration-color: #008080; font-weight: bold\">-24.3485</span><span style=\"font-weight: bold\">]</span>,\n",
       "         <span style=\"font-weight: bold\">[</span><span style=\"color: #008080; text-decoration-color: #008080; font-weight: bold\">-16.4943</span>, <span style=\"color: #008080; text-decoration-color: #008080; font-weight: bold\">-27.3859</span>, <span style=\"color: #008080; text-decoration-color: #008080; font-weight: bold\">-14.3955</span>,  <span style=\"color: #808000; text-decoration-color: #808000\">...</span>, <span style=\"color: #008080; text-decoration-color: #008080; font-weight: bold\">-12.7699</span>, <span style=\"color: #008080; text-decoration-color: #008080; font-weight: bold\">-14.0390</span>, <span style=\"color: #008080; text-decoration-color: #008080; font-weight: bold\">-27.4339</span><span style=\"font-weight: bold\">]</span>,\n",
       "         <span style=\"font-weight: bold\">[</span><span style=\"color: #008080; text-decoration-color: #008080; font-weight: bold\">-17.5993</span>, <span style=\"color: #008080; text-decoration-color: #008080; font-weight: bold\">-27.1446</span>, <span style=\"color: #008080; text-decoration-color: #008080; font-weight: bold\">-13.8680</span>,  <span style=\"color: #808000; text-decoration-color: #808000\">...</span>, <span style=\"color: #008080; text-decoration-color: #008080; font-weight: bold\">-16.8044</span>, <span style=\"color: #008080; text-decoration-color: #008080; font-weight: bold\">-14.5935</span>, <span style=\"color: #008080; text-decoration-color: #008080; font-weight: bold\">-27.0122</span><span style=\"font-weight: bold\">]]]</span>,\n",
       "       <span style=\"color: #808000; text-decoration-color: #808000\">device</span>=<span style=\"color: #008000; text-decoration-color: #008000\">'cuda:0'</span>, <span style=\"color: #808000; text-decoration-color: #808000\">grad_fn</span>=<span style=\"font-weight: bold\">&lt;</span><span style=\"color: #ff00ff; text-decoration-color: #ff00ff; font-weight: bold\">LogSoftmaxBackward0</span><span style=\"font-weight: bold\">&gt;)</span>\n",
       "</pre>\n"
      ],
      "text/plain": [
       "\u001b[1;35mtensor\u001b[0m\u001b[1m(\u001b[0m\u001b[1m[\u001b[0m\u001b[1m[\u001b[0m\u001b[1m[\u001b[0m \u001b[1;36m-7.2643\u001b[0m, \u001b[1;36m-19.5709\u001b[0m,  \u001b[1;36m-7.6404\u001b[0m,  \u001b[33m...\u001b[0m,  \u001b[1;36m-6.9616\u001b[0m,  \u001b[1;36m-5.8950\u001b[0m, \u001b[1;36m-19.6222\u001b[0m\u001b[1m]\u001b[0m,\n",
       "         \u001b[1m[\u001b[0m\u001b[1;36m-11.4722\u001b[0m, \u001b[1;36m-20.6810\u001b[0m,  \u001b[1;36m-8.7007\u001b[0m,  \u001b[33m...\u001b[0m,  \u001b[1;36m-9.4812\u001b[0m, \u001b[1;36m-10.1366\u001b[0m, \u001b[1;36m-21.0686\u001b[0m\u001b[1m]\u001b[0m,\n",
       "         \u001b[1m[\u001b[0m\u001b[1;36m-13.9352\u001b[0m, \u001b[1;36m-21.4820\u001b[0m, \u001b[1;36m-13.0296\u001b[0m,  \u001b[33m...\u001b[0m, \u001b[1;36m-11.2350\u001b[0m,  \u001b[1;36m-8.4075\u001b[0m, \u001b[1;36m-21.7656\u001b[0m\u001b[1m]\u001b[0m,\n",
       "         \u001b[33m...\u001b[0m,\n",
       "         \u001b[1m[\u001b[0m\u001b[1;36m-11.2449\u001b[0m, \u001b[1;36m-24.9809\u001b[0m,  \u001b[1;36m-5.5284\u001b[0m,  \u001b[33m...\u001b[0m,  \u001b[1;36m-8.9506\u001b[0m,  \u001b[1;36m-7.0941\u001b[0m, \u001b[1;36m-24.3485\u001b[0m\u001b[1m]\u001b[0m,\n",
       "         \u001b[1m[\u001b[0m\u001b[1;36m-16.4943\u001b[0m, \u001b[1;36m-27.3859\u001b[0m, \u001b[1;36m-14.3955\u001b[0m,  \u001b[33m...\u001b[0m, \u001b[1;36m-12.7699\u001b[0m, \u001b[1;36m-14.0390\u001b[0m, \u001b[1;36m-27.4339\u001b[0m\u001b[1m]\u001b[0m,\n",
       "         \u001b[1m[\u001b[0m\u001b[1;36m-17.5993\u001b[0m, \u001b[1;36m-27.1446\u001b[0m, \u001b[1;36m-13.8680\u001b[0m,  \u001b[33m...\u001b[0m, \u001b[1;36m-16.8044\u001b[0m, \u001b[1;36m-14.5935\u001b[0m, \u001b[1;36m-27.0122\u001b[0m\u001b[1m]\u001b[0m\u001b[1m]\u001b[0m\u001b[1m]\u001b[0m,\n",
       "       \u001b[33mdevice\u001b[0m=\u001b[32m'cuda:0'\u001b[0m, \u001b[33mgrad_fn\u001b[0m=\u001b[1m<\u001b[0m\u001b[1;95mLogSoftmaxBackward0\u001b[0m\u001b[1m>\u001b[0m\u001b[1m)\u001b[0m\n"
      ]
     },
     "metadata": {},
     "output_type": "display_data"
    },
    {
     "data": {
      "text/html": [
       "<pre style=\"white-space:pre;overflow-x:auto;line-height:normal;font-family:Menlo,'DejaVu Sans Mono',consolas,'Courier New',monospace\"><span style=\"font-weight: bold\">&lt;</span><span style=\"color: #ff00ff; text-decoration-color: #ff00ff; font-weight: bold\">b</span><span style=\"font-weight: bold\">&gt;</span>Some bold text<span style=\"font-weight: bold\">&lt;</span><span style=\"color: #800080; text-decoration-color: #800080\">/</span><span style=\"color: #ff00ff; text-decoration-color: #ff00ff\">b</span><span style=\"font-weight: bold\">&gt;</span>\n",
       "</pre>\n"
      ],
      "text/plain": [
       "\u001b[1m<\u001b[0m\u001b[1;95mb\u001b[0m\u001b[1m>\u001b[0mSome bold text\u001b[1m<\u001b[0m\u001b[35m/\u001b[0m\u001b[95mb\u001b[0m\u001b[1m>\u001b[0m\n"
      ]
     },
     "metadata": {},
     "output_type": "display_data"
    },
    {
     "data": {
      "text/html": [
       "<pre style=\"white-space:pre;overflow-x:auto;line-height:normal;font-family:Menlo,'DejaVu Sans Mono',consolas,'Courier New',monospace\"><span style=\"color: #800080; text-decoration-color: #800080; font-weight: bold\">tensor</span><span style=\"font-weight: bold\">([[[</span> <span style=\"color: #008080; text-decoration-color: #008080; font-weight: bold\">-7.2643</span>, <span style=\"color: #008080; text-decoration-color: #008080; font-weight: bold\">-19.5709</span>,  <span style=\"color: #008080; text-decoration-color: #008080; font-weight: bold\">-7.6404</span>,  <span style=\"color: #808000; text-decoration-color: #808000\">...</span>,  <span style=\"color: #008080; text-decoration-color: #008080; font-weight: bold\">-6.9616</span>,  <span style=\"color: #008080; text-decoration-color: #008080; font-weight: bold\">-5.8950</span>, <span style=\"color: #008080; text-decoration-color: #008080; font-weight: bold\">-19.6222</span><span style=\"font-weight: bold\">]</span>,\n",
       "         <span style=\"font-weight: bold\">[</span><span style=\"color: #008080; text-decoration-color: #008080; font-weight: bold\">-11.4722</span>, <span style=\"color: #008080; text-decoration-color: #008080; font-weight: bold\">-20.6810</span>,  <span style=\"color: #008080; text-decoration-color: #008080; font-weight: bold\">-8.7007</span>,  <span style=\"color: #808000; text-decoration-color: #808000\">...</span>,  <span style=\"color: #008080; text-decoration-color: #008080; font-weight: bold\">-9.4812</span>, <span style=\"color: #008080; text-decoration-color: #008080; font-weight: bold\">-10.1366</span>, <span style=\"color: #008080; text-decoration-color: #008080; font-weight: bold\">-21.0686</span><span style=\"font-weight: bold\">]</span>,\n",
       "         <span style=\"font-weight: bold\">[</span><span style=\"color: #008080; text-decoration-color: #008080; font-weight: bold\">-14.0072</span>, <span style=\"color: #008080; text-decoration-color: #008080; font-weight: bold\">-22.4901</span>, <span style=\"color: #008080; text-decoration-color: #008080; font-weight: bold\">-11.8087</span>,  <span style=\"color: #808000; text-decoration-color: #808000\">...</span>, <span style=\"color: #008080; text-decoration-color: #008080; font-weight: bold\">-12.0763</span>,  <span style=\"color: #008080; text-decoration-color: #008080; font-weight: bold\">-8.1033</span>, <span style=\"color: #008080; text-decoration-color: #008080; font-weight: bold\">-22.9883</span><span style=\"font-weight: bold\">]</span>,\n",
       "         <span style=\"color: #808000; text-decoration-color: #808000\">...</span>,\n",
       "         <span style=\"font-weight: bold\">[</span><span style=\"color: #008080; text-decoration-color: #008080; font-weight: bold\">-14.6867</span>, <span style=\"color: #008080; text-decoration-color: #008080; font-weight: bold\">-24.7352</span>,  <span style=\"color: #008080; text-decoration-color: #008080; font-weight: bold\">-9.9440</span>,  <span style=\"color: #808000; text-decoration-color: #808000\">...</span>, <span style=\"color: #008080; text-decoration-color: #008080; font-weight: bold\">-11.8914</span>,  <span style=\"color: #008080; text-decoration-color: #008080; font-weight: bold\">-9.7582</span>, <span style=\"color: #008080; text-decoration-color: #008080; font-weight: bold\">-24.7541</span><span style=\"font-weight: bold\">]</span>,\n",
       "         <span style=\"font-weight: bold\">[</span><span style=\"color: #008080; text-decoration-color: #008080; font-weight: bold\">-12.6211</span>, <span style=\"color: #008080; text-decoration-color: #008080; font-weight: bold\">-25.1418</span>,  <span style=\"color: #008080; text-decoration-color: #008080; font-weight: bold\">-5.4040</span>,  <span style=\"color: #808000; text-decoration-color: #808000\">...</span>, <span style=\"color: #008080; text-decoration-color: #008080; font-weight: bold\">-11.5839</span>,  <span style=\"color: #008080; text-decoration-color: #008080; font-weight: bold\">-8.3585</span>, <span style=\"color: #008080; text-decoration-color: #008080; font-weight: bold\">-24.7188</span><span style=\"font-weight: bold\">]</span>,\n",
       "         <span style=\"font-weight: bold\">[</span><span style=\"color: #008080; text-decoration-color: #008080; font-weight: bold\">-17.1668</span>, <span style=\"color: #008080; text-decoration-color: #008080; font-weight: bold\">-26.9692</span>, <span style=\"color: #008080; text-decoration-color: #008080; font-weight: bold\">-15.7098</span>,  <span style=\"color: #808000; text-decoration-color: #808000\">...</span>, <span style=\"color: #008080; text-decoration-color: #008080; font-weight: bold\">-15.2212</span>, <span style=\"color: #008080; text-decoration-color: #008080; font-weight: bold\">-16.5485</span>, <span style=\"color: #008080; text-decoration-color: #008080; font-weight: bold\">-27.1097</span><span style=\"font-weight: bold\">]]]</span>,\n",
       "       <span style=\"color: #808000; text-decoration-color: #808000\">device</span>=<span style=\"color: #008000; text-decoration-color: #008000\">'cuda:0'</span>, <span style=\"color: #808000; text-decoration-color: #808000\">grad_fn</span>=<span style=\"font-weight: bold\">&lt;</span><span style=\"color: #ff00ff; text-decoration-color: #ff00ff; font-weight: bold\">LogSoftmaxBackward0</span><span style=\"font-weight: bold\">&gt;)</span>\n",
       "</pre>\n"
      ],
      "text/plain": [
       "\u001b[1;35mtensor\u001b[0m\u001b[1m(\u001b[0m\u001b[1m[\u001b[0m\u001b[1m[\u001b[0m\u001b[1m[\u001b[0m \u001b[1;36m-7.2643\u001b[0m, \u001b[1;36m-19.5709\u001b[0m,  \u001b[1;36m-7.6404\u001b[0m,  \u001b[33m...\u001b[0m,  \u001b[1;36m-6.9616\u001b[0m,  \u001b[1;36m-5.8950\u001b[0m, \u001b[1;36m-19.6222\u001b[0m\u001b[1m]\u001b[0m,\n",
       "         \u001b[1m[\u001b[0m\u001b[1;36m-11.4722\u001b[0m, \u001b[1;36m-20.6810\u001b[0m,  \u001b[1;36m-8.7007\u001b[0m,  \u001b[33m...\u001b[0m,  \u001b[1;36m-9.4812\u001b[0m, \u001b[1;36m-10.1366\u001b[0m, \u001b[1;36m-21.0686\u001b[0m\u001b[1m]\u001b[0m,\n",
       "         \u001b[1m[\u001b[0m\u001b[1;36m-14.0072\u001b[0m, \u001b[1;36m-22.4901\u001b[0m, \u001b[1;36m-11.8087\u001b[0m,  \u001b[33m...\u001b[0m, \u001b[1;36m-12.0763\u001b[0m,  \u001b[1;36m-8.1033\u001b[0m, \u001b[1;36m-22.9883\u001b[0m\u001b[1m]\u001b[0m,\n",
       "         \u001b[33m...\u001b[0m,\n",
       "         \u001b[1m[\u001b[0m\u001b[1;36m-14.6867\u001b[0m, \u001b[1;36m-24.7352\u001b[0m,  \u001b[1;36m-9.9440\u001b[0m,  \u001b[33m...\u001b[0m, \u001b[1;36m-11.8914\u001b[0m,  \u001b[1;36m-9.7582\u001b[0m, \u001b[1;36m-24.7541\u001b[0m\u001b[1m]\u001b[0m,\n",
       "         \u001b[1m[\u001b[0m\u001b[1;36m-12.6211\u001b[0m, \u001b[1;36m-25.1418\u001b[0m,  \u001b[1;36m-5.4040\u001b[0m,  \u001b[33m...\u001b[0m, \u001b[1;36m-11.5839\u001b[0m,  \u001b[1;36m-8.3585\u001b[0m, \u001b[1;36m-24.7188\u001b[0m\u001b[1m]\u001b[0m,\n",
       "         \u001b[1m[\u001b[0m\u001b[1;36m-17.1668\u001b[0m, \u001b[1;36m-26.9692\u001b[0m, \u001b[1;36m-15.7098\u001b[0m,  \u001b[33m...\u001b[0m, \u001b[1;36m-15.2212\u001b[0m, \u001b[1;36m-16.5485\u001b[0m, \u001b[1;36m-27.1097\u001b[0m\u001b[1m]\u001b[0m\u001b[1m]\u001b[0m\u001b[1m]\u001b[0m,\n",
       "       \u001b[33mdevice\u001b[0m=\u001b[32m'cuda:0'\u001b[0m, \u001b[33mgrad_fn\u001b[0m=\u001b[1m<\u001b[0m\u001b[1;95mLogSoftmaxBackward0\u001b[0m\u001b[1m>\u001b[0m\u001b[1m)\u001b[0m\n"
      ]
     },
     "metadata": {},
     "output_type": "display_data"
    },
    {
     "data": {
      "text/html": [
       "<pre style=\"white-space:pre;overflow-x:auto;line-height:normal;font-family:Menlo,'DejaVu Sans Mono',consolas,'Courier New',monospace\"><span style=\"color: #800080; text-decoration-color: #800080; font-weight: bold\">tensor</span><span style=\"font-weight: bold\">([[[</span> <span style=\"color: #008080; text-decoration-color: #008080; font-weight: bold\">-7.2643</span>, <span style=\"color: #008080; text-decoration-color: #008080; font-weight: bold\">-19.5709</span>,  <span style=\"color: #008080; text-decoration-color: #008080; font-weight: bold\">-7.6404</span>,  <span style=\"color: #808000; text-decoration-color: #808000\">...</span>,  <span style=\"color: #008080; text-decoration-color: #008080; font-weight: bold\">-6.9616</span>,  <span style=\"color: #008080; text-decoration-color: #008080; font-weight: bold\">-5.8950</span>, <span style=\"color: #008080; text-decoration-color: #008080; font-weight: bold\">-19.6222</span><span style=\"font-weight: bold\">]</span>,\n",
       "         <span style=\"font-weight: bold\">[</span><span style=\"color: #008080; text-decoration-color: #008080; font-weight: bold\">-11.4722</span>, <span style=\"color: #008080; text-decoration-color: #008080; font-weight: bold\">-20.6810</span>,  <span style=\"color: #008080; text-decoration-color: #008080; font-weight: bold\">-8.7007</span>,  <span style=\"color: #808000; text-decoration-color: #808000\">...</span>,  <span style=\"color: #008080; text-decoration-color: #008080; font-weight: bold\">-9.4812</span>, <span style=\"color: #008080; text-decoration-color: #008080; font-weight: bold\">-10.1366</span>, <span style=\"color: #008080; text-decoration-color: #008080; font-weight: bold\">-21.0686</span><span style=\"font-weight: bold\">]</span>,\n",
       "         <span style=\"font-weight: bold\">[</span><span style=\"color: #008080; text-decoration-color: #008080; font-weight: bold\">-14.0072</span>, <span style=\"color: #008080; text-decoration-color: #008080; font-weight: bold\">-22.4901</span>, <span style=\"color: #008080; text-decoration-color: #008080; font-weight: bold\">-11.8087</span>,  <span style=\"color: #808000; text-decoration-color: #808000\">...</span>, <span style=\"color: #008080; text-decoration-color: #008080; font-weight: bold\">-12.0763</span>,  <span style=\"color: #008080; text-decoration-color: #008080; font-weight: bold\">-8.1033</span>, <span style=\"color: #008080; text-decoration-color: #008080; font-weight: bold\">-22.9883</span><span style=\"font-weight: bold\">]</span>,\n",
       "         <span style=\"color: #808000; text-decoration-color: #808000\">...</span>,\n",
       "         <span style=\"font-weight: bold\">[</span><span style=\"color: #008080; text-decoration-color: #008080; font-weight: bold\">-12.6211</span>, <span style=\"color: #008080; text-decoration-color: #008080; font-weight: bold\">-25.1418</span>,  <span style=\"color: #008080; text-decoration-color: #008080; font-weight: bold\">-5.4040</span>,  <span style=\"color: #808000; text-decoration-color: #808000\">...</span>, <span style=\"color: #008080; text-decoration-color: #008080; font-weight: bold\">-11.5839</span>,  <span style=\"color: #008080; text-decoration-color: #008080; font-weight: bold\">-8.3585</span>, <span style=\"color: #008080; text-decoration-color: #008080; font-weight: bold\">-24.7188</span><span style=\"font-weight: bold\">]</span>,\n",
       "         <span style=\"font-weight: bold\">[</span><span style=\"color: #008080; text-decoration-color: #008080; font-weight: bold\">-17.1668</span>, <span style=\"color: #008080; text-decoration-color: #008080; font-weight: bold\">-26.9692</span>, <span style=\"color: #008080; text-decoration-color: #008080; font-weight: bold\">-15.7098</span>,  <span style=\"color: #808000; text-decoration-color: #808000\">...</span>, <span style=\"color: #008080; text-decoration-color: #008080; font-weight: bold\">-15.2212</span>, <span style=\"color: #008080; text-decoration-color: #008080; font-weight: bold\">-16.5485</span>, <span style=\"color: #008080; text-decoration-color: #008080; font-weight: bold\">-27.1097</span><span style=\"font-weight: bold\">]</span>,\n",
       "         <span style=\"font-weight: bold\">[</span><span style=\"color: #008080; text-decoration-color: #008080; font-weight: bold\">-20.7089</span>, <span style=\"color: #008080; text-decoration-color: #008080; font-weight: bold\">-28.5253</span>, <span style=\"color: #008080; text-decoration-color: #008080; font-weight: bold\">-13.9712</span>,  <span style=\"color: #808000; text-decoration-color: #808000\">...</span>, <span style=\"color: #008080; text-decoration-color: #008080; font-weight: bold\">-19.9589</span>, <span style=\"color: #008080; text-decoration-color: #008080; font-weight: bold\">-17.8321</span>, <span style=\"color: #008080; text-decoration-color: #008080; font-weight: bold\">-28.7531</span><span style=\"font-weight: bold\">]]]</span>,\n",
       "       <span style=\"color: #808000; text-decoration-color: #808000\">device</span>=<span style=\"color: #008000; text-decoration-color: #008000\">'cuda:0'</span>, <span style=\"color: #808000; text-decoration-color: #808000\">grad_fn</span>=<span style=\"font-weight: bold\">&lt;</span><span style=\"color: #ff00ff; text-decoration-color: #ff00ff; font-weight: bold\">LogSoftmaxBackward0</span><span style=\"font-weight: bold\">&gt;)</span>\n",
       "</pre>\n"
      ],
      "text/plain": [
       "\u001b[1;35mtensor\u001b[0m\u001b[1m(\u001b[0m\u001b[1m[\u001b[0m\u001b[1m[\u001b[0m\u001b[1m[\u001b[0m \u001b[1;36m-7.2643\u001b[0m, \u001b[1;36m-19.5709\u001b[0m,  \u001b[1;36m-7.6404\u001b[0m,  \u001b[33m...\u001b[0m,  \u001b[1;36m-6.9616\u001b[0m,  \u001b[1;36m-5.8950\u001b[0m, \u001b[1;36m-19.6222\u001b[0m\u001b[1m]\u001b[0m,\n",
       "         \u001b[1m[\u001b[0m\u001b[1;36m-11.4722\u001b[0m, \u001b[1;36m-20.6810\u001b[0m,  \u001b[1;36m-8.7007\u001b[0m,  \u001b[33m...\u001b[0m,  \u001b[1;36m-9.4812\u001b[0m, \u001b[1;36m-10.1366\u001b[0m, \u001b[1;36m-21.0686\u001b[0m\u001b[1m]\u001b[0m,\n",
       "         \u001b[1m[\u001b[0m\u001b[1;36m-14.0072\u001b[0m, \u001b[1;36m-22.4901\u001b[0m, \u001b[1;36m-11.8087\u001b[0m,  \u001b[33m...\u001b[0m, \u001b[1;36m-12.0763\u001b[0m,  \u001b[1;36m-8.1033\u001b[0m, \u001b[1;36m-22.9883\u001b[0m\u001b[1m]\u001b[0m,\n",
       "         \u001b[33m...\u001b[0m,\n",
       "         \u001b[1m[\u001b[0m\u001b[1;36m-12.6211\u001b[0m, \u001b[1;36m-25.1418\u001b[0m,  \u001b[1;36m-5.4040\u001b[0m,  \u001b[33m...\u001b[0m, \u001b[1;36m-11.5839\u001b[0m,  \u001b[1;36m-8.3585\u001b[0m, \u001b[1;36m-24.7188\u001b[0m\u001b[1m]\u001b[0m,\n",
       "         \u001b[1m[\u001b[0m\u001b[1;36m-17.1668\u001b[0m, \u001b[1;36m-26.9692\u001b[0m, \u001b[1;36m-15.7098\u001b[0m,  \u001b[33m...\u001b[0m, \u001b[1;36m-15.2212\u001b[0m, \u001b[1;36m-16.5485\u001b[0m, \u001b[1;36m-27.1097\u001b[0m\u001b[1m]\u001b[0m,\n",
       "         \u001b[1m[\u001b[0m\u001b[1;36m-20.7089\u001b[0m, \u001b[1;36m-28.5253\u001b[0m, \u001b[1;36m-13.9712\u001b[0m,  \u001b[33m...\u001b[0m, \u001b[1;36m-19.9589\u001b[0m, \u001b[1;36m-17.8321\u001b[0m, \u001b[1;36m-28.7531\u001b[0m\u001b[1m]\u001b[0m\u001b[1m]\u001b[0m\u001b[1m]\u001b[0m,\n",
       "       \u001b[33mdevice\u001b[0m=\u001b[32m'cuda:0'\u001b[0m, \u001b[33mgrad_fn\u001b[0m=\u001b[1m<\u001b[0m\u001b[1;95mLogSoftmaxBackward0\u001b[0m\u001b[1m>\u001b[0m\u001b[1m)\u001b[0m\n"
      ]
     },
     "metadata": {},
     "output_type": "display_data"
    },
    {
     "data": {
      "text/html": [
       "<pre style=\"white-space:pre;overflow-x:auto;line-height:normal;font-family:Menlo,'DejaVu Sans Mono',consolas,'Courier New',monospace\"><span style=\"font-weight: bold\">&lt;</span><span style=\"color: #ff00ff; text-decoration-color: #ff00ff; font-weight: bold\">p</span><span style=\"font-weight: bold\">&gt;</span>An interesting paragraph<span style=\"font-weight: bold\">&lt;</span><span style=\"color: #800080; text-decoration-color: #800080\">/</span><span style=\"color: #ff00ff; text-decoration-color: #ff00ff\">p</span><span style=\"font-weight: bold\">&gt;</span>\n",
       "</pre>\n"
      ],
      "text/plain": [
       "\u001b[1m<\u001b[0m\u001b[1;95mp\u001b[0m\u001b[1m>\u001b[0mAn interesting paragraph\u001b[1m<\u001b[0m\u001b[35m/\u001b[0m\u001b[95mp\u001b[0m\u001b[1m>\u001b[0m\n"
      ]
     },
     "metadata": {},
     "output_type": "display_data"
    },
    {
     "data": {
      "text/html": [
       "<pre style=\"white-space:pre;overflow-x:auto;line-height:normal;font-family:Menlo,'DejaVu Sans Mono',consolas,'Courier New',monospace\"><span style=\"color: #800080; text-decoration-color: #800080; font-weight: bold\">tensor</span><span style=\"font-weight: bold\">([[[</span> <span style=\"color: #008080; text-decoration-color: #008080; font-weight: bold\">-7.2643</span>, <span style=\"color: #008080; text-decoration-color: #008080; font-weight: bold\">-19.5709</span>,  <span style=\"color: #008080; text-decoration-color: #008080; font-weight: bold\">-7.6404</span>,  <span style=\"color: #808000; text-decoration-color: #808000\">...</span>,  <span style=\"color: #008080; text-decoration-color: #008080; font-weight: bold\">-6.9616</span>,  <span style=\"color: #008080; text-decoration-color: #008080; font-weight: bold\">-5.8950</span>, <span style=\"color: #008080; text-decoration-color: #008080; font-weight: bold\">-19.6222</span><span style=\"font-weight: bold\">]</span>,\n",
       "         <span style=\"font-weight: bold\">[</span><span style=\"color: #008080; text-decoration-color: #008080; font-weight: bold\">-11.4722</span>, <span style=\"color: #008080; text-decoration-color: #008080; font-weight: bold\">-20.6810</span>,  <span style=\"color: #008080; text-decoration-color: #008080; font-weight: bold\">-8.7007</span>,  <span style=\"color: #808000; text-decoration-color: #808000\">...</span>,  <span style=\"color: #008080; text-decoration-color: #008080; font-weight: bold\">-9.4812</span>, <span style=\"color: #008080; text-decoration-color: #008080; font-weight: bold\">-10.1366</span>, <span style=\"color: #008080; text-decoration-color: #008080; font-weight: bold\">-21.0686</span><span style=\"font-weight: bold\">]</span>,\n",
       "         <span style=\"font-weight: bold\">[</span><span style=\"color: #008080; text-decoration-color: #008080; font-weight: bold\">-13.8800</span>, <span style=\"color: #008080; text-decoration-color: #008080; font-weight: bold\">-22.9900</span>, <span style=\"color: #008080; text-decoration-color: #008080; font-weight: bold\">-13.6649</span>,  <span style=\"color: #808000; text-decoration-color: #808000\">...</span>,  <span style=\"color: #008080; text-decoration-color: #008080; font-weight: bold\">-9.2058</span>,  <span style=\"color: #008080; text-decoration-color: #008080; font-weight: bold\">-5.4952</span>, <span style=\"color: #008080; text-decoration-color: #008080; font-weight: bold\">-22.7964</span><span style=\"font-weight: bold\">]</span>,\n",
       "         <span style=\"color: #808000; text-decoration-color: #808000\">...</span>,\n",
       "         <span style=\"font-weight: bold\">[</span><span style=\"color: #008080; text-decoration-color: #008080; font-weight: bold\">-11.3730</span>, <span style=\"color: #008080; text-decoration-color: #008080; font-weight: bold\">-21.5020</span>,  <span style=\"color: #008080; text-decoration-color: #008080; font-weight: bold\">-7.5428</span>,  <span style=\"color: #808000; text-decoration-color: #808000\">...</span>,  <span style=\"color: #008080; text-decoration-color: #008080; font-weight: bold\">-8.5468</span>,  <span style=\"color: #008080; text-decoration-color: #008080; font-weight: bold\">-9.0841</span>, <span style=\"color: #008080; text-decoration-color: #008080; font-weight: bold\">-21.7462</span><span style=\"font-weight: bold\">]</span>,\n",
       "         <span style=\"font-weight: bold\">[</span><span style=\"color: #008080; text-decoration-color: #008080; font-weight: bold\">-15.7665</span>, <span style=\"color: #008080; text-decoration-color: #008080; font-weight: bold\">-22.7682</span>,  <span style=\"color: #008080; text-decoration-color: #008080; font-weight: bold\">-9.3684</span>,  <span style=\"color: #808000; text-decoration-color: #808000\">...</span>,  <span style=\"color: #008080; text-decoration-color: #008080; font-weight: bold\">-8.7865</span>,  <span style=\"color: #008080; text-decoration-color: #008080; font-weight: bold\">-7.1910</span>, <span style=\"color: #008080; text-decoration-color: #008080; font-weight: bold\">-22.9103</span><span style=\"font-weight: bold\">]</span>,\n",
       "         <span style=\"font-weight: bold\">[</span><span style=\"color: #008080; text-decoration-color: #008080; font-weight: bold\">-12.6527</span>, <span style=\"color: #008080; text-decoration-color: #008080; font-weight: bold\">-23.8203</span>,  <span style=\"color: #008080; text-decoration-color: #008080; font-weight: bold\">-7.6991</span>,  <span style=\"color: #808000; text-decoration-color: #808000\">...</span>,  <span style=\"color: #008080; text-decoration-color: #008080; font-weight: bold\">-7.2363</span>,  <span style=\"color: #008080; text-decoration-color: #008080; font-weight: bold\">-6.0367</span>, <span style=\"color: #008080; text-decoration-color: #008080; font-weight: bold\">-23.6106</span><span style=\"font-weight: bold\">]]]</span>,\n",
       "       <span style=\"color: #808000; text-decoration-color: #808000\">device</span>=<span style=\"color: #008000; text-decoration-color: #008000\">'cuda:0'</span>, <span style=\"color: #808000; text-decoration-color: #808000\">grad_fn</span>=<span style=\"font-weight: bold\">&lt;</span><span style=\"color: #ff00ff; text-decoration-color: #ff00ff; font-weight: bold\">LogSoftmaxBackward0</span><span style=\"font-weight: bold\">&gt;)</span>\n",
       "</pre>\n"
      ],
      "text/plain": [
       "\u001b[1;35mtensor\u001b[0m\u001b[1m(\u001b[0m\u001b[1m[\u001b[0m\u001b[1m[\u001b[0m\u001b[1m[\u001b[0m \u001b[1;36m-7.2643\u001b[0m, \u001b[1;36m-19.5709\u001b[0m,  \u001b[1;36m-7.6404\u001b[0m,  \u001b[33m...\u001b[0m,  \u001b[1;36m-6.9616\u001b[0m,  \u001b[1;36m-5.8950\u001b[0m, \u001b[1;36m-19.6222\u001b[0m\u001b[1m]\u001b[0m,\n",
       "         \u001b[1m[\u001b[0m\u001b[1;36m-11.4722\u001b[0m, \u001b[1;36m-20.6810\u001b[0m,  \u001b[1;36m-8.7007\u001b[0m,  \u001b[33m...\u001b[0m,  \u001b[1;36m-9.4812\u001b[0m, \u001b[1;36m-10.1366\u001b[0m, \u001b[1;36m-21.0686\u001b[0m\u001b[1m]\u001b[0m,\n",
       "         \u001b[1m[\u001b[0m\u001b[1;36m-13.8800\u001b[0m, \u001b[1;36m-22.9900\u001b[0m, \u001b[1;36m-13.6649\u001b[0m,  \u001b[33m...\u001b[0m,  \u001b[1;36m-9.2058\u001b[0m,  \u001b[1;36m-5.4952\u001b[0m, \u001b[1;36m-22.7964\u001b[0m\u001b[1m]\u001b[0m,\n",
       "         \u001b[33m...\u001b[0m,\n",
       "         \u001b[1m[\u001b[0m\u001b[1;36m-11.3730\u001b[0m, \u001b[1;36m-21.5020\u001b[0m,  \u001b[1;36m-7.5428\u001b[0m,  \u001b[33m...\u001b[0m,  \u001b[1;36m-8.5468\u001b[0m,  \u001b[1;36m-9.0841\u001b[0m, \u001b[1;36m-21.7462\u001b[0m\u001b[1m]\u001b[0m,\n",
       "         \u001b[1m[\u001b[0m\u001b[1;36m-15.7665\u001b[0m, \u001b[1;36m-22.7682\u001b[0m,  \u001b[1;36m-9.3684\u001b[0m,  \u001b[33m...\u001b[0m,  \u001b[1;36m-8.7865\u001b[0m,  \u001b[1;36m-7.1910\u001b[0m, \u001b[1;36m-22.9103\u001b[0m\u001b[1m]\u001b[0m,\n",
       "         \u001b[1m[\u001b[0m\u001b[1;36m-12.6527\u001b[0m, \u001b[1;36m-23.8203\u001b[0m,  \u001b[1;36m-7.6991\u001b[0m,  \u001b[33m...\u001b[0m,  \u001b[1;36m-7.2363\u001b[0m,  \u001b[1;36m-6.0367\u001b[0m, \u001b[1;36m-23.6106\u001b[0m\u001b[1m]\u001b[0m\u001b[1m]\u001b[0m\u001b[1m]\u001b[0m,\n",
       "       \u001b[33mdevice\u001b[0m=\u001b[32m'cuda:0'\u001b[0m, \u001b[33mgrad_fn\u001b[0m=\u001b[1m<\u001b[0m\u001b[1;95mLogSoftmaxBackward0\u001b[0m\u001b[1m>\u001b[0m\u001b[1m)\u001b[0m\n"
      ]
     },
     "metadata": {},
     "output_type": "display_data"
    },
    {
     "data": {
      "text/html": [
       "<pre style=\"white-space:pre;overflow-x:auto;line-height:normal;font-family:Menlo,'DejaVu Sans Mono',consolas,'Courier New',monospace\"><span style=\"color: #800080; text-decoration-color: #800080; font-weight: bold\">tensor</span><span style=\"font-weight: bold\">([[[</span> <span style=\"color: #008080; text-decoration-color: #008080; font-weight: bold\">-7.2643</span>, <span style=\"color: #008080; text-decoration-color: #008080; font-weight: bold\">-19.5709</span>,  <span style=\"color: #008080; text-decoration-color: #008080; font-weight: bold\">-7.6404</span>,  <span style=\"color: #808000; text-decoration-color: #808000\">...</span>,  <span style=\"color: #008080; text-decoration-color: #008080; font-weight: bold\">-6.9616</span>,  <span style=\"color: #008080; text-decoration-color: #008080; font-weight: bold\">-5.8950</span>, <span style=\"color: #008080; text-decoration-color: #008080; font-weight: bold\">-19.6222</span><span style=\"font-weight: bold\">]</span>,\n",
       "         <span style=\"font-weight: bold\">[</span><span style=\"color: #008080; text-decoration-color: #008080; font-weight: bold\">-11.4722</span>, <span style=\"color: #008080; text-decoration-color: #008080; font-weight: bold\">-20.6810</span>,  <span style=\"color: #008080; text-decoration-color: #008080; font-weight: bold\">-8.7007</span>,  <span style=\"color: #808000; text-decoration-color: #808000\">...</span>,  <span style=\"color: #008080; text-decoration-color: #008080; font-weight: bold\">-9.4812</span>, <span style=\"color: #008080; text-decoration-color: #008080; font-weight: bold\">-10.1366</span>, <span style=\"color: #008080; text-decoration-color: #008080; font-weight: bold\">-21.0686</span><span style=\"font-weight: bold\">]</span>,\n",
       "         <span style=\"font-weight: bold\">[</span><span style=\"color: #008080; text-decoration-color: #008080; font-weight: bold\">-13.8800</span>, <span style=\"color: #008080; text-decoration-color: #008080; font-weight: bold\">-22.9900</span>, <span style=\"color: #008080; text-decoration-color: #008080; font-weight: bold\">-13.6649</span>,  <span style=\"color: #808000; text-decoration-color: #808000\">...</span>,  <span style=\"color: #008080; text-decoration-color: #008080; font-weight: bold\">-9.2058</span>,  <span style=\"color: #008080; text-decoration-color: #008080; font-weight: bold\">-5.4952</span>, <span style=\"color: #008080; text-decoration-color: #008080; font-weight: bold\">-22.7964</span><span style=\"font-weight: bold\">]</span>,\n",
       "         <span style=\"color: #808000; text-decoration-color: #808000\">...</span>,\n",
       "         <span style=\"font-weight: bold\">[</span><span style=\"color: #008080; text-decoration-color: #008080; font-weight: bold\">-15.7665</span>, <span style=\"color: #008080; text-decoration-color: #008080; font-weight: bold\">-22.7682</span>,  <span style=\"color: #008080; text-decoration-color: #008080; font-weight: bold\">-9.3684</span>,  <span style=\"color: #808000; text-decoration-color: #808000\">...</span>,  <span style=\"color: #008080; text-decoration-color: #008080; font-weight: bold\">-8.7865</span>,  <span style=\"color: #008080; text-decoration-color: #008080; font-weight: bold\">-7.1910</span>, <span style=\"color: #008080; text-decoration-color: #008080; font-weight: bold\">-22.9103</span><span style=\"font-weight: bold\">]</span>,\n",
       "         <span style=\"font-weight: bold\">[</span><span style=\"color: #008080; text-decoration-color: #008080; font-weight: bold\">-12.6527</span>, <span style=\"color: #008080; text-decoration-color: #008080; font-weight: bold\">-23.8203</span>,  <span style=\"color: #008080; text-decoration-color: #008080; font-weight: bold\">-7.6991</span>,  <span style=\"color: #808000; text-decoration-color: #808000\">...</span>,  <span style=\"color: #008080; text-decoration-color: #008080; font-weight: bold\">-7.2363</span>,  <span style=\"color: #008080; text-decoration-color: #008080; font-weight: bold\">-6.0367</span>, <span style=\"color: #008080; text-decoration-color: #008080; font-weight: bold\">-23.6106</span><span style=\"font-weight: bold\">]</span>,\n",
       "         <span style=\"font-weight: bold\">[</span><span style=\"color: #008080; text-decoration-color: #008080; font-weight: bold\">-24.0315</span>, <span style=\"color: #008080; text-decoration-color: #008080; font-weight: bold\">-30.2644</span>, <span style=\"color: #008080; text-decoration-color: #008080; font-weight: bold\">-19.0938</span>,  <span style=\"color: #808000; text-decoration-color: #808000\">...</span>, <span style=\"color: #008080; text-decoration-color: #008080; font-weight: bold\">-16.5694</span>, <span style=\"color: #008080; text-decoration-color: #008080; font-weight: bold\">-20.5115</span>, <span style=\"color: #008080; text-decoration-color: #008080; font-weight: bold\">-30.1933</span><span style=\"font-weight: bold\">]]]</span>,\n",
       "       <span style=\"color: #808000; text-decoration-color: #808000\">device</span>=<span style=\"color: #008000; text-decoration-color: #008000\">'cuda:0'</span>, <span style=\"color: #808000; text-decoration-color: #808000\">grad_fn</span>=<span style=\"font-weight: bold\">&lt;</span><span style=\"color: #ff00ff; text-decoration-color: #ff00ff; font-weight: bold\">LogSoftmaxBackward0</span><span style=\"font-weight: bold\">&gt;)</span>\n",
       "</pre>\n"
      ],
      "text/plain": [
       "\u001b[1;35mtensor\u001b[0m\u001b[1m(\u001b[0m\u001b[1m[\u001b[0m\u001b[1m[\u001b[0m\u001b[1m[\u001b[0m \u001b[1;36m-7.2643\u001b[0m, \u001b[1;36m-19.5709\u001b[0m,  \u001b[1;36m-7.6404\u001b[0m,  \u001b[33m...\u001b[0m,  \u001b[1;36m-6.9616\u001b[0m,  \u001b[1;36m-5.8950\u001b[0m, \u001b[1;36m-19.6222\u001b[0m\u001b[1m]\u001b[0m,\n",
       "         \u001b[1m[\u001b[0m\u001b[1;36m-11.4722\u001b[0m, \u001b[1;36m-20.6810\u001b[0m,  \u001b[1;36m-8.7007\u001b[0m,  \u001b[33m...\u001b[0m,  \u001b[1;36m-9.4812\u001b[0m, \u001b[1;36m-10.1366\u001b[0m, \u001b[1;36m-21.0686\u001b[0m\u001b[1m]\u001b[0m,\n",
       "         \u001b[1m[\u001b[0m\u001b[1;36m-13.8800\u001b[0m, \u001b[1;36m-22.9900\u001b[0m, \u001b[1;36m-13.6649\u001b[0m,  \u001b[33m...\u001b[0m,  \u001b[1;36m-9.2058\u001b[0m,  \u001b[1;36m-5.4952\u001b[0m, \u001b[1;36m-22.7964\u001b[0m\u001b[1m]\u001b[0m,\n",
       "         \u001b[33m...\u001b[0m,\n",
       "         \u001b[1m[\u001b[0m\u001b[1;36m-15.7665\u001b[0m, \u001b[1;36m-22.7682\u001b[0m,  \u001b[1;36m-9.3684\u001b[0m,  \u001b[33m...\u001b[0m,  \u001b[1;36m-8.7865\u001b[0m,  \u001b[1;36m-7.1910\u001b[0m, \u001b[1;36m-22.9103\u001b[0m\u001b[1m]\u001b[0m,\n",
       "         \u001b[1m[\u001b[0m\u001b[1;36m-12.6527\u001b[0m, \u001b[1;36m-23.8203\u001b[0m,  \u001b[1;36m-7.6991\u001b[0m,  \u001b[33m...\u001b[0m,  \u001b[1;36m-7.2363\u001b[0m,  \u001b[1;36m-6.0367\u001b[0m, \u001b[1;36m-23.6106\u001b[0m\u001b[1m]\u001b[0m,\n",
       "         \u001b[1m[\u001b[0m\u001b[1;36m-24.0315\u001b[0m, \u001b[1;36m-30.2644\u001b[0m, \u001b[1;36m-19.0938\u001b[0m,  \u001b[33m...\u001b[0m, \u001b[1;36m-16.5694\u001b[0m, \u001b[1;36m-20.5115\u001b[0m, \u001b[1;36m-30.1933\u001b[0m\u001b[1m]\u001b[0m\u001b[1m]\u001b[0m\u001b[1m]\u001b[0m,\n",
       "       \u001b[33mdevice\u001b[0m=\u001b[32m'cuda:0'\u001b[0m, \u001b[33mgrad_fn\u001b[0m=\u001b[1m<\u001b[0m\u001b[1;95mLogSoftmaxBackward0\u001b[0m\u001b[1m>\u001b[0m\u001b[1m)\u001b[0m\n"
      ]
     },
     "metadata": {},
     "output_type": "display_data"
    },
    {
     "data": {
      "text/html": [
       "<pre style=\"white-space:pre;overflow-x:auto;line-height:normal;font-family:Menlo,'DejaVu Sans Mono',consolas,'Courier New',monospace\"><span style=\"font-weight: bold\">&lt;</span><span style=\"color: #ff00ff; text-decoration-color: #ff00ff; font-weight: bold\">table</span><span style=\"font-weight: bold\">&gt;&lt;</span><span style=\"color: #ff00ff; text-decoration-color: #ff00ff; font-weight: bold\">tr</span><span style=\"font-weight: bold\">&gt;&lt;</span><span style=\"color: #ff00ff; text-decoration-color: #ff00ff; font-weight: bold\">th</span><span style=\"font-weight: bold\">&gt;</span>Model name&lt;<span style=\"color: #800080; text-decoration-color: #800080\">/</span><span style=\"color: #ff00ff; text-decoration-color: #ff00ff\">th</span>\n",
       "</pre>\n"
      ],
      "text/plain": [
       "\u001b[1m<\u001b[0m\u001b[1;95mtable\u001b[0m\u001b[1m>\u001b[0m\u001b[1m<\u001b[0m\u001b[1;95mtr\u001b[0m\u001b[1m>\u001b[0m\u001b[1m<\u001b[0m\u001b[1;95mth\u001b[0m\u001b[1m>\u001b[0mModel name<\u001b[35m/\u001b[0m\u001b[95mth\u001b[0m\n"
      ]
     },
     "metadata": {},
     "output_type": "display_data"
    }
   ],
   "source": [
    "# Example prompts to run through the model\n",
    "prompts = [\n",
    "    \"<h1>Title\",\n",
    "    \"<b>Some bold text</\",\n",
    "    \"<p>An interesting paragraph</\",\n",
    "    \"<table><tr><th>Model name\"\n",
    "]\n",
    "\n",
    "# Run each prompt (with a few tokens appended by the model)\n",
    "for prompt in prompts:\n",
    "    result = prompt\n",
    "    \n",
    "    additional_tokens = 2\n",
    "    for i in range(additional_tokens):\n",
    "        next_token = get_next_token(result)\n",
    "        result = result + next_token\n",
    "        \n",
    "    print(result)"
   ]
  }
 ],
 "metadata": {
  "kernelspec": {
   "display_name": "Python 3 (ipykernel)",
   "language": "python",
   "name": "python3"
  },
  "language_info": {
   "codemirror_mode": {
    "name": "ipython",
    "version": 3
   },
   "file_extension": ".py",
   "mimetype": "text/x-python",
   "name": "python",
   "nbconvert_exporter": "python",
   "pygments_lexer": "ipython3",
   "version": "3.9.5"
  },
  "vscode": {
   "interpreter": {
    "hash": "f9f85f796d01129d0dd105a088854619f454435301f6ffec2fea96ecbd9be4ac"
   }
  }
 },
 "nbformat": 4,
 "nbformat_minor": 5
}
