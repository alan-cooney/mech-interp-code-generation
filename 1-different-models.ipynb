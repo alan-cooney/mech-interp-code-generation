{
 "cells": [
  {
   "cell_type": "markdown",
   "metadata": {},
   "source": [
    "# Different Models\n",
    "\n",
    "The first aim here is to find tasks that some models can do but others can't (so that we know something interesting is happening, rather than just e.g. skip trigrams). There are a variety of models to do this with, within [EasyTransformer](https://github.com/neelnanda-io/Easy-Transformer)."
   ]
  },
  {
   "cell_type": "markdown",
   "metadata": {},
   "source": [
    "## Imports"
   ]
  },
  {
   "cell_type": "code",
   "execution_count": 1,
   "metadata": {},
   "outputs": [],
   "source": [
    "!pip install git+https://github.com/neelnanda-io/Easy-Transformer ipython torchtyping\n",
    "\n",
    "# Clear output\n",
    "from IPython.display import clear_output\n",
    "clear_output()"
   ]
  },
  {
   "cell_type": "code",
   "execution_count": 2,
   "metadata": {},
   "outputs": [
    {
     "name": "stderr",
     "output_type": "stream",
     "text": [
      "/tmp/ipykernel_32/3008362227.py:3: DeprecationWarning: Importing clear_output from IPython.core.display is deprecated since IPython 7.14, please import from IPython display\n",
      "  from IPython.core.display import HTML, clear_output\n"
     ]
    }
   ],
   "source": [
    "from easy_transformer import EasyTransformer\n",
    "import torch\n",
    "from IPython.core.display import HTML, clear_output\n",
    "from typing import List\n",
    "import pandas as pd\n",
    "import copy\n",
    "import numpy as np\n",
    "from torchtyping import TensorType\n",
    "from torch.nn import functional as F"
   ]
  },
  {
   "cell_type": "markdown",
   "metadata": {},
   "source": [
    "## Models available"
   ]
  },
  {
   "cell_type": "code",
   "execution_count": 3,
   "metadata": {},
   "outputs": [
    {
     "data": {
      "text/plain": [
       "'gpt2, gpt2-medium, gpt2-large, gpt2-xl, distilgpt2, facebook/opt-125m, facebook/opt-1.3b, facebook/opt-2.7b, facebook/opt-6.7b, facebook/opt-13b, facebook/opt-30b, facebook/opt-66b, EleutherAI/gpt-neo-125M, EleutherAI/gpt-neo-1.3B, EleutherAI/gpt-neo-2.7B, EleutherAI/gpt-j-6B, EleutherAI/gpt-neox-20b, stanford-crfm/alias-gpt2-small-x21, stanford-crfm/battlestar-gpt2-small-x49, stanford-crfm/caprica-gpt2-small-x81, stanford-crfm/darkmatter-gpt2-small-x343, stanford-crfm/expanse-gpt2-small-x777, stanford-crfm/arwen-gpt2-medium-x21, stanford-crfm/beren-gpt2-medium-x49, stanford-crfm/celebrimbor-gpt2-medium-x81, stanford-crfm/durin-gpt2-medium-x343, stanford-crfm/eowyn-gpt2-medium-x777, EleutherAI/pythia-19m, EleutherAI/pythia-125m, EleutherAI/pythia-350m, EleutherAI/pythia-800m, EleutherAI/pythia-1.3b, EleutherAI/pythia-6.7b, EleutherAI/pythia-13b, EleutherAI/pythia-125m-deduped, EleutherAI/pythia-800m-deduped, EleutherAI/pythia-1.3b-deduped, EleutherAI/pythia-6.7b-deduped, NeelNanda/SoLU_1L_v9_old, NeelNanda/SoLU_2L_v10_old, NeelNanda/SoLU_4L_v11_old, NeelNanda/SoLU_6L_v13_old, NeelNanda/SoLU_8L_v21_old, NeelNanda/SoLU_10L_v22_old, NeelNanda/SoLU_12L_v23_old, NeelNanda/SoLU_1L512W_C4_Code, NeelNanda/SoLU_2L512W_C4_Code, NeelNanda/SoLU_3L512W_C4_Code, NeelNanda/SoLU_4L512W_C4_Code, NeelNanda/SoLU_6L768W_C4_Code, NeelNanda/SoLU_8L1024W_C4_Code, NeelNanda/SoLU_10L1280W_C4_Code, NeelNanda/SoLU_12L1536W_C4_Code, NeelNanda/GELU_1L512W_C4_Code, NeelNanda/GELU_2L512W_C4_Code, NeelNanda/GELU_3L512W_C4_Code, NeelNanda/GELU_4L512W_C4_Code, NeelNanda/Attn_Only_1L512W_C4_Code, NeelNanda/Attn_Only_2L512W_C4_Code, NeelNanda/Attn_Only_3L512W_C4_Code, NeelNanda/Attn_Only_4L512W_C4_Code, NeelNanda/Attn-Only-2L512W-Shortformer-6B-big-lr'"
      ]
     },
     "execution_count": 3,
     "metadata": {},
     "output_type": "execute_result"
    }
   ],
   "source": [
    "from easy_transformer import loading_from_pretrained\n",
    "\", \".join(loading_from_pretrained.OFFICIAL_MODEL_NAMES)"
   ]
  },
  {
   "cell_type": "markdown",
   "metadata": {},
   "source": [
    "## Introduction"
   ]
  },
  {
   "cell_type": "markdown",
   "metadata": {},
   "source": [
    "Code completion in language models is pretty sophisticated. For example GitHub Copilot successfully solves problem prompts with solutions, like this."
   ]
  },
  {
   "cell_type": "markdown",
   "metadata": {},
   "source": [
    "### Python prompt"
   ]
  },
  {
   "cell_type": "markdown",
   "metadata": {},
   "source": [
    "Starting with this prompt from a coding test:\n",
    "\n",
    "```python\n",
    "# Two Sum\n",
    "\n",
    "# Given an array of integers nums and an integer target, return indices of the two numbers such that they add up to target.\n",
    "\n",
    "# You may assume that each input would have exactly one solution, and you may not use the same element twice.\n",
    "\n",
    "# You can return the answer in any order.\n",
    "\n",
    "class Solution(object):\n",
    "    def twoSum(self, nums, target):\n",
    "```"
   ]
  },
  {
   "cell_type": "markdown",
   "metadata": {},
   "source": [
    "### Solution"
   ]
  },
  {
   "cell_type": "markdown",
   "metadata": {},
   "source": [
    "```python\n",
    "\"\"\"\n",
    ":type nums1: List[int]\n",
    ":type nums2: List[int]\n",
    ":rtype: float\n",
    "\"\"\"\n",
    "nums1.extend(nums2)\n",
    "nums1.sort()\n",
    "if len(nums1)%2 == 0:\n",
    "    return (nums1[len(nums1)//2] + nums1[len(nums1)//2 - 1])/2\n",
    "else:\n",
    "    return nums1[len(nums1)//2]\n",
    "```\n",
    "\n",
    "\n",
    "Some interesting observations of learnt skills here include:\n",
    "\n",
    "- Deep stuff: understanding the problem from the comments, and formulating a high level solution.\n",
    "- Keeping track of if/else blocks & brackets\n",
    "- Using previously defined variables (perhaps similar to induction heads)\n",
    "- Knowing variable types (both primitives and library types)\n",
    "- Knowing the methods within classes\n",
    "- Understanding underlying maths (e.g. what modulus and floor divide actually do)\n",
    "- Understanding broadly how a function works (e.g. it typically returns something)\n",
    "- Known line spacing"
   ]
  },
  {
   "cell_type": "markdown",
   "metadata": {},
   "source": [
    "## Finding interesting problems for different models"
   ]
  },
  {
   "cell_type": "markdown",
   "metadata": {},
   "source": [
    "### Models to try"
   ]
  },
  {
   "cell_type": "code",
   "execution_count": 4,
   "metadata": {},
   "outputs": [],
   "source": [
    "# Models to use\n",
    "models = [\n",
    "    \"NeelNanda/SoLU_1L512W_C4_Code\", \n",
    "    \"NeelNanda/SoLU_2L512W_C4_Code\",\n",
    "    \"NeelNanda/SoLU_3L512W_C4_Code\", \n",
    "    \"NeelNanda/SoLU_4L512W_C4_Code\", \n",
    "    # \"NeelNanda/SoLU_6L768W_C4_Code\", \n",
    "    # \"NeelNanda/SoLU_8L1024W_C4_Code\", \n",
    "    # \"NeelNanda/SoLU_10L1280W_C4_Code\", \n",
    "    # \"NeelNanda/SoLU_12L1536W_C4_Code\", \n",
    "    # \"NeelNanda/GELU_1L512W_C4_Code\", \n",
    "    # \"NeelNanda/GELU_2L512W_C4_Code\", \n",
    "    # \"NeelNanda/GELU_3L512W_C4_Code\", \n",
    "    # \"NeelNanda/GELU_4L512W_C4_Code\", \n",
    "    \"NeelNanda/Attn_Only_1L512W_C4_Code\", \n",
    "    \"NeelNanda/Attn_Only_2L512W_C4_Code\", \n",
    "    \"NeelNanda/Attn_Only_3L512W_C4_Code\", \n",
    "    \"NeelNanda/Attn_Only_4L512W_C4_Code\",\n",
    "    # \"gpt2\",\n",
    "    # \"gpt2-medium\"\n",
    "]"
   ]
  },
  {
   "cell_type": "markdown",
   "metadata": {},
   "source": [
    "### Prompt"
   ]
  },
  {
   "cell_type": "code",
   "execution_count": 5,
   "metadata": {},
   "outputs": [],
   "source": [
    "# Prompt (The main CircuitsVis render functionality)\n",
    "prompt = '''import json\n",
    "import subprocess\n",
    "from pathlib import Path\n",
    "from typing import Optional\n",
    "from uuid import uuid4\n",
    "\n",
    "REACT_DIR = Path(__file__).parent.parent.parent / \"react\"\n",
    "\n",
    "\n",
    "class RenderedHTML:\n",
    "    \"\"\"Rendered HTML\n",
    "    Enables rendering HTML in a variety of situations (e.g. Jupyter Lab)\n",
    "    \"\"\"\n",
    "\n",
    "    def __init__(self, src: str):\n",
    "        self.src = src\n",
    "\n",
    "    def _repr_html_(self) -> str:\n",
    "        \"\"\"Jupyter/Colab HTML Representation\n",
    "        When Jupyter sees this method, it renders the HTML.\n",
    "        Returns:\n",
    "            str: HTML for Jupyter/Colab\n",
    "        \"\"\"\n",
    "        return self.src\n",
    "\n",
    "    def __html__(self) -> str:\n",
    "        \"\"\"Used by some tooling as an alternative to _repr_html_\"\"\"\n",
    "        return self.src\n",
    "\n",
    "    def show_code(self) -> str:\n",
    "        \"\"\"Show the code as source-code\n",
    "        Returns:\n",
    "            str: HTML source code\n",
    "        \"\"\"\n",
    "        return self.src\n",
    "\n",
    "    def __str__(self):\n",
    "        \"\"\"String type conversion handler\"\"\"\n",
    "        return self.src\n",
    "\n",
    "\n",
    "def install_if_necessary() -> None:\n",
    "    \"\"\"Install node modules if they're missing.\"\"\"\n",
    "    node_modules = REACT_DIR / \"node_modules\"\n",
    "    if not node_modules.exists():\n",
    "        subprocess.run(\n",
    "            [\"yarn\"],\n",
    "            cwd=REACT_DIR,\n",
    "            capture_output=True,\n",
    "            text=True,\n",
    "            check=True\n",
    "        )\n",
    "\n",
    "\n",
    "def bundle_source() -> None:\n",
    "    \"\"\"Bundle up the JavaScript/TypeScript source files\"\"\"\n",
    "    subprocess.run([\n",
    "        \"yarn\",\n",
    "        \"buildBrowser\"\n",
    "    ],\n",
    "        cwd=REACT_DIR,\n",
    "        capture_output=True,\n",
    "        text=True,\n",
    "        check=True\n",
    "    )\n",
    "\n",
    "\n",
    "def render_dev(react_element_name: str, **kwargs) -> RenderedHTML:\n",
    "    \"\"\"Render (during development)\"\"\"\n",
    "    # Create a random ID for the div (that we render into)\n",
    "    # This is done to avoid name clashes on a page with many rendered\n",
    "    # CircuitsVis elements. Note we shorten the UUID to be a reasonable length\n",
    "    uuid = \"circuits-vis-\" + str(uuid4())[:13]\n",
    "\n",
    "    # Stringify keyword args\n",
    "    props = json.dumps(kwargs)\n",
    "\n",
    "    # Build\n",
    "    install_if_necessary()\n",
    "    bundle_source()\n",
    "\n",
    "    # Load the JS\n",
    "    filename = REACT_DIR / \"dist\" / \"cdn\" / \"iife.js\"\n",
    "    with open(filename, encoding=\"utf-8\") as file:\n",
    "        inline_js = file.read()\n",
    "\n",
    "    html = f\"\"\"<div id=\"{uuid}\"/>\n",
    "    <script crossorigin type=\"module\">\n",
    "    {inline_js}\n",
    "    \n",
    "    CircuitsVis.render(\n",
    "      \"{uuid}\",\n",
    "      CircuitsVis.{react_element_name},\n",
    "      {props}\n",
    "    )\n",
    "    </script>\"\"\"\n",
    "\n",
    "    return RenderedHTML(html)\n",
    "\n",
    "\n",
    "def render_prod(react_element_name: str, **kwargs) -> RenderedHTML:\n",
    "    \"\"\"Render (for production)\"\"\"\n",
    "    # Create a random ID for the div (that we render into)\n",
    "    # This is done to avoid name clashes on a page with many rendered\n",
    "    # CircuitsVis elements. Note we shorten the UUID to be a reasonable length\n",
    "    uuid = \"circuits-vis-\" + str(uuid4())[:13]\n",
    "\n",
    "    # Stringify keyword args\n",
    "    props = json.dumps(kwargs)\n",
    "\n",
    "    html = f\"\"\"<div id=\"{uuid}\"/>\n",
    "    <script crossorigin type=\"module\">\n",
    "    import {\"{ render, \"+ react_element_name + \" }\"} from \"https://unpkg.com/circuitsvis/dist/cdn/esm.js\";\n",
    "    render(\n",
    "      \"{uuid}\",\n",
    "      {react_element_name},\n",
    "      {props}\n",
    "    )\n",
    "    </script>\"\"\"\n",
    "\n",
    "    return RenderedHTML(html)'''"
   ]
  },
  {
   "cell_type": "markdown",
   "metadata": {},
   "source": [
    "### Try prompt with all models"
   ]
  },
  {
   "cell_type": "code",
   "execution_count": 6,
   "metadata": {},
   "outputs": [],
   "source": [
    "model_results = {}\n",
    "\n",
    "for model_idx, model_name in enumerate(models):\n",
    "    # Free up CUDA memory (from previous model)\n",
    "    torch.cuda.empty_cache()\n",
    "    \n",
    "    # Load up the model\n",
    "    model = EasyTransformer.from_pretrained(model_name)\n",
    "    \n",
    "    # Get the predictions\n",
    "    logits: TensorType[\"batch\", \"position\", \"vocab\"] = model(prompt)\n",
    "    logits_single_batch: TensorType[\"position\", \"vocab\"] = logits[0]\n",
    "    logits_except_last: TensorType[\"position\", \"vocab\"] = logits_single_batch[1:-1, :] # We also remove the first (start of sequence token)\n",
    "    # predictions: TensorType[\"batch\", \"position\", \"vocab\"] = torch.argmax(logits, 2)\n",
    "    \n",
    "    # Get the probabilities\n",
    "    probabilities: TensorType[\"position\", \"vocab\"] = F.softmax(logits_except_last, dim=1)\n",
    "    probabilities_np = probabilities.detach().cpu().numpy()\n",
    "    \n",
    "    # Get the probabilities of the correct tokens\n",
    "    correct_tokens = model.tokenizer.encode(prompt)[1:]\n",
    "    correct_tokens_np = np.array(correct_tokens)\n",
    "    \n",
    "    print(correct_tokens_np.shape, probabilities_np.shape) # (856,) torch.Size([856, 48262])\n",
    "    probabilities_correct = probabilities_np[np.arange(len(probabilities_np)),correct_tokens_np]\n",
    "    \n",
    "    \n",
    "    \n",
    "    # predictions_except_last = predictions.cpu().squeeze().numpy()[1:-1]\n",
    "    # accurate = np.equal(np.array(correct_tokens),(predictions_except_last))\n",
    "    \n",
    "    # Store\n",
    "    model_results[model_name] = probabilities_correct\n",
    "\n",
    "    \n",
    "clear_output()     \n",
    "\n",
    "# Create the results DataFrame\n",
    "results = pd.DataFrame(model_results)\n",
    "\n",
    "# Set the token labels\n",
    "tokens = model.tokenizer.encode(prompt)\n",
    "token_labels = [model.tokenizer.decode(token) for token in tokens[0:-1]]\n",
    "results.insert(0, \"Token\", token_labels)"
   ]
  },
  {
   "cell_type": "code",
   "execution_count": 11,
   "metadata": {},
   "outputs": [
    {
     "data": {
      "text/plain": [
       "NeelNanda/SoLU_1L512W_C4_Code         28.01%\n",
       "NeelNanda/SoLU_2L512W_C4_Code         47.57%\n",
       "NeelNanda/SoLU_3L512W_C4_Code         49.94%\n",
       "NeelNanda/SoLU_4L512W_C4_Code         51.09%\n",
       "NeelNanda/Attn_Only_1L512W_C4_Code    23.76%\n",
       "NeelNanda/Attn_Only_2L512W_C4_Code    41.71%\n",
       "NeelNanda/Attn_Only_3L512W_C4_Code    45.06%\n",
       "NeelNanda/Attn_Only_4L512W_C4_Code    46.81%\n",
       "dtype: object"
      ]
     },
     "execution_count": 11,
     "metadata": {},
     "output_type": "execute_result"
    }
   ],
   "source": [
    "# Show the average probability of the correct tokens by model\n",
    "results_by_model = pd.DataFrame(model_results)\n",
    "average_results_by_model = results_by_model.mean()\n",
    "average_results_by_model.apply(lambda x: \"{:.2%}\".format(x))"
   ]
  },
  {
   "cell_type": "code",
   "execution_count": 27,
   "metadata": {},
   "outputs": [],
   "source": [
    "def compare_model_correct_token_probability(modelA: str, modelB: str) -> pd.DataFrame:\n",
    "    \"\"\"Compare the correct token probabilities of two models\n",
    "\n",
    "    Args:\n",
    "        modelA (str): Model name (of model that is expected to be better)\n",
    "        modelB (str): Model name (of model that is expected to be worse)\n",
    "\n",
    "    Returns:\n",
    "        pd.DataFrame: DataFrame with the relative accuracy of each model\n",
    "    \"\"\"\n",
    "    relevant_results = results[[\"Token\",modelA, modelB]]\n",
    "    diff = relevant_results[modelA] - relevant_results[modelB]\n",
    "    relevant_results.insert(3, \"Difference\", diff)\n",
    "    relevant_results = relevant_results.sort_values(by=\"Difference\", ascending=False)\n",
    "    return relevant_results"
   ]
  },
  {
   "cell_type": "code",
   "execution_count": 23,
   "metadata": {},
   "outputs": [
    {
     "data": {
      "text/plain": [
       "array([[<AxesSubplot:title={'center':'Difference'}>]], dtype=object)"
      ]
     },
     "execution_count": 23,
     "metadata": {},
     "output_type": "execute_result"
    },
    {
     "data": {
      "image/png": "[encoded data removed]",
      "text/plain": [
       "<Figure size 432x288 with 1 Axes>"
      ]
     },
     "metadata": {
      "needs_background": "light"
     },
     "output_type": "display_data"
    }
   ],
   "source": [
    "mlp_difference = compare_model_correct_token_probability(\"NeelNanda/SoLU_1L512W_C4_Code\", \"NeelNanda/Attn_Only_1L512W_C4_Code\")\n",
    "mlp_difference.hist(column=\"Difference\", bins=10)"
   ]
  },
  {
   "cell_type": "code",
   "execution_count": 24,
   "metadata": {},
   "outputs": [
    {
     "data": {
      "text/plain": [
       "array([[<AxesSubplot:title={'center':'Difference'}>]], dtype=object)"
      ]
     },
     "execution_count": 24,
     "metadata": {},
     "output_type": "execute_result"
    },
    {
     "data": {
      "image/png": "[encoded data removed]",
      "text/plain": [
       "<Figure size 432x288 with 1 Axes>"
      ]
     },
     "metadata": {
      "needs_background": "light"
     },
     "output_type": "display_data"
    }
   ],
   "source": [
    "two_vs_one_layer = compare_model_correct_token_probability(\"NeelNanda/Attn_Only_2L512W_C4_Code\", \"NeelNanda/Attn_Only_1L512W_C4_Code\")\n",
    "two_vs_one_layer.hist(column=\"Difference\", bins=10)"
   ]
  },
  {
   "cell_type": "code",
   "execution_count": 26,
   "metadata": {},
   "outputs": [
    {
     "data": {
      "text/plain": [
       "array([[<AxesSubplot:title={'center':'Difference'}>]], dtype=object)"
      ]
     },
     "execution_count": 26,
     "metadata": {},
     "output_type": "execute_result"
    },
    {
     "data": {
      "image/png": "[encoded data removed]",
      "text/plain": [
       "<Figure size 432x288 with 1 Axes>"
      ]
     },
     "metadata": {
      "needs_background": "light"
     },
     "output_type": "display_data"
    }
   ],
   "source": [
    "three_vs_two_layer = compare_model_correct_token_probability(\"NeelNanda/Attn_Only_3L512W_C4_Code\", \"NeelNanda/Attn_Only_2L512W_C4_Code\")\n",
    "three_vs_two_layer.hist(column=\"Difference\", bins=10)"
   ]
  }
 ],
 "metadata": {
  "kernelspec": {
   "display_name": "Python 3 (ipykernel)",
   "language": "python",
   "name": "python3"
  },
  "language_info": {
   "codemirror_mode": {
    "name": "ipython",
    "version": 3
   },
   "file_extension": ".py",
   "mimetype": "text/x-python",
   "name": "python",
   "nbconvert_exporter": "python",
   "pygments_lexer": "ipython3",
   "version": "3.9.13"
  },
  "orig_nbformat": 4,
  "vscode": {
   "interpreter": {
    "hash": "949777d72b0d2535278d3dc13498b2535136f6dfe0678499012e853ee9abcab1"
   }
  }
 },
 "nbformat": 4,
 "nbformat_minor": 2
}
