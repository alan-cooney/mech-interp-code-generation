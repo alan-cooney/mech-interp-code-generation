{
 "cells": [
  {
   "cell_type": "markdown",
   "metadata": {},
   "source": [
    "# Comparison of MLP vs Transformer-Only Models\n",
    "\n",
    "Comparison of models, using a dataset of python code. The aim is to find\n",
    "interesting prompts where an MLP layer is required to accurately predict next tokens.\n"
   ]
  },
  {
   "cell_type": "markdown",
   "metadata": {},
   "source": [
    "## Imports"
   ]
  },
  {
   "cell_type": "code",
   "execution_count": 1,
   "metadata": {},
   "outputs": [
    {
     "name": "stderr",
     "output_type": "stream",
     "text": [
      "/tmp/ipykernel_28701/1771121644.py:3: DeprecationWarning: Importing clear_output from IPython.core.display is deprecated since IPython 7.14, please import from IPython display\n",
      "  from IPython.core.display import clear_output\n"
     ]
    }
   ],
   "source": [
    "from easy_transformer import EasyTransformer\n",
    "import torch\n",
    "from IPython.core.display import display\n",
    "from ipywidgets import widgets\n",
    "from typing import List\n",
    "import pandas as pd\n",
    "import numpy as np\n",
    "from torchtyping import TensorType\n",
    "from torch.nn import functional as F\n",
    "from einops import rearrange\n",
    "import plotly.express as px\n",
    "import matplotlib.pyplot as plt\n",
    "from datasets import load_dataset\n",
    "from tqdm import tqdm\n",
    "from circuitsvis.tokens import colored_tokens\n",
    "from codegen import infer"
   ]
  },
  {
   "cell_type": "markdown",
   "metadata": {},
   "source": [
    "## Run the models on the code dataset\n",
    "\n",
    "Run all models (or load from checkpoints if they already exist)."
   ]
  },
  {
   "cell_type": "code",
   "execution_count": 2,
   "metadata": {},
   "outputs": [
    {
     "name": "stdout",
     "output_type": "stream",
     "text": [
      "Loading model: NeelNanda/Attn_Only_1L512W_C4_Code\n",
      "Moving model to device:  cuda\n",
      "Finished loading pretrained model NeelNanda/Attn_Only_1L512W_C4_Code into EasyTransformer!\n"
     ]
    },
    {
     "name": "stderr",
     "output_type": "stream",
     "text": [
      "Using custom data configuration NeelNanda--code-tokenized-d313277bd840bb66\n",
      "Found cached dataset parquet (/home/user/.cache/huggingface/datasets/NeelNanda___parquet/NeelNanda--code-tokenized-d313277bd840bb66/0.0.0/2a3b91fbd88a2c90d1dbbb32b460cf621d31bd5b05b934492fdef7d8d6f236ec)\n"
     ]
    },
    {
     "name": "stdout",
     "output_type": "stream",
     "text": [
      "Running NeelNanda/Attn_Only_1L512W_C4_Code\n"
     ]
    },
    {
     "name": "stderr",
     "output_type": "stream",
     "text": [
      " 34%|███▎      | 9999/29726 [11:25<22:22, 14.69it/s]"
     ]
    }
   ],
   "source": [
    "models = [\n",
    "        \"NeelNanda/SoLU_1L512W_C4_Code\",\n",
    "        # \"NeelNanda/SoLU_2L512W_C4_Code\",\n",
    "        # \"NeelNanda/SoLU_3L512W_C4_Code\",\n",
    "        # \"NeelNanda/SoLU_4L512W_C4_Code\",\n",
    "        # \"NeelNanda/SoLU_6L768W_C4_Code\",\n",
    "        # \"NeelNanda/SoLU_8L1024W_C4_Code\",\n",
    "        # \"NeelNanda/SoLU_10L1280W_C4_Code\",\n",
    "        # \"NeelNanda/SoLU_12L1536W_C4_Code\",\n",
    "        # \"NeelNanda/GELU_1L512W_C4_Code\",\n",
    "        # \"NeelNanda/GELU_2L512W_C4_Code\",\n",
    "        # \"NeelNanda/GELU_3L512W_C4_Code\",\n",
    "        # \"NeelNanda/GELU_4L512W_C4_Code\",\n",
    "        \"NeelNanda/Attn_Only_1L512W_C4_Code\",\n",
    "        # \"NeelNanda/Attn_Only_2L512W_C4_Code\",\n",
    "        # \"NeelNanda/Attn_Only_3L512W_C4_Code\",\n",
    "        # \"NeelNanda/Attn_Only_4L512W_C4_Code\",\n",
    "        # \"gpt2\",\n",
    "        # \"gpt2-medium\"\n",
    "    ]\n",
    "\n",
    "results = {}\n",
    "for model_name in models:\n",
    "    results[model_name] = infer.run_model(model_name)\n",
    "\n",
    "results.keys(), list(results.values())[0].shape"
   ]
  },
  {
   "cell_type": "markdown",
   "metadata": {},
   "source": [
    "### Get the prompts for this dataset"
   ]
  },
  {
   "cell_type": "code",
   "execution_count": null,
   "metadata": {},
   "outputs": [],
   "source": [
    "prompts_dataset = load_dataset(\"NeelNanda/code-tokenized\", split=\"train\")\n",
    "\n",
    "prompts_tokens: List[List[int]] = []\n",
    "for prompt_tokens in tqdm(prompts_dataset):\n",
    "    prompts_tokens.append(prompt_tokens[\"tokens\"])\n",
    "\n",
    "# Get the prompts tokens\n",
    "prompts_tokens = np.array(prompts_tokens)\n",
    "\n",
    "prompts_tokens.shape"
   ]
  },
  {
   "cell_type": "markdown",
   "metadata": {},
   "source": [
    "## Model comparison aggregate results"
   ]
  },
  {
   "cell_type": "code",
   "execution_count": null,
   "metadata": {},
   "outputs": [
    {
     "data": {
      "text/plain": [
       "(297000, 1023)"
      ]
     },
     "execution_count": 64,
     "metadata": {},
     "output_type": "execute_result"
    }
   ],
   "source": [
    "# Get the difference in performance between models\n",
    "prob_diff = np.exp(results[\"NeelNanda/SoLU_1L512W_C4_Code\"]) \\\n",
    "    - np.exp(results[\"NeelNanda/Attn_Only_1L512W_C4_Code\"])\n",
    "\n",
    "prob_diff.shape"
   ]
  },
  {
   "cell_type": "markdown",
   "metadata": {},
   "source": [
    "### Histogram of differences by token"
   ]
  },
  {
   "cell_type": "code",
   "execution_count": null,
   "metadata": {},
   "outputs": [],
   "source": [
    "prob_diff_flat: np.ndarray = prob_diff.flatten()\n",
    "plt.hist(prob_diff_flat, bins=100)"
   ]
  },
  {
   "cell_type": "markdown",
   "metadata": {},
   "source": [
    "### Histogram of differences by prompt"
   ]
  },
  {
   "cell_type": "code",
   "execution_count": null,
   "metadata": {},
   "outputs": [],
   "source": [
    "prob_diff_by_prompt = np.mean(prob_diff, axis=-1)\n",
    "plt.hist(prob_diff_by_prompt, bins=100)"
   ]
  },
  {
   "cell_type": "markdown",
   "metadata": {},
   "source": [
    "## Prompts that are most impacted by adding MLP layers"
   ]
  },
  {
   "cell_type": "code",
   "execution_count": null,
   "metadata": {},
   "outputs": [],
   "source": [
    "# Rank the prompts by number of tokens that are significantly better with the\n",
    "# MLP layer\n",
    "threshold = 0.1\n",
    "count_prob_diff_above_threshold = np.sum(prob_diff > threshold, axis=-1)\n",
    "ranked_prompts = pd.DataFrame({\"count_significant\": count_prob_diff_above_threshold})\n",
    "ranked_prompts.sort_values(by=\"count_significant\", ascending=False, inplace=True)\n",
    "prompt_ids_ranked = ranked_prompts.index.values\n",
    "\n",
    "# Show histogram for the number of tokens that are significantly better, per prompt\n",
    "ranked_prompts.hist(bins=100)"
   ]
  },
  {
   "cell_type": "markdown",
   "metadata": {},
   "source": [
    "### Dropdown to view prob diff by token, for different prompts"
   ]
  },
  {
   "cell_type": "code",
   "execution_count": null,
   "metadata": {},
   "outputs": [],
   "source": [
    "def show_prob_diff_colored_tokens(prompt_id: int) -> None:\n",
    "    prompt_token_diff = prob_diff[prompt_id, :]\n",
    "    \n",
    "    tokenizer = EasyTransformer.from_pretrained(\"NeelNanda/SoLU_1L512W_C4_Code\").tokenizer\n",
    "    token_strings = [tokenizer.decode(t) for t in prompt_tokens[prompt_id]][0:-1]\n",
    "    \n",
    "    return colored_tokens(\n",
    "        values=prompt_token_diff,\n",
    "        tokens=token_strings,\n",
    "        min_value=0,\n",
    "        max_value=1,\n",
    "        max_color=\"green\",\n",
    "    )\n",
    "    \n",
    "w = widgets.Dropdown(\n",
    "    options=prompt_ids_ranked,\n",
    "    value='Prompt ID',\n",
    ")\n",
    "\n",
    "def on_change(change):\n",
    "    if change['type'] == 'change' and change['name'] == 'value':\n",
    "        display(show_prob_diff_colored_tokens(change['new']))\n",
    "\n",
    "w.observe(on_change)\n",
    "\n",
    "display(w)"
   ]
  },
  {
   "cell_type": "markdown",
   "metadata": {},
   "source": [
    "### Prompt"
   ]
  },
  {
   "cell_type": "markdown",
   "metadata": {},
   "source": [
    "### Try a specific prompt with all models"
   ]
  },
  {
   "cell_type": "code",
   "execution_count": null,
   "metadata": {},
   "outputs": [
    {
     "data": {
      "text/plain": [
       "str"
      ]
     },
     "execution_count": 136,
     "metadata": {},
     "output_type": "execute_result"
    }
   ],
   "source": [
    "prompt_tokens = prompts_tokens[255803][1:] # Remove the first token as it's added in again\n",
    "prompt = model.tokenizer.decode(prompt_tokens)\n",
    "type(prompt)"
   ]
  },
  {
   "cell_type": "code",
   "execution_count": null,
   "metadata": {},
   "outputs": [],
   "source": [
    "model_results = {}\n",
    "\n",
    "for model_idx, model_name in enumerate(models):\n",
    "    # Free up CUDA memory (from previous model)\n",
    "    torch.cuda.empty_cache()\n",
    "    \n",
    "    # Load up the model\n",
    "    model = EasyTransformer.from_pretrained(model_name)\n",
    "    \n",
    "    # Get the predictions\n",
    "    logits: TensorType[\"batch\", \"position\", \"vocab\"] = model(prompt)\n",
    "    logits_single_batch: TensorType[\"position\", \"vocab\"] = logits[0]\n",
    "    logits_except_last: TensorType[\"position\", \"vocab\"] = logits_single_batch[1:-1, :] # We also remove the first (start of sequence token)\n",
    "    # predictions: TensorType[\"batch\", \"position\", \"vocab\"] = torch.argmax(logits, 2)\n",
    "    \n",
    "    # Get the probabilities\n",
    "    probabilities: TensorType[\"position\", \"vocab\"] = F.softmax(logits_except_last, dim=1)\n",
    "    probabilities_np = probabilities.detach().cpu().numpy()\n",
    "    \n",
    "    # Get the probabilities of the correct tokens\n",
    "    correct_tokens = model.tokenizer.encode(prompt)[1:]\n",
    "    correct_tokens_np = np.array(correct_tokens)\n",
    "    \n",
    "    print(correct_tokens_np.shape, probabilities_np.shape) # (856,) torch.Size([856, 48262])\n",
    "    probabilities_correct = probabilities_np[np.arange(len(probabilities_np)),correct_tokens_np]\n",
    "    \n",
    "    \n",
    "    \n",
    "    # predictions_except_last = predictions.cpu().squeeze().numpy()[1:-1]\n",
    "    # accurate = np.equal(np.array(correct_tokens),(predictions_except_last))\n",
    "    \n",
    "    # Store\n",
    "    model_results[model_name] = probabilities_correct\n",
    "\n",
    "    \n",
    "clear_output()     \n",
    "\n",
    "# Create the results DataFrame\n",
    "results = pd.DataFrame(model_results)\n",
    "\n",
    "# Set the token labels\n",
    "tokens = model.tokenizer.encode(prompt)\n",
    "token_labels = [model.tokenizer.decode(token) for token in tokens[0:-1]]\n",
    "results.insert(0, \"Token\", token_labels)"
   ]
  },
  {
   "cell_type": "code",
   "execution_count": null,
   "metadata": {},
   "outputs": [
    {
     "data": {
      "text/plain": [
       "NeelNanda/SoLU_1L512W_C4_Code         39.09%\n",
       "NeelNanda/Attn_Only_1L512W_C4_Code    34.15%\n",
       "dtype: object"
      ]
     },
     "execution_count": 138,
     "metadata": {},
     "output_type": "execute_result"
    }
   ],
   "source": [
    "# Show the average probability of the correct tokens by model\n",
    "results_by_model = pd.DataFrame(model_results)\n",
    "average_results_by_model = results_by_model.mean()\n",
    "average_results_by_model.apply(lambda x: \"{:.2%}\".format(x))"
   ]
  },
  {
   "cell_type": "markdown",
   "metadata": {},
   "source": [
    "### Results"
   ]
  },
  {
   "cell_type": "code",
   "execution_count": null,
   "metadata": {},
   "outputs": [],
   "source": [
    "def compare_model_correct_token_probability(modelA: str, modelB: str) -> pd.DataFrame:\n",
    "    \"\"\"Compare the correct token probabilities of two models\n",
    "\n",
    "    Args:\n",
    "        modelA (str): Model name (of model that is expected to be better)\n",
    "        modelB (str): Model name (of model that is expected to be worse)\n",
    "\n",
    "    Returns:\n",
    "        pd.DataFrame: DataFrame with the relative accuracy of each model\n",
    "    \"\"\"\n",
    "    relevant_results = results[[\"Token\",modelA, modelB]]\n",
    "    diff = relevant_results[modelA] - relevant_results[modelB]\n",
    "    relevant_results.insert(3, \"Difference\", diff)\n",
    "    # relevant_results = relevant_results.sort_values(by=\"Difference\", ascending=False)\n",
    "    return relevant_results"
   ]
  },
  {
   "cell_type": "markdown",
   "metadata": {},
   "source": [
    "#### MLP vs Attention Only"
   ]
  },
  {
   "cell_type": "code",
   "execution_count": null,
   "metadata": {},
   "outputs": [
    {
     "data": {
      "text/plain": [
       "array([[<AxesSubplot: title={'center': 'Difference'}>]], dtype=object)"
      ]
     },
     "execution_count": 140,
     "metadata": {},
     "output_type": "execute_result"
    },
    {
     "data": {
      "image/png": "[encoded data removed]",
      "text/plain": [
       "<Figure size 640x480 with 1 Axes>"
      ]
     },
     "metadata": {},
     "output_type": "display_data"
    }
   ],
   "source": [
    "mlp_difference = compare_model_correct_token_probability(\"NeelNanda/SoLU_1L512W_C4_Code\", \"NeelNanda/Attn_Only_1L512W_C4_Code\")\n",
    "mlp_difference.hist(column=\"Difference\", bins=10)"
   ]
  },
  {
   "cell_type": "markdown",
   "metadata": {},
   "source": [
    "##### By Tokens View"
   ]
  },
  {
   "cell_type": "code",
   "execution_count": null,
   "metadata": {},
   "outputs": [
    {
     "data": {
      "text/html": [
       "<div id=\"circuits-vis-c5944141-37a1\"/>\n",
       "    <script crossorigin type=\"module\">\n",
       "    import { render, ColoredTokens } from \"https://unpkg.com/circuitsvis/dist/cdn/esm.js\";\n",
       "    render(\n",
       "      \"circuits-vis-c5944141-37a1\",\n",
       "      ColoredTokens,\n",
       "      {\"tokens\": [\" =\", \" 0\", \"\\n\\n\\t\", \"\\t\", \"ax\", \"2\", \" =\", \" fig\", \"0\", \".\", \"add\", \"_\", \"sub\", \"plot\", \"(\", \"1\", \"5\", \"2\", \")\", \"\\n\\t\", \"\\t\", \"plot\", \"_\", \"image\", \"(\", \"Fl\", \"ux\", \"_\", \"mat\", \"2\", \",\", \" ax\", \"=\", \"ax\", \"2\", \",\", \" scale\", \"='\", \"linear\", \"',\", \" percentile\", \"=\", \"1\", \"0\", \"0\", \",\", \" c\", \"map\", \"='\", \"nip\", \"y\", \"_\", \"spect\", \"ral\", \"',\", \"\\n\\t\\t\", \"\\t\", \"title\", \"='\", \"Sign\", \"ificant\", \" flux\", \"')\", \"\\n\\n\\t\", \"\\t\", \"#\", \" ---------------\", \"\\n\\t\", \"\\t\", \"#\", \" PL\", \"OT\", \" 3\", \"\\n\\t\", \"\\t\", \"ax\", \"2\", \" =\", \" fig\", \"0\", \".\", \"add\", \"_\", \"sub\", \"plot\", \"(\", \"1\", \"5\", \"3\", \")\", \"\\n\\n\\t\", \"\\t\", \"Fl\", \"ux\", \"_\", \"mat\", \"4\", \" =\", \" np\", \".\", \"zer\", \"os\", \"_\", \"like\", \"(\", \"Sum\", \"Image\", \")\", \"\\n\\t\", \"\\t\", \"for\", \" u\", \",\", \"lab\", \" in\", \" enumerate\", \"(\", \"unique\", \"_\", \"labels\", \"):\", \"\\n\\t\\t\", \"\\t\", \"class\", \"_\", \"member\", \"_\", \"mask\", \" =\", \" (\", \"labels\", \" ==\", \" lab\", \")\", \"\\n\\t\\t\", \"\\t\", \"xy\", \" =\", \" XX\", \"[\", \"class\", \"_\", \"member\", \"_\", \"mask\", \",\", \":]\", \"\\n\\t\\t\", \"\\t\", \"if\", \" lab\", \" ==\", \" -\", \"1\", \":\", \"\\n\\t\\t\\t\", \"\\t\", \"#\", \" Black\", \" used\", \" for\", \" noise\", \".\", \"\\n\\t\\t\\t\", \"\\t\", \"ax\", \"2\", \".\", \"plot\", \"(\", \"xy\", \"[:\", \",\", \" 0\", \"],\", \" x\", \"y\", \"[:\", \",\", \" 1\", \"],\", \" '+\", \"',\", \" marker\", \"face\", \"color\", \"='\", \"k\", \"',\", \"\\n\\t\\t\\t\\t\", \"\\t\", \"mar\", \"kered\", \"ge\", \"color\", \"='\", \"k\", \"',\", \" markers\", \"ize\", \"=\", \"5\", \")\", \"\\n\\n\\t\\t\", \"\\t\", \"else\", \":\", \"\\n\\t\\t\\t\", \"\\t\", \"Fl\", \"ux\", \"_\", \"mat\", \"4\", \"[\", \"xy\", \"[:\", \",\", \"1\", \"],\", \" x\", \"y\", \"[:\", \",\", \"0\", \"]]\", \" =\", \" u\", \"+\", \"1\", \"\\n\\t\\t\\t\", \"\\t\", \"ax\", \"2\", \".\", \"plot\", \"(\", \"xy\", \"[:\", \",\", \" 0\", \"],\", \" x\", \"y\", \"[:\", \",\", \" 1\", \"],\", \" '\", \"o\", \"',\", \" marker\", \"face\", \"color\", \"=\", \"tuple\", \"(\", \"colors\", \"[\", \"u\", \"]),\", \"\\n\\t\\t\\t\\t\", \"\\t\", \"mar\", \"kered\", \"ge\", \"color\", \"='\", \"k\", \"',\", \" markers\", \"ize\", \"=\", \"5\", \")\", \"\\n\\n\\t\", \"\\t\", \"ax\", \"2\", \".\", \"set\", \"_\", \"title\", \"(\\\"\", \"Cl\", \"ustering\", \" +\", \" Waters\", \"hed\", \"\\\")\", \"\\n\\t\", \"\\t\", \"ax\", \"2\", \".\", \"set\", \"_\", \"x\", \"lim\", \"([\", \"-\", \"0\", \".\", \"5\", \",\", \" Sum\", \"Image\", \".\", \"shape\", \"[\", \"1\", \"]-\", \"0\", \".\", \"5\", \"])\", \"\\n\\t\", \"\\t\", \"ax\", \"2\", \".\", \"set\", \"_\", \"yl\", \"im\", \"([\", \"-\", \"0\", \".\", \"5\", \",\", \" Sum\", \"Image\", \".\", \"shape\", \"[\", \"0\", \"]-\", \"0\", \".\", \"5\", \"])\", \"\\n\\t\", \"\\t\", \"ax\", \"2\", \".\", \"set\", \"_\", \"as\", \"pect\", \"('\", \"equal\", \"')\", \"\\n\\n\\t\", \"\\t\", \"#\", \" ---------------\", \"\\n\\t\", \"\\t\", \"#\", \" PL\", \"OT\", \" 4\", \"\\n\\t\", \"\\t\", \"ax\", \"4\", \" =\", \" fig\", \"0\", \".\", \"add\", \"_\", \"sub\", \"plot\", \"(\", \"1\", \"5\", \"4\", \")\", \"\\n\\t\", \"\\t\", \"plot\", \"_\", \"image\", \"(\", \"Fl\", \"ux\", \"_\", \"mat\", \"4\", \",\", \" ax\", \"=\", \"ax\", \"4\", \",\", \" scale\", \"='\", \"linear\", \"',\", \" percentile\", \"=\", \"1\", \"0\", \"0\", \",\", \" c\", \"map\", \"='\", \"nip\", \"y\", \"_\", \"spect\", \"ral\", \"',\", \"\\n\\t\\t\", \"\\t\", \"title\", \"='\", \"Ext\", \"racted\", \" clusters\", \"')\", \"\\n\\n\\t\", \"\\t\", \"#\", \" ---------------\", \"\\n\\t\", \"\\t\", \"#\", \" PL\", \"OT\", \" 5\", \"\\n\\t\", \"\\t\", \"ax\", \"5\", \" =\", \" fig\", \"0\", \".\", \"add\", \"_\", \"sub\", \"plot\", \"(\", \"1\", \"5\", \"5\", \")\", \"\\n\\t\", \"\\t\", \"plot\", \"_\", \"image\", \"(\", \"Sum\", \"Image\", \",\", \" ax\", \"=\", \"ax\", \"5\", \",\", \" scale\", \"='\", \"log\", \"',\", \" title\", \"='\", \"Final\", \" masks\", \"')\", \"\\n\\n\\t\", \"\\t\", \"#\", \" Plot\", \" outlines\", \" of\", \" selected\", \" masks\", \":\", \"\\n\\t\", \"\\t\", \"for\", \" u\", \" in\", \" range\", \"(\", \"no\", \"_\", \"m\", \"asks\", \"):\", \"\\n\\t\\t\", \"\\t\", \"#\", \" Get\", \" the\", \" color\", \" associated\", \" with\", \" this\", \" label\", \":\", \"\\n\\t\\t\", \"\\t\", \"col\", \" =\", \" colors\", \"[\", \" int\", \"(\", \"np\", \".\", \"where\", \"(\", \"unique\", \"_\", \"labels\", \" ==\", \" No\", \"_\", \"pix\", \"_\", \"sort\", \"[\", \"u\", \",\", \" 1\", \"])\", \"[\", \"0\", \"])\", \" ]\", \"\\n\\t\\t\", \"\\t\", \"#\", \" Make\", \" mask\", \" outline\", \":\", \"\\n\\t\\t\", \"\\t\", \"out\", \"line\", \" =\", \" plot\", \"_\", \"out\", \"line\", \"(\", \"M\", \"AS\", \"KS\", \"[\", \"u\", \",\", \" :\", \",\", \" :\", \"])\", \"\\n\\t\\t\", \"\\t\", \"#\", \" Plot\", \" outlines\", \":\", \"\\n\\t\\t\", \"\\t\", \"ax\", \"5\", \".\", \"plot\", \"(\", \"out\", \"line\", \"[:\", \",\", \" 0\", \"],\", \" outline\", \"[:\", \",\", \" 1\", \"],\", \" color\", \"=\", \"col\", \",\", \" z\", \"order\", \"=\", \"1\", \"0\", \",\", \" l\", \"w\", \"=\", \"2\", \".\", \"5\", \")\", \"\\n\\t\\t\", \"\\t\", \"ax\", \"4\", \".\", \"plot\", \"(\", \"out\", \"line\", \"[:\", \",\", \" 0\", \"],\", \" outline\", \"[:\", \",\", \" 1\", \"],\", \" color\", \"='\", \"k\", \"',\", \" z\", \"order\", \"=\", \"1\", \"0\", \",\", \" l\", \"w\", \"=\", \"1\", \".\", \"5\", \")\", \"\\n\\n\\t\", \"\\t\", \"#\", \" Save\", \" the\", \" figure\", \" and\", \" close\", \" it\", \":\", \"\\n\\t\", \"\\t\", \"save\", \"_\", \"figure\", \"(\", \"os\", \".\", \"path\", \".\", \"join\", \"(\", \"plot\", \"_\", \"folder\", \",'\", \"m\", \"asks\", \"_\", \"'\", \" +\", \" ws\", \"_\", \"alg\", \"),\", \" fig\", \"=\", \"fig\", \"0\", \")\", \"\\n\\t\", \"\\t\", \"if\", \" show\", \"_\", \"plot\", \":\", \"\\n\\t\\t\", \"\\t\", \"plt\", \".\", \"show\", \"()\", \"\\n\\t\", \"\\t\", \"else\", \":\", \"\\n\\t\\t\", \"\\t\", \"plt\", \".\", \"close\", \"('\", \"all\", \"')\", \"\\n\\n\", \"\\t\", \"return\", \" MAS\", \"KS\", \",\", \" background\", \"_\", \"band\", \"width\", \"\\n\", \"<|EOS|>\", \"\\n\", \"import\", \" os\", \"\\n\", \"import\", \" shut\", \"il\", \"\\n\", \"from\", \" dist\", \"utils\", \".\", \"core\", \" import\", \" setup\", \"\\n\", \"\\n\", \"if\", \" not\", \" os\", \".\", \"path\", \".\", \"exists\", \"('\", \"scripts\", \"'):\", \"\\n   \", \" os\", \".\", \"m\", \"aked\", \"irs\", \"('\", \"scripts\", \"')\", \"\\n\", \"sh\", \"util\", \".\", \"copy\", \"file\", \"('\", \"x\", \"ls\", \"x\", \"2\", \"csv\", \".\", \"py\", \"','\", \"scripts\", \"/\", \"x\", \"ls\", \"x\", \"2\", \"csv\", \"')\", \"\\n\", \"\\n\", \"scripts\", \" =\", \" [\\\"\", \"scripts\", \"/\", \"x\", \"ls\", \"x\", \"2\", \"csv\", \"\\\"]\", \"\\n\", \"\\n\", \"name\", \" =\", \" \\\"\", \"x\", \"ls\", \"x\", \"2\", \"csv\", \"\\\"\", \"\\n\", \"version\", \" =\", \" \\\"\", \"0\", \".\", \"7\", \".\", \"2\", \"\\\"\", \"\\n\", \"author\", \" =\", \" \\\"\", \"D\", \"il\", \"sh\", \"od\", \" Tem\", \"irk\", \"h\", \"do\", \"ja\", \"ev\", \"\\\"\", \"\\n\", \"author\", \"_\", \"email\", \" =\", \" \\\"\", \"td\", \"il\", \"sh\", \"od\", \"@\", \"gmail\", \".\", \"com\", \"\\\"\", \"\\n\", \"desc\", \" =\", \" \\\"\", \"x\", \"ls\", \"x\", \" to\", \" csv\", \" converter\", \"\\\"\", \"\\n\", \"long\", \"_\", \"desc\", \" =\", \" \\\"\", \"Cherry\", \"Py\", \" is\", \" a\", \" py\", \"th\", \"onic\", \",\", \" object\", \"-\", \"oriented\", \" HTTP\", \" framework\", \"\\\"\", \"\\n\", \"url\", \" =\", \" \\\"\", \"http\", \"://\", \"github\", \".\", \"com\", \"/\", \"dil\", \"sh\", \"od\", \"/\", \"x\", \"ls\", \"x\", \"2\", \"csv\", \"\\\"\", \"\\n\", \"class\", \"ifiers\", \"=[\", \"\\n   \", \" \\\"\", \"Development\", \" Status\", \" ::\", \" 5\", \" -\", \" Production\", \"/\", \"St\", \"able\", \"\\\",\", \"\\n   \", \" \\\"\", \"Environment\", \" ::\", \" Console\", \"\\\",\", \"\\n   \", \" \\\"\", \"Int\", \"ended\", \" Aud\", \"ience\", \" ::\", \" End\", \" Users\", \"/\", \"Desktop\", \"\\\",\", \"\\n   \", \" \\\"\", \"Int\", \"ended\", \" Aud\", \"ience\", \" ::\", \" Develop\", \"ers\", \"\\\",\", \"\\n   \", \" \\\"\", \"License\", \" ::\", \" O\", \"SI\", \" Appro\", \"ved\", \" ::\", \" GNU\", \" General\", \" Public\", \" License\", \" (\", \"GPL\", \")\\\",\", \"\\n   \", \" \\\"\", \"Oper\", \"ating\", \" System\", \" ::\", \" OS\", \" Independent\", \"\\\",\", \"\\n   \", \" \\\"\", \"Program\", \"ming\", \" Language\", \" ::\", \" Python\", \"\\\",\", \"\\n   \", \" \\\"\", \"Program\", \"ming\", \" Language\", \" ::\", \" Python\", \" ::\", \" 2\", \"\\\",\", \"\\n   \", \" \\\"\", \"Program\", \"ming\", \" Language\", \" ::\", \" Python\", \" ::\", \" 2\", \".\", \"4\", \"\\\",\", \"\\n   \", \" \\\"\", \"Program\", \"ming\", \" Language\", \" ::\", \" Python\", \" ::\", \" 2\", \".\", \"5\", \"\\\",\", \"\\n   \", \" \\\"\", \"Program\", \"ming\", \" Language\", \" ::\", \" Python\", \" ::\", \" 2\", \".\", \"6\", \"\\\",\", \"\\n   \", \" \\\"\", \"Program\", \"ming\", \" Language\", \" ::\"], \"values\": [-0.0050143226981163025, -0.000776065920945257, 0.031232893466949463, 0.002035877201706171, 0.007478612940758467, -0.07590341567993164, 0.006115273106843233, -0.0006801532581448555, 0.6456398963928223, 0.5034412145614624, 0.14327090978622437, 0.0762563943862915, 0.17367303371429443, -0.0009466409683227539, 0.02720010280609131, -0.005450600292533636, -0.0032794997096061707, 0.4177475571632385, -0.04003053903579712, 0.00036019086837768555, -0.007921133190393448, 0.18031372129917145, 0.0006980336038395762, -0.026927096769213676, 1.4208810171112418e-05, 0.1930330991744995, 0.02004372328519821, -0.0008261113543994725, 0.02216557413339615, -0.03514683246612549, 0.015390418469905853, 0.2574586868286133, 0.3100123405456543, 0.21869024634361267, -0.16551363468170166, 0.0019613129552453756, -0.02284925803542137, 0.02327685058116913, 0.03446108102798462, -3.713407932082191e-05, 0.3301977813243866, 0.11850640177726746, 0.029654979705810547, 0.10597589612007141, 0.003589421510696411, 0.00475692842155695, 0.4289162755012512, -0.09105950593948364, -7.953725571496761e-07, 0.00777435302734375, -0.008048510178923607, 0.003094478975981474, 0.24634502828121185, -0.17115305364131927, 0.0010543997632339597, -0.0014433860778808594, 0.005753211677074432, -0.14893358945846558, 0.0006197568727657199, 0.1845243275165558, 0.003720910521224141, -0.10641337931156158, 0.22970636188983917, -0.008744895458221436, 0.08210334181785583, 1.000866359390784e-05, -0.25665608048439026, 0.00645291805267334, 0.16848494112491608, -2.9417242330964655e-07, 0.29256874322891235, -0.0015469155041500926, 0.03078848123550415, 0.0037212371826171875, -0.03948479890823364, 0.2548297047615051, 0.1622052788734436, -0.2051701545715332, -0.003941152710467577, 0.5978103280067444, 0.23023521900177002, 0.01685917377471924, 0.2917513847351074, 0.016875863075256348, 0.0205843448638916, -0.19349747896194458, -0.0032965904101729393, 0.0031559541821479797, 0.2390349805355072, -0.030005410313606262, 0.00338059663772583, 2.2402728063752875e-05, 0.4407985210418701, -0.010555610060691833, -0.0022166194394230843, 0.0024562631733715534, 0.05069577693939209, -0.0841219425201416, 0.002797245979309082, -0.036666661500930786, 0.00686955451965332, -0.009135687723755836, 0.14521533250808716, -0.03454691171646118, 3.868385192618007e-06, -3.280543751316145e-05, -0.0530526340007782, 0.024052321910858154, 0.005548417568206787, -0.005600667558610439, 0.000887316360604018, 0.0720919519662857, -1.58025068230927e-05, 0.03177349641919136, 0.2640221118927002, -0.008933007717132568, 0.00010438844037707895, 0.06281787157058716, -0.01810048148036003, 0.35285454988479614, -0.012930214405059814, -0.0002377629280090332, 5.5570690165041015e-05, -0.12483836710453033, -3.8736077840439975e-05, -0.04957026243209839, -0.003128799144178629, -0.09618309140205383, 0.024862783029675484, 0.00015810818877071142, 0.06197672337293625, -0.00027803308330476284, 0.005440950393676758, 0.14880035817623138, 0.02546912431716919, -0.00019443387282080948, 0.08748126029968262, -1.3353326721698977e-05, 0.008247006684541702, 0.0010633075144141912, 0.3243272304534912, 0.0009118380839936435, -0.20716950297355652, -0.03793928027153015, -0.01525816135108471, -0.1103927344083786, -0.011343419551849365, 0.014094114303588867, 0.009121699258685112, 9.930023225024343e-05, -0.07227367162704468, -0.002133202739059925, 0.09218430519104004, 0.051946282386779785, 0.03599780797958374, 0.0049863457679748535, -0.032823216170072556, -6.232262239791453e-05, 6.10931747360155e-05, 0.03712260723114014, -0.00043460557935759425, -0.024228770285844803, 0.3466072678565979, 0.016732454299926758, 0.038033969700336456, 0.10644107311964035, -0.06356653571128845, 0.3048875331878662, -0.11569523811340332, 0.003472100244835019, 0.01644730754196644, -0.010180234909057617, 0.00601707398891449, 0.236620232462883, 0.0031928978860378265, 0.02289937436580658, -0.20499250292778015, 0.017119765281677246, -0.013144053518772125, 0.07628825306892395, -0.00044606649316847324, 0.29000845551490784, 0.06658067554235458, 0.0002772250445559621, 0.13839121162891388, 0.16524088382720947, 0.037760064005851746, 0.06023046374320984, -0.00021904800087213516, -0.06684142351150513, -5.3903662774246186e-05, 0.4787714183330536, -0.005188047885894775, 0.2359163463115692, -0.024285554885864258, 0.0216522216796875, 0.20385295152664185, 0.04419887438416481, -0.1679152250289917, -0.17664921283721924, -0.014229558408260345, 0.1033441424369812, -0.014793835580348969, 0.024621784687042236, 0.011825506575405598, 0.012957870960235596, 0.004460394382476807, 0.005290985107421875, -4.962018920195987e-07, 0.24126994609832764, -0.010551858693361282, 0.013087129220366478, 0.0007624162826687098, 0.002376904245465994, 0.0022362456656992435, 0.007657078560441732, 0.38597869873046875, 0.13319304585456848, -0.07817265391349792, -0.012645447626709938, 0.38935616612434387, -0.28429728746414185, 0.12670069932937622, 0.038107044994831085, 0.14236761629581451, 0.4275203347206116, 0.00024988065706565976, -0.00016317330300807953, 0.1558741182088852, 0.04563271626830101, 0.0014917254447937012, 0.0579976886510849, 0.14843131601810455, 0.11594969034194946, 0.4895592927932739, -0.013157367706298828, 0.1396506279706955, 0.0792047381401062, -0.09584331512451172, -0.010480053722858429, 0.19379514455795288, -0.041751209646463394, 0.35728907585144043, -0.17435091733932495, -0.05881071090698242, 0.014547541737556458, 0.0801960825920105, 0.014883773401379585, 0.0476255901157856, 0.1281387209892273, 0.2403479814529419, 0.015953579917550087, -0.2186545729637146, -0.001087293028831482, 4.6959961764514446e-05, -0.09784194827079773, 0.05589272081851959, 0.07258866727352142, 0.0008289762772619724, 0.09232666343450546, 0.0010054586455225945, -0.07861471176147461, -7.286242907866836e-05, 0.18294841051101685, 0.026155173778533936, 0.30208271741867065, -0.17269077897071838, 0.06508803367614746, 0.30073434114456177, 0.17667138576507568, -0.06773930788040161, -0.02376079559326172, -0.03242424130439758, 0.12884029746055603, -0.04859314113855362, -0.0016117095947265625, 0.01754455268383026, 0.011102508753538132, 0.275148868560791, -0.014835253357887268, 0.07618755102157593, 0.0142827108502388, 0.046430494636297226, 0.0006592364516109228, 0.02828497439622879, 8.745872764848173e-05, -1.5372728512375033e-06, -0.07690878212451935, 0.04577648267149925, 0.1557995080947876, 0.008394360542297363, 0.1584702432155609, 0.05321799963712692, 0.328071266412735, 0.014323681592941284, 0.01955336332321167, -0.02298363298177719, 0.006103545427322388, 0.1232433170080185, 0.004903079010546207, -0.001826174557209015, 0.19258929789066315, 0.08938567340373993, 0.20459040999412537, -8.13131464383332e-08, 6.528628546220716e-06, 0.3024101257324219, -0.019070260226726532, 0.053697943687438965, 0.0602470338344574, -0.009545788168907166, 0.006576975807547569, 0.37604761123657227, -0.07637444138526917, -0.03045952320098877, 0.1263362467288971, 0.010443270206451416, 0.37240204215049744, 0.08796629309654236, 0.16867196559906006, -0.24025598168373108, 0.030057072639465332, 0.0993395447731018, -0.19381576776504517, 0.17196989059448242, 0.014858515933156013, -0.007582634687423706, 0.32960155606269836, 0.05428917706012726, 0.2907581031322479, 0.00014997863036114722, 4.622730557457544e-06, 0.6116141676902771, -0.029214192181825638, 0.02820146083831787, -0.06962478160858154, 0.0635129064321518, 0.014973428100347519, 0.47747859358787537, -0.0820523351430893, 0.0804852843284607, 0.08858758211135864, 0.0109328031539917, 0.43989628553390503, 0.05902417376637459, 0.018338918685913086, -0.17461079359054565, 0.03209894895553589, 0.001233006943948567, 0.21211200952529907, 0.27313047647476196, 0.14544892311096191, -0.04387137293815613, 0.004243731498718262, -0.0063304901123046875, -0.08612123876810074, 2.9041471862001345e-05, -0.17101925611495972, 0.024308741092681885, -0.0039870887994766235, 5.882657205802388e-07, 0.5261443853378296, -0.0002818565699271858, 0.05832850933074951, 0.009272217750549316, 0.2151952087879181, 0.002959195990115404, -0.04355481266975403, 0.166910320520401, -0.0016752833034843206, 0.46176788210868835, 0.2495308518409729, 0.04110443592071533, 0.46575701236724854, -0.026387512683868408, 0.03657025098800659, -0.18211492896080017, 0.04538736492395401, 0.014179299585521221, 0.10313484072685242, 0.016174674034118652, 0.011953532695770264, -0.014955325052142143, 0.2104305773973465, -0.0030089414212852716, -0.0618693009018898, -1.7850408767117187e-05, 0.4086307883262634, 0.004986770451068878, 0.0011505195870995522, 0.00031033053528517485, -0.08239209651947021, 0.007601605728268623, 0.5744791030883789, 0.3462030291557312, 0.03455733135342598, -0.2760361433029175, 0.002190070226788521, 0.05927316099405289, 0.009375495836138725, 0.07773226499557495, -8.47179617267102e-05, 0.29043781757354736, 0.09295475482940674, 0.08153080940246582, 0.2569884955883026, -0.1981499344110489, 0.0038192602805793285, 0.25515174865722656, 0.03910064697265625, -1.6844155652506743e-06, -0.018054582178592682, -4.313141107559204e-05, 0.001267049228772521, 0.5010523200035095, -0.0415676087141037, -0.0012712591560557485, 0.03413534164428711, 0.003086718497797847, -0.1435021162033081, -0.0006725041894242167, -0.011159303598105907, -5.7098441175185144e-05, -0.12758804857730865, 0.13714295625686646, -0.0030614137649536133, 0.06409266591072083, 0.0032642693258821964, -0.16271334886550903, 0.017045974731445312, 0.12126479297876358, 2.9617569452966563e-05, 0.29018300771713257, -0.0003626510442700237, 0.13874097168445587, 0.007384181022644043, -0.058963388204574585, 0.004398197866976261, 0.2926582396030426, 0.18850845098495483, -0.004406282212585211, 0.5442496538162231, 0.0461505651473999, 0.015583395957946777, 0.45178157091140747, 0.009788930416107178, 0.004848062992095947, -0.19881075620651245, 0.03020884096622467, -0.005921375006437302, 0.17388278245925903, 0.050646960735321045, 0.01236051321029663, -0.012327953241765499, 0.24099689722061157, -0.005046811420470476, -0.12032053619623184, 1.1123762305942364e-05, -2.6462097594048828e-05, 0.12750288844108582, -0.00043762940913438797, 0.3694719672203064, 0.37878352403640747, -0.006010819226503372, -0.04054659605026245, -0.0013316301628947258, 0.016317926347255707, 0.009689347818493843, -0.09879305958747864, 0.009039596654474735, -0.06586134433746338, 0.00033506174804642797, 8.212359716708306e-06, -0.07570910453796387, -0.14579461514949799, 0.007716655731201172, 0.09242221713066101, -0.24217988550662994, -0.0001813886919990182, 0.042469922453165054, -0.00018803490092977881, 0.0020832177251577377, 0.0005654916167259216, 0.656807541847229, 0.005084991455078125, 0.00570343853905797, 0.0005667080404236913, -0.10324138402938843, 0.2699028253555298, 0.13659846782684326, 0.00018907399498857558, 0.3430649936199188, 0.002145678037777543, 0.0291365385055542, 0.40009525418281555, -0.04223901033401489, 0.0015063285827636719, -0.05389194190502167, 0.00048456783406436443, -0.14084774255752563, -0.011347595602273941, 0.0009324161801487207, -0.04151636362075806, -0.014835674315690994, -0.005816558375954628, -4.0959566831588745e-05, 0.2479727864265442, 0.0035916566848754883, 4.2126281186938286e-05, -0.012733951210975647, 0.0033449335023760796, 0.09002721309661865, 5.266117659630254e-05, -0.02356243133544922, 0.016395851969718933, 0.014409303665161133, 0.03882172703742981, 0.07185477018356323, -0.00030699511989951134, 0.3082793951034546, -0.012754164636135101, 0.11402149498462677, 1.2030201105517335e-05, -0.032019540667533875, 0.00012836020323447883, 0.05364926904439926, 7.86156888352707e-05, -0.0048692487180233, -0.0024657202884554863, -0.016965152695775032, -0.02969929948449135, -0.08961617946624756, 0.034261107444763184, 0.23061633110046387, -0.048488907516002655, -0.0002068935427814722, 0.03119136393070221, 0.04703330993652344, 0.07220949977636337, 0.0007805770728737116, -0.0020611032377928495, -4.652186908060685e-05, -0.038734808564186096, 0.4495896100997925, 0.0015541315078735352, 0.00033190453541465104, -0.02810720168054104, 0.22593426704406738, 0.020037172362208366, 0.25742247700691223, -0.0016440574545413256, -0.17504815757274628, 0.16661782562732697, -0.0007817136938683689, 0.002829861594364047, 0.001356105087324977, 0.14705541729927063, 0.020311318337917328, -0.07449689507484436, 0.0514959990978241, -0.026319384574890137, 0.12594683468341827, 0.12571728229522705, 0.15444082021713257, 0.03066098690032959, 0.11811540275812149, -0.07452476769685745, -0.0003464057226665318, -0.007659840397536755, 0.21312613785266876, 0.0009667873382568359, -0.09336633235216141, -0.001008365536108613, 0.2758455276489258, -0.15292105078697205, -0.10934066772460938, 0.053495198488235474, -0.045183151960372925, 0.018739551305770874, 0.08472132682800293, -0.042461227625608444, 0.32492920756340027, -0.06915851682424545, -0.05773027241230011, 0.1007312536239624, -0.022476524114608765, 0.13861016929149628, 0.03383154049515724, -0.08592265099287033, 0.004198166076093912, -0.06023067608475685, 0.0001830609980970621, 0.050457388162612915, 0.3225354552268982, -0.03418905287981033, 0.20541928708553314, -0.13380470871925354, 0.0005143436137586832, -0.04623681306838989, 0.15560930967330933, 0.04998086392879486, -0.015179164707660675, 0.04241645336151123, 0.05795660614967346, 0.06095835566520691, 0.040847837924957275, -0.023434430360794067, 0.007401569746434689, 0.6541154384613037, -0.16381555795669556, -0.13417422771453857, 0.12033460289239883, 0.015296220779418945, 0.10691937804222107, -0.0463411808013916, -0.047304145991802216, 0.3473251760005951, -0.02137715369462967, -0.10631643235683441, -0.04084140062332153, -0.026555821299552917, 0.17157459259033203, 0.08121932297945023, 0.25545746088027954, 0.18454092741012573, 0.2516935169696808, 0.0039054532535374165, 0.09183335304260254, 0.1829189658164978, -0.022620275616645813, 0.16599971055984497, -0.13414758443832397, 0.005178980063647032, -0.222481369972229, 0.1454489827156067, 0.03073599934577942, -0.03010377287864685, -0.017225056886672974, 0.1300828605890274, 0.027962133288383484, 0.0029900074005126953, 0.17491166293621063, 0.004034246318042278, -0.011564791202545166, -0.0008624941110610962, 0.09269742667675018, 0.000940733531024307, 0.027821965515613556, -0.008471488952636719, 0.5141699910163879, 0.0034636259078979492, 0.0004766689380630851, 0.19186629354953766, 0.03168939799070358, -0.16467279195785522, -0.00011687242658808827, -0.15691643953323364, 0.041729122400283813, 0.009332418441772461, -0.0821276307106018, -0.021984875202178955, -0.07741305977106094, 0.35866042971611023, 0.004380505532026291, 0.043532684445381165, 0.005200998391956091, 0.39892488718032837, 0.02758903056383133, 0.0005245291395112872, 0.48746442794799805, -0.0002384931140113622, 0.11569252610206604, -1.3102984667057171e-05, 0.002772093750536442, 0.0044930605217814445, 0.010292604565620422, 0.25449612736701965, -0.0021721948869526386, 0.1779455989599228, 0.2255510687828064, -0.0006244778633117676, -0.008619192987680435, 0.009953174740076065, 0.10418915748596191, -0.07980500906705856, 0.2460833042860031, 0.04998892545700073, -0.0014647245407104492, 0.039892032742500305, 0.031798481941223145, 0.004491537809371948, 0.14179503917694092, 0.09572935104370117, -0.014224767684936523, 0.08604249358177185, -0.009974181652069092, -0.003994941711425781, -0.00020831823348999023, 0.029688775539398193, 0.0026832222938537598, 0.11070121824741364, 0.041574761271476746, 0.33153167366981506, 0.09146735072135925, -0.02193600684404373, -0.09225934743881226, 0.02190098538994789, -2.2744201544355747e-07, 0.11830548942089081, 0.02344566211104393, -3.4294353099539876e-06, 0.30418938398361206, 0.00013117253547534347, -0.16481584310531616, 0.11201274394989014, 0.10205596685409546, 0.013642622157931328, 0.022744789719581604, 0.0027318596839904785, -0.08552902936935425, 0.10153365135192871, -0.010707003995776176, 0.055924832820892334, 0.03609132766723633, -0.016311824321746826, 0.0005485201254487038, 0.13315606117248535, 0.05028575658798218, 0.023109640926122665, -0.027170419692993164, 0.40554672479629517, 0.06036069989204407, 0.0039733052253723145, 0.02121291309595108, 0.030277958139777184, 0.20527219772338867, 0.08765268325805664, 0.09441465139389038, 0.06847012042999268, -0.032970964908599854, 0.10018523782491684, 0.0003023793688043952, 0.5083435773849487, -0.16853119432926178, -0.3345859944820404, 0.008144259452819824, 0.13602323830127716, 0.14784473180770874, 0.001169741153717041, 0.0012709200382232666, -0.002153833396732807, 0.036863088607788086, 0.0456203818321228, 0.0002420994424028322, 0.16512435674667358, -0.029630005359649658, -0.01622965931892395, 0.09305810183286667, -0.24732667207717896, -0.005353952292352915, 0.06101366877555847, 0.07064701616764069, 0.0009904889157041907, -0.00022529601119458675, 0.09346122294664383, 0.02768806740641594, -0.016326628625392914, -0.01323798019438982, 0.07218236476182938, 0.0012644017115235329, 0.5355586409568787, 0.18351948261260986, 0.008819716051220894, 0.0013216533698141575, -0.10930168628692627, 0.25956717133522034, 0.08250978589057922, 0.0009062677272595465, -0.13992944359779358, -0.0062118517234921455, -0.00012907013297080994, 0.3889135718345642, 0.003910781815648079, 0.41119781136512756, -0.05514693260192871, -0.015861809253692627, -0.007379611954092979, 0.16256989538669586, 0.08158975839614868, 0.009011387825012207, -9.19261365197599e-05, -0.33281606435775757, 0.18429361283779144, 0.00578770786523819, 0.03012329339981079, -0.08298337459564209, -0.012964537367224693, -0.08277365565299988, -0.028955817222595215, -0.06853163242340088, 0.00016546071856282651, 0.27641651034355164, 0.08504457771778107, -0.057719483971595764, 0.3082970976829529, 0.016981689259409904, 0.12601371109485626, 0.021374637261033058, 0.14003977179527283, -0.08351331949234009, -0.0005015661590732634, 0.16819247603416443, 0.38153329491615295, -0.007098154164850712, 0.0008638063445687294, -0.006082013249397278, -8.98080033948645e-05, 1.8976362525791046e-06, -1.0226572157989722e-05, -0.004643809515982866, 2.7679769118549302e-05, -0.0023353705182671547, 3.142449713777751e-05, -0.015940383076667786, -0.03141379356384277, -7.538311183452606e-05, 0.14424464106559753, 0.0014421772211790085, 0.03536999225616455, 0.04664969444274902, -8.274958236142993e-05, -0.0018567838706076145, -0.010668938048183918, -0.0003122268244624138, -0.005618773400783539, -0.1270504891872406, 0.014091968536376953, 0.009316802024841309, 0.017879784107208252, -0.025224685668945312, 1.572911423863843e-05, 0.46915996074676514, -0.17782187461853027, -0.0017147394828498363, 0.393210232257843, -0.059423983097076416, 0.00011564430315047503, 0.001528897904790938, -0.00034160667564719915, 0.03250843286514282, -0.006059825420379639, 0.0008325562812387943, 0.2037145346403122, -0.0014521032571792603, 0.09033221006393433, -0.31854093074798584, 1.926179902511649e-05, 0.2714351415634155, 0.004670822061598301, -0.006833516061306, 0.003438456915318966, 0.004244303330779076, -0.18815797567367554, -0.030841415748000145, -0.0001341253810096532, 0.003752904012799263, 0.1501503884792328, -1.1494003956613597e-05, -0.0002329822746105492, 0.12107542902231216, -0.035826265811920166, 0.0028192789759486914, 0.44948405027389526, -0.10331594944000244, -0.1351148784160614, -0.0019795894622802734, -0.0012582410126924515, 0.0019611120223999023, -0.009298741817474365, 0.03494018316268921, 3.2832012948347256e-05, 0.0004884772934019566, 0.12471483647823334, 0.08323949575424194, 0.004219105467200279, 0.5607209801673889, -0.09009194374084473, -0.0313066765666008, -0.0015918571734800935, -0.07074618339538574, -0.04638105630874634, -0.008761808276176453, 0.0021743893157690763, -0.0012350374599918723, -0.04213022440671921, 0.657467782497406, -0.013838914223015308, 0.5245316028594971, 0.18515557050704956, -0.06734436750411987, 0.41502344608306885, -0.017955511808395386, 0.0545886754989624, 0.03770041465759277, 0.0734366774559021, 0.22781789302825928, 0.35458678007125854, 0.4274052083492279, -0.10213328152894974, -0.3600703477859497, -0.1776074767112732, -0.02164560556411743, 0.09752827882766724, 0.09438818693161011, -0.041942134499549866, 0.1721673309803009, 0.19346052408218384, -0.03731805086135864, 0.021356582641601562, 0.04642888531088829, 0.42934927344322205, 0.4389415383338928, -0.14969605207443237, 0.13035696744918823, 0.010067522525787354, 0.09577107429504395, -0.05890196934342384, -0.023122012615203857, 0.05922806262969971, -0.0014940500259399414, 0.025911331176757812, -0.005307048559188843, 0.06092613935470581, -0.01685488224029541, -0.011446118354797363, 0.016018807888031006, -0.10234774649143219, 0.025100350379943848, 0.3463420867919922, -0.05271238088607788, 0.011210143566131592, 0.5958696007728577, 0.011333048343658447, -0.06868478655815125, -0.1948031783103943, 0.03381454944610596, -0.017721056938171387, 0.04959186911582947, 0.03436732292175293, 0.6551215052604675, -0.09756726026535034, 0.12345415353775024, 0.20867416262626648, 0.3508971929550171, 0.08466249704360962, 0.032020509243011475, 0.09292367100715637, 0.08118826150894165, -0.10477322340011597, -0.08128732442855835, -0.014814376831054688, -0.08025312423706055, 0.04502612352371216, -0.008607983589172363, 0.0028921961784362793, -0.03717195987701416, 0.1694183051586151, -0.09282863140106201, -0.02649378776550293, 0.05656951665878296, -0.00048601627349853516, 0.005383849143981934, 0.0033760666847229004, -0.038362205028533936, -0.01632559299468994, -0.08921670913696289, -0.025086991488933563, -0.061642348766326904, 0.01627647876739502, 0.051688194274902344, -2.5272369384765625e-05, 0.0024386048316955566, 0.0012738704681396484, -0.028850674629211426, 0.0535852313041687, -0.09329256415367126, 0.12716609239578247, -0.02804257720708847, 0.07971906661987305, -0.023924946784973145, 0.05895805358886719, 0.0030730366706848145, 2.181529998779297e-05, 0.0006377100944519043, 0.0019484162330627441, -0.009044289588928223, 0.04474234580993652, -0.11334674060344696, 0.12011164426803589, -0.027425259351730347, 0.04897433519363403, -0.02380305528640747, 0.097362220287323, -0.035604655742645264, -1.7762184143066406e-05, -8.83340835571289e-05, 0.0006459951400756836, -0.008859395980834961, 0.022444307804107666, -0.10811474919319153, 0.09961438179016113, 0.12467418611049652, 0.009724676609039307, -0.005279660224914551, 0.12700140476226807, -0.014455258846282959, -8.690357208251953e-05, -0.000644981861114502, -0.0004930496215820312, -0.005822658538818359], \"minValue\": 0, \"maxValue\": 1, \"minColor\": null, \"maxColor\": \"green\"}\n",
       "    )\n",
       "    </script>"
      ],
      "text/plain": [
       "<circuitsvis.render.RenderedHTML at 0x7fe5101dec40>"
      ]
     },
     "execution_count": 141,
     "metadata": {},
     "output_type": "execute_result"
    }
   ],
   "source": [
    "values = mlp_difference[\"Difference\"].sort_index().values.tolist()\n",
    "colored_tokens(\n",
    "    values=values,\n",
    "    tokens=token_labels,\n",
    "    min_value=0,\n",
    "    max_value=1,\n",
    "    max_color=\"green\",\n",
    ")"
   ]
  },
  {
   "cell_type": "markdown",
   "metadata": {},
   "source": [
    "Some high level thoughts of things MLPs may be useful for:\n",
    "\n",
    " - General: MLP layers are good at understanding a lot about just one token (after info has potentially been moved there), especially as they typically have 2x the number of parameters as attention layers (and 6x the OV circuit, or 6x * num_tokens). So they should excel in situations where nuanced information must be recalled that is sparse in the training data (e.g. the peculiarities of specific libraries that don't follow common method naming conventions).\n",
    " - In practice this broadly seems plausible (but not necessarily correct) from the above data. Specifically:\n",
    "   - \"J\" -> \"up\" (for \"Jupyter\")\n",
    "   - \"__html__\" is a possible method (again only for Jupyter notebooks as it renders HTML if the class is returned)\n",
    "   - \"subprocess\" ... -> \"c\" (for \"cwd\") as it knows the parameters of `subprocess.call`\n",
    "\n",
    "It could be interesting when trying to interpret circuits, to try and remove the impact of MLP layers (including removing info moved by attention heads just for the MLP layer to read somehow), so that we know if this is true. Are MLP layers fundamentally narrowing down choices where sparse info is useful?"
   ]
  }
 ],
 "metadata": {
  "kernelspec": {
   "display_name": "Python 3 (ipykernel)",
   "language": "python",
   "name": "python3"
  },
  "language_info": {
   "codemirror_mode": {
    "name": "ipython",
    "version": 3
   },
   "file_extension": ".py",
   "mimetype": "text/x-python",
   "name": "python",
   "nbconvert_exporter": "python",
   "pygments_lexer": "ipython3",
   "version": "3.9.5"
  },
  "orig_nbformat": 4,
  "vscode": {
   "interpreter": {
    "hash": "76ffb32adecc176a94139b94e134b8da7193cb67a4c842f7ccb6559ecf3e93e7"
   }
  }
 },
 "nbformat": 4,
 "nbformat_minor": 2
}
