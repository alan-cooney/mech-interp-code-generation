{
 "cells": [
  {
   "cell_type": "markdown",
   "metadata": {},
   "source": [
    "# Different Models\n",
    "\n",
    "The first aim here is to find tasks that some models can do but others can't (so that we know something interesting is happening, rather than just e.g. skip trigrams). There are a variety of models to do this with, within [EasyTransformer](https://github.com/neelnanda-io/Easy-Transformer)."
   ]
  },
  {
   "cell_type": "markdown",
   "metadata": {},
   "source": [
    "## Imports"
   ]
  },
  {
   "cell_type": "code",
   "execution_count": 18,
   "metadata": {},
   "outputs": [],
   "source": [
    "!pip install git+https://github.com/neelnanda-io/Easy-Transformer ipython torchtyping circuitsvis\n",
    "\n",
    "# Clear output\n",
    "from IPython.display import clear_output\n",
    "clear_output()"
   ]
  },
  {
   "cell_type": "code",
   "execution_count": 25,
   "metadata": {},
   "outputs": [
    {
     "name": "stderr",
     "output_type": "stream",
     "text": [
      "/tmp/ipykernel_32/4276320079.py:3: DeprecationWarning: Importing clear_output from IPython.core.display is deprecated since IPython 7.14, please import from IPython display\n",
      "  from IPython.core.display import HTML, clear_output\n"
     ]
    }
   ],
   "source": [
    "from easy_transformer import EasyTransformer\n",
    "import torch\n",
    "from IPython.core.display import HTML, clear_output\n",
    "from typing import List\n",
    "import pandas as pd\n",
    "import copy\n",
    "import numpy as np\n",
    "from torchtyping import TensorType\n",
    "from torch.nn import functional as F\n",
    "from circuitsvis.tokens import colored_tokens"
   ]
  },
  {
   "cell_type": "markdown",
   "metadata": {},
   "source": [
    "## Models available"
   ]
  },
  {
   "cell_type": "code",
   "execution_count": 6,
   "metadata": {},
   "outputs": [
    {
     "data": {
      "text/plain": [
       "'gpt2, gpt2-medium, gpt2-large, gpt2-xl, distilgpt2, facebook/opt-125m, facebook/opt-1.3b, facebook/opt-2.7b, facebook/opt-6.7b, facebook/opt-13b, facebook/opt-30b, facebook/opt-66b, EleutherAI/gpt-neo-125M, EleutherAI/gpt-neo-1.3B, EleutherAI/gpt-neo-2.7B, EleutherAI/gpt-j-6B, EleutherAI/gpt-neox-20b, stanford-crfm/alias-gpt2-small-x21, stanford-crfm/battlestar-gpt2-small-x49, stanford-crfm/caprica-gpt2-small-x81, stanford-crfm/darkmatter-gpt2-small-x343, stanford-crfm/expanse-gpt2-small-x777, stanford-crfm/arwen-gpt2-medium-x21, stanford-crfm/beren-gpt2-medium-x49, stanford-crfm/celebrimbor-gpt2-medium-x81, stanford-crfm/durin-gpt2-medium-x343, stanford-crfm/eowyn-gpt2-medium-x777, EleutherAI/pythia-19m, EleutherAI/pythia-125m, EleutherAI/pythia-350m, EleutherAI/pythia-800m, EleutherAI/pythia-1.3b, EleutherAI/pythia-6.7b, EleutherAI/pythia-13b, EleutherAI/pythia-125m-deduped, EleutherAI/pythia-800m-deduped, EleutherAI/pythia-1.3b-deduped, EleutherAI/pythia-6.7b-deduped, NeelNanda/SoLU_1L_v9_old, NeelNanda/SoLU_2L_v10_old, NeelNanda/SoLU_4L_v11_old, NeelNanda/SoLU_6L_v13_old, NeelNanda/SoLU_8L_v21_old, NeelNanda/SoLU_10L_v22_old, NeelNanda/SoLU_12L_v23_old, NeelNanda/SoLU_1L512W_C4_Code, NeelNanda/SoLU_2L512W_C4_Code, NeelNanda/SoLU_3L512W_C4_Code, NeelNanda/SoLU_4L512W_C4_Code, NeelNanda/SoLU_6L768W_C4_Code, NeelNanda/SoLU_8L1024W_C4_Code, NeelNanda/SoLU_10L1280W_C4_Code, NeelNanda/SoLU_12L1536W_C4_Code, NeelNanda/GELU_1L512W_C4_Code, NeelNanda/GELU_2L512W_C4_Code, NeelNanda/GELU_3L512W_C4_Code, NeelNanda/GELU_4L512W_C4_Code, NeelNanda/Attn_Only_1L512W_C4_Code, NeelNanda/Attn_Only_2L512W_C4_Code, NeelNanda/Attn_Only_3L512W_C4_Code, NeelNanda/Attn_Only_4L512W_C4_Code, NeelNanda/Attn-Only-2L512W-Shortformer-6B-big-lr'"
      ]
     },
     "execution_count": 6,
     "metadata": {},
     "output_type": "execute_result"
    }
   ],
   "source": [
    "from easy_transformer import loading_from_pretrained\n",
    "\", \".join(loading_from_pretrained.OFFICIAL_MODEL_NAMES)"
   ]
  },
  {
   "cell_type": "markdown",
   "metadata": {},
   "source": [
    "## Introduction"
   ]
  },
  {
   "cell_type": "markdown",
   "metadata": {},
   "source": [
    "Code completion in language models is pretty sophisticated. For example GitHub Copilot successfully solves problem prompts with solutions, like this."
   ]
  },
  {
   "cell_type": "markdown",
   "metadata": {},
   "source": [
    "### Python prompt"
   ]
  },
  {
   "cell_type": "markdown",
   "metadata": {},
   "source": [
    "Starting with this prompt from a coding test:\n",
    "\n",
    "```python\n",
    "# Two Sum\n",
    "\n",
    "# Given an array of integers nums and an integer target, return indices of the two numbers such that they add up to target.\n",
    "\n",
    "# You may assume that each input would have exactly one solution, and you may not use the same element twice.\n",
    "\n",
    "# You can return the answer in any order.\n",
    "\n",
    "class Solution(object):\n",
    "    def twoSum(self, nums, target):\n",
    "```"
   ]
  },
  {
   "cell_type": "markdown",
   "metadata": {},
   "source": [
    "### Solution"
   ]
  },
  {
   "cell_type": "markdown",
   "metadata": {},
   "source": [
    "```python\n",
    "\"\"\"\n",
    ":type nums1: List[int]\n",
    ":type nums2: List[int]\n",
    ":rtype: float\n",
    "\"\"\"\n",
    "nums1.extend(nums2)\n",
    "nums1.sort()\n",
    "if len(nums1)%2 == 0:\n",
    "    return (nums1[len(nums1)//2] + nums1[len(nums1)//2 - 1])/2\n",
    "else:\n",
    "    return nums1[len(nums1)//2]\n",
    "```\n",
    "\n",
    "\n",
    "Some interesting observations of learnt skills here include:\n",
    "\n",
    "- Deep stuff: understanding the problem from the comments, and formulating a high level solution.\n",
    "- Keeping track of if/else blocks & brackets\n",
    "- Using previously defined variables (perhaps similar to induction heads)\n",
    "- Knowing variable types (both primitives and library types)\n",
    "- Knowing the methods within classes\n",
    "- Understanding underlying maths (e.g. what modulus and floor divide actually do)\n",
    "- Understanding broadly how a function works (e.g. it typically returns something)\n",
    "- Known line spacing"
   ]
  },
  {
   "cell_type": "markdown",
   "metadata": {},
   "source": [
    "## Finding interesting problems for different models"
   ]
  },
  {
   "cell_type": "markdown",
   "metadata": {},
   "source": [
    "### Models to try"
   ]
  },
  {
   "cell_type": "code",
   "execution_count": 7,
   "metadata": {},
   "outputs": [],
   "source": [
    "# Models to use\n",
    "models = [\n",
    "    \"NeelNanda/SoLU_1L512W_C4_Code\", \n",
    "    \"NeelNanda/SoLU_2L512W_C4_Code\",\n",
    "    \"NeelNanda/SoLU_3L512W_C4_Code\", \n",
    "    \"NeelNanda/SoLU_4L512W_C4_Code\", \n",
    "    # \"NeelNanda/SoLU_6L768W_C4_Code\", \n",
    "    # \"NeelNanda/SoLU_8L1024W_C4_Code\", \n",
    "    # \"NeelNanda/SoLU_10L1280W_C4_Code\", \n",
    "    # \"NeelNanda/SoLU_12L1536W_C4_Code\", \n",
    "    # \"NeelNanda/GELU_1L512W_C4_Code\", \n",
    "    # \"NeelNanda/GELU_2L512W_C4_Code\", \n",
    "    # \"NeelNanda/GELU_3L512W_C4_Code\", \n",
    "    # \"NeelNanda/GELU_4L512W_C4_Code\", \n",
    "    \"NeelNanda/Attn_Only_1L512W_C4_Code\", \n",
    "    \"NeelNanda/Attn_Only_2L512W_C4_Code\", \n",
    "    \"NeelNanda/Attn_Only_3L512W_C4_Code\", \n",
    "    \"NeelNanda/Attn_Only_4L512W_C4_Code\",\n",
    "    # \"gpt2\",\n",
    "    # \"gpt2-medium\"\n",
    "]"
   ]
  },
  {
   "cell_type": "markdown",
   "metadata": {},
   "source": [
    "### Prompt"
   ]
  },
  {
   "cell_type": "code",
   "execution_count": 8,
   "metadata": {},
   "outputs": [],
   "source": [
    "# Prompt (The main CircuitsVis render functionality)\n",
    "prompt = '''import json\n",
    "import subprocess\n",
    "from pathlib import Path\n",
    "from typing import Optional\n",
    "from uuid import uuid4\n",
    "\n",
    "REACT_DIR = Path(__file__).parent.parent.parent / \"react\"\n",
    "\n",
    "\n",
    "class RenderedHTML:\n",
    "    \"\"\"Rendered HTML\n",
    "    Enables rendering HTML in a variety of situations (e.g. Jupyter Lab)\n",
    "    \"\"\"\n",
    "\n",
    "    def __init__(self, src: str):\n",
    "        self.src = src\n",
    "\n",
    "    def _repr_html_(self) -> str:\n",
    "        \"\"\"Jupyter/Colab HTML Representation\n",
    "        When Jupyter sees this method, it renders the HTML.\n",
    "        Returns:\n",
    "            str: HTML for Jupyter/Colab\n",
    "        \"\"\"\n",
    "        return self.src\n",
    "\n",
    "    def __html__(self) -> str:\n",
    "        \"\"\"Used by some tooling as an alternative to _repr_html_\"\"\"\n",
    "        return self.src\n",
    "\n",
    "    def show_code(self) -> str:\n",
    "        \"\"\"Show the code as source-code\n",
    "        Returns:\n",
    "            str: HTML source code\n",
    "        \"\"\"\n",
    "        return self.src\n",
    "\n",
    "    def __str__(self):\n",
    "        \"\"\"String type conversion handler\"\"\"\n",
    "        return self.src\n",
    "\n",
    "\n",
    "def install_if_necessary() -> None:\n",
    "    \"\"\"Install node modules if they're missing.\"\"\"\n",
    "    node_modules = REACT_DIR / \"node_modules\"\n",
    "    if not node_modules.exists():\n",
    "        subprocess.run(\n",
    "            [\"yarn\"],\n",
    "            cwd=REACT_DIR,\n",
    "            capture_output=True,\n",
    "            text=True,\n",
    "            check=True\n",
    "        )\n",
    "\n",
    "\n",
    "def bundle_source() -> None:\n",
    "    \"\"\"Bundle up the JavaScript/TypeScript source files\"\"\"\n",
    "    subprocess.run([\n",
    "        \"yarn\",\n",
    "        \"buildBrowser\"\n",
    "    ],\n",
    "        cwd=REACT_DIR,\n",
    "        capture_output=True,\n",
    "        text=True,\n",
    "        check=True\n",
    "    )\n",
    "\n",
    "\n",
    "def render_dev(react_element_name: str, **kwargs) -> RenderedHTML:\n",
    "    \"\"\"Render (during development)\"\"\"\n",
    "    # Create a random ID for the div (that we render into)\n",
    "    # This is done to avoid name clashes on a page with many rendered\n",
    "    # CircuitsVis elements. Note we shorten the UUID to be a reasonable length\n",
    "    uuid = \"circuits-vis-\" + str(uuid4())[:13]\n",
    "\n",
    "    # Stringify keyword args\n",
    "    props = json.dumps(kwargs)\n",
    "\n",
    "    # Build\n",
    "    install_if_necessary()\n",
    "    bundle_source()\n",
    "\n",
    "    # Load the JS\n",
    "    filename = REACT_DIR / \"dist\" / \"cdn\" / \"iife.js\"\n",
    "    with open(filename, encoding=\"utf-8\") as file:\n",
    "        inline_js = file.read()\n",
    "\n",
    "    html = f\"\"\"<div id=\"{uuid}\"/>\n",
    "    <script crossorigin type=\"module\">\n",
    "    {inline_js}\n",
    "    \n",
    "    CircuitsVis.render(\n",
    "      \"{uuid}\",\n",
    "      CircuitsVis.{react_element_name},\n",
    "      {props}\n",
    "    )\n",
    "    </script>\"\"\"\n",
    "\n",
    "    return RenderedHTML(html)\n",
    "\n",
    "\n",
    "def render_prod(react_element_name: str, **kwargs) -> RenderedHTML:\n",
    "    \"\"\"Render (for production)\"\"\"\n",
    "    # Create a random ID for the div (that we render into)\n",
    "    # This is done to avoid name clashes on a page with many rendered\n",
    "    # CircuitsVis elements. Note we shorten the UUID to be a reasonable length\n",
    "    uuid = \"circuits-vis-\" + str(uuid4())[:13]\n",
    "\n",
    "    # Stringify keyword args\n",
    "    props = json.dumps(kwargs)\n",
    "\n",
    "    html = f\"\"\"<div id=\"{uuid}\"/>\n",
    "    <script crossorigin type=\"module\">\n",
    "    import {\"{ render, \"+ react_element_name + \" }\"} from \"https://unpkg.com/circuitsvis/dist/cdn/esm.js\";\n",
    "    render(\n",
    "      \"{uuid}\",\n",
    "      {react_element_name},\n",
    "      {props}\n",
    "    )\n",
    "    </script>\"\"\"\n",
    "\n",
    "    return RenderedHTML(html)'''"
   ]
  },
  {
   "cell_type": "markdown",
   "metadata": {},
   "source": [
    "### Try prompt with all models"
   ]
  },
  {
   "cell_type": "code",
   "execution_count": 9,
   "metadata": {},
   "outputs": [],
   "source": [
    "model_results = {}\n",
    "\n",
    "for model_idx, model_name in enumerate(models):\n",
    "    # Free up CUDA memory (from previous model)\n",
    "    torch.cuda.empty_cache()\n",
    "    \n",
    "    # Load up the model\n",
    "    model = EasyTransformer.from_pretrained(model_name)\n",
    "    \n",
    "    # Get the predictions\n",
    "    logits: TensorType[\"batch\", \"position\", \"vocab\"] = model(prompt)\n",
    "    logits_single_batch: TensorType[\"position\", \"vocab\"] = logits[0]\n",
    "    logits_except_last: TensorType[\"position\", \"vocab\"] = logits_single_batch[1:-1, :] # We also remove the first (start of sequence token)\n",
    "    # predictions: TensorType[\"batch\", \"position\", \"vocab\"] = torch.argmax(logits, 2)\n",
    "    \n",
    "    # Get the probabilities\n",
    "    probabilities: TensorType[\"position\", \"vocab\"] = F.softmax(logits_except_last, dim=1)\n",
    "    probabilities_np = probabilities.detach().cpu().numpy()\n",
    "    \n",
    "    # Get the probabilities of the correct tokens\n",
    "    correct_tokens = model.tokenizer.encode(prompt)[1:]\n",
    "    correct_tokens_np = np.array(correct_tokens)\n",
    "    \n",
    "    print(correct_tokens_np.shape, probabilities_np.shape) # (856,) torch.Size([856, 48262])\n",
    "    probabilities_correct = probabilities_np[np.arange(len(probabilities_np)),correct_tokens_np]\n",
    "    \n",
    "    \n",
    "    \n",
    "    # predictions_except_last = predictions.cpu().squeeze().numpy()[1:-1]\n",
    "    # accurate = np.equal(np.array(correct_tokens),(predictions_except_last))\n",
    "    \n",
    "    # Store\n",
    "    model_results[model_name] = probabilities_correct\n",
    "\n",
    "    \n",
    "clear_output()     \n",
    "\n",
    "# Create the results DataFrame\n",
    "results = pd.DataFrame(model_results)\n",
    "\n",
    "# Set the token labels\n",
    "tokens = model.tokenizer.encode(prompt)\n",
    "token_labels = [model.tokenizer.decode(token) for token in tokens[0:-1]]\n",
    "results.insert(0, \"Token\", token_labels)"
   ]
  },
  {
   "cell_type": "code",
   "execution_count": 10,
   "metadata": {},
   "outputs": [
    {
     "data": {
      "text/plain": [
       "NeelNanda/SoLU_1L512W_C4_Code         28.01%\n",
       "NeelNanda/SoLU_2L512W_C4_Code         47.57%\n",
       "NeelNanda/SoLU_3L512W_C4_Code         49.94%\n",
       "NeelNanda/SoLU_4L512W_C4_Code         51.09%\n",
       "NeelNanda/Attn_Only_1L512W_C4_Code    23.76%\n",
       "NeelNanda/Attn_Only_2L512W_C4_Code    41.71%\n",
       "NeelNanda/Attn_Only_3L512W_C4_Code    45.06%\n",
       "NeelNanda/Attn_Only_4L512W_C4_Code    46.81%\n",
       "dtype: object"
      ]
     },
     "execution_count": 10,
     "metadata": {},
     "output_type": "execute_result"
    }
   ],
   "source": [
    "# Show the average probability of the correct tokens by model\n",
    "results_by_model = pd.DataFrame(model_results)\n",
    "average_results_by_model = results_by_model.mean()\n",
    "average_results_by_model.apply(lambda x: \"{:.2%}\".format(x))"
   ]
  },
  {
   "cell_type": "markdown",
   "metadata": {},
   "source": [
    "### Results"
   ]
  },
  {
   "cell_type": "code",
   "execution_count": 47,
   "metadata": {},
   "outputs": [],
   "source": [
    "def compare_model_correct_token_probability(modelA: str, modelB: str) -> pd.DataFrame:\n",
    "    \"\"\"Compare the correct token probabilities of two models\n",
    "\n",
    "    Args:\n",
    "        modelA (str): Model name (of model that is expected to be better)\n",
    "        modelB (str): Model name (of model that is expected to be worse)\n",
    "\n",
    "    Returns:\n",
    "        pd.DataFrame: DataFrame with the relative accuracy of each model\n",
    "    \"\"\"\n",
    "    relevant_results = results[[\"Token\",modelA, modelB]]\n",
    "    diff = relevant_results[modelA] - relevant_results[modelB]\n",
    "    relevant_results.insert(3, \"Difference\", diff)\n",
    "    # relevant_results = relevant_results.sort_values(by=\"Difference\", ascending=False)\n",
    "    return relevant_results"
   ]
  },
  {
   "cell_type": "markdown",
   "metadata": {},
   "source": [
    "#### MLP vs Attention Only"
   ]
  },
  {
   "cell_type": "code",
   "execution_count": 56,
   "metadata": {},
   "outputs": [
    {
     "data": {
      "text/plain": [
       "array([[<AxesSubplot:title={'center':'Difference'}>]], dtype=object)"
      ]
     },
     "execution_count": 56,
     "metadata": {},
     "output_type": "execute_result"
    },
    {
     "data": {
      "image/png": "[encoded data removed]",
      "text/plain": [
       "<Figure size 432x288 with 1 Axes>"
      ]
     },
     "metadata": {
      "needs_background": "light"
     },
     "output_type": "display_data"
    }
   ],
   "source": [
    "mlp_difference = compare_model_correct_token_probability(\"NeelNanda/SoLU_1L512W_C4_Code\", \"NeelNanda/Attn_Only_1L512W_C4_Code\")\n",
    "mlp_difference.hist(column=\"Difference\", bins=10)"
   ]
  },
  {
   "cell_type": "markdown",
   "metadata": {},
   "source": [
    "##### By Tokens View"
   ]
  },
  {
   "cell_type": "code",
   "execution_count": 63,
   "metadata": {},
   "outputs": [
    {
     "data": {
      "text/html": [
       "<div id=\"circuits-vis-8c0f5d7e-c538\"/>\n",
       "    <script crossorigin type=\"module\">\n",
       "    import { render, ColoredTokens } from \"https://unpkg.com/circuitsvis/dist/cdn/esm.js\";\n",
       "    render(\n",
       "      \"circuits-vis-8c0f5d7e-c538\",\n",
       "      ColoredTokens,\n",
       "      {\"tokens\": [\"import\", \" json\", \"\\n\", \"import\", \" sub\", \"process\", \"\\n\", \"from\", \" path\", \"lib\", \" import\", \" Path\", \"\\n\", \"from\", \" typing\", \" import\", \" Optional\", \"\\n\", \"from\", \" u\", \"uid\", \" import\", \" u\", \"uid\", \"4\", \"\\n\", \"\\n\", \"RE\", \"ACT\", \"_\", \"DIR\", \" =\", \" Path\", \"(__\", \"file\", \"__\", \").\", \"parent\", \".\", \"parent\", \".\", \"parent\", \" /\", \" \\\"\", \"react\", \"\\\"\", \"\\n\\n\", \"\\n\", \"class\", \" R\", \"endered\", \"HTML\", \":\", \"\\n   \", \" \\\"\\\"\\\"\", \"R\", \"endered\", \" HTML\", \"\\n   \", \" En\", \"ables\", \" rendering\", \" HTML\", \" in\", \" a\", \" variety\", \" of\", \" situations\", \" (\", \"e\", \".\", \"g\", \".\", \" J\", \"up\", \"y\", \"ter\", \" Lab\", \")\", \"\\n   \", \" \\\"\\\"\\\"\", \"\\n\\n   \", \" def\", \" __\", \"init\", \"__(\", \"self\", \",\", \" src\", \":\", \" str\", \"):\", \"\\n       \", \" self\", \".\", \"src\", \" =\", \" src\", \"\\n\\n   \", \" def\", \" _\", \"re\", \"pr\", \"_\", \"html\", \"_(\", \"self\", \")\", \" ->\", \" str\", \":\", \"\\n       \", \" \\\"\\\"\\\"\", \"J\", \"up\", \"y\", \"ter\", \"/\", \"Col\", \"ab\", \" HTML\", \" Represent\", \"ation\", \"\\n       \", \" When\", \" J\", \"up\", \"y\", \"ter\", \" sees\", \" this\", \" method\", \",\", \" it\", \" renders\", \" the\", \" HTML\", \".\", \"\\n       \", \" Returns\", \":\", \"\\n           \", \" str\", \":\", \" HTML\", \" for\", \" J\", \"up\", \"y\", \"ter\", \"/\", \"Col\", \"ab\", \"\\n       \", \" \\\"\\\"\\\"\", \"\\n       \", \" return\", \" self\", \".\", \"src\", \"\\n\\n   \", \" def\", \" __\", \"html\", \"__(\", \"self\", \")\", \" ->\", \" str\", \":\", \"\\n       \", \" \\\"\\\"\\\"\", \"Used\", \" by\", \" some\", \" tool\", \"ing\", \" as\", \" an\", \" alternative\", \" to\", \" _\", \"re\", \"pr\", \"_\", \"html\", \"_\", \"\\\"\\\"\\\"\", \"\\n       \", \" return\", \" self\", \".\", \"src\", \"\\n\\n   \", \" def\", \" show\", \"_\", \"code\", \"(\", \"self\", \")\", \" ->\", \" str\", \":\", \"\\n       \", \" \\\"\\\"\\\"\", \"Show\", \" the\", \" code\", \" as\", \" source\", \"-\", \"code\", \"\\n       \", \" Returns\", \":\", \"\\n           \", \" str\", \":\", \" HTML\", \" source\", \" code\", \"\\n       \", \" \\\"\\\"\\\"\", \"\\n       \", \" return\", \" self\", \".\", \"src\", \"\\n\\n   \", \" def\", \" __\", \"str\", \"__(\", \"self\", \"):\", \"\\n       \", \" \\\"\\\"\\\"\", \"String\", \" type\", \" conversion\", \" handler\", \"\\\"\\\"\\\"\", \"\\n       \", \" return\", \" self\", \".\", \"src\", \"\\n\\n\", \"\\n\", \"def\", \" install\", \"_\", \"if\", \"_\", \"necessary\", \"()\", \" ->\", \" None\", \":\", \"\\n   \", \" \\\"\\\"\\\"\", \"Install\", \" node\", \" modules\", \" if\", \" they\", \"'re\", \" missing\", \".\\\"\\\"\\\"\", \"\\n   \", \" node\", \"_\", \"modules\", \" =\", \" RE\", \"ACT\", \"_\", \"DIR\", \" /\", \" \\\"\", \"node\", \"_\", \"modules\", \"\\\"\", \"\\n   \", \" if\", \" not\", \" node\", \"_\", \"modules\", \".\", \"exists\", \"():\", \"\\n       \", \" sub\", \"process\", \".\", \"run\", \"(\", \"\\n           \", \" [\\\"\", \"y\", \"arn\", \"\\\"],\", \"\\n           \", \" c\", \"wd\", \"=\", \"RE\", \"ACT\", \"_\", \"DIR\", \",\", \"\\n           \", \" capture\", \"_\", \"output\", \"=\", \"True\", \",\", \"\\n           \", \" text\", \"=\", \"True\", \",\", \"\\n           \", \" check\", \"=\", \"True\", \"\\n       \", \" )\", \"\\n\\n\", \"\\n\", \"def\", \" bundle\", \"_\", \"source\", \"()\", \" ->\", \" None\", \":\", \"\\n   \", \" \\\"\\\"\\\"\", \"Bundle\", \" up\", \" the\", \" JavaScript\", \"/\", \"Type\", \"Script\", \" source\", \" files\", \"\\\"\\\"\\\"\", \"\\n   \", \" sub\", \"process\", \".\", \"run\", \"([\", \"\\n       \", \" \\\"\", \"y\", \"arn\", \"\\\",\", \"\\n       \", \" \\\"\", \"build\", \"Browser\", \"\\\"\", \"\\n   \", \" ],\", \"\\n       \", \" c\", \"wd\", \"=\", \"RE\", \"ACT\", \"_\", \"DIR\", \",\", \"\\n       \", \" capture\", \"_\", \"output\", \"=\", \"True\", \",\", \"\\n       \", \" text\", \"=\", \"True\", \",\", \"\\n       \", \" check\", \"=\", \"True\", \"\\n   \", \" )\", \"\\n\\n\", \"\\n\", \"def\", \" render\", \"_\", \"dev\", \"(\", \"react\", \"_\", \"element\", \"_\", \"name\", \":\", \" str\", \",\", \" **\", \"kwargs\", \")\", \" ->\", \" R\", \"endered\", \"HTML\", \":\", \"\\n   \", \" \\\"\\\"\\\"\", \"Render\", \" (\", \"during\", \" development\", \")\\\"\", \"\\\"\\\"\", \"\\n   \", \" #\", \" Create\", \" a\", \" random\", \" ID\", \" for\", \" the\", \" div\", \" (\", \"that\", \" we\", \" render\", \" into\", \")\", \"\\n   \", \" #\", \" This\", \" is\", \" done\", \" to\", \" avoid\", \" name\", \" clashes\", \" on\", \" a\", \" page\", \" with\", \" many\", \" rendered\", \"\\n   \", \" #\", \" Circ\", \"uits\", \"Vis\", \" elements\", \".\", \" Note\", \" we\", \" shorten\", \" the\", \" U\", \"UID\", \" to\", \" be\", \" a\", \" reasonable\", \" length\", \"\\n   \", \" u\", \"uid\", \" =\", \" \\\"\", \"circ\", \"uits\", \"-\", \"vis\", \"-\\\"\", \" +\", \" str\", \"(\", \"uuid\", \"4\", \"())\", \"[:\", \"1\", \"3\", \"]\", \"\\n\\n   \", \" #\", \" String\", \"ify\", \" keyword\", \" args\", \"\\n   \", \" props\", \" =\", \" json\", \".\", \"d\", \"umps\", \"(\", \"kwargs\", \")\", \"\\n\\n   \", \" #\", \" Build\", \"\\n   \", \" install\", \"_\", \"if\", \"_\", \"necessary\", \"()\", \"\\n   \", \" bundle\", \"_\", \"source\", \"()\", \"\\n\\n   \", \" #\", \" Load\", \" the\", \" JS\", \"\\n   \", \" filename\", \" =\", \" RE\", \"ACT\", \"_\", \"DIR\", \" /\", \" \\\"\", \"dist\", \"\\\"\", \" /\", \" \\\"\", \"cdn\", \"\\\"\", \" /\", \" \\\"\", \"i\", \"ife\", \".\", \"js\", \"\\\"\", \"\\n   \", \" with\", \" open\", \"(\", \"filename\", \",\", \" encoding\", \"=\\\"\", \"utf\", \"-\", \"8\", \"\\\")\", \" as\", \" file\", \":\", \"\\n       \", \" inline\", \"_\", \"js\", \" =\", \" file\", \".\", \"read\", \"()\", \"\\n\\n   \", \" html\", \" =\", \" f\", \"\\\"\\\"\\\"\", \"<\", \"div\", \" id\", \"=\\\"{\", \"uuid\", \"}\", \"\\\"/>\", \"\\n   \", \" <\", \"script\", \" cross\", \"origin\", \" type\", \"=\\\"\", \"module\", \"\\\">\", \"\\n   \", \" {\", \"inline\", \"_\", \"js\", \"}\", \"\\n    \\n   \", \" Circ\", \"uits\", \"Vis\", \".\", \"render\", \"(\", \"\\n     \", \" \\\"{\", \"uuid\", \"}\\\",\", \"\\n     \", \" Circ\", \"uits\", \"Vis\", \".\", \"{\", \"react\", \"_\", \"element\", \"_\", \"name\", \"},\", \"\\n     \", \" {\", \"props\", \"}\", \"\\n   \", \" )\", \"\\n   \", \" </\", \"script\", \">\", \"\\\"\\\"\\\"\", \"\\n\\n   \", \" return\", \" R\", \"endered\", \"HTML\", \"(\", \"html\", \")\", \"\\n\\n\", \"\\n\", \"def\", \" render\", \"_\", \"prod\", \"(\", \"react\", \"_\", \"element\", \"_\", \"name\", \":\", \" str\", \",\", \" **\", \"kwargs\", \")\", \" ->\", \" R\", \"endered\", \"HTML\", \":\", \"\\n   \", \" \\\"\\\"\\\"\", \"Render\", \" (\", \"for\", \" production\", \")\\\"\", \"\\\"\\\"\", \"\\n   \", \" #\", \" Create\", \" a\", \" random\", \" ID\", \" for\", \" the\", \" div\", \" (\", \"that\", \" we\", \" render\", \" into\", \")\", \"\\n   \", \" #\", \" This\", \" is\", \" done\", \" to\", \" avoid\", \" name\", \" clashes\", \" on\", \" a\", \" page\", \" with\", \" many\", \" rendered\", \"\\n   \", \" #\", \" Circ\", \"uits\", \"Vis\", \" elements\", \".\", \" Note\", \" we\", \" shorten\", \" the\", \" U\", \"UID\", \" to\", \" be\", \" a\", \" reasonable\", \" length\", \"\\n   \", \" u\", \"uid\", \" =\", \" \\\"\", \"circ\", \"uits\", \"-\", \"vis\", \"-\\\"\", \" +\", \" str\", \"(\", \"uuid\", \"4\", \"())\", \"[:\", \"1\", \"3\", \"]\", \"\\n\\n   \", \" #\", \" String\", \"ify\", \" keyword\", \" args\", \"\\n   \", \" props\", \" =\", \" json\", \".\", \"d\", \"umps\", \"(\", \"kwargs\", \")\", \"\\n\\n   \", \" html\", \" =\", \" f\", \"\\\"\\\"\\\"\", \"<\", \"div\", \" id\", \"=\\\"{\", \"uuid\", \"}\", \"\\\"/>\", \"\\n   \", \" <\", \"script\", \" cross\", \"origin\", \" type\", \"=\\\"\", \"module\", \"\\\">\", \"\\n   \", \" import\", \" {\\\"\", \"{\", \" render\", \",\", \" \\\"+\", \" react\", \"_\", \"element\", \"_\", \"name\", \" +\", \" \\\"\", \" }\", \"\\\"}\", \" from\", \" \\\"\", \"https\", \"://\", \"un\", \"pkg\", \".\", \"com\", \"/\", \"circ\", \"uits\", \"vis\", \"/\", \"dist\", \"/\", \"cdn\", \"/\", \"es\", \"m\", \".\", \"js\", \"\\\";\", \"\\n   \", \" render\", \"(\", \"\\n     \", \" \\\"{\", \"uuid\", \"}\\\",\", \"\\n     \", \" {\", \"react\", \"_\", \"element\", \"_\", \"name\", \"},\", \"\\n     \", \" {\", \"props\", \"}\", \"\\n   \", \" )\", \"\\n   \", \" </\", \"script\", \">\", \"\\\"\\\"\\\"\", \"\\n\\n   \", \" return\", \" R\", \"endered\", \"HTML\", \"(\", \"html\"], \"values\": [-0.015166008844971657, 0.02471858263015747, 0.047903478145599365, -0.004484332632273436, 0.014045238494873047, 0.11397659778594971, 0.026552744209766388, 0.0008217318682000041, 0.17495012283325195, 0.14688760042190552, 0.1073625385761261, 0.20333099365234375, 0.13960808515548706, 0.0013669966720044613, 0.020859718322753906, 0.05162627995014191, -0.2735850512981415, -0.020194292068481445, 0.0005852412432432175, -0.2338007092475891, 0.12389105558395386, 0.4349318742752075, -0.1416686773300171, 0.11053550988435745, 0.029264330863952637, 0.06041610240936279, 0.0009742239490151405, 0.0005065451841801405, 0.11198398470878601, -0.005408106371760368, 0.1883164644241333, 0.1284346580505371, 0.34074926376342773, 0.010289549827575684, 0.051045507192611694, 0.01194813847541809, 0.0031342566944658756, -0.17999763786792755, 0.013356981799006462, -0.23504622280597687, -0.0019303187727928162, -0.0016277231043204665, 0.029886018484830856, -1.2771288311341777e-05, -0.06226471811532974, 0.12202437222003937, -0.0011233091354370117, 0.10988858342170715, -0.002601438434794545, 0.0004088988061994314, 1.2190932466182858e-05, 0.048740096390247345, -0.154776930809021, 0.4172601103782654, 0.0003142933128401637, -0.046900928020477295, 0.18629425764083862, -0.00026611192151904106, -9.556335862725973e-05, 0.12138624489307404, 0.0030788916628807783, 0.021241988986730576, -0.008626097813248634, 0.033388931304216385, -0.0010964819230139256, -0.031566739082336426, 4.113477189093828e-05, 0.010382262989878654, 0.10837247222661972, 0.046469807624816895, 0.00608980655670166, 0.05012136697769165, 0.0002762485237326473, -0.004274435341358185, 0.7912653088569641, -0.5856837034225464, 0.0002715388254728168, -0.041034989058971405, 0.053604334592819214, 0.22738394141197205, 0.03399661183357239, -0.037809908390045166, -0.13083964586257935, 0.020484209060668945, 0.0024022459983825684, -0.005367159843444824, 0.14134377241134644, -0.00039603590266779065, 0.016814375296235085, 0.015088170766830444, -0.0031217262148857117, 0.008911430835723877, 0.32733848690986633, 0.05179566144943237, 0.0022917406167834997, 0.36967596411705017, 0.06215893477201462, 0.04004490375518799, 0.020665109157562256, 0.009046381339430809, -0.009029382839798927, 0.27069908380508423, -0.10604044049978256, 0.007659140042960644, 0.006659306585788727, 0.09306067228317261, 0.059990931302309036, -0.013903439044952393, 0.1002386063337326, 0.10428786277770996, 0.38007450103759766, -0.28114771842956543, 5.9634854551404715e-05, 0.0011486292351037264, 0.5654019713401794, -0.3138008415699005, -0.005968357902020216, -0.00034320782287977636, 2.273697464261204e-05, -8.68813440320082e-05, -2.163420504075475e-06, 0.08338826894760132, 0.06201788783073425, 0.0001606523001100868, 0.0006457619601860642, 0.10481162369251251, 0.745754599571228, -0.12849754095077515, -0.0002122297591995448, 0.0030090101063251495, 0.0007186727598309517, 0.2261943817138672, 0.06460965424776077, -0.0007701949216425419, -0.052573829889297485, 0.18155288696289062, 0.008380359970033169, 0.11324244737625122, 0.0004191385814920068, -0.11114940047264099, 0.10441714525222778, 0.01339806616306305, 0.1600591540336609, -0.12914606928825378, -0.016078894957900047, 0.0015045430045574903, 0.18085977435112, 0.5822557210922241, 0.01832294464111328, 0.004566749092191458, -0.0007027456304058433, 0.002000658307224512, 0.003928296267986298, 0.16569846868515015, -0.04576230049133301, -0.015365362167358398, 0.09174051880836487, -0.04547303915023804, -0.0011314055882394314, 0.11720992624759674, -0.054594218730926514, -0.06926479935646057, 4.0303981222677976e-05, 0.49325108528137207, 0.004785478115081787, 0.1479223370552063, 0.05627518892288208, 0.03934311866760254, 0.0465962290763855, -0.015353918075561523, -0.42274609208106995, 0.00011970295599894598, -0.009107761085033417, -0.0005828158464282751, 0.0005149998469278216, 0.021821279078722, -0.0009109480306506157, 0.023452848196029663, 0.0030696624889969826, -0.11204943805932999, 0.0019467134261503816, -0.0016581220552325249, 0.39223581552505493, 0.04397334158420563, 0.15467582643032074, 0.1060570776462555, 5.279190736473538e-05, 0.0853431224822998, 0.45208728313446045, 0.20740944147109985, 0.09407824277877808, 0.002774640452116728, 0.15257464349269867, -0.16488885879516602, -1.0761432349681854e-05, 0.030963897705078125, 0.0006130626425147057, -0.059964656829833984, 0.0006289482116699219, 0.1772724837064743, -0.003258347511291504, 0.03192976117134094, 0.041555821895599365, 0.031243085861206055, -0.26306045055389404, 0.01911243423819542, -0.01403433084487915, 0.005840841680765152, 0.005601226352155209, -0.0008844492258504033, -0.001049933023750782, -0.21939286589622498, 0.0023606223985552788, 0.003149267751723528, 0.1052749752998352, 0.15108484029769897, 0.028504744172096252, 0.19697868824005127, -0.018811769783496857, 0.017253931611776352, 0.12762773036956787, 0.1005273312330246, 0.049226999282836914, 0.02870875597000122, 0.2126573920249939, -0.0565761923789978, 0.14047682285308838, 0.03237675875425339, 0.08064916729927063, -0.062000811100006104, -0.14079788327217102, 0.016103893518447876, 0.019399285316467285, 0.00761038064956665, 0.020885735750198364, 0.009844303131103516, -0.4108477234840393, 0.0019766283221542835, -0.0005316964816302061, -0.0016102844383567572, 0.0029763279017060995, 0.019637875258922577, -0.015294313430786133, -0.0466538667678833, -0.047840774059295654, 0.117290198802948, 0.06946489959955215, -0.0006748437881469727, -0.008897542953491211, -0.006259910762310028, -0.0006746349390596151, -0.056962013244628906, 0.003449084935709834, -0.32653480768203735, 0.01070435717701912, -0.009364588186144829, 0.4640776813030243, -0.2146923840045929, -0.010443329811096191, -0.40180471539497375, -0.04346573352813721, 0.016130879521369934, -0.00025840059970505536, -9.351200424134731e-05, -0.002058680634945631, 0.0024955093394964933, 0.07153883576393127, -0.001925343181937933, -0.0026718489825725555, -0.0492711067199707, 0.0030186972580850124, 0.14886420965194702, 0.10101380199193954, -0.0582805871963501, 0.00010962849773932248, 0.02596142701804638, 0.2175326943397522, 0.02080712281167507, 0.0016253404319286346, -0.010217864066362381, 0.012039897963404655, 0.41864264011383057, 0.09295833110809326, 0.12290364503860474, 0.06517693400382996, 0.08014877885580063, -0.09769956767559052, 0.09907713532447815, 0.001951172947883606, 0.19036400318145752, 0.06476400792598724, 0.01793944090604782, -0.2178972363471985, -0.0171775221824646, -0.0003500569728203118, 0.15668071806430817, 0.2715749144554138, 0.020720552653074265, 0.05070251226425171, -0.17857462167739868, 0.002636298071593046, -0.00028573337476700544, 0.0031897316221147776, 0.03918514400720596, 0.5057232975959778, -0.001265214872546494, 0.7763222455978394, 0.1343938708305359, -0.0005604455946013331, 0.57770836353302, 0.5184018015861511, -0.01836627721786499, -0.03192982077598572, 0.3433363437652588, -1.6279107512673363e-05, -0.05549466609954834, -0.015285724774003029, 0.3651674687862396, -0.13756275177001953, 0.1000719964504242, 0.07311737537384033, -0.0007142728427425027, 0.014837592840194702, -0.009117856621742249, -0.1272428035736084, -0.034211695194244385, -0.0003355504013597965, 0.03245142102241516, -0.15310096740722656, 0.3069392740726471, 0.09605854749679565, 0.07483699917793274, 0.02095639705657959, 0.08927318453788757, 2.4106993805617094e-05, 0.19299817085266113, 0.0026986540760844946, 0.0005830376176163554, 0.11462879180908203, 0.18863427639007568, 0.0073555707931518555, -0.2536562383174896, 0.012497901916503906, -0.00019908830290660262, -0.0012528058141469955, 0.04588214308023453, -0.00035797341843135655, -0.0022840583696961403, 5.942715233686613e-06, -0.00015180802438408136, 0.00037681800313293934, -0.0029872823506593704, -0.04934680461883545, 0.1862637996673584, 0.0037867785431444645, 0.0027455687522888184, 0.15113890171051025, 0.040187768638134, -0.024623267352581024, 0.012048657983541489, 0.06270107626914978, -0.00021686876425519586, 0.3106907606124878, 0.05501261353492737, 0.34121978282928467, 0.13649728894233704, -0.0005931402556598186, 2.594849775050534e-07, -0.04947447404265404, 0.17921051383018494, 0.023952018469572067, 0.04956958070397377, 0.00019124013488180935, 0.5468586087226868, 0.04418399930000305, -0.0013212095946073532, 0.7424281239509583, 0.3428889811038971, -0.07055254280567169, -0.24937735497951508, 0.188773512840271, 0.00019258068641647696, 0.10286802053451538, -0.03864620253443718, 0.3378341794013977, 0.020100414752960205, 0.0678856372833252, -0.11282700300216675, 0.0043237702921032906, -0.03335323929786682, 0.006443202495574951, -0.11688196659088135, -0.181443452835083, 0.0013450570404529572, 0.03693515807390213, -0.14537692070007324, 0.08665420860052109, -0.11625337600708008, -0.043682098388671875, 0.006274223327636719, -0.024921804666519165, -0.0004700091667473316, 0.05173736810684204, -8.904606511350721e-05, -0.18857403099536896, -3.857595402223524e-06, 0.3431010842323303, -0.0009630906279198825, 0.23680470883846283, 0.0697208046913147, 0.04938526824116707, 0.5919544696807861, -0.04819190502166748, -0.0003372402861714363, 0.1351136565208435, 0.006756186485290527, 0.0244218111038208, 0.00038353659329004586, -0.1944940835237503, 0.01094244234263897, -0.06983443349599838, 0.5553482174873352, 0.06822532415390015, 0.01761208102107048, -0.0005107955075800419, -4.2679857870098203e-08, 0.0002171658561564982, 0.009821970015764236, 0.1894966959953308, -0.002369225025177002, 0.0031234119087457657, -5.7717435993254185e-05, -0.007556125521659851, 4.809064557775855e-05, 0.00010272080544382334, 0.0788448303937912, 0.05874568223953247, -4.434675429365598e-05, 0.007336698938161135, 0.004834442399442196, 0.010404462926089764, 0.002724588615819812, 0.0033426303416490555, 0.007112372666597366, -0.18879660964012146, 0.05118966102600098, -0.0040068067610263824, 0.08239233493804932, -0.001976010389626026, -0.018438059836626053, 0.01577218621969223, -0.00035499350633472204, 0.0686880350112915, -0.0015117381699383259, 0.005381740629673004, 0.01142007578164339, 0.03905823454260826, 0.0006327207083813846, -0.00012981650070287287, -0.02410486713051796, 0.46193963289260864, -4.462322067411151e-07, -0.021888695657253265, 4.407423148222733e-06, -3.209123678971082e-05, 0.03152983635663986, 0.000870759948156774, -0.0005011770408600569, 2.2905736841494218e-05, -0.08098572492599487, -3.699699300341308e-05, -0.011404292657971382, 0.021748855710029602, 0.020654363557696342, -0.02746894769370556, -9.13920157472603e-05, -0.0038326196372509003, 0.22184541821479797, -0.0003666188567876816, -0.08188563585281372, -0.07635295391082764, 0.03846650570631027, 0.00028090670821256936, 0.6340216994285583, 0.02259422466158867, 4.0228303987532854e-05, 7.093705062288791e-05, 0.2562658488750458, 0.12304678559303284, 0.001401364803314209, -0.19732791185379028, 0.010736757889389992, 0.4310724437236786, 0.0029659615829586983, 0.039692990481853485, -0.004743125289678574, -0.06440907716751099, 0.023664847016334534, 0.22065693140029907, -0.00015939722652547061, 0.00048084184527397156, -0.00019471622363198549, -0.01944628357887268, 0.07306264340877533, 0.001302490709349513, 0.25725483894348145, 0.0021798773668706417, 0.27290278673171997, 0.14711400866508484, -0.0014958381652832031, 0.013623178005218506, -0.009227888658642769, 0.11813324689865112, 0.07910299301147461, -0.058659493923187256, 0.008660838007926941, -0.0086603295058012, -6.67037966195494e-05, 0.1669774055480957, 0.0044823260977864265, 0.1032610535621643, 0.08740615844726562, -0.012327134609222412, 0.34278604388237, 0.0006041546585038304, 0.012520283460617065, 0.0003402167931199074, -0.004699950572103262, 0.22766776382923126, 0.14685431122779846, -0.0009660189971327782, 0.1252739131450653, 0.0025316232349723577, -0.05124393105506897, 0.00019468809477984905, 0.09960275888442993, 2.734674490056932e-05, 0.6619739532470703, -0.013144493103027344, 0.01837220788002014, 0.02949165739119053, 0.06060275062918663, 0.0004301479202695191, -0.008334949612617493, 0.03234637901186943, 0.1360713541507721, 1.545719351270236e-05, -0.32069242000579834, 0.09844642877578735, 0.5084280967712402, 0.001293529523536563, 1.300833218920161e-08, 0.053647663444280624, 0.1655902862548828, 0.2030569314956665, 0.059441208839416504, 0.0032394984737038612, 0.17036759853363037, 0.31671953201293945, 0.048952460289001465, -0.013905227184295654, 0.005323879420757294, 0.05202353000640869, 0.010952234268188477, -0.04732692241668701, -0.0020481348037719727, 0.018531382083892822, 0.008362233638763428, -0.016292408108711243, 0.38964271545410156, 0.09511691331863403, -6.733258487656713e-05, -0.03705146908760071, 0.01209377869963646, -0.18735575675964355, -0.025172490626573563, -0.16243644058704376, 0.12857964634895325, 0.048014700412750244, 0.012109741568565369, 0.0024526286870241165, -0.11134177446365356, 0.043921977281570435, 0.003458309918642044, 0.017678353935480118, 0.10016018152236938, 0.09057006239891052, -0.00021371990442276, 0.0035696846898645163, 0.11705316603183746, -0.010861554183065891, -0.16728252172470093, 0.11797775328159332, 0.02753802016377449, -5.222527761361562e-06, 0.0060754804871976376, -0.0017822477966547012, -0.007834434509277344, 0.0005043121636845171, -0.030285045504570007, 0.20184803009033203, -0.010005299933254719, -0.00020133814541622996, 0.1579362154006958, 0.14013910293579102, -0.022075898945331573, -0.00013336198753677309, 2.1724841644754633e-05, 0.428557813167572, -3.5966932045994326e-06, 0.013709589838981628, -0.00035154237411916256, -0.045453161001205444, -0.00030951446387916803, -0.0013998695649206638, -0.0010017089080065489, 0.01732155680656433, 0.24058863520622253, -4.540535428532166e-06, 0.006739556789398193, -0.0002690576948225498, 0.051672931760549545, -0.0014754094881936908, -2.9000807444390375e-06, 0.24504344165325165, -0.0010550502920523286, 0.258698433637619, 0.15481898188591003, -0.0023465631529688835, 0.11973817646503448, 0.08471011370420456, 0.001001885742880404, -0.06708680093288422, 0.02119288221001625, 0.07633617520332336, -0.05173036456108093, 0.006964663974940777, 0.23991307616233826, 0.07144242525100708, 0.004081239458173513, 0.07105636596679688, -0.029346328228712082, -0.0005338708870112896, -0.17460352182388306, 0.012546530924737453, -0.012554287910461426, 0.05945222079753876, 0.049266889691352844, -0.05185183882713318, 0.0024965405464172363, 0.11631697416305542, 0.018276430666446686, 0.18003571033477783, -2.3491600586567074e-05, -0.6053350567817688, -0.00019757472909986973, 0.3813968896865845, -0.011715857312083244, 0.15216867625713348, 0.12382753938436508, 0.020161466673016548, 0.5023095011711121, -0.20037853717803955, 0.0052487608045339584, 0.2505686283111572, -0.26812881231307983, 0.43868106603622437, 0.012694241479039192, 0.03648918867111206, 0.1747727394104004, -0.003607437014579773, 0.3374573290348053, 0.08921265602111816, 0.12417474389076233, -0.0002563913003541529, -0.0011041462421417236, 2.046857844106853e-06, 0.0024398616515100002, 0.10867488384246826, 0.021230220794677734, 0.0012760460376739502, 0.006268017925322056, 0.030470475554466248, -1.4475721400231123e-05, 0.00041797530138865113, 0.05913565307855606, 0.06986768543720245, -0.00010718121484387666, 0.005472471471875906, 0.0031284266151487827, 0.009912006556987762, 0.006029835902154446, 0.0014230136293917894, 0.006825061049312353, -0.3317936956882477, 0.01787710189819336, -0.0016230405308306217, 0.09802751243114471, 0.003776188939809799, -0.023637738078832626, 0.014156989753246307, -0.00039108158671297133, 0.038009434938430786, -0.0016496619209647179, 0.004931971430778503, 0.002725549042224884, 0.036833737045526505, 0.0007770964875817299, -0.0005083916475996375, -0.07315865904092789, 0.531345546245575, 1.4396449842024595e-05, 0.04390895366668701, 2.4035554815782234e-05, 0.0004472463042475283, 0.0038360804319381714, 0.00014124042354524136, -0.0008500120602548122, 3.708965232362971e-05, -0.08311143517494202, -5.281435733195394e-05, -0.35483551025390625, 0.02284911833703518, 0.027707824483513832, -0.03091638907790184, -9.287588181905448e-05, -0.001039799302816391, 0.22404123842716217, -0.0006417158292606473, -0.15776807069778442, 0.029101550579071045, 0.038814663887023926, 0.00039838437805883586, 0.38164037466049194, 0.011708192527294159, -0.00048122520092874765, 8.442287798970938e-05, 0.3745330572128296, 0.08981969952583313, -0.0007065534591674805, -0.13703811168670654, 0.014911571517586708, 0.3941285014152527, 0.004376675002276897, 0.03739823400974274, -0.010701006278395653, 0.029967188835144043, 0.05096331238746643, 0.33257532119750977, -0.000381893856683746, -0.00019828416407108307, -0.00015343312406912446, -0.026728227734565735, 0.05933878570795059, 0.0028077929746359587, 0.2614774703979492, 0.0018945301417261362, 0.2333213984966278, 0.09343358874320984, -0.0041487812995910645, -0.012157082557678223, -0.0042603593319654465, 0.049656033515930176, 0.09525592625141144, 0.0006229864666238427, -0.10442513227462769, 0.02695601060986519, 0.006663083098828793, 0.040843937546014786, 0.11192215234041214, 0.1567041128873825, 0.06749793887138367, 0.028778012841939926, 0.05739706754684448, -0.011434726417064667, -0.23741552233695984, -0.0102195143699646, 0.00197681225836277, -4.1325452002638485e-06, 0.011524563655257225, -0.0020440362859517336, -0.006365776062011719, 0.0009560493053868413, -0.10672247409820557, 0.09910710155963898, 0.0004371351096779108, -8.907346455089282e-06, -0.0001927904668264091, 2.3523170966655016e-08, -0.002823205664753914, -5.446667273645289e-06, -8.855145949837606e-08, 0.11015259474515915, -0.006645573303103447, -0.06668359041213989, 0.3481164574623108, -0.0013036851305514574, 0.10159042477607727, -0.001040910487063229, 0.00019947602413594723, 5.2706687711179256e-05, 0.019784972071647644, 0.0009074495756067336, -0.00406259298324585, -0.0003064908378291875, -2.2552740119863302e-07, 0.2122243344783783, 0.21806600689888, 0.14565050601959229, 0.00020830586436204612, 0.2381085753440857, 6.254808795347344e-07, 0.12402024120092392, -0.0002028623130172491, -0.1412690281867981, 1.1973151231359225e-05, 0.1143096536397934, 0.007845032028853893, 0.0034066953230649233, 0.09095662087202072, 0.0819108635187149, -0.0010447732638567686, 0.3062187135219574, 0.0077245584689080715, 0.021690821275115013, -0.000423173769377172, 0.0029486243147403, 4.8121088184416294e-05, 0.01271616481244564, 0.1704072207212448, 0.09075778722763062, 3.1726191082270816e-05, -0.11415056884288788, -0.00629056803882122, -0.12214145064353943, 0.2618025541305542, 0.006939391139894724, 0.1997251808643341, 0.19264288246631622, 0.003988632466644049, -0.04383019357919693, 0.03795213997364044, -0.04892292618751526, -0.04122301936149597, 0.012413960881531239, 0.10157021880149841, 0.07263118028640747, 0.005146319512277842, 0.07453099638223648, -0.020291972905397415, -0.00011124579032184556, 0.35381606221199036, 0.03444112092256546, 0.03664039075374603, 0.04156969115138054, -0.05251392722129822], \"minValue\": 0, \"maxValue\": 1, \"minColor\": null, \"maxColor\": \"green\"}\n",
       "    )\n",
       "    </script>"
      ],
      "text/plain": [
       "<circuitsvis.render.RenderedHTML at 0x7f6e2fac2670>"
      ]
     },
     "execution_count": 63,
     "metadata": {},
     "output_type": "execute_result"
    }
   ],
   "source": [
    "values = mlp_difference[\"Difference\"].sort_index().values.tolist()\n",
    "colored_tokens(\n",
    "    values=values,\n",
    "    tokens=token_labels,\n",
    "    min_value=0,\n",
    "    max_value=1,\n",
    "    max_color=\"green\",\n",
    ")"
   ]
  },
  {
   "cell_type": "markdown",
   "metadata": {},
   "source": [
    "#### 1 vs 2 Layers"
   ]
  },
  {
   "cell_type": "code",
   "execution_count": 13,
   "metadata": {},
   "outputs": [
    {
     "data": {
      "text/plain": [
       "array([[<AxesSubplot:title={'center':'Difference'}>]], dtype=object)"
      ]
     },
     "execution_count": 13,
     "metadata": {},
     "output_type": "execute_result"
    },
    {
     "data": {
      "image/png": "[encoded data removed]",
      "text/plain": [
       "<Figure size 432x288 with 1 Axes>"
      ]
     },
     "metadata": {
      "needs_background": "light"
     },
     "output_type": "display_data"
    }
   ],
   "source": [
    "two_vs_one_layer = compare_model_correct_token_probability(\"NeelNanda/Attn_Only_2L512W_C4_Code\", \"NeelNanda/Attn_Only_1L512W_C4_Code\")\n",
    "two_vs_one_layer.hist(column=\"Difference\", bins=10)"
   ]
  },
  {
   "cell_type": "markdown",
   "metadata": {},
   "source": [
    "##### By Tokens View"
   ]
  },
  {
   "cell_type": "code",
   "execution_count": 64,
   "metadata": {},
   "outputs": [
    {
     "data": {
      "text/html": [
       "<div id=\"circuits-vis-e8e06a62-a416\"/>\n",
       "    <script crossorigin type=\"module\">\n",
       "    import { render, ColoredTokens } from \"https://unpkg.com/circuitsvis/dist/cdn/esm.js\";\n",
       "    render(\n",
       "      \"circuits-vis-e8e06a62-a416\",\n",
       "      ColoredTokens,\n",
       "      {\"tokens\": [\"import\", \" json\", \"\\n\", \"import\", \" sub\", \"process\", \"\\n\", \"from\", \" path\", \"lib\", \" import\", \" Path\", \"\\n\", \"from\", \" typing\", \" import\", \" Optional\", \"\\n\", \"from\", \" u\", \"uid\", \" import\", \" u\", \"uid\", \"4\", \"\\n\", \"\\n\", \"RE\", \"ACT\", \"_\", \"DIR\", \" =\", \" Path\", \"(__\", \"file\", \"__\", \").\", \"parent\", \".\", \"parent\", \".\", \"parent\", \" /\", \" \\\"\", \"react\", \"\\\"\", \"\\n\\n\", \"\\n\", \"class\", \" R\", \"endered\", \"HTML\", \":\", \"\\n   \", \" \\\"\\\"\\\"\", \"R\", \"endered\", \" HTML\", \"\\n   \", \" En\", \"ables\", \" rendering\", \" HTML\", \" in\", \" a\", \" variety\", \" of\", \" situations\", \" (\", \"e\", \".\", \"g\", \".\", \" J\", \"up\", \"y\", \"ter\", \" Lab\", \")\", \"\\n   \", \" \\\"\\\"\\\"\", \"\\n\\n   \", \" def\", \" __\", \"init\", \"__(\", \"self\", \",\", \" src\", \":\", \" str\", \"):\", \"\\n       \", \" self\", \".\", \"src\", \" =\", \" src\", \"\\n\\n   \", \" def\", \" _\", \"re\", \"pr\", \"_\", \"html\", \"_(\", \"self\", \")\", \" ->\", \" str\", \":\", \"\\n       \", \" \\\"\\\"\\\"\", \"J\", \"up\", \"y\", \"ter\", \"/\", \"Col\", \"ab\", \" HTML\", \" Represent\", \"ation\", \"\\n       \", \" When\", \" J\", \"up\", \"y\", \"ter\", \" sees\", \" this\", \" method\", \",\", \" it\", \" renders\", \" the\", \" HTML\", \".\", \"\\n       \", \" Returns\", \":\", \"\\n           \", \" str\", \":\", \" HTML\", \" for\", \" J\", \"up\", \"y\", \"ter\", \"/\", \"Col\", \"ab\", \"\\n       \", \" \\\"\\\"\\\"\", \"\\n       \", \" return\", \" self\", \".\", \"src\", \"\\n\\n   \", \" def\", \" __\", \"html\", \"__(\", \"self\", \")\", \" ->\", \" str\", \":\", \"\\n       \", \" \\\"\\\"\\\"\", \"Used\", \" by\", \" some\", \" tool\", \"ing\", \" as\", \" an\", \" alternative\", \" to\", \" _\", \"re\", \"pr\", \"_\", \"html\", \"_\", \"\\\"\\\"\\\"\", \"\\n       \", \" return\", \" self\", \".\", \"src\", \"\\n\\n   \", \" def\", \" show\", \"_\", \"code\", \"(\", \"self\", \")\", \" ->\", \" str\", \":\", \"\\n       \", \" \\\"\\\"\\\"\", \"Show\", \" the\", \" code\", \" as\", \" source\", \"-\", \"code\", \"\\n       \", \" Returns\", \":\", \"\\n           \", \" str\", \":\", \" HTML\", \" source\", \" code\", \"\\n       \", \" \\\"\\\"\\\"\", \"\\n       \", \" return\", \" self\", \".\", \"src\", \"\\n\\n   \", \" def\", \" __\", \"str\", \"__(\", \"self\", \"):\", \"\\n       \", \" \\\"\\\"\\\"\", \"String\", \" type\", \" conversion\", \" handler\", \"\\\"\\\"\\\"\", \"\\n       \", \" return\", \" self\", \".\", \"src\", \"\\n\\n\", \"\\n\", \"def\", \" install\", \"_\", \"if\", \"_\", \"necessary\", \"()\", \" ->\", \" None\", \":\", \"\\n   \", \" \\\"\\\"\\\"\", \"Install\", \" node\", \" modules\", \" if\", \" they\", \"'re\", \" missing\", \".\\\"\\\"\\\"\", \"\\n   \", \" node\", \"_\", \"modules\", \" =\", \" RE\", \"ACT\", \"_\", \"DIR\", \" /\", \" \\\"\", \"node\", \"_\", \"modules\", \"\\\"\", \"\\n   \", \" if\", \" not\", \" node\", \"_\", \"modules\", \".\", \"exists\", \"():\", \"\\n       \", \" sub\", \"process\", \".\", \"run\", \"(\", \"\\n           \", \" [\\\"\", \"y\", \"arn\", \"\\\"],\", \"\\n           \", \" c\", \"wd\", \"=\", \"RE\", \"ACT\", \"_\", \"DIR\", \",\", \"\\n           \", \" capture\", \"_\", \"output\", \"=\", \"True\", \",\", \"\\n           \", \" text\", \"=\", \"True\", \",\", \"\\n           \", \" check\", \"=\", \"True\", \"\\n       \", \" )\", \"\\n\\n\", \"\\n\", \"def\", \" bundle\", \"_\", \"source\", \"()\", \" ->\", \" None\", \":\", \"\\n   \", \" \\\"\\\"\\\"\", \"Bundle\", \" up\", \" the\", \" JavaScript\", \"/\", \"Type\", \"Script\", \" source\", \" files\", \"\\\"\\\"\\\"\", \"\\n   \", \" sub\", \"process\", \".\", \"run\", \"([\", \"\\n       \", \" \\\"\", \"y\", \"arn\", \"\\\",\", \"\\n       \", \" \\\"\", \"build\", \"Browser\", \"\\\"\", \"\\n   \", \" ],\", \"\\n       \", \" c\", \"wd\", \"=\", \"RE\", \"ACT\", \"_\", \"DIR\", \",\", \"\\n       \", \" capture\", \"_\", \"output\", \"=\", \"True\", \",\", \"\\n       \", \" text\", \"=\", \"True\", \",\", \"\\n       \", \" check\", \"=\", \"True\", \"\\n   \", \" )\", \"\\n\\n\", \"\\n\", \"def\", \" render\", \"_\", \"dev\", \"(\", \"react\", \"_\", \"element\", \"_\", \"name\", \":\", \" str\", \",\", \" **\", \"kwargs\", \")\", \" ->\", \" R\", \"endered\", \"HTML\", \":\", \"\\n   \", \" \\\"\\\"\\\"\", \"Render\", \" (\", \"during\", \" development\", \")\\\"\", \"\\\"\\\"\", \"\\n   \", \" #\", \" Create\", \" a\", \" random\", \" ID\", \" for\", \" the\", \" div\", \" (\", \"that\", \" we\", \" render\", \" into\", \")\", \"\\n   \", \" #\", \" This\", \" is\", \" done\", \" to\", \" avoid\", \" name\", \" clashes\", \" on\", \" a\", \" page\", \" with\", \" many\", \" rendered\", \"\\n   \", \" #\", \" Circ\", \"uits\", \"Vis\", \" elements\", \".\", \" Note\", \" we\", \" shorten\", \" the\", \" U\", \"UID\", \" to\", \" be\", \" a\", \" reasonable\", \" length\", \"\\n   \", \" u\", \"uid\", \" =\", \" \\\"\", \"circ\", \"uits\", \"-\", \"vis\", \"-\\\"\", \" +\", \" str\", \"(\", \"uuid\", \"4\", \"())\", \"[:\", \"1\", \"3\", \"]\", \"\\n\\n   \", \" #\", \" String\", \"ify\", \" keyword\", \" args\", \"\\n   \", \" props\", \" =\", \" json\", \".\", \"d\", \"umps\", \"(\", \"kwargs\", \")\", \"\\n\\n   \", \" #\", \" Build\", \"\\n   \", \" install\", \"_\", \"if\", \"_\", \"necessary\", \"()\", \"\\n   \", \" bundle\", \"_\", \"source\", \"()\", \"\\n\\n   \", \" #\", \" Load\", \" the\", \" JS\", \"\\n   \", \" filename\", \" =\", \" RE\", \"ACT\", \"_\", \"DIR\", \" /\", \" \\\"\", \"dist\", \"\\\"\", \" /\", \" \\\"\", \"cdn\", \"\\\"\", \" /\", \" \\\"\", \"i\", \"ife\", \".\", \"js\", \"\\\"\", \"\\n   \", \" with\", \" open\", \"(\", \"filename\", \",\", \" encoding\", \"=\\\"\", \"utf\", \"-\", \"8\", \"\\\")\", \" as\", \" file\", \":\", \"\\n       \", \" inline\", \"_\", \"js\", \" =\", \" file\", \".\", \"read\", \"()\", \"\\n\\n   \", \" html\", \" =\", \" f\", \"\\\"\\\"\\\"\", \"<\", \"div\", \" id\", \"=\\\"{\", \"uuid\", \"}\", \"\\\"/>\", \"\\n   \", \" <\", \"script\", \" cross\", \"origin\", \" type\", \"=\\\"\", \"module\", \"\\\">\", \"\\n   \", \" {\", \"inline\", \"_\", \"js\", \"}\", \"\\n    \\n   \", \" Circ\", \"uits\", \"Vis\", \".\", \"render\", \"(\", \"\\n     \", \" \\\"{\", \"uuid\", \"}\\\",\", \"\\n     \", \" Circ\", \"uits\", \"Vis\", \".\", \"{\", \"react\", \"_\", \"element\", \"_\", \"name\", \"},\", \"\\n     \", \" {\", \"props\", \"}\", \"\\n   \", \" )\", \"\\n   \", \" </\", \"script\", \">\", \"\\\"\\\"\\\"\", \"\\n\\n   \", \" return\", \" R\", \"endered\", \"HTML\", \"(\", \"html\", \")\", \"\\n\\n\", \"\\n\", \"def\", \" render\", \"_\", \"prod\", \"(\", \"react\", \"_\", \"element\", \"_\", \"name\", \":\", \" str\", \",\", \" **\", \"kwargs\", \")\", \" ->\", \" R\", \"endered\", \"HTML\", \":\", \"\\n   \", \" \\\"\\\"\\\"\", \"Render\", \" (\", \"for\", \" production\", \")\\\"\", \"\\\"\\\"\", \"\\n   \", \" #\", \" Create\", \" a\", \" random\", \" ID\", \" for\", \" the\", \" div\", \" (\", \"that\", \" we\", \" render\", \" into\", \")\", \"\\n   \", \" #\", \" This\", \" is\", \" done\", \" to\", \" avoid\", \" name\", \" clashes\", \" on\", \" a\", \" page\", \" with\", \" many\", \" rendered\", \"\\n   \", \" #\", \" Circ\", \"uits\", \"Vis\", \" elements\", \".\", \" Note\", \" we\", \" shorten\", \" the\", \" U\", \"UID\", \" to\", \" be\", \" a\", \" reasonable\", \" length\", \"\\n   \", \" u\", \"uid\", \" =\", \" \\\"\", \"circ\", \"uits\", \"-\", \"vis\", \"-\\\"\", \" +\", \" str\", \"(\", \"uuid\", \"4\", \"())\", \"[:\", \"1\", \"3\", \"]\", \"\\n\\n   \", \" #\", \" String\", \"ify\", \" keyword\", \" args\", \"\\n   \", \" props\", \" =\", \" json\", \".\", \"d\", \"umps\", \"(\", \"kwargs\", \")\", \"\\n\\n   \", \" html\", \" =\", \" f\", \"\\\"\\\"\\\"\", \"<\", \"div\", \" id\", \"=\\\"{\", \"uuid\", \"}\", \"\\\"/>\", \"\\n   \", \" <\", \"script\", \" cross\", \"origin\", \" type\", \"=\\\"\", \"module\", \"\\\">\", \"\\n   \", \" import\", \" {\\\"\", \"{\", \" render\", \",\", \" \\\"+\", \" react\", \"_\", \"element\", \"_\", \"name\", \" +\", \" \\\"\", \" }\", \"\\\"}\", \" from\", \" \\\"\", \"https\", \"://\", \"un\", \"pkg\", \".\", \"com\", \"/\", \"circ\", \"uits\", \"vis\", \"/\", \"dist\", \"/\", \"cdn\", \"/\", \"es\", \"m\", \".\", \"js\", \"\\\";\", \"\\n   \", \" render\", \"(\", \"\\n     \", \" \\\"{\", \"uuid\", \"}\\\",\", \"\\n     \", \" {\", \"react\", \"_\", \"element\", \"_\", \"name\", \"},\", \"\\n     \", \" {\", \"props\", \"}\", \"\\n   \", \" )\", \"\\n   \", \" </\", \"script\", \">\", \"\\\"\\\"\\\"\", \"\\n\\n   \", \" return\", \" R\", \"endered\", \"HTML\", \"(\", \"html\"], \"values\": [0.011365745216608047, 0.056313276290893555, -0.2806720435619354, -0.0019044685177505016, -0.025218546390533447, 0.15846377611160278, 0.023746423423290253, 0.0011466728756204247, 0.13412809371948242, 0.25784188508987427, 0.507127046585083, 0.18187659978866577, 0.2618216276168823, 0.007741316221654415, 0.0261075496673584, 0.035179316997528076, 0.004068315029144287, -0.17305997014045715, 0.0010583330877125263, 0.11289548873901367, 0.17020392417907715, 0.5781075358390808, -0.002343297004699707, 0.1619558334350586, 0.18373453617095947, 0.19712775945663452, -6.678554927930236e-05, -0.0006029242649674416, 0.09814414381980896, -0.016187593340873718, 0.16484540700912476, -0.060729049146175385, 0.39132189750671387, 0.344483345746994, -0.0038698017597198486, 0.2832828164100647, 0.3731553852558136, -0.1335761994123459, 0.7369091510772705, 0.393695205450058, 0.7304558157920837, -0.00182911881711334, 0.03078487142920494, 0.00045309888082556427, 0.14503321051597595, 0.003231275826692581, 0.0084647536277771, 0.09072652459144592, -0.0008464846760034561, 0.0011810371652245522, 2.885828143917024e-05, 0.007937884889543056, 0.06349784135818481, 0.22185450792312622, -3.369222395122051e-05, 0.3775075078010559, 0.6420083045959473, 0.002128069754689932, -0.00011435320629971102, 0.033480994403362274, 0.001789156231097877, 0.055115655064582825, 0.013394857756793499, -0.0037483759224414825, -0.0014072104822844267, -0.01130765676498413, 0.00026199070271104574, -0.011367540806531906, 0.005908068269491196, 0.033222198486328125, 0.0092582106590271, -0.011650383472442627, 7.13961198925972e-05, -0.0029283708427101374, 0.2656158208847046, 0.07327330112457275, -1.6776779375504702e-05, -0.11908429116010666, 0.04936867952346802, 0.6022517085075378, -0.04710108041763306, -0.13220852613449097, -0.03723883628845215, 0.038024961948394775, 0.00039768218994140625, 0.005233645439147949, -0.06216084957122803, -0.00028142431983724236, 0.005838535260409117, -0.24113550782203674, 0.09439112991094589, -0.007407188415527344, 0.07047390937805176, 0.03583717346191406, 0.6736326813697815, 0.032913655042648315, 0.8171746134757996, 0.03092356026172638, 0.08557617664337158, 0.07490627467632294, -0.008832024410367012, 0.15784698724746704, -0.11208295077085495, 0.06372574716806412, -0.008048400282859802, 0.0924983024597168, 0.0026203354354947805, -0.04216337203979492, 0.4173552989959717, 0.04579055309295654, 0.383281946182251, -0.08835351467132568, -1.0373129043728113e-05, 0.03162401169538498, 0.5212544202804565, 0.300143837928772, -0.006539914757013321, -0.0003122714115306735, -4.17921255575493e-05, 8.98705911822617e-06, -1.6526373656233773e-06, -0.23297744989395142, 0.04765462875366211, 0.0012958608567714691, 9.952578693628311e-06, 0.8605227470397949, 0.6950459480285645, 0.059520840644836426, -0.00032775019644759595, 0.01470378041267395, -0.010182613506913185, 0.05978059023618698, -0.021433256566524506, -0.004839628003537655, 0.038291603326797485, -0.0641360729932785, 0.0054961321875452995, 0.16440892219543457, 0.00037049513775855303, -0.3967236876487732, 0.05552440881729126, -0.0409390851855278, 0.36284929513931274, -0.15916651487350464, -0.022713609039783478, 0.0010432862909510732, 0.9246166348457336, 0.5594723224639893, 0.04516422748565674, 0.06211962550878525, 0.793125331401825, 0.9098859429359436, -0.0020038019865751266, 0.15567445755004883, -0.09202402830123901, -0.0562765896320343, 0.016695261001586914, -0.21552717685699463, 0.5146151185035706, 0.36723750829696655, 0.119140625, -0.24233315885066986, 0.002227669581770897, -0.08111809194087982, 0.0029999613761901855, -0.0364292748272419, 0.06971979141235352, 0.2423044741153717, 0.06437534093856812, 0.049507975578308105, 0.09023666381835938, 0.0018352721817791462, -0.003925705328583717, -0.0024797217920422554, 3.663418465293944e-05, 0.16709215939044952, 0.014862284995615482, -0.010362766683101654, -0.00013855996076017618, 0.052419498562812805, 1.7803111404646188e-05, 0.1653626710176468, 0.6154507398605347, 0.7601521015167236, 0.8022135496139526, 0.22505885362625122, 0.0029515784699469805, -0.03414541482925415, 0.33450251817703247, 0.3754657506942749, -0.014327585697174072, 0.896446943283081, 0.48524871468544006, 0.021411478519439697, -0.00031396496342495084, -0.07850992679595947, 0.0018211316782981157, -0.0391162633895874, 0.0001736283302307129, 0.03567922115325928, 0.009561777114868164, 0.45935070514678955, 0.03890317678451538, 0.07313883304595947, 0.0373803973197937, 0.023762758821249008, -0.0674876719713211, 0.6769333481788635, 0.00472496822476387, -0.0007213515928015113, -0.0010559046640992165, 0.5976287126541138, 0.022735245525836945, 0.012903238646686077, -0.3167245388031006, 0.112307608127594, 0.4977877140045166, 0.3269195556640625, 0.5849254727363586, -0.007224505767226219, 0.12705230712890625, 0.1834968626499176, 0.04053860902786255, 0.03704565763473511, 0.3155764937400818, 0.03000819683074951, 0.2268993854522705, 0.7287689447402954, 0.4673595428466797, 0.14164799451828003, -0.16371476650238037, -0.1647852510213852, 0.005141496658325195, 0.010358750820159912, 0.03312104940414429, 0.007644593715667725, 0.01658695936203003, 0.01684444211423397, 0.01892932504415512, -0.00190361391287297, -0.00010954917524941266, 0.1356726884841919, -0.014824390411376953, 0.07449579238891602, -0.13181066513061523, 0.204856276512146, 0.7958976030349731, 0.07396943122148514, -0.17528730630874634, 0.02438090741634369, -0.0007278851117007434, 0.010697364807128906, -0.0012425470631569624, -0.21264559030532837, -0.0016745952889323235, -0.01230685319751501, 0.8280884027481079, -0.30436787009239197, 0.04941457509994507, -0.037522733211517334, -0.0380973219871521, 0.28785762190818787, -0.0002709698164835572, 0.0006996588781476021, -0.002304250141605735, 0.008870580233633518, -0.007957149296998978, -0.00105336494743824, -0.003028217703104019, 0.07773929834365845, 0.014790004119277, 0.2294904887676239, 0.04257147014141083, -0.044794321060180664, 2.1405448933364823e-05, 0.6782877445220947, 0.5412849187850952, 0.802160918712616, -0.021088488399982452, -0.02760007046163082, 0.009565746411681175, 0.34916168451309204, 0.5625067949295044, 0.0012642741203308105, 0.12836787104606628, 0.060737282037734985, -0.24432064592838287, 0.6460082530975342, 0.7322573065757751, 0.6410203576087952, 0.07657425850629807, 0.011958508752286434, -0.345854252576828, -0.03014606237411499, -0.0003337835078127682, 0.5856107473373413, 0.4659377932548523, 0.04612572118639946, 0.13349154591560364, -0.0890015959739685, 0.006630034185945988, -0.00040592989535070956, 0.002976318821310997, 0.08372892439365387, 0.3401908874511719, 0.009909138083457947, 0.3074755370616913, 0.28577572107315063, -0.0007534355390816927, 0.7099996209144592, 0.7870767712593079, 0.7603318691253662, -0.020866990089416504, 0.1808592677116394, -5.653657717630267e-05, -0.302193820476532, 0.002908485010266304, 0.4403175413608551, -0.39712613821029663, 0.09883490204811096, -0.09515130519866943, -0.0018486586632207036, 0.08021286129951477, -0.035295020788908005, 0.03097480535507202, -0.1823393702507019, 0.0005140369758009911, 0.009808562695980072, -0.27762532234191895, 0.031002022325992584, 0.14062362909317017, 0.017888545989990234, -0.002626657485961914, 0.20060178637504578, 2.002150722546503e-05, 0.28183817863464355, 0.003697351785376668, -0.00011204337351955473, 0.19633221626281738, 0.18545877933502197, 0.008074462413787842, 0.3641971945762634, -0.006024420261383057, 0.011874030344188213, -0.0030110287480056286, 0.04069981724023819, -0.0007443263893947005, 0.005361619405448437, 0.00026154229999519885, 0.0003761349944397807, 0.0017444310942664742, -0.007266733795404434, 0.044922180473804474, 0.17521750926971436, 0.012092124670743942, 0.43000805377960205, 0.45996975898742676, 0.08370521664619446, -0.043271102011203766, 0.09337309002876282, 0.08684025704860687, 0.0017131635686382651, 0.9788662791252136, 0.043067872524261475, 0.37768062949180603, 0.455133318901062, -0.007079560309648514, -2.1525613647099817e-06, 0.006336115300655365, 0.2506793737411499, 0.04718896001577377, 0.20434428751468658, 0.022777091711759567, 0.5738820433616638, 0.5051990747451782, 0.8268651962280273, 0.7237721085548401, 0.7018826007843018, 0.7518705725669861, 0.16755881905555725, 0.06581830978393555, 0.00316754262894392, 0.45720893144607544, 0.8819882273674011, 0.6204761862754822, 0.06721782684326172, 0.21199405193328857, -0.12735003232955933, 0.003119936678558588, 0.4791354238986969, 0.5057628154754639, 0.1217615008354187, -0.15831291675567627, 0.00745015311986208, 0.8805488348007202, 0.007907569408416748, 0.2572573721408844, -0.019023120403289795, 0.23949697613716125, 0.005516171455383301, 0.2988414466381073, 0.004035084508359432, -0.03199094533920288, -2.1082625607959926e-05, -0.02166903018951416, 1.1070519576605875e-05, 0.00899273157119751, -0.0003034745459444821, 0.07646293938159943, 0.0718807578086853, 0.004645854234695435, -0.00010654330253601074, -0.20959118008613586, -0.00345698744058609, 0.023301362991333008, -0.1054794192314148, 0.026531517505645752, 0.00012182819773443043, 0.46368932723999023, 0.2775972783565521, 0.18216051161289215, 0.7019156217575073, 0.12179893255233765, 0.5161186456680298, -0.0003647073754109442, -1.4213544545782497e-06, 0.003119977191090584, 0.0010639417450875044, 0.16981744766235352, 0.1273987889289856, 0.002535685896873474, 0.0025193002074956894, -0.0646379142999649, -2.3393891751766205e-05, 3.4183060051873326e-05, 0.023704402148723602, 0.029779836535453796, 0.00011339488992234692, 0.0006475511472672224, 0.005014003254473209, 0.004319739528000355, 0.009084285236895084, -0.0004221215203870088, 0.016543073579669, 0.11341148614883423, 0.07374514639377594, -0.0010142219252884388, 0.028187990188598633, -0.004698349162936211, -0.04027146100997925, 0.005298776552081108, -0.00033409937168471515, 0.21579515933990479, -0.0015264842659235, -0.02700161561369896, -0.010191420093178749, 0.00283944234251976, 0.0003012894303537905, -0.00015820919361431152, -0.015880458056926727, 0.1198977530002594, 5.690026227966882e-10, -0.0011359229683876038, -3.050815280403185e-07, 0.00010130909504368901, 0.09855368733406067, 0.0020874561741948128, -0.0016252112109214067, 1.629798862268217e-05, -0.12492355704307556, 7.759570144116879e-05, 0.04734927788376808, -0.0017931126058101654, 0.0018905363976955414, -0.018103715032339096, -0.00017106639279518276, -0.005322122015058994, 0.20143842697143555, 0.0004381343023851514, -0.05056893825531006, -0.4681668281555176, -0.014639317989349365, 1.9844508642563596e-05, 0.58332359790802, 0.08841215819120407, -0.0005071711493656039, 1.602787961019203e-06, 0.007793955504894257, -0.15831150114536285, -0.06612277030944824, 0.01114007830619812, 0.7995985150337219, 0.1845085322856903, -0.00023586477618664503, 0.04233740270137787, 0.022289270535111427, -0.1041143536567688, -0.043108031153678894, 0.014784693717956543, 0.000878018094226718, -0.006541399750858545, -7.114926120266318e-05, -0.03260662034153938, 0.3088422417640686, 9.599939221516252e-05, 0.23920905590057373, 0.0024567083455622196, 0.8464885354042053, 0.16453337669372559, 0.0006045103073120117, 0.022484421730041504, -0.01444026455283165, -0.004917263984680176, 0.030443251132965088, 0.08937326073646545, 0.0008544606389477849, -0.00572813069447875, -4.700160934589803e-05, 0.3536865711212158, 0.08434848487377167, 0.2899293303489685, 0.9587928056716919, 0.8032907843589783, 0.10994783043861389, 0.0007163663394749165, 0.45883065462112427, 0.10631561279296875, 0.7105799913406372, -0.014361456036567688, 0.01291877031326294, 0.00011211447417736053, -0.09834125638008118, 0.0038922829553484917, -0.012256205081939697, -0.0014476384967565536, -0.1516297459602356, 0.0009475746774114668, 0.7234017252922058, 0.24223262071609497, 0.8581321239471436, 0.07893994450569153, 0.47652003169059753, -1.7491402104496956e-05, 0.1705619841814041, -0.00947552639991045, 0.4725647568702698, 1.2216241884743795e-06, 0.06979641318321228, -0.004345133900642395, 0.9173340201377869, -0.000534672406502068, 6.108211891842075e-08, 0.03520342707633972, 0.21972765028476715, -0.24760916829109192, 0.22053813934326172, 0.010681970044970512, -0.012891694903373718, 0.08650916814804077, 0.10656580328941345, -0.1043272614479065, 0.007920808158814907, -0.27606454491615295, -0.19851869344711304, -0.07898199558258057, -0.004417359828948975, 0.027547478675842285, -0.01753377914428711, -0.003948677331209183, -0.11066341400146484, -0.007672011852264404, 8.558238914702088e-05, -0.10373091697692871, 0.002377428114414215, 0.07132339477539062, -0.009947236627340317, 0.30130961537361145, 0.2160966694355011, -0.0287589430809021, 0.02159661054611206, 0.0009421845898032188, 0.00539398193359375, -0.0060356976464390755, 0.0065155779011547565, 0.01002560555934906, 0.05632961541414261, 0.06336326897144318, -0.004641266539692879, -1.1580646969377995e-05, -0.11630453169345856, 0.021853270009160042, -0.4204248785972595, 0.24296359717845917, 0.06837096810340881, 5.527232133317739e-06, -0.0004286987823434174, -0.0011577224358916283, -0.2899066209793091, 0.0002581452135927975, 0.26584041118621826, -0.10745836049318314, -0.010363084264099598, -0.0008955496596172452, 0.02356112003326416, 0.3888205289840698, 0.14958052337169647, 0.0038788612000644207, 5.835588581248885e-07, 0.4173334240913391, 0.06590309739112854, -0.004000671207904816, 0.0031674301717430353, 0.09517121315002441, 0.01185139361768961, 0.00339711457490921, -0.001409080228768289, 0.12008717656135559, 0.5294586420059204, -4.268853899702663e-06, 0.004236996173858643, 0.5970651507377625, 0.9193599820137024, -0.001727969036437571, 0.00014082495181355625, 0.7916492223739624, 0.2284061461687088, 0.8966549634933472, 0.8129546046257019, 0.009870275855064392, 0.3115054965019226, -0.08904071152210236, 0.00068576232297346, -0.051287468522787094, 0.5873218774795532, 0.2740691006183624, 0.1048235297203064, -0.0008111076895147562, 0.7322604656219482, 0.006165266036987305, 0.05471578612923622, -0.13450415432453156, 0.02051325887441635, 0.0002048993483185768, 0.6481713056564331, 0.8274616599082947, -0.04321219027042389, -0.007657121866941452, 0.5190072059631348, 0.116818368434906, 0.03953522443771362, 0.3063657879829407, 0.004854515194892883, 0.2777775526046753, 0.0044878763146698475, 0.05934542417526245, 0.2889035642147064, 0.7747430205345154, 0.9221555590629578, 0.7771556973457336, 0.8592147827148438, 0.41709497570991516, 0.9112167954444885, 0.18767333030700684, 0.5016352534294128, 0.2968737483024597, -0.3572179675102234, 0.5133525729179382, 0.31317567825317383, 0.04866749048233032, 0.7956035137176514, 0.5694118142127991, 0.49797824025154114, 0.29978126287460327, 0.8533282279968262, 0.5597359538078308, 0.025282178074121475, 0.0034616379998624325, 0.10150615870952606, 0.1185539960861206, 0.3449908494949341, 0.42746999859809875, 0.3033033311367035, 0.33935731649398804, 0.009595830924808979, 0.2865256071090698, 0.7349953651428223, 0.4365064203739166, 0.45628979802131653, 0.6455429196357727, 0.5037921667098999, 0.8551649451255798, 0.8858895897865295, 0.07372923940420151, 0.4961265027523041, 0.3298864960670471, 0.2689223289489746, 0.01115386188030243, 0.3905620574951172, 0.9156407713890076, 0.6407452821731567, 0.756889283657074, 0.15731653571128845, 0.959530770778656, 0.12516729533672333, 0.3106709122657776, 0.670124888420105, 0.6624922752380371, 0.2762930989265442, 0.44050168991088867, 0.8150267004966736, 0.6280204057693481, 0.06297662109136581, 0.0479433536529541, 0.4475032687187195, 0.0010673066135495901, 0.6891257762908936, 0.0354108028113842, 0.16143546998500824, 0.2782371938228607, 0.3405730426311493, 0.6106606721878052, 0.5406239628791809, 0.48020705580711365, 0.28609123826026917, 0.38481035828590393, 0.14675547182559967, 0.6669438481330872, 0.7340999841690063, 0.5112597346305847, 0.022507667541503906, 0.2075340747833252, 0.3592306971549988, 0.027852898463606834, 0.41069310903549194, 0.8336060047149658, 0.5674392580986023, 0.7534480690956116, 0.822801411151886, 0.6260830163955688, 0.018672823905944824, 0.6572427153587341, 0.9388232231140137, 0.6127088069915771, 0.323629230260849, 0.5221433639526367, 0.7756360769271851, 0.41498351097106934, 0.17409227788448334, 0.44986289739608765, 0.03572460263967514, 0.9802629351615906, 0.36139363050460815, 0.8936208486557007, 0.8569522500038147, 0.3096388876438141, 0.26798033714294434, 0.7526181936264038, 0.8247332572937012, 0.44618403911590576, 0.0009734630584716797, 0.0875176191329956, 0.04944630339741707, 0.4193846583366394, 0.17101095616817474, 0.0003988987300544977, 0.15398764610290527, 0.05099564418196678, 0.9144225120544434, 0.8979584574699402, 0.8278446197509766, 0.7240243554115295, 0.7454860210418701, 0.20227961242198944, 0.040764182806015015, 0.70975261926651, 0.09701311588287354, 0.5005707740783691, 0.7184401154518127, 0.025124231353402138, 0.6754138469696045, 0.726433515548706, 0.06281739473342896, 0.460559606552124, 0.6885602474212646, 0.3035227060317993, 0.0002385561674600467, 5.355255780159496e-06, 0.0005541003774851561, 1.0282719813403673e-06, 0.00497901625931263, 0.00011906612780876458, 1.0290934824297437e-06, 0.8735348582267761, 0.8511287569999695, 0.7931467294692993, 0.823512077331543, -0.004178826231509447, 0.21098986268043518, 0.006292661651968956, 0.002727711573243141, 0.00015807626186870039, 0.016942961141467094, -0.0006132471607998013, -0.6089345216751099, -0.00013296213001012802, -5.070069164503366e-07, 0.2869761288166046, 0.18695273995399475, 0.1414036750793457, 9.623621735954657e-05, 0.2139309048652649, 0.0008496337104588747, 0.014275962486863136, -0.0007726146723143756, -0.13479024171829224, 9.482825589657295e-06, -0.042048707604408264, -0.0004981327219866216, 0.0005169975338503718, 0.011743881739675999, 0.23852157592773438, 0.002007005736231804, -0.25674399733543396, -0.0005715219303965569, 0.12297368794679642, 0.07220210134983063, 0.22105424106121063, 0.05655788630247116, 0.8601686954498291, 0.8124078512191772, -0.039441123604774475, 0.001662683323957026, 0.679879903793335, 0.9383678436279297, 0.5349317789077759, 0.7355542182922363, 0.12613432109355927, 0.6158499717712402, 0.6845717430114746, 0.446088969707489, 0.806458592414856, 0.9093114137649536, 0.5141524076461792, 0.49464717507362366, 0.042714785784482956, 0.774858832359314, 0.03444570302963257, 0.9233130216598511, 0.30458158254623413, 0.5890282392501831, 0.7873374223709106, 0.667731523513794, 0.9358611106872559, 0.7159377336502075, 0.8037576675415039, 0.8026455640792847], \"minValue\": 0, \"maxValue\": 1, \"minColor\": null, \"maxColor\": \"green\"}\n",
       "    )\n",
       "    </script>"
      ],
      "text/plain": [
       "<circuitsvis.render.RenderedHTML at 0x7f6e2fac87c0>"
      ]
     },
     "execution_count": 64,
     "metadata": {},
     "output_type": "execute_result"
    }
   ],
   "source": [
    "values = two_vs_one_layer[\"Difference\"].sort_index().values.tolist()\n",
    "colored_tokens(\n",
    "    values=values,\n",
    "    tokens=token_labels,\n",
    "    min_value=0,\n",
    "    max_value=1,\n",
    "    max_color=\"green\",\n",
    ")"
   ]
  },
  {
   "cell_type": "markdown",
   "metadata": {},
   "source": [
    "#### 2 vs 3 Layers"
   ]
  },
  {
   "cell_type": "code",
   "execution_count": 14,
   "metadata": {},
   "outputs": [
    {
     "data": {
      "text/plain": [
       "array([[<AxesSubplot:title={'center':'Difference'}>]], dtype=object)"
      ]
     },
     "execution_count": 14,
     "metadata": {},
     "output_type": "execute_result"
    },
    {
     "data": {
      "image/png": "[encoded data removed]",
      "text/plain": [
       "<Figure size 432x288 with 1 Axes>"
      ]
     },
     "metadata": {
      "needs_background": "light"
     },
     "output_type": "display_data"
    }
   ],
   "source": [
    "three_vs_two_layer = compare_model_correct_token_probability(\"NeelNanda/Attn_Only_3L512W_C4_Code\", \"NeelNanda/Attn_Only_2L512W_C4_Code\")\n",
    "three_vs_two_layer.hist(column=\"Difference\", bins=10)"
   ]
  }
 ],
 "metadata": {
  "kernelspec": {
   "display_name": "Python 3 (ipykernel)",
   "language": "python",
   "name": "python3"
  },
  "language_info": {
   "codemirror_mode": {
    "name": "ipython",
    "version": 3
   },
   "file_extension": ".py",
   "mimetype": "text/x-python",
   "name": "python",
   "nbconvert_exporter": "python",
   "pygments_lexer": "ipython3",
   "version": "3.9.13"
  },
  "orig_nbformat": 4,
  "vscode": {
   "interpreter": {
    "hash": "949777d72b0d2535278d3dc13498b2535136f6dfe0678499012e853ee9abcab1"
   }
  }
 },
 "nbformat": 4,
 "nbformat_minor": 2
}
