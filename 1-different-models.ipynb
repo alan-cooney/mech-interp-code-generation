{
 "cells": [
  {
   "cell_type": "markdown",
   "metadata": {},
   "source": [
    "# Different Models\n",
    "\n",
    "The first aim here is to find tasks that some models can do but others can't (so that we know something interesting is happening, rather than just e.g. skip trigrams). There are a variety of models to do this with, within [EasyTransformer](https://github.com/neelnanda-io/Easy-Transformer)."
   ]
  },
  {
   "cell_type": "markdown",
   "metadata": {},
   "source": [
    "## Imports"
   ]
  },
  {
   "cell_type": "code",
   "execution_count": 1,
   "metadata": {},
   "outputs": [],
   "source": [
    "!pip install git+https://github.com/neelnanda-io/Easy-Transformer ipython torchtyping circuitsvis\n",
    "\n",
    "# Clear output\n",
    "from IPython.display import clear_output\n",
    "clear_output()"
   ]
  },
  {
   "cell_type": "code",
   "execution_count": 2,
   "metadata": {},
   "outputs": [
    {
     "name": "stderr",
     "output_type": "stream",
     "text": [
      "/tmp/ipykernel_50/1639686585.py:5: DeprecationWarning: Importing clear_output from IPython.core.display is deprecated since IPython 7.14, please import from IPython display\n",
      "  from IPython.core.display import HTML, clear_output\n"
     ]
    }
   ],
   "source": [
    "%load_ext autoreload\n",
    "%autoreload 2\n",
    "from easy_transformer import EasyTransformer\n",
    "import torch\n",
    "from IPython.core.display import HTML, clear_output\n",
    "from typing import List\n",
    "import pandas as pd\n",
    "import copy\n",
    "import numpy as np\n",
    "from torchtyping import TensorType\n",
    "from torch.nn import functional as F\n",
    "from circuitsvis.tokens import colored_tokens"
   ]
  },
  {
   "cell_type": "markdown",
   "metadata": {},
   "source": [
    "## Models available"
   ]
  },
  {
   "cell_type": "code",
   "execution_count": 3,
   "metadata": {},
   "outputs": [
    {
     "data": {
      "text/plain": [
       "'gpt2, gpt2-medium, gpt2-large, gpt2-xl, distilgpt2, facebook/opt-125m, facebook/opt-1.3b, facebook/opt-2.7b, facebook/opt-6.7b, facebook/opt-13b, facebook/opt-30b, facebook/opt-66b, EleutherAI/gpt-neo-125M, EleutherAI/gpt-neo-1.3B, EleutherAI/gpt-neo-2.7B, EleutherAI/gpt-j-6B, EleutherAI/gpt-neox-20b, stanford-crfm/alias-gpt2-small-x21, stanford-crfm/battlestar-gpt2-small-x49, stanford-crfm/caprica-gpt2-small-x81, stanford-crfm/darkmatter-gpt2-small-x343, stanford-crfm/expanse-gpt2-small-x777, stanford-crfm/arwen-gpt2-medium-x21, stanford-crfm/beren-gpt2-medium-x49, stanford-crfm/celebrimbor-gpt2-medium-x81, stanford-crfm/durin-gpt2-medium-x343, stanford-crfm/eowyn-gpt2-medium-x777, EleutherAI/pythia-19m, EleutherAI/pythia-125m, EleutherAI/pythia-350m, EleutherAI/pythia-800m, EleutherAI/pythia-1.3b, EleutherAI/pythia-6.7b, EleutherAI/pythia-13b, EleutherAI/pythia-125m-deduped, EleutherAI/pythia-800m-deduped, EleutherAI/pythia-1.3b-deduped, EleutherAI/pythia-6.7b-deduped, NeelNanda/SoLU_1L_v9_old, NeelNanda/SoLU_2L_v10_old, NeelNanda/SoLU_4L_v11_old, NeelNanda/SoLU_6L_v13_old, NeelNanda/SoLU_8L_v21_old, NeelNanda/SoLU_10L_v22_old, NeelNanda/SoLU_12L_v23_old, NeelNanda/SoLU_1L512W_C4_Code, NeelNanda/SoLU_2L512W_C4_Code, NeelNanda/SoLU_3L512W_C4_Code, NeelNanda/SoLU_4L512W_C4_Code, NeelNanda/SoLU_6L768W_C4_Code, NeelNanda/SoLU_8L1024W_C4_Code, NeelNanda/SoLU_10L1280W_C4_Code, NeelNanda/SoLU_12L1536W_C4_Code, NeelNanda/GELU_1L512W_C4_Code, NeelNanda/GELU_2L512W_C4_Code, NeelNanda/GELU_3L512W_C4_Code, NeelNanda/GELU_4L512W_C4_Code, NeelNanda/Attn_Only_1L512W_C4_Code, NeelNanda/Attn_Only_2L512W_C4_Code, NeelNanda/Attn_Only_3L512W_C4_Code, NeelNanda/Attn_Only_4L512W_C4_Code, NeelNanda/Attn-Only-2L512W-Shortformer-6B-big-lr'"
      ]
     },
     "execution_count": 3,
     "metadata": {},
     "output_type": "execute_result"
    }
   ],
   "source": [
    "from easy_transformer import loading_from_pretrained\n",
    "\", \".join(loading_from_pretrained.OFFICIAL_MODEL_NAMES)"
   ]
  },
  {
   "cell_type": "markdown",
   "metadata": {},
   "source": [
    "## Introduction"
   ]
  },
  {
   "cell_type": "markdown",
   "metadata": {},
   "source": [
    "Code completion in language models is pretty sophisticated. For example GitHub Copilot successfully solves problem prompts with solutions, like this."
   ]
  },
  {
   "cell_type": "markdown",
   "metadata": {},
   "source": [
    "### Python prompt"
   ]
  },
  {
   "cell_type": "markdown",
   "metadata": {},
   "source": [
    "Starting with this prompt from a coding test:\n",
    "\n",
    "```python\n",
    "# Two Sum\n",
    "\n",
    "# Given an array of integers nums and an integer target, return indices of the two numbers such that they add up to target.\n",
    "\n",
    "# You may assume that each input would have exactly one solution, and you may not use the same element twice.\n",
    "\n",
    "# You can return the answer in any order.\n",
    "\n",
    "class Solution(object):\n",
    "    def twoSum(self, nums, target):\n",
    "```"
   ]
  },
  {
   "cell_type": "markdown",
   "metadata": {},
   "source": [
    "### Solution"
   ]
  },
  {
   "cell_type": "markdown",
   "metadata": {},
   "source": [
    "```python\n",
    "\"\"\"\n",
    ":type nums1: List[int]\n",
    ":type nums2: List[int]\n",
    ":rtype: float\n",
    "\"\"\"\n",
    "nums1.extend(nums2)\n",
    "nums1.sort()\n",
    "if len(nums1)%2 == 0:\n",
    "    return (nums1[len(nums1)//2] + nums1[len(nums1)//2 - 1])/2\n",
    "else:\n",
    "    return nums1[len(nums1)//2]\n",
    "```\n",
    "\n",
    "\n",
    "Some interesting observations of learnt skills here include:\n",
    "\n",
    "- Deep stuff: understanding the problem from the comments, and formulating a high level solution.\n",
    "- Keeping track of if/else blocks & brackets\n",
    "- Using previously defined variables (perhaps similar to induction heads)\n",
    "- Knowing variable types (both primitives and library types)\n",
    "- Knowing the methods within classes\n",
    "- Understanding underlying maths (e.g. what modulus and floor divide actually do)\n",
    "- Understanding broadly how a function works (e.g. it typically returns something)\n",
    "- Known line spacing"
   ]
  },
  {
   "cell_type": "markdown",
   "metadata": {},
   "source": [
    "## Finding interesting problems for different models"
   ]
  },
  {
   "cell_type": "markdown",
   "metadata": {},
   "source": [
    "### Models to try"
   ]
  },
  {
   "cell_type": "code",
   "execution_count": 4,
   "metadata": {},
   "outputs": [],
   "source": [
    "# Models to use\n",
    "models = [\n",
    "    \"NeelNanda/SoLU_1L512W_C4_Code\", \n",
    "    \"NeelNanda/SoLU_2L512W_C4_Code\",\n",
    "    \"NeelNanda/SoLU_3L512W_C4_Code\", \n",
    "    \"NeelNanda/SoLU_4L512W_C4_Code\", \n",
    "    # \"NeelNanda/SoLU_6L768W_C4_Code\", \n",
    "    # \"NeelNanda/SoLU_8L1024W_C4_Code\", \n",
    "    # \"NeelNanda/SoLU_10L1280W_C4_Code\", \n",
    "    # \"NeelNanda/SoLU_12L1536W_C4_Code\", \n",
    "    # \"NeelNanda/GELU_1L512W_C4_Code\", \n",
    "    # \"NeelNanda/GELU_2L512W_C4_Code\", \n",
    "    # \"NeelNanda/GELU_3L512W_C4_Code\", \n",
    "    # \"NeelNanda/GELU_4L512W_C4_Code\", \n",
    "    \"NeelNanda/Attn_Only_1L512W_C4_Code\", \n",
    "    \"NeelNanda/Attn_Only_2L512W_C4_Code\", \n",
    "    \"NeelNanda/Attn_Only_3L512W_C4_Code\", \n",
    "    \"NeelNanda/Attn_Only_4L512W_C4_Code\",\n",
    "    # \"gpt2\",\n",
    "    # \"gpt2-medium\"\n",
    "]"
   ]
  },
  {
   "cell_type": "markdown",
   "metadata": {},
   "source": [
    "### Prompt"
   ]
  },
  {
   "cell_type": "code",
   "execution_count": 5,
   "metadata": {},
   "outputs": [],
   "source": [
    "# Prompt (The main CircuitsVis render functionality)\n",
    "prompt = '''import json\n",
    "import subprocess\n",
    "from pathlib import Path\n",
    "from typing import Optional\n",
    "from uuid import uuid4\n",
    "\n",
    "REACT_DIR = Path(__file__).parent.parent.parent / \"react\"\n",
    "\n",
    "\n",
    "class RenderedHTML:\n",
    "    \"\"\"Rendered HTML\n",
    "    Enables rendering HTML in a variety of situations (e.g. Jupyter Lab)\n",
    "    \"\"\"\n",
    "\n",
    "    def __init__(self, src: str):\n",
    "        self.src = src\n",
    "\n",
    "    def _repr_html_(self) -> str:\n",
    "        \"\"\"Jupyter/Colab HTML Representation\n",
    "        When Jupyter sees this method, it renders the HTML.\n",
    "        Returns:\n",
    "            str: HTML for Jupyter/Colab\n",
    "        \"\"\"\n",
    "        return self.src\n",
    "\n",
    "    def __html__(self) -> str:\n",
    "        \"\"\"Used by some tooling as an alternative to _repr_html_\"\"\"\n",
    "        return self.src\n",
    "\n",
    "    def show_code(self) -> str:\n",
    "        \"\"\"Show the code as source-code\n",
    "        Returns:\n",
    "            str: HTML source code\n",
    "        \"\"\"\n",
    "        return self.src\n",
    "\n",
    "    def __str__(self):\n",
    "        \"\"\"String type conversion handler\"\"\"\n",
    "        return self.src\n",
    "\n",
    "\n",
    "def install_if_necessary() -> None:\n",
    "    \"\"\"Install node modules if they're missing.\"\"\"\n",
    "    node_modules = REACT_DIR / \"node_modules\"\n",
    "    if not node_modules.exists():\n",
    "        subprocess.run(\n",
    "            [\"yarn\"],\n",
    "            cwd=REACT_DIR,\n",
    "            capture_output=True,\n",
    "            text=True,\n",
    "            check=True\n",
    "        )\n",
    "\n",
    "\n",
    "def bundle_source() -> None:\n",
    "    \"\"\"Bundle up the JavaScript/TypeScript source files\"\"\"\n",
    "    subprocess.run([\n",
    "        \"yarn\",\n",
    "        \"buildBrowser\"\n",
    "    ],\n",
    "        cwd=REACT_DIR,\n",
    "        capture_output=True,\n",
    "        text=True,\n",
    "        check=True\n",
    "    )\n",
    "\n",
    "\n",
    "def render_dev(react_element_name: str, **kwargs) -> RenderedHTML:\n",
    "    \"\"\"Render (during development)\"\"\"\n",
    "    # Create a random ID for the div (that we render into)\n",
    "    # This is done to avoid name clashes on a page with many rendered\n",
    "    # CircuitsVis elements. Note we shorten the UUID to be a reasonable length\n",
    "    uuid = \"circuits-vis-\" + str(uuid4())[:13]\n",
    "\n",
    "    # Stringify keyword args\n",
    "    props = json.dumps(kwargs)\n",
    "\n",
    "    # Build\n",
    "    install_if_necessary()\n",
    "    bundle_source()\n",
    "\n",
    "    # Load the JS\n",
    "    filename = REACT_DIR / \"dist\" / \"cdn\" / \"iife.js\"\n",
    "    with open(filename, encoding=\"utf-8\") as file:\n",
    "        inline_js = file.read()\n",
    "\n",
    "    html = f\"\"\"<div id=\"{uuid}\"/>\n",
    "    <script crossorigin type=\"module\">\n",
    "    {inline_js}\n",
    "    \n",
    "    CircuitsVis.render(\n",
    "      \"{uuid}\",\n",
    "      CircuitsVis.{react_element_name},\n",
    "      {props}\n",
    "    )\n",
    "    </script>\"\"\"\n",
    "\n",
    "    return RenderedHTML(html)\n",
    "\n",
    "\n",
    "def render_prod(react_element_name: str, **kwargs) -> RenderedHTML:\n",
    "    \"\"\"Render (for production)\"\"\"\n",
    "    # Create a random ID for the div (that we render into)\n",
    "    # This is done to avoid name clashes on a page with many rendered\n",
    "    # CircuitsVis elements. Note we shorten the UUID to be a reasonable length\n",
    "    uuid = \"circuits-vis-\" + str(uuid4())[:13]\n",
    "\n",
    "    # Stringify keyword args\n",
    "    props = json.dumps(kwargs)\n",
    "\n",
    "    html = f\"\"\"<div id=\"{uuid}\"/>\n",
    "    <script crossorigin type=\"module\">\n",
    "    import {\"{ render, \"+ react_element_name + \" }\"} from \"https://unpkg.com/circuitsvis/dist/cdn/esm.js\";\n",
    "    render(\n",
    "      \"{uuid}\",\n",
    "      {react_element_name},\n",
    "      {props}\n",
    "    )\n",
    "    </script>\"\"\"\n",
    "\n",
    "    return RenderedHTML(html)'''"
   ]
  },
  {
   "cell_type": "markdown",
   "metadata": {},
   "source": [
    "### Try prompt with all models"
   ]
  },
  {
   "cell_type": "code",
   "execution_count": 6,
   "metadata": {},
   "outputs": [],
   "source": [
    "model_results = {}\n",
    "\n",
    "for model_idx, model_name in enumerate(models):\n",
    "    # Free up CUDA memory (from previous model)\n",
    "    torch.cuda.empty_cache()\n",
    "    \n",
    "    # Load up the model\n",
    "    model = EasyTransformer.from_pretrained(model_name)\n",
    "    \n",
    "    # Get the predictions\n",
    "    logits: TensorType[\"batch\", \"position\", \"vocab\"] = model(prompt)\n",
    "    logits_single_batch: TensorType[\"position\", \"vocab\"] = logits[0]\n",
    "    logits_except_last: TensorType[\"position\", \"vocab\"] = logits_single_batch[1:-1, :] # We also remove the first (start of sequence token)\n",
    "    # predictions: TensorType[\"batch\", \"position\", \"vocab\"] = torch.argmax(logits, 2)\n",
    "    \n",
    "    # Get the probabilities\n",
    "    probabilities: TensorType[\"position\", \"vocab\"] = F.softmax(logits_except_last, dim=1)\n",
    "    probabilities_np = probabilities.detach().cpu().numpy()\n",
    "    \n",
    "    # Get the probabilities of the correct tokens\n",
    "    correct_tokens = model.tokenizer.encode(prompt)[1:]\n",
    "    correct_tokens_np = np.array(correct_tokens)\n",
    "    \n",
    "    print(correct_tokens_np.shape, probabilities_np.shape) # (856,) torch.Size([856, 48262])\n",
    "    probabilities_correct = probabilities_np[np.arange(len(probabilities_np)),correct_tokens_np]\n",
    "    \n",
    "    \n",
    "    \n",
    "    # predictions_except_last = predictions.cpu().squeeze().numpy()[1:-1]\n",
    "    # accurate = np.equal(np.array(correct_tokens),(predictions_except_last))\n",
    "    \n",
    "    # Store\n",
    "    model_results[model_name] = probabilities_correct\n",
    "\n",
    "    \n",
    "clear_output()     \n",
    "\n",
    "# Create the results DataFrame\n",
    "results = pd.DataFrame(model_results)\n",
    "\n",
    "# Set the token labels\n",
    "tokens = model.tokenizer.encode(prompt)\n",
    "token_labels = [model.tokenizer.decode(token) for token in tokens[0:-1]]\n",
    "results.insert(0, \"Token\", token_labels)"
   ]
  },
  {
   "cell_type": "code",
   "execution_count": 7,
   "metadata": {},
   "outputs": [
    {
     "data": {
      "text/plain": [
       "NeelNanda/SoLU_1L512W_C4_Code         28.01%\n",
       "NeelNanda/SoLU_2L512W_C4_Code         47.57%\n",
       "NeelNanda/SoLU_3L512W_C4_Code         49.94%\n",
       "NeelNanda/SoLU_4L512W_C4_Code         51.09%\n",
       "NeelNanda/Attn_Only_1L512W_C4_Code    23.76%\n",
       "NeelNanda/Attn_Only_2L512W_C4_Code    41.71%\n",
       "NeelNanda/Attn_Only_3L512W_C4_Code    45.06%\n",
       "NeelNanda/Attn_Only_4L512W_C4_Code    46.81%\n",
       "dtype: object"
      ]
     },
     "execution_count": 7,
     "metadata": {},
     "output_type": "execute_result"
    }
   ],
   "source": [
    "# Show the average probability of the correct tokens by model\n",
    "results_by_model = pd.DataFrame(model_results)\n",
    "average_results_by_model = results_by_model.mean()\n",
    "average_results_by_model.apply(lambda x: \"{:.2%}\".format(x))"
   ]
  },
  {
   "cell_type": "markdown",
   "metadata": {},
   "source": [
    "### Results"
   ]
  },
  {
   "cell_type": "code",
   "execution_count": 8,
   "metadata": {},
   "outputs": [],
   "source": [
    "def compare_model_correct_token_probability(modelA: str, modelB: str) -> pd.DataFrame:\n",
    "    \"\"\"Compare the correct token probabilities of two models\n",
    "\n",
    "    Args:\n",
    "        modelA (str): Model name (of model that is expected to be better)\n",
    "        modelB (str): Model name (of model that is expected to be worse)\n",
    "\n",
    "    Returns:\n",
    "        pd.DataFrame: DataFrame with the relative accuracy of each model\n",
    "    \"\"\"\n",
    "    relevant_results = results[[\"Token\",modelA, modelB]]\n",
    "    diff = relevant_results[modelA] - relevant_results[modelB]\n",
    "    relevant_results.insert(3, \"Difference\", diff)\n",
    "    # relevant_results = relevant_results.sort_values(by=\"Difference\", ascending=False)\n",
    "    return relevant_results"
   ]
  },
  {
   "cell_type": "markdown",
   "metadata": {},
   "source": [
    "#### MLP vs Attention Only"
   ]
  },
  {
   "cell_type": "code",
   "execution_count": 9,
   "metadata": {},
   "outputs": [
    {
     "name": "stdout",
     "output_type": "stream",
     "text": [
      "huggingface/tokenizers: The current process just got forked, after parallelism has already been used. Disabling parallelism to avoid deadlocks...\n",
      "To disable this warning, you can either:\n",
      "\t- Avoid using `tokenizers` before the fork if possible\n",
      "\t- Explicitly set the environment variable TOKENIZERS_PARALLELISM=(true | false)\n",
      "huggingface/tokenizers: The current process just got forked, after parallelism has already been used. Disabling parallelism to avoid deadlocks...\n",
      "To disable this warning, you can either:\n",
      "\t- Avoid using `tokenizers` before the fork if possible\n",
      "\t- Explicitly set the environment variable TOKENIZERS_PARALLELISM=(true | false)\n"
     ]
    },
    {
     "data": {
      "text/plain": [
       "array([[<AxesSubplot:title={'center':'Difference'}>]], dtype=object)"
      ]
     },
     "execution_count": 9,
     "metadata": {},
     "output_type": "execute_result"
    },
    {
     "data": {
      "image/png": "[encoded data removed]",
      "text/plain": [
       "<Figure size 432x288 with 1 Axes>"
      ]
     },
     "metadata": {
      "needs_background": "light"
     },
     "output_type": "display_data"
    }
   ],
   "source": [
    "mlp_difference = compare_model_correct_token_probability(\"NeelNanda/SoLU_1L512W_C4_Code\", \"NeelNanda/Attn_Only_1L512W_C4_Code\")\n",
    "mlp_difference.hist(column=\"Difference\", bins=10)"
   ]
  },
  {
   "cell_type": "markdown",
   "metadata": {},
   "source": [
    "##### By Tokens View"
   ]
  },
  {
   "cell_type": "code",
   "execution_count": 10,
   "metadata": {},
   "outputs": [
    {
     "data": {
      "text/html": [
       "<div id=\"circuits-vis-a7257aed-1e60\"/>\n",
       "    <script crossorigin type=\"module\">\n",
       "    import { render, ColoredTokens } from \"https://unpkg.com/circuitsvis/dist/cdn/esm.js\";\n",
       "    render(\n",
       "      \"circuits-vis-a7257aed-1e60\",\n",
       "      ColoredTokens,\n",
       "      {\"tokens\": [\"import\", \" json\", \"\\n\", \"import\", \" sub\", \"process\", \"\\n\", \"from\", \" path\", \"lib\", \" import\", \" Path\", \"\\n\", \"from\", \" typing\", \" import\", \" Optional\", \"\\n\", \"from\", \" u\", \"uid\", \" import\", \" u\", \"uid\", \"4\", \"\\n\", \"\\n\", \"RE\", \"ACT\", \"_\", \"DIR\", \" =\", \" Path\", \"(__\", \"file\", \"__\", \").\", \"parent\", \".\", \"parent\", \".\", \"parent\", \" /\", \" \\\"\", \"react\", \"\\\"\", \"\\n\\n\", \"\\n\", \"class\", \" R\", \"endered\", \"HTML\", \":\", \"\\n   \", \" \\\"\\\"\\\"\", \"R\", \"endered\", \" HTML\", \"\\n   \", \" En\", \"ables\", \" rendering\", \" HTML\", \" in\", \" a\", \" variety\", \" of\", \" situations\", \" (\", \"e\", \".\", \"g\", \".\", \" J\", \"up\", \"y\", \"ter\", \" Lab\", \")\", \"\\n   \", \" \\\"\\\"\\\"\", \"\\n\\n   \", \" def\", \" __\", \"init\", \"__(\", \"self\", \",\", \" src\", \":\", \" str\", \"):\", \"\\n       \", \" self\", \".\", \"src\", \" =\", \" src\", \"\\n\\n   \", \" def\", \" _\", \"re\", \"pr\", \"_\", \"html\", \"_(\", \"self\", \")\", \" ->\", \" str\", \":\", \"\\n       \", \" \\\"\\\"\\\"\", \"J\", \"up\", \"y\", \"ter\", \"/\", \"Col\", \"ab\", \" HTML\", \" Represent\", \"ation\", \"\\n       \", \" When\", \" J\", \"up\", \"y\", \"ter\", \" sees\", \" this\", \" method\", \",\", \" it\", \" renders\", \" the\", \" HTML\", \".\", \"\\n       \", \" Returns\", \":\", \"\\n           \", \" str\", \":\", \" HTML\", \" for\", \" J\", \"up\", \"y\", \"ter\", \"/\", \"Col\", \"ab\", \"\\n       \", \" \\\"\\\"\\\"\", \"\\n       \", \" return\", \" self\", \".\", \"src\", \"\\n\\n   \", \" def\", \" __\", \"html\", \"__(\", \"self\", \")\", \" ->\", \" str\", \":\", \"\\n       \", \" \\\"\\\"\\\"\", \"Used\", \" by\", \" some\", \" tool\", \"ing\", \" as\", \" an\", \" alternative\", \" to\", \" _\", \"re\", \"pr\", \"_\", \"html\", \"_\", \"\\\"\\\"\\\"\", \"\\n       \", \" return\", \" self\", \".\", \"src\", \"\\n\\n   \", \" def\", \" show\", \"_\", \"code\", \"(\", \"self\", \")\", \" ->\", \" str\", \":\", \"\\n       \", \" \\\"\\\"\\\"\", \"Show\", \" the\", \" code\", \" as\", \" source\", \"-\", \"code\", \"\\n       \", \" Returns\", \":\", \"\\n           \", \" str\", \":\", \" HTML\", \" source\", \" code\", \"\\n       \", \" \\\"\\\"\\\"\", \"\\n       \", \" return\", \" self\", \".\", \"src\", \"\\n\\n   \", \" def\", \" __\", \"str\", \"__(\", \"self\", \"):\", \"\\n       \", \" \\\"\\\"\\\"\", \"String\", \" type\", \" conversion\", \" handler\", \"\\\"\\\"\\\"\", \"\\n       \", \" return\", \" self\", \".\", \"src\", \"\\n\\n\", \"\\n\", \"def\", \" install\", \"_\", \"if\", \"_\", \"necessary\", \"()\", \" ->\", \" None\", \":\", \"\\n   \", \" \\\"\\\"\\\"\", \"Install\", \" node\", \" modules\", \" if\", \" they\", \"'re\", \" missing\", \".\\\"\\\"\\\"\", \"\\n   \", \" node\", \"_\", \"modules\", \" =\", \" RE\", \"ACT\", \"_\", \"DIR\", \" /\", \" \\\"\", \"node\", \"_\", \"modules\", \"\\\"\", \"\\n   \", \" if\", \" not\", \" node\", \"_\", \"modules\", \".\", \"exists\", \"():\", \"\\n       \", \" sub\", \"process\", \".\", \"run\", \"(\", \"\\n           \", \" [\\\"\", \"y\", \"arn\", \"\\\"],\", \"\\n           \", \" c\", \"wd\", \"=\", \"RE\", \"ACT\", \"_\", \"DIR\", \",\", \"\\n           \", \" capture\", \"_\", \"output\", \"=\", \"True\", \",\", \"\\n           \", \" text\", \"=\", \"True\", \",\", \"\\n           \", \" check\", \"=\", \"True\", \"\\n       \", \" )\", \"\\n\\n\", \"\\n\", \"def\", \" bundle\", \"_\", \"source\", \"()\", \" ->\", \" None\", \":\", \"\\n   \", \" \\\"\\\"\\\"\", \"Bundle\", \" up\", \" the\", \" JavaScript\", \"/\", \"Type\", \"Script\", \" source\", \" files\", \"\\\"\\\"\\\"\", \"\\n   \", \" sub\", \"process\", \".\", \"run\", \"([\", \"\\n       \", \" \\\"\", \"y\", \"arn\", \"\\\",\", \"\\n       \", \" \\\"\", \"build\", \"Browser\", \"\\\"\", \"\\n   \", \" ],\", \"\\n       \", \" c\", \"wd\", \"=\", \"RE\", \"ACT\", \"_\", \"DIR\", \",\", \"\\n       \", \" capture\", \"_\", \"output\", \"=\", \"True\", \",\", \"\\n       \", \" text\", \"=\", \"True\", \",\", \"\\n       \", \" check\", \"=\", \"True\", \"\\n   \", \" )\", \"\\n\\n\", \"\\n\", \"def\", \" render\", \"_\", \"dev\", \"(\", \"react\", \"_\", \"element\", \"_\", \"name\", \":\", \" str\", \",\", \" **\", \"kwargs\", \")\", \" ->\", \" R\", \"endered\", \"HTML\", \":\", \"\\n   \", \" \\\"\\\"\\\"\", \"Render\", \" (\", \"during\", \" development\", \")\\\"\", \"\\\"\\\"\", \"\\n   \", \" #\", \" Create\", \" a\", \" random\", \" ID\", \" for\", \" the\", \" div\", \" (\", \"that\", \" we\", \" render\", \" into\", \")\", \"\\n   \", \" #\", \" This\", \" is\", \" done\", \" to\", \" avoid\", \" name\", \" clashes\", \" on\", \" a\", \" page\", \" with\", \" many\", \" rendered\", \"\\n   \", \" #\", \" Circ\", \"uits\", \"Vis\", \" elements\", \".\", \" Note\", \" we\", \" shorten\", \" the\", \" U\", \"UID\", \" to\", \" be\", \" a\", \" reasonable\", \" length\", \"\\n   \", \" u\", \"uid\", \" =\", \" \\\"\", \"circ\", \"uits\", \"-\", \"vis\", \"-\\\"\", \" +\", \" str\", \"(\", \"uuid\", \"4\", \"())\", \"[:\", \"1\", \"3\", \"]\", \"\\n\\n   \", \" #\", \" String\", \"ify\", \" keyword\", \" args\", \"\\n   \", \" props\", \" =\", \" json\", \".\", \"d\", \"umps\", \"(\", \"kwargs\", \")\", \"\\n\\n   \", \" #\", \" Build\", \"\\n   \", \" install\", \"_\", \"if\", \"_\", \"necessary\", \"()\", \"\\n   \", \" bundle\", \"_\", \"source\", \"()\", \"\\n\\n   \", \" #\", \" Load\", \" the\", \" JS\", \"\\n   \", \" filename\", \" =\", \" RE\", \"ACT\", \"_\", \"DIR\", \" /\", \" \\\"\", \"dist\", \"\\\"\", \" /\", \" \\\"\", \"cdn\", \"\\\"\", \" /\", \" \\\"\", \"i\", \"ife\", \".\", \"js\", \"\\\"\", \"\\n   \", \" with\", \" open\", \"(\", \"filename\", \",\", \" encoding\", \"=\\\"\", \"utf\", \"-\", \"8\", \"\\\")\", \" as\", \" file\", \":\", \"\\n       \", \" inline\", \"_\", \"js\", \" =\", \" file\", \".\", \"read\", \"()\", \"\\n\\n   \", \" html\", \" =\", \" f\", \"\\\"\\\"\\\"\", \"<\", \"div\", \" id\", \"=\\\"{\", \"uuid\", \"}\", \"\\\"/>\", \"\\n   \", \" <\", \"script\", \" cross\", \"origin\", \" type\", \"=\\\"\", \"module\", \"\\\">\", \"\\n   \", \" {\", \"inline\", \"_\", \"js\", \"}\", \"\\n    \\n   \", \" Circ\", \"uits\", \"Vis\", \".\", \"render\", \"(\", \"\\n     \", \" \\\"{\", \"uuid\", \"}\\\",\", \"\\n     \", \" Circ\", \"uits\", \"Vis\", \".\", \"{\", \"react\", \"_\", \"element\", \"_\", \"name\", \"},\", \"\\n     \", \" {\", \"props\", \"}\", \"\\n   \", \" )\", \"\\n   \", \" </\", \"script\", \">\", \"\\\"\\\"\\\"\", \"\\n\\n   \", \" return\", \" R\", \"endered\", \"HTML\", \"(\", \"html\", \")\", \"\\n\\n\", \"\\n\", \"def\", \" render\", \"_\", \"prod\", \"(\", \"react\", \"_\", \"element\", \"_\", \"name\", \":\", \" str\", \",\", \" **\", \"kwargs\", \")\", \" ->\", \" R\", \"endered\", \"HTML\", \":\", \"\\n   \", \" \\\"\\\"\\\"\", \"Render\", \" (\", \"for\", \" production\", \")\\\"\", \"\\\"\\\"\", \"\\n   \", \" #\", \" Create\", \" a\", \" random\", \" ID\", \" for\", \" the\", \" div\", \" (\", \"that\", \" we\", \" render\", \" into\", \")\", \"\\n   \", \" #\", \" This\", \" is\", \" done\", \" to\", \" avoid\", \" name\", \" clashes\", \" on\", \" a\", \" page\", \" with\", \" many\", \" rendered\", \"\\n   \", \" #\", \" Circ\", \"uits\", \"Vis\", \" elements\", \".\", \" Note\", \" we\", \" shorten\", \" the\", \" U\", \"UID\", \" to\", \" be\", \" a\", \" reasonable\", \" length\", \"\\n   \", \" u\", \"uid\", \" =\", \" \\\"\", \"circ\", \"uits\", \"-\", \"vis\", \"-\\\"\", \" +\", \" str\", \"(\", \"uuid\", \"4\", \"())\", \"[:\", \"1\", \"3\", \"]\", \"\\n\\n   \", \" #\", \" String\", \"ify\", \" keyword\", \" args\", \"\\n   \", \" props\", \" =\", \" json\", \".\", \"d\", \"umps\", \"(\", \"kwargs\", \")\", \"\\n\\n   \", \" html\", \" =\", \" f\", \"\\\"\\\"\\\"\", \"<\", \"div\", \" id\", \"=\\\"{\", \"uuid\", \"}\", \"\\\"/>\", \"\\n   \", \" <\", \"script\", \" cross\", \"origin\", \" type\", \"=\\\"\", \"module\", \"\\\">\", \"\\n   \", \" import\", \" {\\\"\", \"{\", \" render\", \",\", \" \\\"+\", \" react\", \"_\", \"element\", \"_\", \"name\", \" +\", \" \\\"\", \" }\", \"\\\"}\", \" from\", \" \\\"\", \"https\", \"://\", \"un\", \"pkg\", \".\", \"com\", \"/\", \"circ\", \"uits\", \"vis\", \"/\", \"dist\", \"/\", \"cdn\", \"/\", \"es\", \"m\", \".\", \"js\", \"\\\";\", \"\\n   \", \" render\", \"(\", \"\\n     \", \" \\\"{\", \"uuid\", \"}\\\",\", \"\\n     \", \" {\", \"react\", \"_\", \"element\", \"_\", \"name\", \"},\", \"\\n     \", \" {\", \"props\", \"}\", \"\\n   \", \" )\", \"\\n   \", \" </\", \"script\", \">\", \"\\\"\\\"\\\"\", \"\\n\\n   \", \" return\", \" R\", \"endered\", \"HTML\", \"(\", \"html\"], \"values\": [-0.015165985561907291, 0.024718880653381348, 0.04790562391281128, -0.004484339617192745, 0.014045357704162598, 0.11397671699523926, 0.026553533971309662, 0.0008217239519581199, 0.1749509572982788, 0.14688843488693237, 0.10736268758773804, 0.20333045721054077, 0.1396085023880005, 0.0013670274056494236, 0.020859837532043457, 0.05162608623504639, -0.27358686923980713, -0.020195484161376953, 0.0005852414760738611, -0.23380112648010254, 0.12389057874679565, 0.43493151664733887, -0.1416669487953186, 0.1105353906750679, 0.02926492691040039, 0.06041952967643738, 0.0009742273250594735, 0.000506553566083312, 0.11198577284812927, -0.005408206954598427, 0.18831557035446167, 0.12843409180641174, 0.34074831008911133, 0.010290265083312988, 0.05104506015777588, 0.011946886777877808, 0.003134210128337145, -0.17999772727489471, 0.013357117772102356, -0.235045924782753, -0.0019301511347293854, -0.0016277222894132137, 0.02988608554005623, -1.2771327419613954e-05, -0.06226453185081482, 0.12202435731887817, -0.0011233091354370117, 0.1098879873752594, -0.0026014521718025208, 0.0004088961286470294, 1.2191027053631842e-05, 0.04874008893966675, -0.15477627515792847, 0.4172583222389221, 0.0003142936620861292, -0.04689967632293701, 0.18629226088523865, -0.0002661156468093395, -9.556295117363334e-05, 0.1213865727186203, 0.0030788849107921124, 0.02124183252453804, -0.008626071736216545, 0.033389147371053696, -0.0010964814573526382, -0.03156697750091553, 4.113663453608751e-05, 0.01038222387433052, 0.10837285965681076, 0.046469807624816895, 0.006089687347412109, 0.050122082233428955, 0.0002762492513284087, -0.004274430219084024, 0.7912648916244507, -0.5856835246086121, 0.00027153833070769906, -0.04103505611419678, 0.05360478162765503, 0.22738349437713623, 0.033996134996414185, -0.037811338901519775, -0.1308404803276062, 0.020484209060668945, 0.0024022459983825684, -0.005366921424865723, 0.14134317636489868, -0.000396037008613348, 0.016814302653074265, 0.015088766813278198, -0.003121212124824524, 0.008911192417144775, 0.32733890414237976, 0.051794469356536865, 0.0022917434107512236, 0.36967554688453674, 0.06215895712375641, 0.04004450887441635, 0.020665347576141357, 0.009046405553817749, -0.009029360488057137, 0.270699143409729, -0.10604065656661987, 0.007659104652702808, 0.00665932334959507, 0.09306067228317261, 0.05999082699418068, -0.013903439044952393, 0.10023872554302216, 0.10428786277770996, 0.38007450103759766, -0.2811475694179535, 5.96349491388537e-05, 0.0011486310977488756, 0.5654007792472839, -0.313799113035202, -0.005968358367681503, -0.00034320782287977636, 2.2737003746442497e-05, -8.688122761668637e-05, -2.163416411349317e-06, 0.08338862657546997, 0.06201784312725067, 0.00016065302770584822, 0.0006457656854763627, 0.10481218993663788, 0.745754599571228, -0.12849676609039307, -0.0002122298174072057, 0.0030090101063251495, 0.000718582421541214, 0.2261946201324463, 0.06461022049188614, -0.0007701986469328403, -0.052574023604393005, 0.18155363202095032, 0.008380399085581303, 0.11324259638786316, 0.00041912670712918043, -0.11114835739135742, 0.10441756248474121, 0.013397231698036194, 0.16005808115005493, -0.12914633750915527, -0.01607896201312542, 0.001504533807747066, 0.18086029589176178, 0.582255482673645, 0.01832294464111328, 0.004566744435578585, -0.000702745805028826, 0.002000657143071294, 0.003928299993276596, 0.1656985878944397, -0.04576253890991211, -0.015367001295089722, 0.09174123406410217, -0.045475780963897705, -0.0011314128059893847, 0.11721023917198181, -0.05459427833557129, -0.06926584243774414, 4.0304046706296504e-05, 0.49325108528137207, 0.004785478115081787, 0.14792007207870483, 0.05627518892288208, 0.03934347629547119, 0.04659610986709595, -0.015353620052337646, -0.42274805903434753, 0.00011970259220106527, -0.009107737801969051, -0.0005828142166137695, 0.0005150013603270054, 0.02182137221097946, -0.0009109494276344776, 0.023453176021575928, 0.0030696741305291653, -0.11204972863197327, 0.0019467115635052323, -0.0016581802628934383, 0.3922373652458191, 0.04397351294755936, 0.15467454493045807, 0.10605674982070923, 5.2791740017710254e-05, 0.08534437417984009, 0.45208704471588135, 0.20741134881973267, 0.09407907724380493, 0.00277463486418128, 0.15257294476032257, -0.16488885879516602, -1.0765623301267624e-05, 0.030963420867919922, 0.000613061711192131, -0.05996507406234741, 0.0006289482116699219, 0.1772717982530594, -0.003258347511291504, 0.03193041682243347, 0.041555821895599365, 0.03124290704727173, -0.2630611062049866, 0.01911253109574318, -0.014033704996109009, 0.005840818397700787, 0.005601257085800171, -0.0008844488766044378, -0.001049933023750782, -0.21939313411712646, 0.002360585145652294, 0.0031492533162236214, 0.10527467727661133, 0.15108484029769897, 0.02850477397441864, 0.19697940349578857, -0.018811751157045364, 0.017253875732421875, 0.12762761116027832, 0.10052700340747833, 0.049226999282836914, 0.028709053993225098, 0.2126559019088745, -0.05657529830932617, 0.14047759771347046, 0.032376810908317566, 0.08064903318881989, -0.06200140714645386, -0.14079762995243073, 0.016102731227874756, 0.019399285316467285, 0.00761038064956665, 0.020886927843093872, 0.009844303131103516, -0.4108460545539856, 0.001976622501388192, -0.0005316950264386833, -0.0016102853696793318, 0.002976315561681986, 0.01963791996240616, -0.015294313430786133, -0.04665422439575195, -0.047840416431427, 0.11729133129119873, 0.06946294754743576, -0.0006747692823410034, -0.008897066116333008, -0.006260111927986145, -0.0006746375001966953, -0.05696302652359009, 0.0034491063561290503, -0.3265344500541687, 0.010704407468438148, -0.009364588186144829, 0.46407607197761536, -0.21469303965568542, -0.010442972183227539, -0.40180549025535583, -0.04346573352813721, 0.0161309614777565, -0.00025840048328973353, -9.351223707199097e-05, -0.002058663871139288, 0.002495493507012725, 0.07153870165348053, -0.00192535063251853, -0.0026715435087680817, -0.04927074909210205, 0.003018700983375311, 0.14886507391929626, 0.10101378709077835, -0.058281123638153076, 0.0001096284540835768, 0.02596144750714302, 0.2175312042236328, 0.020807204768061638, 0.0016254186630249023, -0.010217759758234024, 0.01203983835875988, 0.4186418354511261, 0.09295588731765747, 0.12290346622467041, 0.0651770532131195, 0.0801490843296051, -0.09769986569881439, 0.09907758235931396, 0.0019515752792358398, 0.1903638243675232, 0.06476429849863052, 0.017939314246177673, -0.2178974449634552, -0.0171775221824646, -0.00035005586687475443, 0.15668074786663055, 0.27157509326934814, 0.020720496773719788, 0.05070176720619202, -0.17857487499713898, 0.002636287361383438, -0.0002857332583516836, 0.0031897383742034435, 0.0391848161816597, 0.5057238936424255, -0.001265214872546494, 0.7763220071792603, 0.13439542055130005, -0.0005604439647868276, 0.5777103900909424, 0.5184001326560974, -0.018365606665611267, -0.03192949295043945, 0.34333598613739014, -1.6278965631499887e-05, -0.05549466609954834, -0.0152857331559062, 0.3651683032512665, -0.13756173849105835, 0.1000697910785675, 0.07311779260635376, -0.0007142757531255484, 0.014835834503173828, -0.009117759764194489, -0.12724027037620544, -0.03421163558959961, -0.00033555144909769297, 0.03245158493518829, -0.15309947729110718, 0.30693894624710083, 0.09605830907821655, 0.07483698427677155, 0.02095627784729004, 0.08927559852600098, 2.4106993805617094e-05, 0.19299954175949097, 0.0026986694429069757, 0.000583044602535665, 0.1146286129951477, 0.18863320350646973, 0.0073555707931518555, -0.2536560595035553, 0.012498140335083008, -0.00019908836111426353, -0.0012527871876955032, 0.045881353318691254, -0.0003579733020160347, -0.002284066751599312, 5.942711595707806e-06, -0.00015180798072833568, 0.0003768183523789048, -0.0029873084276914597, -0.04934679716825485, 0.18626445531845093, 0.003786758054047823, 0.002746105194091797, 0.1511405110359192, 0.04018773138523102, -0.024623163044452667, 0.012049395591020584, 0.06270147860050201, -0.00021686864783987403, 0.3106924295425415, 0.05501239001750946, 0.3412180244922638, 0.13649824261665344, -0.0005931039340794086, 2.59494527199422e-07, -0.04947439208626747, 0.1792108416557312, 0.023952100425958633, 0.04956937953829765, 0.00019124199752695858, 0.5468587279319763, 0.04418519139289856, -0.0013212154153734446, 0.7424280047416687, 0.34288856387138367, -0.07055264711380005, -0.24937835335731506, 0.18877261877059937, 0.00019257923122495413, 0.10286533832550049, -0.038646191358566284, 0.3378351926803589, 0.0200994610786438, 0.06788617372512817, -0.11282527446746826, 0.004323769826442003, -0.033352673053741455, 0.006443515419960022, -0.11688226461410522, -0.18144702911376953, 0.0013450575061142445, 0.03693477064371109, -0.14537537097930908, 0.0866544172167778, -0.11625266075134277, -0.04368309676647186, 0.006274223327636719, -0.024920791387557983, -0.0004700103309005499, 0.051737189292907715, -8.904606511350721e-05, -0.18857413530349731, -3.8576245060539804e-06, 0.3431013822555542, -0.0009630905115045607, 0.2368057519197464, 0.06972147524356842, 0.04938491806387901, 0.5919536352157593, -0.048191070556640625, -0.000337257981300354, 0.13511383533477783, 0.006757169961929321, 0.0244218111038208, 0.0003835355455521494, -0.19449348747730255, 0.010942417196929455, -0.0698339194059372, 0.555349588394165, 0.06822508573532104, 0.017611950635910034, -0.0005107942270115018, -4.2675765143940225e-08, 0.0002171688829548657, 0.009821843355894089, 0.1894966959953308, -0.002368032932281494, 0.0031233299523591995, -5.772034637629986e-05, -0.007556334137916565, 4.8090063501149416e-05, 0.00010272116924170405, 0.07884444296360016, 0.058745577931404114, -4.434680886333808e-05, 0.007336681243032217, 0.004834448918700218, 0.010404388420283794, 0.002724597230553627, 0.003342634066939354, 0.007112372666597366, -0.18879878520965576, 0.051189541816711426, -0.004006806295365095, 0.08239179849624634, -0.0019760234281420708, -0.018438037484884262, 0.0157721396535635, -0.0003549935354385525, 0.06868734955787659, -0.0015117363072931767, 0.005381699651479721, 0.011419896967709064, 0.039058245718479156, 0.0006327223381958902, -0.00012981612235307693, -0.024104665964841843, 0.4619399309158325, -4.4623078565564356e-07, -0.021888699382543564, 4.407424512464786e-06, -3.2091393222799525e-05, 0.03152983635663986, 0.0008707578526809812, -0.0005011761095374823, 2.2905700461706147e-05, -0.08098563551902771, -3.69967456208542e-05, -0.011404326185584068, 0.02174881100654602, 0.020654289051890373, -0.027468876913189888, -9.139203757513314e-05, -0.00383260240778327, 0.2218460738658905, -0.0003666201082523912, -0.08188444375991821, -0.07635122537612915, 0.03846663236618042, 0.0002809063589666039, 0.6340223550796509, 0.022594276815652847, 4.0229002479463816e-05, 7.093731255736202e-05, 0.25626638531684875, 0.1230444610118866, 0.0014012455940246582, -0.19732825458049774, 0.01073678582906723, 0.43107274174690247, 0.002965968567878008, 0.039693109691143036, -0.004743119701743126, -0.06440961360931396, 0.023665063083171844, 0.22065448760986328, -0.0001593985070940107, 0.00048083439469337463, -0.00019471623818390071, -0.01944630593061447, 0.07306312024593353, 0.0013024888467043638, 0.25725507736206055, 0.0021798633970320225, 0.2729027569293976, 0.14711257815361023, -0.0014958381652832031, 0.013622701168060303, -0.00922789890319109, 0.11813223361968994, 0.07910265028476715, -0.05865955352783203, 0.008660861290991306, -0.008660323917865753, -6.670394213870168e-05, 0.1669783592224121, 0.0044823503121733665, 0.10326218605041504, 0.08740661293268204, -0.012327086180448532, 0.34278491139411926, 0.0006041601300239563, 0.01251918077468872, 0.0003402344882488251, -0.0046999575570225716, 0.22766833007335663, 0.14685335755348206, -0.0009660553187131882, 0.12527376413345337, 0.0025316134560853243, -0.05124392732977867, 0.00019469112157821655, 0.09960126876831055, 2.7346322895027697e-05, 0.6619735956192017, -0.01314389705657959, 0.01837266981601715, 0.02949186973273754, 0.060603123158216476, 0.00043014867696911097, -0.00833449512720108, 0.032346248626708984, 0.13607221841812134, 1.545718259876594e-05, -0.32069212198257446, 0.09844645857810974, 0.5084280371665955, 0.0012935311533510685, 1.3008076393816737e-08, 0.05364782735705376, 0.16559037566184998, 0.2030576467514038, 0.05944180488586426, 0.0032394519075751305, 0.17036640644073486, 0.3167194128036499, 0.048952847719192505, -0.013905107975006104, 0.005323929712176323, 0.052023887634277344, 0.0109519362449646, -0.04732692241668701, -0.0020481348037719727, 0.018533527851104736, 0.008362233638763428, -0.016292694956064224, 0.3896419405937195, 0.09511733055114746, -6.733213376719505e-05, -0.0370517373085022, 0.012093782424926758, -0.18735486268997192, -0.025172488763928413, -0.16243594884872437, 0.12857821583747864, 0.048014700412750244, 0.012109294533729553, 0.002452617511153221, -0.11134272813796997, 0.04392171651124954, 0.003458272432908416, 0.017678432166576385, 0.10016067326068878, 0.09057033061981201, -0.00021376274526119232, 0.003569670720025897, 0.11705420911312103, -0.010861547663807869, -0.16728335618972778, 0.11798025667667389, 0.027537647634744644, -5.222527306614211e-06, 0.006075470242649317, -0.0017822481459006667, -0.007834851741790771, 0.0005043120472691953, -0.03028641641139984, 0.20184746384620667, -0.01000528410077095, -0.00020134099759161472, 0.15793728828430176, 0.14013904333114624, -0.022075746208429337, -0.0001333603577222675, 2.1724734324379824e-05, 0.4285579323768616, -3.5966895666206256e-06, 0.013709533959627151, -0.00035155098885297775, -0.0454537570476532, -0.00030951458029448986, -0.0013998643262311816, -0.0010017119348049164, 0.017321165651082993, 0.24058878421783447, -4.540545887721237e-06, 0.006739556789398193, -0.0002690579858608544, 0.05167289450764656, -0.0014754090225324035, -2.9000998438277747e-06, 0.24504251778125763, -0.0010550536680966616, 0.25869807600975037, 0.15481999516487122, -0.0023465193808078766, 0.11973832547664642, 0.08471041172742844, 0.001001885742880404, -0.06708669662475586, 0.021193068474531174, 0.07633844017982483, -0.05173090100288391, 0.006964690983295441, 0.2399131953716278, 0.07144254446029663, 0.0040811942890286446, 0.07105600833892822, -0.029346328228712082, -0.0005338707705959678, -0.1746036559343338, 0.01254645548760891, -0.012554869055747986, 0.059451714158058167, 0.049266114830970764, -0.05185258388519287, 0.0024970173835754395, 0.11631721258163452, 0.018276318907737732, 0.18003571033477783, -2.349162423342932e-05, -0.6053352952003479, -0.00019757403060793877, 0.38139790296554565, -0.011715834960341454, 0.15216891467571259, 0.12382858246564865, 0.020161552354693413, 0.5023083686828613, -0.20037701725959778, 0.005248842760920525, 0.2505686283111572, -0.26812833547592163, 0.43868160247802734, 0.012694230303168297, 0.036489784717559814, 0.17477238178253174, -0.003606952726840973, 0.33745715022087097, 0.08921289443969727, 0.12417437136173248, -0.00025638833176344633, -0.0011041373945772648, 2.0464794943109155e-06, 0.0024398001842200756, 0.10867488384246826, 0.02123028039932251, 0.0012756139039993286, 0.006268017925322056, 0.030469700694084167, -1.4477409422397614e-05, 0.0004179729730822146, 0.05913582444190979, 0.06986743211746216, -0.00010718104022089392, 0.0054724677465856075, 0.0031284410506486893, 0.00991206057369709, 0.006029845215380192, 0.0014230187516659498, 0.006825047079473734, -0.3317939043045044, 0.01787775754928589, -0.001623040996491909, 0.0980263203382492, 0.0037762317806482315, -0.02363772690296173, 0.014157045632600784, -0.0003910814120899886, 0.038008913397789, -0.0016496526077389717, 0.004931841045618057, 0.0027255360037088394, 0.036833807826042175, 0.0007771007949486375, -0.0005083914147689939, -0.07315882295370102, 0.531345546245575, 1.4396511687664315e-05, 0.04390895366668701, 2.403552207397297e-05, 0.0004472462460398674, 0.003836028277873993, 0.0001412492711097002, -0.0008500029798597097, 3.708964504767209e-05, -0.08311206102371216, -5.2814168157055974e-05, -0.3548360764980316, 0.022849181666970253, 0.02770770527422428, -0.030916383489966393, -9.287626016885042e-05, -0.0010398002341389656, 0.2240438014268875, -0.0006417172262445092, -0.15776842832565308, 0.029101133346557617, 0.03881468623876572, 0.00039838379598222673, 0.3816406726837158, 0.011708175763487816, -0.0004812233382835984, 8.442300895694643e-05, 0.37453216314315796, 0.08982014656066895, -0.0007065534591674805, -0.13703784346580505, 0.01491149514913559, 0.39412909746170044, 0.0043766372837126255, 0.03739817440509796, -0.010701030492782593, 0.029966652393341064, 0.05096335709095001, 0.3325744867324829, -0.00038189272163435817, -0.000198297668248415, -0.0001534331386210397, -0.02672819048166275, 0.05933855473995209, 0.0028077734168618917, 0.2614777684211731, 0.0018945152405649424, 0.2333213984966278, 0.09343171119689941, -0.0041487812995910645, -0.012157082557678223, -0.0042604198679327965, 0.049656569957733154, 0.0952596515417099, 0.0006229848368093371, -0.10442590713500977, 0.026956111192703247, 0.006663159467279911, 0.04084382951259613, 0.11192245036363602, 0.15670445561408997, 0.06749744713306427, 0.02877848595380783, 0.05739679932594299, -0.011434633284807205, -0.2374148964881897, -0.010220333933830261, 0.001976780593395233, -4.132545655011199e-06, 0.011524525471031666, -0.0020440362859517336, -0.006365776062011719, 0.0009560507023707032, -0.10672283172607422, 0.09910829365253448, 0.00043713365448638797, -8.90734554559458e-06, -0.00019279203843325377, 2.352285832785128e-08, -0.0028232168406248093, -5.4467145673697814e-06, -8.855148081465813e-08, 0.11015302687883377, -0.006645591929554939, -0.06668438017368317, 0.34811538457870483, -0.0013036569580435753, 0.10159015655517578, -0.001040910487063229, 0.00019947497639805079, 5.270685505820438e-05, 0.019784992560744286, 0.0009074457339011133, -0.004063129425048828, -0.00030649086693301797, -2.2540552890859544e-07, 0.2122250497341156, 0.21806567907333374, 0.1456502079963684, 0.00020830563153140247, 0.2381085753440857, 6.254861091292696e-07, 0.12402059882879257, -0.00020286021754145622, -0.14126956462860107, 1.1973223990935367e-05, 0.11430962383747101, 0.00784505158662796, 0.003406696952879429, 0.09095675498247147, 0.08191101253032684, -0.001044779783114791, 0.30621811747550964, 0.007724532391875982, 0.021690616384148598, -0.0004231686471030116, 0.0029486333951354027, 4.81245806440711e-05, 0.012715915217995644, 0.17040736973285675, 0.09075720608234406, 3.1725867302156985e-05, -0.11415079236030579, -0.006290589924901724, -0.12214073538780212, 0.2618057429790497, 0.006939336191862822, 0.19972597062587738, 0.19264136254787445, 0.003988595679402351, -0.04383018612861633, 0.03795237839221954, -0.04892435669898987, -0.04122287034988403, 0.012413942255079746, 0.10157021880149841, 0.07263118028640747, 0.0051462990231812, 0.07453150302171707, -0.020292140543460846, -0.00011124604498036206, 0.3538157045841217, 0.0344407893717289, 0.03664097189903259, 0.041570063680410385, -0.05251292884349823], \"minValue\": 0, \"maxValue\": 1, \"minColor\": null, \"maxColor\": \"green\"}\n",
       "    )\n",
       "    </script>"
      ],
      "text/plain": [
       "<circuitsvis.render.RenderedHTML at 0x7fcf9a213fa0>"
      ]
     },
     "execution_count": 10,
     "metadata": {},
     "output_type": "execute_result"
    }
   ],
   "source": [
    "values = mlp_difference[\"Difference\"].sort_index().values.tolist()\n",
    "colored_tokens(\n",
    "    values=values,\n",
    "    tokens=token_labels,\n",
    "    min_value=0,\n",
    "    max_value=1,\n",
    "    max_color=\"green\",\n",
    ")"
   ]
  },
  {
   "cell_type": "markdown",
   "metadata": {},
   "source": [
    "Some high level thoughts of things MLPs may be useful for:\n",
    "\n",
    " - General: MLP layers are good at understanding a lot about just one token (after info has potentially been moved there), especially as they typically have 2x the number of parameters as attention layers (and 6x the OV circuit, or 6x * num_tokens). So they should excel in situations where nuanced information must be recalled that is sparse in the training data (e.g. the peculiarities of specific libraries that don't follow common method naming conventions).\n",
    " - In practice this broadly seems plausible (but not necessarily correct) from the above data. Specifically:\n",
    "   - \"J\" -> \"up\" (for \"Jupyter\")\n",
    "   - \"__html__\" is a possible method (again only for Jupyter notebooks as it renders HTML if the class is returned)\n",
    "   - \"subprocess\" ... -> \"c\" (for \"cwd\") as it knows the parameters of `subprocess.call`\n",
    "\n",
    "It could be interesting when trying to interpret circuits, to try and remove the impact of MLP layers (including removing info moved by attention heads just for the MLP layer to read somehow), so that we know if this is true. Are MLP layers fundamentally narrowing down choices where sparse info is useful?"
   ]
  },
  {
   "cell_type": "markdown",
   "metadata": {},
   "source": [
    "#### 1 vs 2 Layers"
   ]
  },
  {
   "cell_type": "code",
   "execution_count": 11,
   "metadata": {},
   "outputs": [
    {
     "data": {
      "text/plain": [
       "array([[<AxesSubplot:title={'center':'Difference'}>]], dtype=object)"
      ]
     },
     "execution_count": 11,
     "metadata": {},
     "output_type": "execute_result"
    },
    {
     "data": {
      "image/png": "[encoded data removed]",
      "text/plain": [
       "<Figure size 432x288 with 1 Axes>"
      ]
     },
     "metadata": {
      "needs_background": "light"
     },
     "output_type": "display_data"
    }
   ],
   "source": [
    "two_vs_one_layer = compare_model_correct_token_probability(\"NeelNanda/Attn_Only_2L512W_C4_Code\", \"NeelNanda/Attn_Only_1L512W_C4_Code\")\n",
    "two_vs_one_layer.hist(column=\"Difference\", bins=10)"
   ]
  },
  {
   "cell_type": "markdown",
   "metadata": {},
   "source": [
    "##### By Tokens View"
   ]
  },
  {
   "cell_type": "code",
   "execution_count": 12,
   "metadata": {},
   "outputs": [
    {
     "data": {
      "text/html": [
       "<div id=\"circuits-vis-376793f4-55e3\"/>\n",
       "    <script crossorigin type=\"module\">\n",
       "    import { render, ColoredTokens } from \"https://unpkg.com/circuitsvis/dist/cdn/esm.js\";\n",
       "    render(\n",
       "      \"circuits-vis-376793f4-55e3\",\n",
       "      ColoredTokens,\n",
       "      {\"tokens\": [\"import\", \" json\", \"\\n\", \"import\", \" sub\", \"process\", \"\\n\", \"from\", \" path\", \"lib\", \" import\", \" Path\", \"\\n\", \"from\", \" typing\", \" import\", \" Optional\", \"\\n\", \"from\", \" u\", \"uid\", \" import\", \" u\", \"uid\", \"4\", \"\\n\", \"\\n\", \"RE\", \"ACT\", \"_\", \"DIR\", \" =\", \" Path\", \"(__\", \"file\", \"__\", \").\", \"parent\", \".\", \"parent\", \".\", \"parent\", \" /\", \" \\\"\", \"react\", \"\\\"\", \"\\n\\n\", \"\\n\", \"class\", \" R\", \"endered\", \"HTML\", \":\", \"\\n   \", \" \\\"\\\"\\\"\", \"R\", \"endered\", \" HTML\", \"\\n   \", \" En\", \"ables\", \" rendering\", \" HTML\", \" in\", \" a\", \" variety\", \" of\", \" situations\", \" (\", \"e\", \".\", \"g\", \".\", \" J\", \"up\", \"y\", \"ter\", \" Lab\", \")\", \"\\n   \", \" \\\"\\\"\\\"\", \"\\n\\n   \", \" def\", \" __\", \"init\", \"__(\", \"self\", \",\", \" src\", \":\", \" str\", \"):\", \"\\n       \", \" self\", \".\", \"src\", \" =\", \" src\", \"\\n\\n   \", \" def\", \" _\", \"re\", \"pr\", \"_\", \"html\", \"_(\", \"self\", \")\", \" ->\", \" str\", \":\", \"\\n       \", \" \\\"\\\"\\\"\", \"J\", \"up\", \"y\", \"ter\", \"/\", \"Col\", \"ab\", \" HTML\", \" Represent\", \"ation\", \"\\n       \", \" When\", \" J\", \"up\", \"y\", \"ter\", \" sees\", \" this\", \" method\", \",\", \" it\", \" renders\", \" the\", \" HTML\", \".\", \"\\n       \", \" Returns\", \":\", \"\\n           \", \" str\", \":\", \" HTML\", \" for\", \" J\", \"up\", \"y\", \"ter\", \"/\", \"Col\", \"ab\", \"\\n       \", \" \\\"\\\"\\\"\", \"\\n       \", \" return\", \" self\", \".\", \"src\", \"\\n\\n   \", \" def\", \" __\", \"html\", \"__(\", \"self\", \")\", \" ->\", \" str\", \":\", \"\\n       \", \" \\\"\\\"\\\"\", \"Used\", \" by\", \" some\", \" tool\", \"ing\", \" as\", \" an\", \" alternative\", \" to\", \" _\", \"re\", \"pr\", \"_\", \"html\", \"_\", \"\\\"\\\"\\\"\", \"\\n       \", \" return\", \" self\", \".\", \"src\", \"\\n\\n   \", \" def\", \" show\", \"_\", \"code\", \"(\", \"self\", \")\", \" ->\", \" str\", \":\", \"\\n       \", \" \\\"\\\"\\\"\", \"Show\", \" the\", \" code\", \" as\", \" source\", \"-\", \"code\", \"\\n       \", \" Returns\", \":\", \"\\n           \", \" str\", \":\", \" HTML\", \" source\", \" code\", \"\\n       \", \" \\\"\\\"\\\"\", \"\\n       \", \" return\", \" self\", \".\", \"src\", \"\\n\\n   \", \" def\", \" __\", \"str\", \"__(\", \"self\", \"):\", \"\\n       \", \" \\\"\\\"\\\"\", \"String\", \" type\", \" conversion\", \" handler\", \"\\\"\\\"\\\"\", \"\\n       \", \" return\", \" self\", \".\", \"src\", \"\\n\\n\", \"\\n\", \"def\", \" install\", \"_\", \"if\", \"_\", \"necessary\", \"()\", \" ->\", \" None\", \":\", \"\\n   \", \" \\\"\\\"\\\"\", \"Install\", \" node\", \" modules\", \" if\", \" they\", \"'re\", \" missing\", \".\\\"\\\"\\\"\", \"\\n   \", \" node\", \"_\", \"modules\", \" =\", \" RE\", \"ACT\", \"_\", \"DIR\", \" /\", \" \\\"\", \"node\", \"_\", \"modules\", \"\\\"\", \"\\n   \", \" if\", \" not\", \" node\", \"_\", \"modules\", \".\", \"exists\", \"():\", \"\\n       \", \" sub\", \"process\", \".\", \"run\", \"(\", \"\\n           \", \" [\\\"\", \"y\", \"arn\", \"\\\"],\", \"\\n           \", \" c\", \"wd\", \"=\", \"RE\", \"ACT\", \"_\", \"DIR\", \",\", \"\\n           \", \" capture\", \"_\", \"output\", \"=\", \"True\", \",\", \"\\n           \", \" text\", \"=\", \"True\", \",\", \"\\n           \", \" check\", \"=\", \"True\", \"\\n       \", \" )\", \"\\n\\n\", \"\\n\", \"def\", \" bundle\", \"_\", \"source\", \"()\", \" ->\", \" None\", \":\", \"\\n   \", \" \\\"\\\"\\\"\", \"Bundle\", \" up\", \" the\", \" JavaScript\", \"/\", \"Type\", \"Script\", \" source\", \" files\", \"\\\"\\\"\\\"\", \"\\n   \", \" sub\", \"process\", \".\", \"run\", \"([\", \"\\n       \", \" \\\"\", \"y\", \"arn\", \"\\\",\", \"\\n       \", \" \\\"\", \"build\", \"Browser\", \"\\\"\", \"\\n   \", \" ],\", \"\\n       \", \" c\", \"wd\", \"=\", \"RE\", \"ACT\", \"_\", \"DIR\", \",\", \"\\n       \", \" capture\", \"_\", \"output\", \"=\", \"True\", \",\", \"\\n       \", \" text\", \"=\", \"True\", \",\", \"\\n       \", \" check\", \"=\", \"True\", \"\\n   \", \" )\", \"\\n\\n\", \"\\n\", \"def\", \" render\", \"_\", \"dev\", \"(\", \"react\", \"_\", \"element\", \"_\", \"name\", \":\", \" str\", \",\", \" **\", \"kwargs\", \")\", \" ->\", \" R\", \"endered\", \"HTML\", \":\", \"\\n   \", \" \\\"\\\"\\\"\", \"Render\", \" (\", \"during\", \" development\", \")\\\"\", \"\\\"\\\"\", \"\\n   \", \" #\", \" Create\", \" a\", \" random\", \" ID\", \" for\", \" the\", \" div\", \" (\", \"that\", \" we\", \" render\", \" into\", \")\", \"\\n   \", \" #\", \" This\", \" is\", \" done\", \" to\", \" avoid\", \" name\", \" clashes\", \" on\", \" a\", \" page\", \" with\", \" many\", \" rendered\", \"\\n   \", \" #\", \" Circ\", \"uits\", \"Vis\", \" elements\", \".\", \" Note\", \" we\", \" shorten\", \" the\", \" U\", \"UID\", \" to\", \" be\", \" a\", \" reasonable\", \" length\", \"\\n   \", \" u\", \"uid\", \" =\", \" \\\"\", \"circ\", \"uits\", \"-\", \"vis\", \"-\\\"\", \" +\", \" str\", \"(\", \"uuid\", \"4\", \"())\", \"[:\", \"1\", \"3\", \"]\", \"\\n\\n   \", \" #\", \" String\", \"ify\", \" keyword\", \" args\", \"\\n   \", \" props\", \" =\", \" json\", \".\", \"d\", \"umps\", \"(\", \"kwargs\", \")\", \"\\n\\n   \", \" #\", \" Build\", \"\\n   \", \" install\", \"_\", \"if\", \"_\", \"necessary\", \"()\", \"\\n   \", \" bundle\", \"_\", \"source\", \"()\", \"\\n\\n   \", \" #\", \" Load\", \" the\", \" JS\", \"\\n   \", \" filename\", \" =\", \" RE\", \"ACT\", \"_\", \"DIR\", \" /\", \" \\\"\", \"dist\", \"\\\"\", \" /\", \" \\\"\", \"cdn\", \"\\\"\", \" /\", \" \\\"\", \"i\", \"ife\", \".\", \"js\", \"\\\"\", \"\\n   \", \" with\", \" open\", \"(\", \"filename\", \",\", \" encoding\", \"=\\\"\", \"utf\", \"-\", \"8\", \"\\\")\", \" as\", \" file\", \":\", \"\\n       \", \" inline\", \"_\", \"js\", \" =\", \" file\", \".\", \"read\", \"()\", \"\\n\\n   \", \" html\", \" =\", \" f\", \"\\\"\\\"\\\"\", \"<\", \"div\", \" id\", \"=\\\"{\", \"uuid\", \"}\", \"\\\"/>\", \"\\n   \", \" <\", \"script\", \" cross\", \"origin\", \" type\", \"=\\\"\", \"module\", \"\\\">\", \"\\n   \", \" {\", \"inline\", \"_\", \"js\", \"}\", \"\\n    \\n   \", \" Circ\", \"uits\", \"Vis\", \".\", \"render\", \"(\", \"\\n     \", \" \\\"{\", \"uuid\", \"}\\\",\", \"\\n     \", \" Circ\", \"uits\", \"Vis\", \".\", \"{\", \"react\", \"_\", \"element\", \"_\", \"name\", \"},\", \"\\n     \", \" {\", \"props\", \"}\", \"\\n   \", \" )\", \"\\n   \", \" </\", \"script\", \">\", \"\\\"\\\"\\\"\", \"\\n\\n   \", \" return\", \" R\", \"endered\", \"HTML\", \"(\", \"html\", \")\", \"\\n\\n\", \"\\n\", \"def\", \" render\", \"_\", \"prod\", \"(\", \"react\", \"_\", \"element\", \"_\", \"name\", \":\", \" str\", \",\", \" **\", \"kwargs\", \")\", \" ->\", \" R\", \"endered\", \"HTML\", \":\", \"\\n   \", \" \\\"\\\"\\\"\", \"Render\", \" (\", \"for\", \" production\", \")\\\"\", \"\\\"\\\"\", \"\\n   \", \" #\", \" Create\", \" a\", \" random\", \" ID\", \" for\", \" the\", \" div\", \" (\", \"that\", \" we\", \" render\", \" into\", \")\", \"\\n   \", \" #\", \" This\", \" is\", \" done\", \" to\", \" avoid\", \" name\", \" clashes\", \" on\", \" a\", \" page\", \" with\", \" many\", \" rendered\", \"\\n   \", \" #\", \" Circ\", \"uits\", \"Vis\", \" elements\", \".\", \" Note\", \" we\", \" shorten\", \" the\", \" U\", \"UID\", \" to\", \" be\", \" a\", \" reasonable\", \" length\", \"\\n   \", \" u\", \"uid\", \" =\", \" \\\"\", \"circ\", \"uits\", \"-\", \"vis\", \"-\\\"\", \" +\", \" str\", \"(\", \"uuid\", \"4\", \"())\", \"[:\", \"1\", \"3\", \"]\", \"\\n\\n   \", \" #\", \" String\", \"ify\", \" keyword\", \" args\", \"\\n   \", \" props\", \" =\", \" json\", \".\", \"d\", \"umps\", \"(\", \"kwargs\", \")\", \"\\n\\n   \", \" html\", \" =\", \" f\", \"\\\"\\\"\\\"\", \"<\", \"div\", \" id\", \"=\\\"{\", \"uuid\", \"}\", \"\\\"/>\", \"\\n   \", \" <\", \"script\", \" cross\", \"origin\", \" type\", \"=\\\"\", \"module\", \"\\\">\", \"\\n   \", \" import\", \" {\\\"\", \"{\", \" render\", \",\", \" \\\"+\", \" react\", \"_\", \"element\", \"_\", \"name\", \" +\", \" \\\"\", \" }\", \"\\\"}\", \" from\", \" \\\"\", \"https\", \"://\", \"un\", \"pkg\", \".\", \"com\", \"/\", \"circ\", \"uits\", \"vis\", \"/\", \"dist\", \"/\", \"cdn\", \"/\", \"es\", \"m\", \".\", \"js\", \"\\\";\", \"\\n   \", \" render\", \"(\", \"\\n     \", \" \\\"{\", \"uuid\", \"}\\\",\", \"\\n     \", \" {\", \"react\", \"_\", \"element\", \"_\", \"name\", \"},\", \"\\n     \", \" {\", \"props\", \"}\", \"\\n   \", \" )\", \"\\n   \", \" </\", \"script\", \">\", \"\\\"\\\"\\\"\", \"\\n\\n   \", \" return\", \" R\", \"endered\", \"HTML\", \"(\", \"html\"], \"values\": [0.011365745216608047, 0.056313276290893555, -0.2806720435619354, -0.0019044685177505016, -0.025218546390533447, 0.15846377611160278, 0.023746423423290253, 0.0011466728756204247, 0.13412809371948242, 0.25784188508987427, 0.507127046585083, 0.18187659978866577, 0.2618216276168823, 0.007741316221654415, 0.0261075496673584, 0.035179316997528076, 0.004068315029144287, -0.17305997014045715, 0.0010583330877125263, 0.11289548873901367, 0.17020392417907715, 0.5781075358390808, -0.002343297004699707, 0.1619558334350586, 0.18373453617095947, 0.19712775945663452, -6.678554927930236e-05, -0.0006029242649674416, 0.09814414381980896, -0.016187593340873718, 0.16484540700912476, -0.060729049146175385, 0.39132189750671387, 0.344483345746994, -0.0038698017597198486, 0.2832828164100647, 0.3731553852558136, -0.1335761994123459, 0.7369091510772705, 0.393695205450058, 0.7304558157920837, -0.00182911881711334, 0.03078487142920494, 0.00045309888082556427, 0.14503321051597595, 0.003231275826692581, 0.0084647536277771, 0.09072652459144592, -0.0008464846760034561, 0.0011810371652245522, 2.885828143917024e-05, 0.007937884889543056, 0.06349784135818481, 0.22185450792312622, -3.369222395122051e-05, 0.3775075078010559, 0.6420083045959473, 0.002128069754689932, -0.00011435320629971102, 0.033480994403362274, 0.001789156231097877, 0.055115655064582825, 0.013394857756793499, -0.0037483759224414825, -0.0014072104822844267, -0.01130765676498413, 0.00026199070271104574, -0.011367540806531906, 0.005908068269491196, 0.033222198486328125, 0.0092582106590271, -0.011650383472442627, 7.13961198925972e-05, -0.0029283708427101374, 0.2656158208847046, 0.07327330112457275, -1.6776779375504702e-05, -0.11908429116010666, 0.04936867952346802, 0.6022517085075378, -0.04710108041763306, -0.13220852613449097, -0.03723883628845215, 0.038024961948394775, 0.00039768218994140625, 0.005233645439147949, -0.06216084957122803, -0.00028142431983724236, 0.005838535260409117, -0.24113550782203674, 0.09439112991094589, -0.007407188415527344, 0.07047390937805176, 0.03583717346191406, 0.6736326813697815, 0.032913655042648315, 0.8171746134757996, 0.03092356026172638, 0.08557617664337158, 0.07490627467632294, -0.008832024410367012, 0.15784698724746704, -0.11208295077085495, 0.06372574716806412, -0.008048400282859802, 0.0924983024597168, 0.0026203354354947805, -0.04216337203979492, 0.4173552989959717, 0.04579055309295654, 0.383281946182251, -0.08835351467132568, -1.0373129043728113e-05, 0.03162401169538498, 0.5212544202804565, 0.300143837928772, -0.006539914757013321, -0.0003122714115306735, -4.17921255575493e-05, 8.98705911822617e-06, -1.6526373656233773e-06, -0.23297744989395142, 0.04765462875366211, 0.0012958608567714691, 9.952578693628311e-06, 0.8605227470397949, 0.6950459480285645, 0.059520840644836426, -0.00032775019644759595, 0.01470378041267395, -0.010182613506913185, 0.05978059023618698, -0.021433256566524506, -0.004839628003537655, 0.038291603326797485, -0.0641360729932785, 0.0054961321875452995, 0.16440892219543457, 0.00037049513775855303, -0.3967236876487732, 0.05552440881729126, -0.0409390851855278, 0.36284929513931274, -0.15916651487350464, -0.022713609039783478, 0.0010432862909510732, 0.9246166348457336, 0.5594723224639893, 0.04516422748565674, 0.06211962550878525, 0.793125331401825, 0.9098859429359436, -0.0020038019865751266, 0.15567445755004883, -0.09202402830123901, -0.0562765896320343, 0.016695261001586914, -0.21552717685699463, 0.5146151185035706, 0.36723750829696655, 0.119140625, -0.24233315885066986, 0.002227669581770897, -0.08111809194087982, 0.0029999613761901855, -0.0364292748272419, 0.06971979141235352, 0.2423044741153717, 0.06437534093856812, 0.049507975578308105, 0.09023666381835938, 0.0018352721817791462, -0.003925705328583717, -0.0024797217920422554, 3.663418465293944e-05, 0.16709215939044952, 0.014862284995615482, -0.010362766683101654, -0.00013855996076017618, 0.052419498562812805, 1.7803111404646188e-05, 0.1653626710176468, 0.6154507398605347, 0.7601521015167236, 0.8022135496139526, 0.22505885362625122, 0.0029515784699469805, -0.03414541482925415, 0.33450251817703247, 0.3754657506942749, -0.014327585697174072, 0.896446943283081, 0.48524871468544006, 0.021411478519439697, -0.00031396496342495084, -0.07850992679595947, 0.0018211316782981157, -0.0391162633895874, 0.0001736283302307129, 0.03567922115325928, 0.009561777114868164, 0.45935070514678955, 0.03890317678451538, 0.07313883304595947, 0.0373803973197937, 0.023762758821249008, -0.0674876719713211, 0.6769333481788635, 0.00472496822476387, -0.0007213515928015113, -0.0010559046640992165, 0.5976287126541138, 0.022735245525836945, 0.012903238646686077, -0.3167245388031006, 0.112307608127594, 0.4977877140045166, 0.3269195556640625, 0.5849254727363586, -0.007224505767226219, 0.12705230712890625, 0.1834968626499176, 0.04053860902786255, 0.03704565763473511, 0.3155764937400818, 0.03000819683074951, 0.2268993854522705, 0.7287689447402954, 0.4673595428466797, 0.14164799451828003, -0.16371476650238037, -0.1647852510213852, 0.005141496658325195, 0.010358750820159912, 0.03312104940414429, 0.007644593715667725, 0.01658695936203003, 0.01684444211423397, 0.01892932504415512, -0.00190361391287297, -0.00010954917524941266, 0.1356726884841919, -0.014824390411376953, 0.07449579238891602, -0.13181066513061523, 0.204856276512146, 0.7958976030349731, 0.07396943122148514, -0.17528730630874634, 0.02438090741634369, -0.0007278851117007434, 0.010697364807128906, -0.0012425470631569624, -0.21264559030532837, -0.0016745952889323235, -0.01230685319751501, 0.8280884027481079, -0.30436787009239197, 0.04941457509994507, -0.037522733211517334, -0.0380973219871521, 0.28785762190818787, -0.0002709698164835572, 0.0006996588781476021, -0.002304250141605735, 0.008870580233633518, -0.007957149296998978, -0.00105336494743824, -0.003028217703104019, 0.07773929834365845, 0.014790004119277, 0.2294904887676239, 0.04257147014141083, -0.044794321060180664, 2.1405448933364823e-05, 0.6782877445220947, 0.5412849187850952, 0.802160918712616, -0.021088488399982452, -0.02760007046163082, 0.009565746411681175, 0.34916168451309204, 0.5625067949295044, 0.0012642741203308105, 0.12836787104606628, 0.060737282037734985, -0.24432064592838287, 0.6460082530975342, 0.7322573065757751, 0.6410203576087952, 0.07657425850629807, 0.011958508752286434, -0.345854252576828, -0.03014606237411499, -0.0003337835078127682, 0.5856107473373413, 0.4659377932548523, 0.04612572118639946, 0.13349154591560364, -0.0890015959739685, 0.006630034185945988, -0.00040592989535070956, 0.002976318821310997, 0.08372892439365387, 0.3401908874511719, 0.009909138083457947, 0.3074755370616913, 0.28577572107315063, -0.0007534355390816927, 0.7099996209144592, 0.7870767712593079, 0.7603318691253662, -0.020866990089416504, 0.1808592677116394, -5.653657717630267e-05, -0.302193820476532, 0.002908485010266304, 0.4403175413608551, -0.39712613821029663, 0.09883490204811096, -0.09515130519866943, -0.0018486586632207036, 0.08021286129951477, -0.035295020788908005, 0.03097480535507202, -0.1823393702507019, 0.0005140369758009911, 0.009808562695980072, -0.27762532234191895, 0.031002022325992584, 0.14062362909317017, 0.017888545989990234, -0.002626657485961914, 0.20060178637504578, 2.002150722546503e-05, 0.28183817863464355, 0.003697351785376668, -0.00011204337351955473, 0.19633221626281738, 0.18545877933502197, 0.008074462413787842, 0.3641971945762634, -0.006024420261383057, 0.011874030344188213, -0.0030110287480056286, 0.04069981724023819, -0.0007443263893947005, 0.005361619405448437, 0.00026154229999519885, 0.0003761349944397807, 0.0017444310942664742, -0.007266733795404434, 0.044922180473804474, 0.17521750926971436, 0.012092124670743942, 0.43000805377960205, 0.45996975898742676, 0.08370521664619446, -0.043271102011203766, 0.09337309002876282, 0.08684025704860687, 0.0017131635686382651, 0.9788662791252136, 0.043067872524261475, 0.37768062949180603, 0.455133318901062, -0.007079560309648514, -2.1525613647099817e-06, 0.006336115300655365, 0.2506793737411499, 0.04718896001577377, 0.20434428751468658, 0.022777091711759567, 0.5738820433616638, 0.5051990747451782, 0.8268651962280273, 0.7237721085548401, 0.7018826007843018, 0.7518705725669861, 0.16755881905555725, 0.06581830978393555, 0.00316754262894392, 0.45720893144607544, 0.8819882273674011, 0.6204761862754822, 0.06721782684326172, 0.21199405193328857, -0.12735003232955933, 0.003119936678558588, 0.4791354238986969, 0.5057628154754639, 0.1217615008354187, -0.15831291675567627, 0.00745015311986208, 0.8805488348007202, 0.007907569408416748, 0.2572573721408844, -0.019023120403289795, 0.23949697613716125, 0.005516171455383301, 0.2988414466381073, 0.004035084508359432, -0.03199094533920288, -2.1082625607959926e-05, -0.02166903018951416, 1.1070519576605875e-05, 0.00899273157119751, -0.0003034745459444821, 0.07646293938159943, 0.0718807578086853, 0.004645854234695435, -0.00010654330253601074, -0.20959118008613586, -0.00345698744058609, 0.023301362991333008, -0.1054794192314148, 0.026531517505645752, 0.00012182819773443043, 0.46368932723999023, 0.2775972783565521, 0.18216051161289215, 0.7019156217575073, 0.12179893255233765, 0.5161186456680298, -0.0003647073754109442, -1.4213544545782497e-06, 0.003119977191090584, 0.0010639417450875044, 0.16981744766235352, 0.1273987889289856, 0.002535685896873474, 0.0025193002074956894, -0.0646379142999649, -2.3393891751766205e-05, 3.4183060051873326e-05, 0.023704402148723602, 0.029779836535453796, 0.00011339488992234692, 0.0006475511472672224, 0.005014003254473209, 0.004319739528000355, 0.009084285236895084, -0.0004221215203870088, 0.016543073579669, 0.11341148614883423, 0.07374514639377594, -0.0010142219252884388, 0.028187990188598633, -0.004698349162936211, -0.04027146100997925, 0.005298776552081108, -0.00033409937168471515, 0.21579515933990479, -0.0015264842659235, -0.02700161561369896, -0.010191420093178749, 0.00283944234251976, 0.0003012894303537905, -0.00015820919361431152, -0.015880458056926727, 0.1198977530002594, 5.690026227966882e-10, -0.0011359229683876038, -3.050815280403185e-07, 0.00010130909504368901, 0.09855368733406067, 0.0020874561741948128, -0.0016252112109214067, 1.629798862268217e-05, -0.12492355704307556, 7.759570144116879e-05, 0.04734927788376808, -0.0017931126058101654, 0.0018905363976955414, -0.018103715032339096, -0.00017106639279518276, -0.005322122015058994, 0.20143842697143555, 0.0004381343023851514, -0.05056893825531006, -0.4681668281555176, -0.014639317989349365, 1.9844508642563596e-05, 0.58332359790802, 0.08841215819120407, -0.0005071711493656039, 1.602787961019203e-06, 0.007793955504894257, -0.15831150114536285, -0.06612277030944824, 0.01114007830619812, 0.7995985150337219, 0.1845085322856903, -0.00023586477618664503, 0.04233740270137787, 0.022289270535111427, -0.1041143536567688, -0.043108031153678894, 0.014784693717956543, 0.000878018094226718, -0.006541399750858545, -7.114926120266318e-05, -0.03260662034153938, 0.3088422417640686, 9.599939221516252e-05, 0.23920905590057373, 0.0024567083455622196, 0.8464885354042053, 0.16453337669372559, 0.0006045103073120117, 0.022484421730041504, -0.01444026455283165, -0.004917263984680176, 0.030443251132965088, 0.08937326073646545, 0.0008544606389477849, -0.00572813069447875, -4.700160934589803e-05, 0.3536865711212158, 0.08434848487377167, 0.2899293303489685, 0.9587928056716919, 0.8032907843589783, 0.10994783043861389, 0.0007163663394749165, 0.45883065462112427, 0.10631561279296875, 0.7105799913406372, -0.014361456036567688, 0.01291877031326294, 0.00011211447417736053, -0.09834125638008118, 0.0038922829553484917, -0.012256205081939697, -0.0014476384967565536, -0.1516297459602356, 0.0009475746774114668, 0.7234017252922058, 0.24223262071609497, 0.8581321239471436, 0.07893994450569153, 0.47652003169059753, -1.7491402104496956e-05, 0.1705619841814041, -0.00947552639991045, 0.4725647568702698, 1.2216241884743795e-06, 0.06979641318321228, -0.004345133900642395, 0.9173340201377869, -0.000534672406502068, 6.108211891842075e-08, 0.03520342707633972, 0.21972765028476715, -0.24760916829109192, 0.22053813934326172, 0.010681970044970512, -0.012891694903373718, 0.08650916814804077, 0.10656580328941345, -0.1043272614479065, 0.007920808158814907, -0.27606454491615295, -0.19851869344711304, -0.07898199558258057, -0.004417359828948975, 0.027547478675842285, -0.01753377914428711, -0.003948677331209183, -0.11066341400146484, -0.007672011852264404, 8.558238914702088e-05, -0.10373091697692871, 0.002377428114414215, 0.07132339477539062, -0.009947236627340317, 0.30130961537361145, 0.2160966694355011, -0.0287589430809021, 0.02159661054611206, 0.0009421845898032188, 0.00539398193359375, -0.0060356976464390755, 0.0065155779011547565, 0.01002560555934906, 0.05632961541414261, 0.06336326897144318, -0.004641266539692879, -1.1580646969377995e-05, -0.11630453169345856, 0.021853270009160042, -0.4204248785972595, 0.24296359717845917, 0.06837096810340881, 5.527232133317739e-06, -0.0004286987823434174, -0.0011577224358916283, -0.2899066209793091, 0.0002581452135927975, 0.26584041118621826, -0.10745836049318314, -0.010363084264099598, -0.0008955496596172452, 0.02356112003326416, 0.3888205289840698, 0.14958052337169647, 0.0038788612000644207, 5.835588581248885e-07, 0.4173334240913391, 0.06590309739112854, -0.004000671207904816, 0.0031674301717430353, 0.09517121315002441, 0.01185139361768961, 0.00339711457490921, -0.001409080228768289, 0.12008717656135559, 0.5294586420059204, -4.268853899702663e-06, 0.004236996173858643, 0.5970651507377625, 0.9193599820137024, -0.001727969036437571, 0.00014082495181355625, 0.7916492223739624, 0.2284061461687088, 0.8966549634933472, 0.8129546046257019, 0.009870275855064392, 0.3115054965019226, -0.08904071152210236, 0.00068576232297346, -0.051287468522787094, 0.5873218774795532, 0.2740691006183624, 0.1048235297203064, -0.0008111076895147562, 0.7322604656219482, 0.006165266036987305, 0.05471578612923622, -0.13450415432453156, 0.02051325887441635, 0.0002048993483185768, 0.6481713056564331, 0.8274616599082947, -0.04321219027042389, -0.007657121866941452, 0.5190072059631348, 0.116818368434906, 0.03953522443771362, 0.3063657879829407, 0.004854515194892883, 0.2777775526046753, 0.0044878763146698475, 0.05934542417526245, 0.2889035642147064, 0.7747430205345154, 0.9221555590629578, 0.7771556973457336, 0.8592147827148438, 0.41709497570991516, 0.9112167954444885, 0.18767333030700684, 0.5016352534294128, 0.2968737483024597, -0.3572179675102234, 0.5133525729179382, 0.31317567825317383, 0.04866749048233032, 0.7956035137176514, 0.5694118142127991, 0.49797824025154114, 0.29978126287460327, 0.8533282279968262, 0.5597359538078308, 0.025282178074121475, 0.0034616379998624325, 0.10150615870952606, 0.1185539960861206, 0.3449908494949341, 0.42746999859809875, 0.3033033311367035, 0.33935731649398804, 0.009595830924808979, 0.2865256071090698, 0.7349953651428223, 0.4365064203739166, 0.45628979802131653, 0.6455429196357727, 0.5037921667098999, 0.8551649451255798, 0.8858895897865295, 0.07372923940420151, 0.4961265027523041, 0.3298864960670471, 0.2689223289489746, 0.01115386188030243, 0.3905620574951172, 0.9156407713890076, 0.6407452821731567, 0.756889283657074, 0.15731653571128845, 0.959530770778656, 0.12516729533672333, 0.3106709122657776, 0.670124888420105, 0.6624922752380371, 0.2762930989265442, 0.44050168991088867, 0.8150267004966736, 0.6280204057693481, 0.06297662109136581, 0.0479433536529541, 0.4475032687187195, 0.0010673066135495901, 0.6891257762908936, 0.0354108028113842, 0.16143546998500824, 0.2782371938228607, 0.3405730426311493, 0.6106606721878052, 0.5406239628791809, 0.48020705580711365, 0.28609123826026917, 0.38481035828590393, 0.14675547182559967, 0.6669438481330872, 0.7340999841690063, 0.5112597346305847, 0.022507667541503906, 0.2075340747833252, 0.3592306971549988, 0.027852898463606834, 0.41069310903549194, 0.8336060047149658, 0.5674392580986023, 0.7534480690956116, 0.822801411151886, 0.6260830163955688, 0.018672823905944824, 0.6572427153587341, 0.9388232231140137, 0.6127088069915771, 0.323629230260849, 0.5221433639526367, 0.7756360769271851, 0.41498351097106934, 0.17409227788448334, 0.44986289739608765, 0.03572460263967514, 0.9802629351615906, 0.36139363050460815, 0.8936208486557007, 0.8569522500038147, 0.3096388876438141, 0.26798033714294434, 0.7526181936264038, 0.8247332572937012, 0.44618403911590576, 0.0009734630584716797, 0.0875176191329956, 0.04944630339741707, 0.4193846583366394, 0.17101095616817474, 0.0003988987300544977, 0.15398764610290527, 0.05099564418196678, 0.9144225120544434, 0.8979584574699402, 0.8278446197509766, 0.7240243554115295, 0.7454860210418701, 0.20227961242198944, 0.040764182806015015, 0.70975261926651, 0.09701311588287354, 0.5005707740783691, 0.7184401154518127, 0.025124231353402138, 0.6754138469696045, 0.726433515548706, 0.06281739473342896, 0.460559606552124, 0.6885602474212646, 0.3035227060317993, 0.0002385561674600467, 5.355255780159496e-06, 0.0005541003774851561, 1.0282719813403673e-06, 0.00497901625931263, 0.00011906612780876458, 1.0290934824297437e-06, 0.8735348582267761, 0.8511287569999695, 0.7931467294692993, 0.823512077331543, -0.004178826231509447, 0.21098986268043518, 0.006292661651968956, 0.002727711573243141, 0.00015807626186870039, 0.016942961141467094, -0.0006132471607998013, -0.6089345216751099, -0.00013296213001012802, -5.070069164503366e-07, 0.2869761288166046, 0.18695273995399475, 0.1414036750793457, 9.623621735954657e-05, 0.2139309048652649, 0.0008496337104588747, 0.014275962486863136, -0.0007726146723143756, -0.13479024171829224, 9.482825589657295e-06, -0.042048707604408264, -0.0004981327219866216, 0.0005169975338503718, 0.011743881739675999, 0.23852157592773438, 0.002007005736231804, -0.25674399733543396, -0.0005715219303965569, 0.12297368794679642, 0.07220210134983063, 0.22105424106121063, 0.05655788630247116, 0.8601686954498291, 0.8124078512191772, -0.039441123604774475, 0.001662683323957026, 0.679879903793335, 0.9383678436279297, 0.5349317789077759, 0.7355542182922363, 0.12613432109355927, 0.6158499717712402, 0.6845717430114746, 0.446088969707489, 0.806458592414856, 0.9093114137649536, 0.5141524076461792, 0.49464717507362366, 0.042714785784482956, 0.774858832359314, 0.03444570302963257, 0.9233130216598511, 0.30458158254623413, 0.5890282392501831, 0.7873374223709106, 0.667731523513794, 0.9358611106872559, 0.7159377336502075, 0.8037576675415039, 0.8026455640792847], \"minValue\": 0, \"maxValue\": 1, \"minColor\": null, \"maxColor\": \"green\"}\n",
       "    )\n",
       "    </script>"
      ],
      "text/plain": [
       "<circuitsvis.render.RenderedHTML at 0x7fd0743bf8b0>"
      ]
     },
     "execution_count": 12,
     "metadata": {},
     "output_type": "execute_result"
    }
   ],
   "source": [
    "values = two_vs_one_layer[\"Difference\"].sort_index().values.tolist()\n",
    "colored_tokens(\n",
    "    values=values,\n",
    "    tokens=token_labels,\n",
    "    min_value=0,\n",
    "    max_value=1,\n",
    "    max_color=\"green\",\n",
    ")"
   ]
  },
  {
   "cell_type": "markdown",
   "metadata": {},
   "source": [
    "Two layers really help towards the end of long prompts, in addition to likely doing skip trigram stuff in general. Probably this is because you can do far more one-shot learning towards the end just based off of context."
   ]
  },
  {
   "cell_type": "markdown",
   "metadata": {},
   "source": [
    "#### 2 vs 3 Layers"
   ]
  },
  {
   "cell_type": "code",
   "execution_count": 13,
   "metadata": {},
   "outputs": [
    {
     "data": {
      "text/plain": [
       "array([[<AxesSubplot:title={'center':'Difference'}>]], dtype=object)"
      ]
     },
     "execution_count": 13,
     "metadata": {},
     "output_type": "execute_result"
    },
    {
     "data": {
      "image/png": "[encoded data removed]",
      "text/plain": [
       "<Figure size 432x288 with 1 Axes>"
      ]
     },
     "metadata": {
      "needs_background": "light"
     },
     "output_type": "display_data"
    }
   ],
   "source": [
    "three_vs_two_layer = compare_model_correct_token_probability(\"NeelNanda/Attn_Only_3L512W_C4_Code\", \"NeelNanda/Attn_Only_2L512W_C4_Code\")\n",
    "three_vs_two_layer.hist(column=\"Difference\", bins=10)"
   ]
  },
  {
   "cell_type": "code",
   "execution_count": 14,
   "metadata": {},
   "outputs": [
    {
     "data": {
      "text/html": [
       "<div id=\"circuits-vis-7f9e8401-b73e\"/>\n",
       "    <script crossorigin type=\"module\">\n",
       "    import { render, ColoredTokens } from \"https://unpkg.com/circuitsvis/dist/cdn/esm.js\";\n",
       "    render(\n",
       "      \"circuits-vis-7f9e8401-b73e\",\n",
       "      ColoredTokens,\n",
       "      {\"tokens\": [\"import\", \" json\", \"\\n\", \"import\", \" sub\", \"process\", \"\\n\", \"from\", \" path\", \"lib\", \" import\", \" Path\", \"\\n\", \"from\", \" typing\", \" import\", \" Optional\", \"\\n\", \"from\", \" u\", \"uid\", \" import\", \" u\", \"uid\", \"4\", \"\\n\", \"\\n\", \"RE\", \"ACT\", \"_\", \"DIR\", \" =\", \" Path\", \"(__\", \"file\", \"__\", \").\", \"parent\", \".\", \"parent\", \".\", \"parent\", \" /\", \" \\\"\", \"react\", \"\\\"\", \"\\n\\n\", \"\\n\", \"class\", \" R\", \"endered\", \"HTML\", \":\", \"\\n   \", \" \\\"\\\"\\\"\", \"R\", \"endered\", \" HTML\", \"\\n   \", \" En\", \"ables\", \" rendering\", \" HTML\", \" in\", \" a\", \" variety\", \" of\", \" situations\", \" (\", \"e\", \".\", \"g\", \".\", \" J\", \"up\", \"y\", \"ter\", \" Lab\", \")\", \"\\n   \", \" \\\"\\\"\\\"\", \"\\n\\n   \", \" def\", \" __\", \"init\", \"__(\", \"self\", \",\", \" src\", \":\", \" str\", \"):\", \"\\n       \", \" self\", \".\", \"src\", \" =\", \" src\", \"\\n\\n   \", \" def\", \" _\", \"re\", \"pr\", \"_\", \"html\", \"_(\", \"self\", \")\", \" ->\", \" str\", \":\", \"\\n       \", \" \\\"\\\"\\\"\", \"J\", \"up\", \"y\", \"ter\", \"/\", \"Col\", \"ab\", \" HTML\", \" Represent\", \"ation\", \"\\n       \", \" When\", \" J\", \"up\", \"y\", \"ter\", \" sees\", \" this\", \" method\", \",\", \" it\", \" renders\", \" the\", \" HTML\", \".\", \"\\n       \", \" Returns\", \":\", \"\\n           \", \" str\", \":\", \" HTML\", \" for\", \" J\", \"up\", \"y\", \"ter\", \"/\", \"Col\", \"ab\", \"\\n       \", \" \\\"\\\"\\\"\", \"\\n       \", \" return\", \" self\", \".\", \"src\", \"\\n\\n   \", \" def\", \" __\", \"html\", \"__(\", \"self\", \")\", \" ->\", \" str\", \":\", \"\\n       \", \" \\\"\\\"\\\"\", \"Used\", \" by\", \" some\", \" tool\", \"ing\", \" as\", \" an\", \" alternative\", \" to\", \" _\", \"re\", \"pr\", \"_\", \"html\", \"_\", \"\\\"\\\"\\\"\", \"\\n       \", \" return\", \" self\", \".\", \"src\", \"\\n\\n   \", \" def\", \" show\", \"_\", \"code\", \"(\", \"self\", \")\", \" ->\", \" str\", \":\", \"\\n       \", \" \\\"\\\"\\\"\", \"Show\", \" the\", \" code\", \" as\", \" source\", \"-\", \"code\", \"\\n       \", \" Returns\", \":\", \"\\n           \", \" str\", \":\", \" HTML\", \" source\", \" code\", \"\\n       \", \" \\\"\\\"\\\"\", \"\\n       \", \" return\", \" self\", \".\", \"src\", \"\\n\\n   \", \" def\", \" __\", \"str\", \"__(\", \"self\", \"):\", \"\\n       \", \" \\\"\\\"\\\"\", \"String\", \" type\", \" conversion\", \" handler\", \"\\\"\\\"\\\"\", \"\\n       \", \" return\", \" self\", \".\", \"src\", \"\\n\\n\", \"\\n\", \"def\", \" install\", \"_\", \"if\", \"_\", \"necessary\", \"()\", \" ->\", \" None\", \":\", \"\\n   \", \" \\\"\\\"\\\"\", \"Install\", \" node\", \" modules\", \" if\", \" they\", \"'re\", \" missing\", \".\\\"\\\"\\\"\", \"\\n   \", \" node\", \"_\", \"modules\", \" =\", \" RE\", \"ACT\", \"_\", \"DIR\", \" /\", \" \\\"\", \"node\", \"_\", \"modules\", \"\\\"\", \"\\n   \", \" if\", \" not\", \" node\", \"_\", \"modules\", \".\", \"exists\", \"():\", \"\\n       \", \" sub\", \"process\", \".\", \"run\", \"(\", \"\\n           \", \" [\\\"\", \"y\", \"arn\", \"\\\"],\", \"\\n           \", \" c\", \"wd\", \"=\", \"RE\", \"ACT\", \"_\", \"DIR\", \",\", \"\\n           \", \" capture\", \"_\", \"output\", \"=\", \"True\", \",\", \"\\n           \", \" text\", \"=\", \"True\", \",\", \"\\n           \", \" check\", \"=\", \"True\", \"\\n       \", \" )\", \"\\n\\n\", \"\\n\", \"def\", \" bundle\", \"_\", \"source\", \"()\", \" ->\", \" None\", \":\", \"\\n   \", \" \\\"\\\"\\\"\", \"Bundle\", \" up\", \" the\", \" JavaScript\", \"/\", \"Type\", \"Script\", \" source\", \" files\", \"\\\"\\\"\\\"\", \"\\n   \", \" sub\", \"process\", \".\", \"run\", \"([\", \"\\n       \", \" \\\"\", \"y\", \"arn\", \"\\\",\", \"\\n       \", \" \\\"\", \"build\", \"Browser\", \"\\\"\", \"\\n   \", \" ],\", \"\\n       \", \" c\", \"wd\", \"=\", \"RE\", \"ACT\", \"_\", \"DIR\", \",\", \"\\n       \", \" capture\", \"_\", \"output\", \"=\", \"True\", \",\", \"\\n       \", \" text\", \"=\", \"True\", \",\", \"\\n       \", \" check\", \"=\", \"True\", \"\\n   \", \" )\", \"\\n\\n\", \"\\n\", \"def\", \" render\", \"_\", \"dev\", \"(\", \"react\", \"_\", \"element\", \"_\", \"name\", \":\", \" str\", \",\", \" **\", \"kwargs\", \")\", \" ->\", \" R\", \"endered\", \"HTML\", \":\", \"\\n   \", \" \\\"\\\"\\\"\", \"Render\", \" (\", \"during\", \" development\", \")\\\"\", \"\\\"\\\"\", \"\\n   \", \" #\", \" Create\", \" a\", \" random\", \" ID\", \" for\", \" the\", \" div\", \" (\", \"that\", \" we\", \" render\", \" into\", \")\", \"\\n   \", \" #\", \" This\", \" is\", \" done\", \" to\", \" avoid\", \" name\", \" clashes\", \" on\", \" a\", \" page\", \" with\", \" many\", \" rendered\", \"\\n   \", \" #\", \" Circ\", \"uits\", \"Vis\", \" elements\", \".\", \" Note\", \" we\", \" shorten\", \" the\", \" U\", \"UID\", \" to\", \" be\", \" a\", \" reasonable\", \" length\", \"\\n   \", \" u\", \"uid\", \" =\", \" \\\"\", \"circ\", \"uits\", \"-\", \"vis\", \"-\\\"\", \" +\", \" str\", \"(\", \"uuid\", \"4\", \"())\", \"[:\", \"1\", \"3\", \"]\", \"\\n\\n   \", \" #\", \" String\", \"ify\", \" keyword\", \" args\", \"\\n   \", \" props\", \" =\", \" json\", \".\", \"d\", \"umps\", \"(\", \"kwargs\", \")\", \"\\n\\n   \", \" #\", \" Build\", \"\\n   \", \" install\", \"_\", \"if\", \"_\", \"necessary\", \"()\", \"\\n   \", \" bundle\", \"_\", \"source\", \"()\", \"\\n\\n   \", \" #\", \" Load\", \" the\", \" JS\", \"\\n   \", \" filename\", \" =\", \" RE\", \"ACT\", \"_\", \"DIR\", \" /\", \" \\\"\", \"dist\", \"\\\"\", \" /\", \" \\\"\", \"cdn\", \"\\\"\", \" /\", \" \\\"\", \"i\", \"ife\", \".\", \"js\", \"\\\"\", \"\\n   \", \" with\", \" open\", \"(\", \"filename\", \",\", \" encoding\", \"=\\\"\", \"utf\", \"-\", \"8\", \"\\\")\", \" as\", \" file\", \":\", \"\\n       \", \" inline\", \"_\", \"js\", \" =\", \" file\", \".\", \"read\", \"()\", \"\\n\\n   \", \" html\", \" =\", \" f\", \"\\\"\\\"\\\"\", \"<\", \"div\", \" id\", \"=\\\"{\", \"uuid\", \"}\", \"\\\"/>\", \"\\n   \", \" <\", \"script\", \" cross\", \"origin\", \" type\", \"=\\\"\", \"module\", \"\\\">\", \"\\n   \", \" {\", \"inline\", \"_\", \"js\", \"}\", \"\\n    \\n   \", \" Circ\", \"uits\", \"Vis\", \".\", \"render\", \"(\", \"\\n     \", \" \\\"{\", \"uuid\", \"}\\\",\", \"\\n     \", \" Circ\", \"uits\", \"Vis\", \".\", \"{\", \"react\", \"_\", \"element\", \"_\", \"name\", \"},\", \"\\n     \", \" {\", \"props\", \"}\", \"\\n   \", \" )\", \"\\n   \", \" </\", \"script\", \">\", \"\\\"\\\"\\\"\", \"\\n\\n   \", \" return\", \" R\", \"endered\", \"HTML\", \"(\", \"html\", \")\", \"\\n\\n\", \"\\n\", \"def\", \" render\", \"_\", \"prod\", \"(\", \"react\", \"_\", \"element\", \"_\", \"name\", \":\", \" str\", \",\", \" **\", \"kwargs\", \")\", \" ->\", \" R\", \"endered\", \"HTML\", \":\", \"\\n   \", \" \\\"\\\"\\\"\", \"Render\", \" (\", \"for\", \" production\", \")\\\"\", \"\\\"\\\"\", \"\\n   \", \" #\", \" Create\", \" a\", \" random\", \" ID\", \" for\", \" the\", \" div\", \" (\", \"that\", \" we\", \" render\", \" into\", \")\", \"\\n   \", \" #\", \" This\", \" is\", \" done\", \" to\", \" avoid\", \" name\", \" clashes\", \" on\", \" a\", \" page\", \" with\", \" many\", \" rendered\", \"\\n   \", \" #\", \" Circ\", \"uits\", \"Vis\", \" elements\", \".\", \" Note\", \" we\", \" shorten\", \" the\", \" U\", \"UID\", \" to\", \" be\", \" a\", \" reasonable\", \" length\", \"\\n   \", \" u\", \"uid\", \" =\", \" \\\"\", \"circ\", \"uits\", \"-\", \"vis\", \"-\\\"\", \" +\", \" str\", \"(\", \"uuid\", \"4\", \"())\", \"[:\", \"1\", \"3\", \"]\", \"\\n\\n   \", \" #\", \" String\", \"ify\", \" keyword\", \" args\", \"\\n   \", \" props\", \" =\", \" json\", \".\", \"d\", \"umps\", \"(\", \"kwargs\", \")\", \"\\n\\n   \", \" html\", \" =\", \" f\", \"\\\"\\\"\\\"\", \"<\", \"div\", \" id\", \"=\\\"{\", \"uuid\", \"}\", \"\\\"/>\", \"\\n   \", \" <\", \"script\", \" cross\", \"origin\", \" type\", \"=\\\"\", \"module\", \"\\\">\", \"\\n   \", \" import\", \" {\\\"\", \"{\", \" render\", \",\", \" \\\"+\", \" react\", \"_\", \"element\", \"_\", \"name\", \" +\", \" \\\"\", \" }\", \"\\\"}\", \" from\", \" \\\"\", \"https\", \"://\", \"un\", \"pkg\", \".\", \"com\", \"/\", \"circ\", \"uits\", \"vis\", \"/\", \"dist\", \"/\", \"cdn\", \"/\", \"es\", \"m\", \".\", \"js\", \"\\\";\", \"\\n   \", \" render\", \"(\", \"\\n     \", \" \\\"{\", \"uuid\", \"}\\\",\", \"\\n     \", \" {\", \"react\", \"_\", \"element\", \"_\", \"name\", \"},\", \"\\n     \", \" {\", \"props\", \"}\", \"\\n   \", \" )\", \"\\n   \", \" </\", \"script\", \">\", \"\\\"\\\"\\\"\", \"\\n\\n   \", \" return\", \" R\", \"endered\", \"HTML\", \"(\", \"html\"], \"values\": [-0.015107017010450363, -0.0686752200126648, 0.14949804544448853, 0.005536503624171019, 0.015015602111816406, 0.025436341762542725, -0.03482162952423096, -0.000927886925637722, 0.005802512168884277, -0.0007737278938293457, -0.05551630258560181, -0.06505542993545532, -0.15715941786766052, 0.020042195916175842, -0.000705718994140625, -0.04854969680309296, -0.16326379776000977, -0.02014574408531189, -0.0019002669723704457, 0.03323829174041748, -0.06389248371124268, -0.2506919801235199, 0.0066797733306884766, 0.16145889461040497, -0.23478537797927856, -0.11715561151504517, 0.0004307497583795339, -0.0001256407704204321, 0.21676400303840637, 0.028990283608436584, -0.053125202655792236, 0.11397641152143478, 0.07341045141220093, -0.21848464012145996, 0.03098621964454651, 0.24215909838676453, -0.22146165370941162, -0.009620685130357742, -0.699301540851593, 0.06535327434539795, -0.7476143836975098, 0.00012021417205687612, -0.0026535671204328537, -0.00045725784730166197, 0.1432362198829651, 0.01910003274679184, -0.0026175975799560547, -0.05379420518875122, 0.014931835234165192, 0.0036591871175915003, 0.00016353631508536637, 0.016498399898409843, 0.04807561635971069, 0.07176828384399414, 0.03841840848326683, -0.2192838191986084, -0.29551467299461365, -0.002586744725704193, 0.00028141343500465155, 0.034907158464193344, -0.00019029295071959496, 0.02393685281276703, -0.014361762441694736, 0.006775528192520142, 0.0002787305857054889, 0.07037591934204102, 0.001128300209529698, 0.01106899231672287, 0.026303838938474655, 0.006759762763977051, -0.003914535045623779, 0.1886926293373108, 0.0003117546148132533, -0.0012869627680629492, -0.22679217159748077, -0.5367390513420105, 1.651909769861959e-05, 0.09492331743240356, -0.13312484323978424, -0.27067622542381287, 0.23698806762695312, 0.2383795976638794, 0.07551449537277222, -0.011252820491790771, 0.006098926067352295, -0.010280072689056396, 0.10730355978012085, 0.002816815162077546, -0.0009928960353136063, 0.15581732988357544, 0.022966936230659485, 0.010660409927368164, 0.22643479704856873, -0.024845778942108154, 0.19842058420181274, 0.2146816849708557, 0.15244311094284058, 0.03801184892654419, -0.17385870218276978, -0.06523655354976654, 0.007410272490233183, 0.11964116990566254, 0.03794854134321213, -0.04374909773468971, 0.010465951636433601, 0.008441448211669922, -0.0011300623882561922, 0.03661841154098511, -0.046337008476257324, 0.032263338565826416, -0.003796696662902832, -0.28431618213653564, 6.506480713142082e-05, -0.03055042214691639, 0.2991316318511963, 0.032137274742126465, 0.00028700707480311394, -2.8052818379364908e-05, 1.104749389924109e-05, 0.0006406852626241744, 6.212065636646003e-05, 0.3367113471031189, -0.04740075394511223, 0.00048150913789868355, 0.004460320807993412, -0.039492905139923096, 0.041693270206451416, 0.015570282936096191, 0.000360820849891752, 0.0025301240384578705, -0.0016570482403039932, 0.030108019709587097, 0.15699976682662964, -0.0015208853874355555, -0.06751979887485504, 0.08491909503936768, 0.009347401559352875, 0.050636351108551025, -0.0005865148268640041, -0.09383273124694824, -0.4175887107849121, -0.01776261068880558, -0.6785104870796204, 0.05247189849615097, 0.00620498601347208, 0.008567851036787033, -0.0025968551635742188, 0.04013317823410034, -0.0011080503463745117, -0.007131293416023254, 0.1530975103378296, 0.07394236326217651, 0.014415467157959938, -0.035188913345336914, 0.03820282220840454, -0.1279447078704834, 0.10104843974113464, 0.40293949842453003, 0.27167707681655884, 0.05925464630126953, -0.1383509635925293, 0.0896899476647377, -0.0018428188050165772, -0.21709144115447998, -0.0019266009330749512, 0.715472936630249, 0.0005204677581787109, 0.2050483226776123, 0.004984438419342041, 0.0073433518409729, -0.15713298320770264, -0.0017011163290590048, 0.03778470307588577, 0.004456198308616877, -8.461691322736442e-06, -0.17140720784664154, -0.012592922896146774, 0.007631536573171616, 0.00854369904845953, 0.15654274821281433, 0.0001002690551104024, 0.4288301169872284, -0.007263541221618652, -0.3996749520301819, 0.015881359577178955, 0.0696653425693512, 0.0003008951898664236, 0.10381001234054565, -0.025991320610046387, 0.36000797152519226, 0.3504566550254822, 0.0020353198051452637, -0.010176599025726318, -0.04196900129318237, 0.00010126043343916535, 0.09702861309051514, -0.002245319075882435, -0.04903614521026611, -0.015345215797424316, 0.41753697395324707, 0.0004830360412597656, -0.17256546020507812, -0.005920350551605225, 0.0006229877471923828, -0.06038612127304077, 0.03442596644163132, 0.03660652041435242, -0.09900707006454468, 0.007936093956232071, 0.00017819844651967287, 0.0011864695698022842, -0.44971179962158203, 0.005604211241006851, 0.037709660828113556, 0.43927234411239624, -0.06120818853378296, 0.033994853496551514, -0.02480173110961914, 0.04728245735168457, -0.00033017570967786014, -0.5237175822257996, -0.01907438039779663, -0.7120392322540283, 0.05115056037902832, 0.15131092071533203, 0.3307834267616272, 0.11122006177902222, 0.1311466097831726, 0.301003634929657, -0.0369492769241333, -0.05472512170672417, 0.06526102125644684, 0.00983273983001709, -0.005279183387756348, -0.22782516479492188, 0.00017154216766357422, -0.10703331232070923, -0.013918906450271606, -0.018390951678156853, 6.195514288265258e-05, 0.00015687226550653577, -0.09338288754224777, 0.05467712879180908, 0.13790404796600342, 0.31315386295318604, 0.05912292003631592, 0.006750226020812988, -0.0372428372502327, 0.1430228352546692, -0.03297834098339081, 0.0003180379862897098, 0.0776820182800293, 0.0017641216982156038, 0.11818718910217285, 0.01021050289273262, 0.00020942417904734612, 0.026669859886169434, 0.06127224862575531, -0.002101004123687744, 0.1912272572517395, -0.1594293713569641, 0.15507474541664124, 0.00028888456290587783, -0.0006254599429666996, 0.001270415959879756, 0.006829323247075081, 0.04856569319963455, -0.0022563461679965258, 0.08098676800727844, 0.08131217956542969, 0.02566852606832981, 0.1493569016456604, 0.04107506945729256, -0.013068318367004395, 8.858315413817763e-05, 0.08754318952560425, -0.01942002773284912, 0.050010621547698975, 0.0036680467892438173, 0.01442893035709858, 0.05358145013451576, -0.16220861673355103, 0.10421377420425415, 0.033534467220306396, -0.0296860933303833, 0.053987808525562286, 0.12151770293712616, -0.01250612735748291, 0.020748794078826904, 0.0024414658546447754, -0.030237779021263123, -0.019133474677801132, 0.24946734309196472, 0.03779035806655884, 0.0003786711022257805, 0.22107917070388794, 0.05620551109313965, -0.03740420937538147, -0.09936043620109558, 0.1932804137468338, -0.002409303095191717, 0.0013530016876757145, -0.0011301105841994286, -0.08118797838687897, 0.17215478420257568, -0.004717071074992418, -0.09572947025299072, 0.016644775867462158, 0.008687695488333702, 0.1575249433517456, -0.002625107765197754, 0.013063967227935791, 0.34488245844841003, 0.11006951332092285, 7.24292840459384e-06, -0.020458132028579712, 0.024526795372366905, -0.07333970069885254, 0.3628121614456177, 0.17702168226242065, 0.20646655559539795, 0.0016914022853597999, 0.005727916955947876, 0.14288422465324402, -0.02431464195251465, 0.17021620273590088, 0.0003371001221239567, 0.012130141258239746, 0.27650052309036255, 0.22036269307136536, -0.082630455493927, -0.012750547379255295, -0.0030661821365356445, -0.1293589472770691, -6.408653280232102e-05, -0.0493161678314209, 0.011855650693178177, 0.00024414382642135024, 0.00794440507888794, 0.1105126440525055, -0.004565179347991943, 0.027972042560577393, 0.0004000663757324219, 0.18563631176948547, 0.009503347799181938, -0.07196583598852158, -1.0995773664035369e-05, -0.005730583332479, -0.00018173064745496958, -0.00017519699758850038, 0.17022958397865295, 0.0005131314974278212, -0.08365149050951004, 0.08775568008422852, -0.009679474867880344, 0.060329556465148926, 0.04203993082046509, 0.06421289592981339, -0.009577205404639244, 0.1524820774793625, 0.06760551035404205, 0.3343184292316437, 0.002664506435394287, -0.03520476818084717, 0.22050976753234863, -0.05100357532501221, 0.00214978214353323, 8.963879736256786e-06, -0.08358975499868393, 0.05684024095535278, 0.5898382067680359, -0.08827358484268188, 0.509451150894165, 0.004573225975036621, 0.009499311447143555, 0.11063498258590698, 0.16286396980285645, -0.00023418664932250977, 0.0169563889503479, 0.25837641954421997, 0.04436367750167847, 0.684197187423706, 0.00881582498550415, -0.04387575387954712, 0.0018131732940673828, 0.03480064868927002, 0.015514194965362549, 0.12511569261550903, 0.014726256020367146, 0.024889349937438965, 0.28356170654296875, -0.34038716554641724, 0.0526731014251709, 0.5316325426101685, 0.03642904758453369, 0.057331860065460205, 0.16342538595199585, 0.055574655532836914, 0.1368318796157837, -0.005012094974517822, 0.005272567272186279, -0.0059936270117759705, 0.16460192203521729, -4.703176091425121e-05, -0.1177675873041153, -1.8815520888892934e-05, 0.12818799912929535, -0.0004179621464572847, 0.15334519743919373, -0.08732278645038605, 0.5530059337615967, 0.5950310826301575, -0.07040077447891235, 0.002306397072970867, 0.009931564331054688, 0.14826537668704987, 0.00017446279525756836, 0.0008734200382605195, 0.05134916305541992, 0.5995316505432129, 0.44403234124183655, 0.04311317205429077, 0.0029609203338623047, -0.2985515594482422, 0.0014487395528703928, 3.7634565615007887e-06, 0.0009500295855104923, 0.0026447060517966747, -0.015566706657409668, 0.1168907880783081, 0.005172742530703545, 0.007250668480992317, 0.09944404661655426, -7.465668022632599e-05, 0.0001437000755686313, 0.013852253556251526, 0.02306768298149109, -4.3161315261386335e-05, 0.007301714736968279, -0.0031746970489621162, -0.0019183410331606865, -0.006794054061174393, 0.000620636623352766, -0.0005913823843002319, 0.019045114517211914, 0.16139355301856995, 0.01529008336365223, -0.038285672664642334, 0.014693742617964745, -0.002221878618001938, 0.01214609108865261, -2.7157155273016542e-05, -0.13118533790111542, -0.0012297909706830978, 0.01695144921541214, 0.0043876455165445805, 0.022877272218465805, 0.00013548717834055424, 0.0005037338705733418, 0.016067184507846832, 0.5368450880050659, -6.204933242770494e-07, 0.01673108898103237, -6.441935340717464e-08, 0.007634073030203581, 0.028743818402290344, 0.003750413889065385, 0.012056006118655205, -1.5393476132885553e-05, 0.17314395308494568, 0.00045420994865708053, -0.054832980036735535, 0.007037390023469925, 0.004974203184247017, -9.91038978099823e-05, 8.267661178251728e-05, 0.011963780038058758, -0.3597666323184967, -0.0007683569565415382, 0.08817070722579956, 0.19644978642463684, 0.030596468597650528, 1.666127354837954e-05, 0.035242319107055664, -0.0722205862402916, 0.0001720345753710717, 0.005269533954560757, 0.43468397855758667, 0.13348715007305145, -0.1467542052268982, -0.2807435691356659, -0.7920166254043579, -0.0657561719417572, 0.01432573888450861, 0.01686990261077881, -0.025084475055336952, 0.11064779758453369, -0.014554532244801521, 0.10638764500617981, -0.0011395127512514591, 0.02566179446876049, -0.00010432479029987007, -0.0024045612663030624, -0.22217732667922974, 2.4090666556730866e-05, 0.03986436128616333, -0.001852662768214941, 0.002651691436767578, -0.22693464159965515, -0.0007014870643615723, -0.07266044616699219, 0.026333216577768326, 0.08341318368911743, -0.039062753319740295, -0.24026548862457275, 0.006828127428889275, -0.004266748204827309, 0.0006051228265278041, 0.02753138542175293, 0.11077047884464264, -0.01732116937637329, -0.061998188495635986, 0.09501820802688599, -0.14400342106819153, -0.0004372411931399256, -0.11471015214920044, -0.019655972719192505, -0.08303046226501465, 0.2515609860420227, -0.022357255220413208, 0.004758031573146582, 0.03161397576332092, -0.0017420884687453508, 0.03386419266462326, 0.0014078181702643633, 0.18962502479553223, 0.0006989642279222608, 0.15904343128204346, -0.00016647577285766602, 0.028336942195892334, -0.02066611498594284, 0.19855552911758423, -0.0001881176431197673, -0.12276627123355865, 0.0021017570979893208, 0.052404940128326416, 0.0004172797198407352, -0.4254623353481293, -0.005164284259080887, -0.07938802242279053, 0.0007684201118536294, -1.9813268181678723e-07, -0.018673865124583244, 0.2733136713504791, 0.49444177746772766, -0.16638922691345215, -0.004030156880617142, 0.24867750704288483, 0.20265787839889526, -0.04889792203903198, 0.14365577697753906, 0.0009765122085809708, 0.20426329970359802, -0.2052972912788391, -0.1156732439994812, 0.006879091262817383, -0.2409362494945526, -0.1245298981666565, -0.020264890044927597, 0.35600513219833374, 0.08522927761077881, -0.0002538301923777908, -0.04645252227783203, 0.18785449862480164, 0.08108121156692505, 0.002260003238916397, 0.06019127368927002, 0.1662360429763794, 0.11023902893066406, -0.09609068185091019, 0.0005802619270980358, 0.009353339672088623, -0.00013044639490544796, -0.005576969124376774, 0.025461042299866676, -0.03187788277864456, 0.3734292685985565, 0.03514689952135086, -0.0004707819316536188, 0.03986073285341263, -0.039699189364910126, 0.005429759621620178, -0.4010847210884094, -0.006552010774612427, -1.2448790585040115e-06, 0.0003916184068657458, -0.0003381807473488152, 0.21415168046951294, 9.949901141226292e-06, -0.3804948925971985, -0.022543959319591522, 0.03162930905818939, 0.0050182100385427475, 0.4068419337272644, 0.41136470437049866, -0.12666696310043335, -0.003859414951875806, 4.635998266167007e-06, -0.03791201114654541, -0.03940516710281372, 0.0391671247780323, -0.0030077470000833273, 0.048135906457901, -0.008678033947944641, -0.0018821703270077705, 0.0015862358268350363, -0.11267239600419998, -0.5030360817909241, 3.0125200282782316e-05, -0.0022010207176208496, 0.37222278118133545, -0.1984727382659912, 0.000128020896227099, 6.810406921431422e-05, -0.14211469888687134, 0.4552059471607208, -0.039078474044799805, 0.059884727001190186, 0.025283120572566986, -0.16873976588249207, -0.013092568144202232, -0.0006852914812043309, 0.16438116133213043, -0.45359671115875244, -0.4990956783294678, -0.23091331124305725, -4.3839914724230766e-05, -0.4006924629211426, 0.06742483377456665, -0.04433448240160942, 0.0873265415430069, 0.007851466536521912, -0.0010268514743074775, 0.048874497413635254, 0.1474403738975525, 0.42541319131851196, 0.0007731141522526741, 0.11794775724411011, -0.10429996252059937, 0.0096360445022583, 0.01005011796951294, 0.03696608915925026, -0.02483999729156494, -0.003944759722799063, -0.24527543783187866, -0.07778646051883698, -0.017281830310821533, -0.0031049251556396484, -0.022305667400360107, 0.0406341552734375, 0.5393002033233643, 0.030759811401367188, 0.1414194107055664, 0.2880555987358093, -0.00029587745666503906, 0.8659363985061646, 0.00018233060836791992, -0.21042177081108093, 0.03978383541107178, 0.15513759851455688, -0.04211324453353882, 0.015586555004119873, -0.007550477981567383, -0.07734650373458862, -0.38355162739753723, -0.022748619318008423, 0.002277225023135543, -0.06223694607615471, 0.0006999969482421875, 0.0016552209854125977, -0.13658347725868225, -0.16939203441143036, -0.02453780174255371, 0.03456251323223114, 0.47162556648254395, 0.18951267004013062, 0.2316170334815979, -0.45448461174964905, 0.026175081729888916, 0.0009545087814331055, 0.034087955951690674, 0.027078568935394287, 0.29019826650619507, 0.3780597448348999, 0.01448124647140503, -0.1844342052936554, 0.32202035188674927, 0.2494981288909912, -0.059666574001312256, 0.20940500497817993, -0.08674228191375732, -0.02708524465560913, 0.003328561782836914, 0.18306377530097961, 0.23313561081886292, 0.17714697122573853, 0.2544708251953125, 0.34365394711494446, 0.4912625551223755, -0.1015809178352356, 0.13123124837875366, -0.05768612399697304, 0.004894912242889404, 0.46284955739974976, 0.7444228529930115, 0.025049269199371338, 0.4356779456138611, 0.5935857892036438, 0.5788878202438354, 0.13274574279785156, 0.2190074920654297, 0.0017614960670471191, 0.25435537099838257, 0.6167867183685303, 0.4587641656398773, 0.6332536935806274, 0.29613059759140015, -0.08911114931106567, 0.43312108516693115, 0.002135336399078369, -0.06801921129226685, 0.48401668667793274, 0.07012957334518433, -0.0019165277481079102, 0.10622572898864746, 0.2842496633529663, 0.22200936079025269, 0.019474804401397705, -0.0007976889610290527, 0.0031777620315551758, 0.07145774364471436, -0.1163988709449768, -0.024563074111938477, 0.48916390538215637, 0.12060290575027466, 0.049839913845062256, -0.0984768271446228, 0.49286097288131714, -0.1128736138343811, 0.010313518345355988, 0.012912511825561523, -0.007927089929580688, -0.030964255332946777, -0.013939976692199707, -0.1373472362756729, -0.024910926818847656, 0.06749999523162842, 0.001902163028717041, 0.13898271322250366, -1.7404556274414062e-05, 0.020064592361450195, 0.7811105847358704, 0.01636660099029541, 0.32465630769729614, 0.0008274555439129472, -0.0040555596351623535, 0.5359487533569336, -0.1112356185913086, -0.058213233947753906, -0.14723366498947144, 0.1703212857246399, -0.017847836017608643, 0.6539130806922913, 0.3885042667388916, -0.3644164204597473, -0.002373933792114258, 0.08029192686080933, -0.1773119568824768, 0.21963170170783997, 0.26135432720184326, 0.08499264717102051, -0.003256380558013916, 0.07899311184883118, -0.029130220413208008, 0.35074299573898315, -0.00026325025828555226, 5.579964636126533e-06, -0.0007238995749503374, 3.8847258565510856e-07, -0.005856954026967287, -0.00012036485713906586, 1.1709004184012883e-06, 0.0014970898628234863, 0.04667544364929199, 0.014653921127319336, 0.020905375480651855, 0.0002150337677448988, 0.06623408198356628, -0.006329485215246677, 0.010360755026340485, 0.00025450371322222054, 0.0043001193553209305, 0.03130954131484032, 0.4209965765476227, 0.00025923518114723265, 4.0861195884644985e-06, -0.2928043305873871, -0.26996588706970215, 0.04852855205535889, -0.00010319062130292878, -0.09038949012756348, 0.010162651538848877, 0.11015598475933075, 0.0010094945318996906, -0.14375442266464233, 0.000856769853271544, 0.10811981558799744, -8.667669317219406e-05, 0.0074079097248613834, -0.002941288985311985, 0.014919012784957886, 0.006626739166676998, 0.5269174575805664, 0.003025632817298174, -0.07593747973442078, -0.05517252907156944, 0.6011838912963867, 0.2456713318824768, -0.23371344804763794, -0.1939917802810669, -0.025946499779820442, 0.00013680546544492245, -0.007629871368408203, -0.003018200397491455, -0.006156206130981445, 0.02279263734817505, 0.23085634410381317, 0.0846436619758606, -0.014659583568572998, -0.29641780257225037, 0.004027903079986572, -0.0657394528388977, -0.040262043476104736, -0.04246777296066284, 0.6621201038360596, -0.3304765224456787, 0.04174911975860596, -0.019367873668670654, 0.44524016976356506, 0.036941468715667725, -0.3243609666824341, 0.04296523332595825, 0.04925507307052612, 0.06599611043930054, -0.004702627658843994, 0.023032724857330322], \"minValue\": 0, \"maxValue\": 1, \"minColor\": null, \"maxColor\": \"green\"}\n",
       "    )\n",
       "    </script>"
      ],
      "text/plain": [
       "<circuitsvis.render.RenderedHTML at 0x7fcf7879d640>"
      ]
     },
     "execution_count": 14,
     "metadata": {},
     "output_type": "execute_result"
    }
   ],
   "source": [
    "values = three_vs_two_layer[\"Difference\"].sort_index().values.tolist()\n",
    "colored_tokens(\n",
    "    values=values,\n",
    "    tokens=token_labels,\n",
    "    min_value=0,\n",
    "    max_value=1,\n",
    "    max_color=\"green\",\n",
    ")"
   ]
  },
  {
   "cell_type": "markdown",
   "metadata": {},
   "source": [
    "The main thing 3 vs 2 layers seems to do is know we're in a class/function/properties etc block. "
   ]
  }
 ],
 "metadata": {
  "kernelspec": {
   "display_name": "Python 3 (ipykernel)",
   "language": "python",
   "name": "python3"
  },
  "language_info": {
   "codemirror_mode": {
    "name": "ipython",
    "version": 3
   },
   "file_extension": ".py",
   "mimetype": "text/x-python",
   "name": "python",
   "nbconvert_exporter": "python",
   "pygments_lexer": "ipython3",
   "version": "3.9.13"
  },
  "orig_nbformat": 4,
  "vscode": {
   "interpreter": {
    "hash": "76ffb32adecc176a94139b94e134b8da7193cb67a4c842f7ccb6559ecf3e93e7"
   }
  }
 },
 "nbformat": 4,
 "nbformat_minor": 2
}
