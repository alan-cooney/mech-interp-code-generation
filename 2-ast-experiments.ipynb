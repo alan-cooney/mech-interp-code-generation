{
 "cells": [
  {
   "cell_type": "markdown",
   "metadata": {},
   "source": [
    "# 2 - AST Experiments\n",
    "\n",
    "The aim here is to understand if AST is useful for finding e.g. which type of block we're in (function/class/params...)."
   ]
  },
  {
   "cell_type": "code",
   "execution_count": 1,
   "metadata": {},
   "outputs": [],
   "source": [
    "!pip install git+https://github.com/neelnanda-io/Easy-Transformer ipython\n",
    "\n",
    "# Clear output\n",
    "from IPython.display import clear_output\n",
    "clear_output()"
   ]
  },
  {
   "cell_type": "code",
   "execution_count": 2,
   "metadata": {},
   "outputs": [],
   "source": [
    "import ast\n",
    "from transformers import AutoTokenizer, GPT2Tokenizer\n",
    "from typing import List"
   ]
  },
  {
   "cell_type": "markdown",
   "metadata": {},
   "source": [
    "# Get the \"inside-function\" code blocks"
   ]
  },
  {
   "cell_type": "code",
   "execution_count": 17,
   "metadata": {},
   "outputs": [
    {
     "data": {
      "text/plain": [
       "26"
      ]
     },
     "execution_count": 17,
     "metadata": {},
     "output_type": "execute_result"
    }
   ],
   "source": [
    "simple_source = '''\n",
    "def hello():\n",
    "    a = 10\n",
    "    return \"hi\"\n",
    "'''\n",
    "\n",
    "def split_source_by_tokens(source: str, tokenizer = GPT2Tokenizer.from_pretrained(\"gpt2\")) -> List[str]:\n",
    "    encoded = tokenizer.encode(source)\n",
    "    decoded = []\n",
    "    for token in encoded:\n",
    "        decoded_token = tokenizer.decode(token)\n",
    "        decoded.append(decoded_token)\n",
    "    return decoded\n",
    "\n",
    "\n",
    "def token_index_from_line_col(source_tokens: List[str], line: int, col: int) -> int:\n",
    "    # Find indices of all lines\n",
    "    line_indices = [0] # Start with first line index\n",
    "    for idx, token in enumerate(source_tokens):\n",
    "        if '\\n' in token:\n",
    "            # Add every token index after a newline\n",
    "            line_indices.append(idx + 1)\n",
    "    \n",
    "    line_tokens = source_tokens[line_indices[line - 1]:line_indices[line]-2]\n",
    "    character_increment = 0\n",
    "    for idx, token in enumerate(source_tokens):\n",
    "        for character in token:\n",
    "            if col == character_increment:\n",
    "                return line_indices[line] + idx\n",
    "            else:    \n",
    "                character_increment += 1\n",
    "\n",
    "\n",
    "class FuncLister(ast.NodeVisitor):\n",
    "    function_locations: List[List[int]] = []\n",
    "    \n",
    "    def visit(self, *args) -> List[List[int]]:\n",
    "        super().visit(*args)\n",
    "        return self.function_locations\n",
    "    \n",
    "    def visit_FunctionDef(self, node):\n",
    "        start_line = node.lineno\n",
    "        start_offset = node.col_offset\n",
    "        end_line = node.end_lineno\n",
    "        end_offset = node.end_col_offset\n",
    "        \n",
    "        self.function_locations = [[start_line, start_offset, end_line, end_offset]]\n",
    "        \n",
    "        # inside_function = node.body[0]\n",
    "        \n",
    "        # Generic visitor\n",
    "        self.generic_visit(node)\n",
    "\n",
    "def get_function_token_indices(source: str) -> List[str]:\n",
    "    source_tokens = split_source_by_tokens(source)\n",
    "    \n",
    "    tree = ast.parse(source)\n",
    "    function_locations = FuncLister().visit(tree)\n",
    "    \n",
    "    function_token_indices = []\n",
    "    \n",
    "    for location in function_locations:\n",
    "        [start_line, start_offset, end_line, end_offset] = location\n",
    "        print(end_line, end_offset)\n",
    "        start = token_index_from_line_col(source_tokens, start_line, start_offset)\n",
    "        end = token_index_from_line_col(source_tokens, end_line, end_offset)\n",
    "        \n",
    "        for token_index in range(start, end):\n",
    "            function_token_indices.append(token_index)\n",
    "    \n",
    "    return function_token_indices\n",
    "\n",
    "# function_tokens = get_function_token_indices(simple_source)\n",
    "\n",
    "source_tokens = split_source_by_tokens(simple_source)\n",
    "# source_tokens\n",
    "\n",
    "token_index_from_line_col(source_tokens, 4, 15)\n"
   ]
  },
  {
   "cell_type": "markdown",
   "metadata": {},
   "source": []
  }
 ],
 "metadata": {
  "kernelspec": {
   "display_name": "Python 3 (ipykernel)",
   "language": "python",
   "name": "python3"
  },
  "language_info": {
   "codemirror_mode": {
    "name": "ipython",
    "version": 3
   },
   "file_extension": ".py",
   "mimetype": "text/x-python",
   "name": "python",
   "nbconvert_exporter": "python",
   "pygments_lexer": "ipython3",
   "version": "3.9.13"
  },
  "orig_nbformat": 4
 },
 "nbformat": 4,
 "nbformat_minor": 2
}
